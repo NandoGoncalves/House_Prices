{
 "cells": [
  {
   "cell_type": "code",
   "execution_count": 1,
   "id": "f6fccc65",
   "metadata": {},
   "outputs": [],
   "source": [
    "\n",
    "%matplotlib inline\n",
    "import matplotlib.pyplot as plt\n",
    "import seaborn as sns\n",
    "import numpy as np\n",
    "from numpy import arange\n",
    "import pandas as pd\n",
    "\n",
    "from sklearn.model_selection import train_test_split, cross_val_score, cross_validate\n",
    "\n",
    "from sklearn.feature_selection import SelectKBest, f_regression\n",
    "\n",
    "from sklearn.linear_model import LinearRegression\n",
    "from sklearn.linear_model import Lasso\n",
    "from sklearn.linear_model import LassoCV\n",
    "from sklearn.linear_model import RidgeCV\n",
    "from sklearn.linear_model import ElasticNetCV\n",
    "\n",
    "from sklearn import preprocessing\n",
    "from sklearn.preprocessing import PolynomialFeatures\n",
    "from sklearn.preprocessing import MinMaxScaler\n",
    "from sklearn.preprocessing import StandardScaler\n",
    "\n",
    "from sklearn.metrics import mean_squared_error\n",
    "from sklearn.metrics import mean_absolute_error"
   ]
  },
  {
   "cell_type": "code",
   "execution_count": 2,
   "id": "841c5a46",
   "metadata": {},
   "outputs": [
    {
     "data": {
      "text/plain": [
       "(1460, 81)"
      ]
     },
     "execution_count": 2,
     "metadata": {},
     "output_type": "execute_result"
    }
   ],
   "source": [
    "df = pd.read_csv(\"./dataset/train.csv\")\n",
    "df.shape"
   ]
  },
  {
   "cell_type": "markdown",
   "id": "d8b8be4f",
   "metadata": {},
   "source": [
    "### variable numérique"
   ]
  },
  {
   "cell_type": "code",
   "execution_count": 28,
   "id": "3afd698e",
   "metadata": {},
   "outputs": [
    {
     "data": {
      "text/plain": [
       "count    1452.000000\n",
       "mean      103.685262\n",
       "std       181.066207\n",
       "min         0.000000\n",
       "25%         0.000000\n",
       "50%         0.000000\n",
       "75%       166.000000\n",
       "max      1600.000000\n",
       "Name: MasVnrArea, dtype: float64"
      ]
     },
     "execution_count": 28,
     "metadata": {},
     "output_type": "execute_result"
    }
   ],
   "source": [
    "df['MasVnrArea'].isna().sum()\n",
    "df['MasVnrArea'].describe()\n",
    "#df['MasVnrArea'].unique()"
   ]
  },
  {
   "cell_type": "code",
   "execution_count": 4,
   "id": "78273c2d",
   "metadata": {},
   "outputs": [],
   "source": [
    "df.loc[df['TotalBsmtSF'] == 0, 'TotalBsmtSF'] = df['TotalBsmtSF'].quantile(0.5)\n",
    "#df['TotalBsmtSF'].describe()"
   ]
  },
  {
   "cell_type": "code",
   "execution_count": 5,
   "id": "54cb99ac",
   "metadata": {},
   "outputs": [
    {
     "data": {
      "text/html": [
       "<div>\n",
       "<style scoped>\n",
       "    .dataframe tbody tr th:only-of-type {\n",
       "        vertical-align: middle;\n",
       "    }\n",
       "\n",
       "    .dataframe tbody tr th {\n",
       "        vertical-align: top;\n",
       "    }\n",
       "\n",
       "    .dataframe thead th {\n",
       "        text-align: right;\n",
       "    }\n",
       "</style>\n",
       "<table border=\"1\" class=\"dataframe\">\n",
       "  <thead>\n",
       "    <tr style=\"text-align: right;\">\n",
       "      <th></th>\n",
       "      <th>GrLivArea</th>\n",
       "      <th>GarageArea</th>\n",
       "      <th>TotalBsmtSF</th>\n",
       "      <th>1stFlrSF</th>\n",
       "    </tr>\n",
       "  </thead>\n",
       "  <tbody>\n",
       "    <tr>\n",
       "      <th>0</th>\n",
       "      <td>1710</td>\n",
       "      <td>548</td>\n",
       "      <td>856.0</td>\n",
       "      <td>856</td>\n",
       "    </tr>\n",
       "    <tr>\n",
       "      <th>1</th>\n",
       "      <td>1262</td>\n",
       "      <td>460</td>\n",
       "      <td>1262.0</td>\n",
       "      <td>1262</td>\n",
       "    </tr>\n",
       "    <tr>\n",
       "      <th>2</th>\n",
       "      <td>1786</td>\n",
       "      <td>608</td>\n",
       "      <td>920.0</td>\n",
       "      <td>920</td>\n",
       "    </tr>\n",
       "    <tr>\n",
       "      <th>3</th>\n",
       "      <td>1717</td>\n",
       "      <td>642</td>\n",
       "      <td>756.0</td>\n",
       "      <td>961</td>\n",
       "    </tr>\n",
       "    <tr>\n",
       "      <th>4</th>\n",
       "      <td>2198</td>\n",
       "      <td>836</td>\n",
       "      <td>1145.0</td>\n",
       "      <td>1145</td>\n",
       "    </tr>\n",
       "  </tbody>\n",
       "</table>\n",
       "</div>"
      ],
      "text/plain": [
       "   GrLivArea  GarageArea  TotalBsmtSF  1stFlrSF\n",
       "0       1710         548        856.0       856\n",
       "1       1262         460       1262.0      1262\n",
       "2       1786         608        920.0       920\n",
       "3       1717         642        756.0       961\n",
       "4       2198         836       1145.0      1145"
      ]
     },
     "execution_count": 5,
     "metadata": {},
     "output_type": "execute_result"
    }
   ],
   "source": [
    "#df[['GrLivArea']].fillna((df['GrLivArea'].mean()), inplace=False)\n",
    "df_num = df[['GrLivArea', 'GarageArea', 'TotalBsmtSF', '1stFlrSF']] \n",
    "\n",
    "df_num.head()"
   ]
  },
  {
   "cell_type": "code",
   "execution_count": 6,
   "id": "d262f2f2",
   "metadata": {},
   "outputs": [],
   "source": [
    "scaler = MinMaxScaler()\n",
    "df_num_scaled = scaler.fit_transform(df_num)\n",
    "\n",
    "scaler = StandardScaler().fit(df_num_scaled)\n",
    "df_num_scaled = scaler.transform(df_num_scaled)"
   ]
  },
  {
   "cell_type": "code",
   "execution_count": 7,
   "id": "115518c2",
   "metadata": {},
   "outputs": [],
   "source": [
    "df_num = pd.DataFrame(df_num_scaled, columns = df_num.columns.tolist())"
   ]
  },
  {
   "cell_type": "markdown",
   "id": "b3ba0eee",
   "metadata": {},
   "source": [
    "### Variable cétégorielle"
   ]
  },
  {
   "cell_type": "code",
   "execution_count": 8,
   "id": "1be00e4e",
   "metadata": {},
   "outputs": [
    {
     "data": {
      "text/html": [
       "<div>\n",
       "<style scoped>\n",
       "    .dataframe tbody tr th:only-of-type {\n",
       "        vertical-align: middle;\n",
       "    }\n",
       "\n",
       "    .dataframe tbody tr th {\n",
       "        vertical-align: top;\n",
       "    }\n",
       "\n",
       "    .dataframe thead th {\n",
       "        text-align: right;\n",
       "    }\n",
       "</style>\n",
       "<table border=\"1\" class=\"dataframe\">\n",
       "  <thead>\n",
       "    <tr style=\"text-align: right;\">\n",
       "      <th></th>\n",
       "      <th>OverallQual</th>\n",
       "      <th>GarageCars</th>\n",
       "      <th>FullBath</th>\n",
       "      <th>TotRmsAbvGrd</th>\n",
       "    </tr>\n",
       "  </thead>\n",
       "  <tbody>\n",
       "    <tr>\n",
       "      <th>count</th>\n",
       "      <td>1460</td>\n",
       "      <td>1460</td>\n",
       "      <td>1460</td>\n",
       "      <td>1460</td>\n",
       "    </tr>\n",
       "    <tr>\n",
       "      <th>unique</th>\n",
       "      <td>10</td>\n",
       "      <td>5</td>\n",
       "      <td>4</td>\n",
       "      <td>12</td>\n",
       "    </tr>\n",
       "    <tr>\n",
       "      <th>top</th>\n",
       "      <td>5</td>\n",
       "      <td>2</td>\n",
       "      <td>2</td>\n",
       "      <td>6</td>\n",
       "    </tr>\n",
       "    <tr>\n",
       "      <th>freq</th>\n",
       "      <td>397</td>\n",
       "      <td>824</td>\n",
       "      <td>768</td>\n",
       "      <td>402</td>\n",
       "    </tr>\n",
       "  </tbody>\n",
       "</table>\n",
       "</div>"
      ],
      "text/plain": [
       "       OverallQual GarageCars FullBath TotRmsAbvGrd\n",
       "count         1460       1460     1460         1460\n",
       "unique          10          5        4           12\n",
       "top              5          2        2            6\n",
       "freq           397        824      768          402"
      ]
     },
     "execution_count": 8,
     "metadata": {},
     "output_type": "execute_result"
    }
   ],
   "source": [
    "df_cat = df[['OverallQual', 'GarageCars', 'FullBath', 'TotRmsAbvGrd']].astype(str)\n",
    "df_cat.describe()"
   ]
  },
  {
   "cell_type": "code",
   "execution_count": 9,
   "id": "c89de94b",
   "metadata": {},
   "outputs": [
    {
     "data": {
      "text/plain": [
       "array(['7', '6', '8', '5', '9', '4', '10', '3', '1', '2'], dtype=object)"
      ]
     },
     "execution_count": 9,
     "metadata": {},
     "output_type": "execute_result"
    }
   ],
   "source": [
    "df_cat['OverallQual'].unique()"
   ]
  },
  {
   "cell_type": "code",
   "execution_count": 10,
   "id": "0517ec10",
   "metadata": {},
   "outputs": [
    {
     "data": {
      "text/plain": [
       "array([2, 3, 1, 0, 4], dtype=int64)"
      ]
     },
     "execution_count": 10,
     "metadata": {},
     "output_type": "execute_result"
    }
   ],
   "source": [
    "df['GarageCars'].unique()"
   ]
  },
  {
   "cell_type": "code",
   "execution_count": 11,
   "id": "10fd5617",
   "metadata": {},
   "outputs": [
    {
     "data": {
      "text/html": [
       "<div>\n",
       "<style scoped>\n",
       "    .dataframe tbody tr th:only-of-type {\n",
       "        vertical-align: middle;\n",
       "    }\n",
       "\n",
       "    .dataframe tbody tr th {\n",
       "        vertical-align: top;\n",
       "    }\n",
       "\n",
       "    .dataframe thead th {\n",
       "        text-align: right;\n",
       "    }\n",
       "</style>\n",
       "<table border=\"1\" class=\"dataframe\">\n",
       "  <thead>\n",
       "    <tr style=\"text-align: right;\">\n",
       "      <th></th>\n",
       "      <th>OverallQual_1</th>\n",
       "      <th>OverallQual_10</th>\n",
       "      <th>OverallQual_2</th>\n",
       "      <th>OverallQual_3</th>\n",
       "      <th>OverallQual_4</th>\n",
       "      <th>OverallQual_5</th>\n",
       "      <th>OverallQual_6</th>\n",
       "      <th>OverallQual_7</th>\n",
       "      <th>OverallQual_8</th>\n",
       "      <th>OverallQual_9</th>\n",
       "      <th>...</th>\n",
       "      <th>TotRmsAbvGrd_12</th>\n",
       "      <th>TotRmsAbvGrd_14</th>\n",
       "      <th>TotRmsAbvGrd_2</th>\n",
       "      <th>TotRmsAbvGrd_3</th>\n",
       "      <th>TotRmsAbvGrd_4</th>\n",
       "      <th>TotRmsAbvGrd_5</th>\n",
       "      <th>TotRmsAbvGrd_6</th>\n",
       "      <th>TotRmsAbvGrd_7</th>\n",
       "      <th>TotRmsAbvGrd_8</th>\n",
       "      <th>TotRmsAbvGrd_9</th>\n",
       "    </tr>\n",
       "  </thead>\n",
       "  <tbody>\n",
       "    <tr>\n",
       "      <th>0</th>\n",
       "      <td>0</td>\n",
       "      <td>0</td>\n",
       "      <td>0</td>\n",
       "      <td>0</td>\n",
       "      <td>0</td>\n",
       "      <td>0</td>\n",
       "      <td>0</td>\n",
       "      <td>1</td>\n",
       "      <td>0</td>\n",
       "      <td>0</td>\n",
       "      <td>...</td>\n",
       "      <td>0</td>\n",
       "      <td>0</td>\n",
       "      <td>0</td>\n",
       "      <td>0</td>\n",
       "      <td>0</td>\n",
       "      <td>0</td>\n",
       "      <td>0</td>\n",
       "      <td>0</td>\n",
       "      <td>1</td>\n",
       "      <td>0</td>\n",
       "    </tr>\n",
       "    <tr>\n",
       "      <th>1</th>\n",
       "      <td>0</td>\n",
       "      <td>0</td>\n",
       "      <td>0</td>\n",
       "      <td>0</td>\n",
       "      <td>0</td>\n",
       "      <td>0</td>\n",
       "      <td>1</td>\n",
       "      <td>0</td>\n",
       "      <td>0</td>\n",
       "      <td>0</td>\n",
       "      <td>...</td>\n",
       "      <td>0</td>\n",
       "      <td>0</td>\n",
       "      <td>0</td>\n",
       "      <td>0</td>\n",
       "      <td>0</td>\n",
       "      <td>0</td>\n",
       "      <td>1</td>\n",
       "      <td>0</td>\n",
       "      <td>0</td>\n",
       "      <td>0</td>\n",
       "    </tr>\n",
       "    <tr>\n",
       "      <th>2</th>\n",
       "      <td>0</td>\n",
       "      <td>0</td>\n",
       "      <td>0</td>\n",
       "      <td>0</td>\n",
       "      <td>0</td>\n",
       "      <td>0</td>\n",
       "      <td>0</td>\n",
       "      <td>1</td>\n",
       "      <td>0</td>\n",
       "      <td>0</td>\n",
       "      <td>...</td>\n",
       "      <td>0</td>\n",
       "      <td>0</td>\n",
       "      <td>0</td>\n",
       "      <td>0</td>\n",
       "      <td>0</td>\n",
       "      <td>0</td>\n",
       "      <td>1</td>\n",
       "      <td>0</td>\n",
       "      <td>0</td>\n",
       "      <td>0</td>\n",
       "    </tr>\n",
       "    <tr>\n",
       "      <th>3</th>\n",
       "      <td>0</td>\n",
       "      <td>0</td>\n",
       "      <td>0</td>\n",
       "      <td>0</td>\n",
       "      <td>0</td>\n",
       "      <td>0</td>\n",
       "      <td>0</td>\n",
       "      <td>1</td>\n",
       "      <td>0</td>\n",
       "      <td>0</td>\n",
       "      <td>...</td>\n",
       "      <td>0</td>\n",
       "      <td>0</td>\n",
       "      <td>0</td>\n",
       "      <td>0</td>\n",
       "      <td>0</td>\n",
       "      <td>0</td>\n",
       "      <td>0</td>\n",
       "      <td>1</td>\n",
       "      <td>0</td>\n",
       "      <td>0</td>\n",
       "    </tr>\n",
       "    <tr>\n",
       "      <th>4</th>\n",
       "      <td>0</td>\n",
       "      <td>0</td>\n",
       "      <td>0</td>\n",
       "      <td>0</td>\n",
       "      <td>0</td>\n",
       "      <td>0</td>\n",
       "      <td>0</td>\n",
       "      <td>0</td>\n",
       "      <td>1</td>\n",
       "      <td>0</td>\n",
       "      <td>...</td>\n",
       "      <td>0</td>\n",
       "      <td>0</td>\n",
       "      <td>0</td>\n",
       "      <td>0</td>\n",
       "      <td>0</td>\n",
       "      <td>0</td>\n",
       "      <td>0</td>\n",
       "      <td>0</td>\n",
       "      <td>0</td>\n",
       "      <td>1</td>\n",
       "    </tr>\n",
       "  </tbody>\n",
       "</table>\n",
       "<p>5 rows × 31 columns</p>\n",
       "</div>"
      ],
      "text/plain": [
       "   OverallQual_1  OverallQual_10  OverallQual_2  OverallQual_3  OverallQual_4  \\\n",
       "0              0               0              0              0              0   \n",
       "1              0               0              0              0              0   \n",
       "2              0               0              0              0              0   \n",
       "3              0               0              0              0              0   \n",
       "4              0               0              0              0              0   \n",
       "\n",
       "   OverallQual_5  OverallQual_6  OverallQual_7  OverallQual_8  OverallQual_9  \\\n",
       "0              0              0              1              0              0   \n",
       "1              0              1              0              0              0   \n",
       "2              0              0              1              0              0   \n",
       "3              0              0              1              0              0   \n",
       "4              0              0              0              1              0   \n",
       "\n",
       "   ...  TotRmsAbvGrd_12  TotRmsAbvGrd_14  TotRmsAbvGrd_2  TotRmsAbvGrd_3  \\\n",
       "0  ...                0                0               0               0   \n",
       "1  ...                0                0               0               0   \n",
       "2  ...                0                0               0               0   \n",
       "3  ...                0                0               0               0   \n",
       "4  ...                0                0               0               0   \n",
       "\n",
       "   TotRmsAbvGrd_4  TotRmsAbvGrd_5  TotRmsAbvGrd_6  TotRmsAbvGrd_7  \\\n",
       "0               0               0               0               0   \n",
       "1               0               0               1               0   \n",
       "2               0               0               1               0   \n",
       "3               0               0               0               1   \n",
       "4               0               0               0               0   \n",
       "\n",
       "   TotRmsAbvGrd_8  TotRmsAbvGrd_9  \n",
       "0               1               0  \n",
       "1               0               0  \n",
       "2               0               0  \n",
       "3               0               0  \n",
       "4               0               1  \n",
       "\n",
       "[5 rows x 31 columns]"
      ]
     },
     "execution_count": 11,
     "metadata": {},
     "output_type": "execute_result"
    }
   ],
   "source": [
    "df_cat = pd.get_dummies(df_cat)\n",
    "df_cat.head()"
   ]
  },
  {
   "cell_type": "code",
   "execution_count": 12,
   "id": "d84a6d45",
   "metadata": {},
   "outputs": [
    {
     "data": {
      "text/plain": [
       "(1460, 35)"
      ]
     },
     "execution_count": 12,
     "metadata": {},
     "output_type": "execute_result"
    }
   ],
   "source": [
    "df_new = df_num.join(df_cat)\n",
    "df_new.shape"
   ]
  },
  {
   "cell_type": "code",
   "execution_count": 13,
   "id": "410e0756",
   "metadata": {},
   "outputs": [],
   "source": [
    "# Variables explicatives\n",
    "X = df_new\n",
    "\n",
    "# Variable cible\n",
    "y = df['SalePrice']"
   ]
  },
  {
   "cell_type": "code",
   "execution_count": 14,
   "id": "7fd1f315",
   "metadata": {},
   "outputs": [
    {
     "data": {
      "text/plain": [
       "'\\nscaler = MinMaxScaler()\\n\\nX_train = scaler.fit_transform(X_train) # X_train_scaled\\nX_test = scaler.transform(X_test) # X_test_scaled\\n\\nscaler = StandardScaler().fit(X_train)\\n\\nX_train = scaler.transform(X_train)\\nX_test = scaler.transform(X_test)\\n'"
      ]
     },
     "execution_count": 14,
     "metadata": {},
     "output_type": "execute_result"
    }
   ],
   "source": [
    "X_train, X_test, y_train, y_test = train_test_split(X, y, test_size = 0.3, random_state=42)\n",
    "\n",
    "'''\n",
    "scaler = MinMaxScaler()\n",
    "\n",
    "X_train = scaler.fit_transform(X_train) # X_train_scaled\n",
    "X_test = scaler.transform(X_test) # X_test_scaled\n",
    "\n",
    "scaler = StandardScaler().fit(X_train)\n",
    "\n",
    "X_train = scaler.transform(X_train)\n",
    "X_test = scaler.transform(X_test)\n",
    "'''"
   ]
  },
  {
   "cell_type": "markdown",
   "id": "51ef82ba",
   "metadata": {},
   "source": [
    "### Linear"
   ]
  },
  {
   "cell_type": "code",
   "execution_count": 15,
   "id": "de15b9b8",
   "metadata": {},
   "outputs": [],
   "source": [
    "lr = LinearRegression()\n",
    "\n",
    "lr.fit(X_train, y_train)\n",
    "\n",
    "y_pred_train = lr.predict(X_train)\n",
    "\n",
    "y_pred_test = lr.predict(X_test)"
   ]
  },
  {
   "cell_type": "code",
   "execution_count": 16,
   "id": "a4e2fdee",
   "metadata": {},
   "outputs": [
    {
     "name": "stdout",
     "output_type": "stream",
     "text": [
      "MSE train lr: 1310455467.3429494\n",
      "MSE test lr: 1235361117.1129994\n"
     ]
    }
   ],
   "source": [
    "mse_train = mean_squared_error(y_train, y_pred_train)\n",
    "\n",
    "mse_test = mean_squared_error(y_test, y_pred_test)\n",
    "\n",
    "print(\"MSE train lr:\", mse_train)\n",
    "print(\"MSE test lr:\", mse_test)"
   ]
  },
  {
   "cell_type": "code",
   "execution_count": 17,
   "id": "7fcac5d5",
   "metadata": {},
   "outputs": [
    {
     "name": "stdout",
     "output_type": "stream",
     "text": [
      "MAE train lr: 23465.586857447288\n",
      "MAE test lr: 23308.27244191951\n",
      "\n",
      "Relative error 0.12883107657567103\n"
     ]
    }
   ],
   "source": [
    "mae_train = mean_absolute_error(y_train, y_pred_train)\n",
    "\n",
    "mae_test = mean_absolute_error(y_test, y_pred_test)\n",
    "\n",
    "print(\"MAE train lr:\", mae_train)\n",
    "print(\"MAE test lr:\", mae_test)\n",
    "\n",
    "mean_price = df['SalePrice'].mean()\n",
    "\n",
    "print(\"\\nRelative error\", mae_test / mean_price)"
   ]
  },
  {
   "cell_type": "markdown",
   "id": "4b1250f2",
   "metadata": {},
   "source": [
    "### Ridge"
   ]
  },
  {
   "cell_type": "code",
   "execution_count": 18,
   "id": "0b70ad05",
   "metadata": {},
   "outputs": [
    {
     "data": {
      "text/plain": [
       "RidgeCV(alphas=array([1.e-03, 1.e-02, 1.e-01, 3.e-01, 7.e-01, 1.e+00, 1.e+01, 5.e+01,\n",
       "       1.e+02]))"
      ]
     },
     "execution_count": 18,
     "metadata": {},
     "output_type": "execute_result"
    }
   ],
   "source": [
    "ridge_reg = RidgeCV(alphas= (0.001, 0.01, 0.1, 0.3, 0.7, 1, 10, 50, 100))\n",
    "ridge_reg.fit(X_train, y_train) "
   ]
  },
  {
   "cell_type": "code",
   "execution_count": 19,
   "id": "76cdc9e6",
   "metadata": {},
   "outputs": [
    {
     "name": "stdout",
     "output_type": "stream",
     "text": [
      "alpha sélectionné par c-v : 1.0\n",
      "score train : 0.7810517535258238\n",
      "score test : 0.8266841533774373\n"
     ]
    }
   ],
   "source": [
    "print('alpha sélectionné par c-v :', ridge_reg.alpha_)\n",
    "print('score train :', ridge_reg.score(X_train, y_train))\n",
    "print('score test :', ridge_reg.score(X_test, y_test))"
   ]
  },
  {
   "cell_type": "code",
   "execution_count": 20,
   "id": "a0016c7e",
   "metadata": {},
   "outputs": [],
   "source": [
    "ridge_pred_train = ridge_reg.predict(X_train)\n",
    "\n",
    "ridge_pred_test = ridge_reg.predict(X_test)"
   ]
  },
  {
   "cell_type": "code",
   "execution_count": 21,
   "id": "94b92b26",
   "metadata": {},
   "outputs": [
    {
     "name": "stdout",
     "output_type": "stream",
     "text": [
      "mse train : 1317756544.9717116\n",
      "mse test : 1209414227.9888186\n"
     ]
    }
   ],
   "source": [
    "mse_train = mean_squared_error(ridge_pred_train, y_train)\n",
    "\n",
    "mae_test = mean_squared_error(ridge_pred_test, y_test)\n",
    "\n",
    "print('mse train :', mse_train)\n",
    "print('mse test :', mae_test)"
   ]
  },
  {
   "cell_type": "code",
   "execution_count": 22,
   "id": "a3c797ee",
   "metadata": {},
   "outputs": [
    {
     "name": "stdout",
     "output_type": "stream",
     "text": [
      "MAE train lr: 23488.588565964026\n",
      "MAE test lr: 22944.96282172709\n",
      "\n",
      "Relative error 0.12682296681050848\n"
     ]
    }
   ],
   "source": [
    "mae_train = mean_absolute_error(ridge_pred_train, y_train)\n",
    "\n",
    "mae_test = mean_absolute_error(ridge_pred_test, y_test)\n",
    "\n",
    "print(\"MAE train lr:\", mae_train)\n",
    "print(\"MAE test lr:\", mae_test)\n",
    "\n",
    "mean_price = df['SalePrice'].mean()\n",
    "\n",
    "print(\"\\nRelative error\", mae_test / mean_price)"
   ]
  },
  {
   "cell_type": "markdown",
   "id": "b47174e5",
   "metadata": {},
   "source": [
    "### ElasticNet"
   ]
  },
  {
   "cell_type": "code",
   "execution_count": 23,
   "id": "63007b4d",
   "metadata": {},
   "outputs": [
    {
     "name": "stderr",
     "output_type": "stream",
     "text": [
      "C:\\ProgramData\\Anaconda3\\lib\\site-packages\\sklearn\\linear_model\\_coordinate_descent.py:526: ConvergenceWarning: Objective did not converge. You might want to increase the number of iterations. Duality gap: 1694606961.1479492, tolerance: 556780402.629928\n",
      "  model = cd_fast.enet_coordinate_descent_gram(\n"
     ]
    },
    {
     "data": {
      "text/plain": [
       "ElasticNetCV(alphas=(0.001, 0.01, 0.02, 0.025, 0.05, 0.1, 0.25, 0.5, 0.8, 1.0),\n",
       "             cv=8, l1_ratio=(0.1, 0.25, 0.5, 0.7, 0.75, 0.8, 0.85, 0.9, 0.99),\n",
       "             max_iter=50000)"
      ]
     },
     "execution_count": 23,
     "metadata": {},
     "output_type": "execute_result"
    }
   ],
   "source": [
    "model_en = ElasticNetCV(cv=8, l1_ratio=(0.1, 0.25, 0.5, 0.7, 0.75, 0.8, 0.85, 0.9, 0.99), \n",
    "                        alphas=(0.001, 0.01, 0.02, 0.025, 0.05, 0.1, 0.25, 0.5, 0.8, 1.0), max_iter=50000)\n",
    "\n",
    "model_en.fit(X_train, y_train)"
   ]
  },
  {
   "cell_type": "code",
   "execution_count": 24,
   "id": "2ec190ff",
   "metadata": {},
   "outputs": [],
   "source": [
    "pred_train = model_en.predict(X_train)\n",
    "pred_test = model_en.predict(X_test)\n"
   ]
  },
  {
   "cell_type": "code",
   "execution_count": 25,
   "id": "3b0afa08",
   "metadata": {},
   "outputs": [
    {
     "name": "stdout",
     "output_type": "stream",
     "text": [
      "mse train : 1338143325.706984\n",
      "mse test : 1219384920.324139\n"
     ]
    }
   ],
   "source": [
    "mse_train = mean_squared_error(pred_train, y_train)\n",
    "\n",
    "mae_test = mean_squared_error(pred_test, y_test)\n",
    "\n",
    "print('mse train :', mse_train)\n",
    "print('mse test :', mae_test)"
   ]
  },
  {
   "cell_type": "code",
   "execution_count": 26,
   "id": "7108d94c",
   "metadata": {},
   "outputs": [
    {
     "name": "stdout",
     "output_type": "stream",
     "text": [
      "MAE train lr: 23551.522434744795\n",
      "MAE test lr: 22957.513420798234\n",
      "\n",
      "Relative error 0.12689233733953564\n"
     ]
    }
   ],
   "source": [
    "mae_train = mean_absolute_error(pred_train, y_train)\n",
    "\n",
    "mae_test = mean_absolute_error(pred_test, y_test)\n",
    "\n",
    "print(\"MAE train lr:\", mae_train)\n",
    "print(\"MAE test lr:\", mae_test)\n",
    "\n",
    "mean_price = df['SalePrice'].mean()\n",
    "\n",
    "print(\"\\nRelative error\", mae_test / mean_price)"
   ]
  },
  {
   "cell_type": "code",
   "execution_count": 29,
   "id": "a963522a",
   "metadata": {},
   "outputs": [],
   "source": [
    "# save a model\n",
    "# https://www.geeksforgeeks.org/saving-a-machine-learning-model/"
   ]
  },
  {
   "cell_type": "code",
   "execution_count": null,
   "id": "19be2560",
   "metadata": {},
   "outputs": [],
   "source": []
  }
 ],
 "metadata": {
  "kernelspec": {
   "display_name": "Python 3",
   "language": "python",
   "name": "python3"
  },
  "language_info": {
   "codemirror_mode": {
    "name": "ipython",
    "version": 3
   },
   "file_extension": ".py",
   "mimetype": "text/x-python",
   "name": "python",
   "nbconvert_exporter": "python",
   "pygments_lexer": "ipython3",
   "version": "3.8.8"
  }
 },
 "nbformat": 4,
 "nbformat_minor": 5
}
