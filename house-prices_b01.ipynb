{
 "cells": [
  {
   "cell_type": "code",
   "execution_count": 1,
   "id": "af37bd67",
   "metadata": {},
   "outputs": [],
   "source": [
    "%matplotlib inline\n",
    "\n",
    "import numpy as np\n",
    "import pandas as pd\n",
    "\n",
    "from sklearn import linear_model, preprocessing\n",
    "from sklearn.model_selection import train_test_split"
   ]
  },
  {
   "cell_type": "code",
   "execution_count": 2,
   "id": "6ef9cc9d",
   "metadata": {},
   "outputs": [
    {
     "data": {
      "text/plain": [
       "(1460, 81)"
      ]
     },
     "execution_count": 2,
     "metadata": {},
     "output_type": "execute_result"
    }
   ],
   "source": [
    "df = pd.read_csv(\"./dataset/train_label.csv\")\n",
    "df.shape"
   ]
  },
  {
   "cell_type": "code",
   "execution_count": 3,
   "id": "98fe403b",
   "metadata": {},
   "outputs": [
    {
     "data": {
      "text/html": [
       "<div>\n",
       "<style scoped>\n",
       "    .dataframe tbody tr th:only-of-type {\n",
       "        vertical-align: middle;\n",
       "    }\n",
       "\n",
       "    .dataframe tbody tr th {\n",
       "        vertical-align: top;\n",
       "    }\n",
       "\n",
       "    .dataframe thead th {\n",
       "        text-align: right;\n",
       "    }\n",
       "</style>\n",
       "<table border=\"1\" class=\"dataframe\">\n",
       "  <thead>\n",
       "    <tr style=\"text-align: right;\">\n",
       "      <th></th>\n",
       "      <th>Id</th>\n",
       "      <th>MSSubClass</th>\n",
       "      <th>MSZoning</th>\n",
       "      <th>LotFrontage</th>\n",
       "      <th>LotArea</th>\n",
       "      <th>Street</th>\n",
       "      <th>Alley</th>\n",
       "      <th>LotShape</th>\n",
       "      <th>LandContour</th>\n",
       "      <th>Utilities</th>\n",
       "      <th>...</th>\n",
       "      <th>PoolArea</th>\n",
       "      <th>PoolQC</th>\n",
       "      <th>Fence</th>\n",
       "      <th>MiscFeature</th>\n",
       "      <th>MiscVal</th>\n",
       "      <th>MoSold</th>\n",
       "      <th>YrSold</th>\n",
       "      <th>SaleType</th>\n",
       "      <th>SaleCondition</th>\n",
       "      <th>SalePrice_label</th>\n",
       "    </tr>\n",
       "  </thead>\n",
       "  <tbody>\n",
       "    <tr>\n",
       "      <th>0</th>\n",
       "      <td>1</td>\n",
       "      <td>60</td>\n",
       "      <td>RL</td>\n",
       "      <td>65.0</td>\n",
       "      <td>8450</td>\n",
       "      <td>Pave</td>\n",
       "      <td>NaN</td>\n",
       "      <td>Reg</td>\n",
       "      <td>Lvl</td>\n",
       "      <td>AllPub</td>\n",
       "      <td>...</td>\n",
       "      <td>0</td>\n",
       "      <td>NaN</td>\n",
       "      <td>NaN</td>\n",
       "      <td>NaN</td>\n",
       "      <td>0</td>\n",
       "      <td>2</td>\n",
       "      <td>2008</td>\n",
       "      <td>WD</td>\n",
       "      <td>Normal</td>\n",
       "      <td>3</td>\n",
       "    </tr>\n",
       "    <tr>\n",
       "      <th>1</th>\n",
       "      <td>2</td>\n",
       "      <td>20</td>\n",
       "      <td>RL</td>\n",
       "      <td>80.0</td>\n",
       "      <td>9600</td>\n",
       "      <td>Pave</td>\n",
       "      <td>NaN</td>\n",
       "      <td>Reg</td>\n",
       "      <td>Lvl</td>\n",
       "      <td>AllPub</td>\n",
       "      <td>...</td>\n",
       "      <td>0</td>\n",
       "      <td>NaN</td>\n",
       "      <td>NaN</td>\n",
       "      <td>NaN</td>\n",
       "      <td>0</td>\n",
       "      <td>5</td>\n",
       "      <td>2007</td>\n",
       "      <td>WD</td>\n",
       "      <td>Normal</td>\n",
       "      <td>2</td>\n",
       "    </tr>\n",
       "    <tr>\n",
       "      <th>2</th>\n",
       "      <td>3</td>\n",
       "      <td>60</td>\n",
       "      <td>RL</td>\n",
       "      <td>68.0</td>\n",
       "      <td>11250</td>\n",
       "      <td>Pave</td>\n",
       "      <td>NaN</td>\n",
       "      <td>IR1</td>\n",
       "      <td>Lvl</td>\n",
       "      <td>AllPub</td>\n",
       "      <td>...</td>\n",
       "      <td>0</td>\n",
       "      <td>NaN</td>\n",
       "      <td>NaN</td>\n",
       "      <td>NaN</td>\n",
       "      <td>0</td>\n",
       "      <td>9</td>\n",
       "      <td>2008</td>\n",
       "      <td>WD</td>\n",
       "      <td>Normal</td>\n",
       "      <td>3</td>\n",
       "    </tr>\n",
       "    <tr>\n",
       "      <th>3</th>\n",
       "      <td>4</td>\n",
       "      <td>70</td>\n",
       "      <td>RL</td>\n",
       "      <td>60.0</td>\n",
       "      <td>9550</td>\n",
       "      <td>Pave</td>\n",
       "      <td>NaN</td>\n",
       "      <td>IR1</td>\n",
       "      <td>Lvl</td>\n",
       "      <td>AllPub</td>\n",
       "      <td>...</td>\n",
       "      <td>0</td>\n",
       "      <td>NaN</td>\n",
       "      <td>NaN</td>\n",
       "      <td>NaN</td>\n",
       "      <td>0</td>\n",
       "      <td>2</td>\n",
       "      <td>2006</td>\n",
       "      <td>WD</td>\n",
       "      <td>Abnorml</td>\n",
       "      <td>2</td>\n",
       "    </tr>\n",
       "    <tr>\n",
       "      <th>4</th>\n",
       "      <td>5</td>\n",
       "      <td>60</td>\n",
       "      <td>RL</td>\n",
       "      <td>84.0</td>\n",
       "      <td>14260</td>\n",
       "      <td>Pave</td>\n",
       "      <td>NaN</td>\n",
       "      <td>IR1</td>\n",
       "      <td>Lvl</td>\n",
       "      <td>AllPub</td>\n",
       "      <td>...</td>\n",
       "      <td>0</td>\n",
       "      <td>NaN</td>\n",
       "      <td>NaN</td>\n",
       "      <td>NaN</td>\n",
       "      <td>0</td>\n",
       "      <td>12</td>\n",
       "      <td>2008</td>\n",
       "      <td>WD</td>\n",
       "      <td>Normal</td>\n",
       "      <td>3</td>\n",
       "    </tr>\n",
       "  </tbody>\n",
       "</table>\n",
       "<p>5 rows × 81 columns</p>\n",
       "</div>"
      ],
      "text/plain": [
       "   Id  MSSubClass MSZoning  LotFrontage  LotArea Street Alley LotShape  \\\n",
       "0   1          60       RL         65.0     8450   Pave   NaN      Reg   \n",
       "1   2          20       RL         80.0     9600   Pave   NaN      Reg   \n",
       "2   3          60       RL         68.0    11250   Pave   NaN      IR1   \n",
       "3   4          70       RL         60.0     9550   Pave   NaN      IR1   \n",
       "4   5          60       RL         84.0    14260   Pave   NaN      IR1   \n",
       "\n",
       "  LandContour Utilities  ... PoolArea PoolQC Fence MiscFeature MiscVal MoSold  \\\n",
       "0         Lvl    AllPub  ...        0    NaN   NaN         NaN       0      2   \n",
       "1         Lvl    AllPub  ...        0    NaN   NaN         NaN       0      5   \n",
       "2         Lvl    AllPub  ...        0    NaN   NaN         NaN       0      9   \n",
       "3         Lvl    AllPub  ...        0    NaN   NaN         NaN       0      2   \n",
       "4         Lvl    AllPub  ...        0    NaN   NaN         NaN       0     12   \n",
       "\n",
       "  YrSold  SaleType  SaleCondition  SalePrice_label  \n",
       "0   2008        WD         Normal                3  \n",
       "1   2007        WD         Normal                2  \n",
       "2   2008        WD         Normal                3  \n",
       "3   2006        WD        Abnorml                2  \n",
       "4   2008        WD         Normal                3  \n",
       "\n",
       "[5 rows x 81 columns]"
      ]
     },
     "execution_count": 3,
     "metadata": {},
     "output_type": "execute_result"
    }
   ],
   "source": [
    "#df = df.loc[df['SalePrice_label'].between(6, 8)]\n",
    "df.head()"
   ]
  },
  {
   "cell_type": "code",
   "execution_count": 40,
   "id": "018269fb",
   "metadata": {},
   "outputs": [
    {
     "data": {
      "text/plain": [
       "<AxesSubplot:ylabel='Frequency'>"
      ]
     },
     "execution_count": 40,
     "metadata": {},
     "output_type": "execute_result"
    },
    {
     "data": {
      "image/png": "[encoded data removed]",
      "text/plain": [
       "<Figure size 432x288 with 1 Axes>"
      ]
     },
     "metadata": {
      "needs_background": "light"
     },
     "output_type": "display_data"
    }
   ],
   "source": [
    "df['SalePrice_label'].plot(kind='hist', edgecolor='black') # "
   ]
  },
  {
   "cell_type": "code",
   "execution_count": 44,
   "id": "7960654d",
   "metadata": {},
   "outputs": [
    {
     "data": {
      "image/png": "[encoded data removed]",
      "text/plain": [
       "<Figure size 432x288 with 1 Axes>"
      ]
     },
     "metadata": {
      "needs_background": "light"
     },
     "output_type": "display_data"
    }
   ],
   "source": [
    "df.plot.scatter(x = 'SalePrice_label', y = 'SalePrice_label', s = 100);"
   ]
  },
  {
   "cell_type": "code",
   "execution_count": 4,
   "id": "358a4d23",
   "metadata": {
    "scrolled": true
   },
   "outputs": [
    {
     "name": "stdout",
     "output_type": "stream",
     "text": [
      "<class 'pandas.core.frame.DataFrame'>\n",
      "RangeIndex: 1460 entries, 0 to 1459\n",
      "Data columns (total 81 columns):\n",
      " #   Column           Non-Null Count  Dtype  \n",
      "---  ------           --------------  -----  \n",
      " 0   Id               1460 non-null   int64  \n",
      " 1   MSSubClass       1460 non-null   int64  \n",
      " 2   MSZoning         1460 non-null   object \n",
      " 3   LotFrontage      1201 non-null   float64\n",
      " 4   LotArea          1460 non-null   int64  \n",
      " 5   Street           1460 non-null   object \n",
      " 6   Alley            91 non-null     object \n",
      " 7   LotShape         1460 non-null   object \n",
      " 8   LandContour      1460 non-null   object \n",
      " 9   Utilities        1460 non-null   object \n",
      " 10  LotConfig        1460 non-null   object \n",
      " 11  LandSlope        1460 non-null   object \n",
      " 12  Neighborhood     1460 non-null   object \n",
      " 13  Condition1       1460 non-null   object \n",
      " 14  Condition2       1460 non-null   object \n",
      " 15  BldgType         1460 non-null   object \n",
      " 16  HouseStyle       1460 non-null   object \n",
      " 17  OverallQual      1460 non-null   int64  \n",
      " 18  OverallCond      1460 non-null   int64  \n",
      " 19  YearBuilt        1460 non-null   int64  \n",
      " 20  YearRemodAdd     1460 non-null   int64  \n",
      " 21  RoofStyle        1460 non-null   object \n",
      " 22  RoofMatl         1460 non-null   object \n",
      " 23  Exterior1st      1460 non-null   object \n",
      " 24  Exterior2nd      1460 non-null   object \n",
      " 25  MasVnrType       1452 non-null   object \n",
      " 26  MasVnrArea       1452 non-null   float64\n",
      " 27  ExterQual        1460 non-null   object \n",
      " 28  ExterCond        1460 non-null   object \n",
      " 29  Foundation       1460 non-null   object \n",
      " 30  BsmtQual         1423 non-null   object \n",
      " 31  BsmtCond         1423 non-null   object \n",
      " 32  BsmtExposure     1422 non-null   object \n",
      " 33  BsmtFinType1     1423 non-null   object \n",
      " 34  BsmtFinSF1       1460 non-null   int64  \n",
      " 35  BsmtFinType2     1422 non-null   object \n",
      " 36  BsmtFinSF2       1460 non-null   int64  \n",
      " 37  BsmtUnfSF        1460 non-null   int64  \n",
      " 38  TotalBsmtSF      1460 non-null   int64  \n",
      " 39  Heating          1460 non-null   object \n",
      " 40  HeatingQC        1460 non-null   object \n",
      " 41  CentralAir       1460 non-null   object \n",
      " 42  Electrical       1459 non-null   object \n",
      " 43  1stFlrSF         1460 non-null   int64  \n",
      " 44  2ndFlrSF         1460 non-null   int64  \n",
      " 45  LowQualFinSF     1460 non-null   int64  \n",
      " 46  GrLivArea        1460 non-null   int64  \n",
      " 47  BsmtFullBath     1460 non-null   int64  \n",
      " 48  BsmtHalfBath     1460 non-null   int64  \n",
      " 49  FullBath         1460 non-null   int64  \n",
      " 50  HalfBath         1460 non-null   int64  \n",
      " 51  BedroomAbvGr     1460 non-null   int64  \n",
      " 52  KitchenAbvGr     1460 non-null   int64  \n",
      " 53  KitchenQual      1460 non-null   object \n",
      " 54  TotRmsAbvGrd     1460 non-null   int64  \n",
      " 55  Functional       1460 non-null   object \n",
      " 56  Fireplaces       1460 non-null   int64  \n",
      " 57  FireplaceQu      770 non-null    object \n",
      " 58  GarageType       1379 non-null   object \n",
      " 59  GarageYrBlt      1379 non-null   float64\n",
      " 60  GarageFinish     1379 non-null   object \n",
      " 61  GarageCars       1460 non-null   int64  \n",
      " 62  GarageArea       1460 non-null   int64  \n",
      " 63  GarageQual       1379 non-null   object \n",
      " 64  GarageCond       1379 non-null   object \n",
      " 65  PavedDrive       1460 non-null   object \n",
      " 66  WoodDeckSF       1460 non-null   int64  \n",
      " 67  OpenPorchSF      1460 non-null   int64  \n",
      " 68  EnclosedPorch    1460 non-null   int64  \n",
      " 69  3SsnPorch        1460 non-null   int64  \n",
      " 70  ScreenPorch      1460 non-null   int64  \n",
      " 71  PoolArea         1460 non-null   int64  \n",
      " 72  PoolQC           7 non-null      object \n",
      " 73  Fence            281 non-null    object \n",
      " 74  MiscFeature      54 non-null     object \n",
      " 75  MiscVal          1460 non-null   int64  \n",
      " 76  MoSold           1460 non-null   int64  \n",
      " 77  YrSold           1460 non-null   int64  \n",
      " 78  SaleType         1460 non-null   object \n",
      " 79  SaleCondition    1460 non-null   object \n",
      " 80  SalePrice_label  1460 non-null   int64  \n",
      "dtypes: float64(3), int64(35), object(43)\n",
      "memory usage: 924.0+ KB\n"
     ]
    }
   ],
   "source": [
    "df.info()"
   ]
  },
  {
   "cell_type": "code",
   "execution_count": 5,
   "id": "01ee2c84",
   "metadata": {},
   "outputs": [],
   "source": [
    "df_num = df.select_dtypes(include='number')"
   ]
  },
  {
   "cell_type": "code",
   "execution_count": 6,
   "id": "e4d6ba20",
   "metadata": {
    "scrolled": true
   },
   "outputs": [
    {
     "name": "stdout",
     "output_type": "stream",
     "text": [
      "<class 'pandas.core.frame.DataFrame'>\n",
      "RangeIndex: 1460 entries, 0 to 1459\n",
      "Data columns (total 38 columns):\n",
      " #   Column           Non-Null Count  Dtype  \n",
      "---  ------           --------------  -----  \n",
      " 0   Id               1460 non-null   int64  \n",
      " 1   MSSubClass       1460 non-null   int64  \n",
      " 2   LotFrontage      1201 non-null   float64\n",
      " 3   LotArea          1460 non-null   int64  \n",
      " 4   OverallQual      1460 non-null   int64  \n",
      " 5   OverallCond      1460 non-null   int64  \n",
      " 6   YearBuilt        1460 non-null   int64  \n",
      " 7   YearRemodAdd     1460 non-null   int64  \n",
      " 8   MasVnrArea       1452 non-null   float64\n",
      " 9   BsmtFinSF1       1460 non-null   int64  \n",
      " 10  BsmtFinSF2       1460 non-null   int64  \n",
      " 11  BsmtUnfSF        1460 non-null   int64  \n",
      " 12  TotalBsmtSF      1460 non-null   int64  \n",
      " 13  1stFlrSF         1460 non-null   int64  \n",
      " 14  2ndFlrSF         1460 non-null   int64  \n",
      " 15  LowQualFinSF     1460 non-null   int64  \n",
      " 16  GrLivArea        1460 non-null   int64  \n",
      " 17  BsmtFullBath     1460 non-null   int64  \n",
      " 18  BsmtHalfBath     1460 non-null   int64  \n",
      " 19  FullBath         1460 non-null   int64  \n",
      " 20  HalfBath         1460 non-null   int64  \n",
      " 21  BedroomAbvGr     1460 non-null   int64  \n",
      " 22  KitchenAbvGr     1460 non-null   int64  \n",
      " 23  TotRmsAbvGrd     1460 non-null   int64  \n",
      " 24  Fireplaces       1460 non-null   int64  \n",
      " 25  GarageYrBlt      1379 non-null   float64\n",
      " 26  GarageCars       1460 non-null   int64  \n",
      " 27  GarageArea       1460 non-null   int64  \n",
      " 28  WoodDeckSF       1460 non-null   int64  \n",
      " 29  OpenPorchSF      1460 non-null   int64  \n",
      " 30  EnclosedPorch    1460 non-null   int64  \n",
      " 31  3SsnPorch        1460 non-null   int64  \n",
      " 32  ScreenPorch      1460 non-null   int64  \n",
      " 33  PoolArea         1460 non-null   int64  \n",
      " 34  MiscVal          1460 non-null   int64  \n",
      " 35  MoSold           1460 non-null   int64  \n",
      " 36  YrSold           1460 non-null   int64  \n",
      " 37  SalePrice_label  1460 non-null   int64  \n",
      "dtypes: float64(3), int64(35)\n",
      "memory usage: 433.6 KB\n"
     ]
    }
   ],
   "source": [
    "df_num.info()"
   ]
  },
  {
   "cell_type": "code",
   "execution_count": 7,
   "id": "60cd44f0",
   "metadata": {},
   "outputs": [
    {
     "name": "stderr",
     "output_type": "stream",
     "text": [
      "C:\\ProgramData\\Anaconda3\\lib\\site-packages\\pandas\\core\\series.py:4463: SettingWithCopyWarning: \n",
      "A value is trying to be set on a copy of a slice from a DataFrame\n",
      "\n",
      "See the caveats in the documentation: https://pandas.pydata.org/pandas-docs/stable/user_guide/indexing.html#returning-a-view-versus-a-copy\n",
      "  return super().fillna(\n"
     ]
    },
    {
     "data": {
      "text/plain": [
       "(1460, 38)"
      ]
     },
     "execution_count": 7,
     "metadata": {},
     "output_type": "execute_result"
    }
   ],
   "source": [
    "#df_num = df_num.dropna()\n",
    "#df_num.shape\n",
    "\n",
    "df_num.fillna(df_num.mean(), inplace=True)\n",
    "df_num.shape"
   ]
  },
  {
   "cell_type": "code",
   "execution_count": 8,
   "id": "a9cb6378",
   "metadata": {},
   "outputs": [
    {
     "data": {
      "text/html": [
       "<div>\n",
       "<style scoped>\n",
       "    .dataframe tbody tr th:only-of-type {\n",
       "        vertical-align: middle;\n",
       "    }\n",
       "\n",
       "    .dataframe tbody tr th {\n",
       "        vertical-align: top;\n",
       "    }\n",
       "\n",
       "    .dataframe thead th {\n",
       "        text-align: right;\n",
       "    }\n",
       "</style>\n",
       "<table border=\"1\" class=\"dataframe\">\n",
       "  <thead>\n",
       "    <tr style=\"text-align: right;\">\n",
       "      <th></th>\n",
       "      <th>LotArea</th>\n",
       "      <th>YearBuilt</th>\n",
       "      <th>GrLivArea</th>\n",
       "      <th>GarageCars</th>\n",
       "      <th>SalePrice_label</th>\n",
       "    </tr>\n",
       "  </thead>\n",
       "  <tbody>\n",
       "    <tr>\n",
       "      <th>0</th>\n",
       "      <td>8450</td>\n",
       "      <td>2003</td>\n",
       "      <td>1710</td>\n",
       "      <td>2</td>\n",
       "      <td>3</td>\n",
       "    </tr>\n",
       "    <tr>\n",
       "      <th>1</th>\n",
       "      <td>9600</td>\n",
       "      <td>1976</td>\n",
       "      <td>1262</td>\n",
       "      <td>2</td>\n",
       "      <td>2</td>\n",
       "    </tr>\n",
       "    <tr>\n",
       "      <th>2</th>\n",
       "      <td>11250</td>\n",
       "      <td>2001</td>\n",
       "      <td>1786</td>\n",
       "      <td>2</td>\n",
       "      <td>3</td>\n",
       "    </tr>\n",
       "    <tr>\n",
       "      <th>3</th>\n",
       "      <td>9550</td>\n",
       "      <td>1915</td>\n",
       "      <td>1717</td>\n",
       "      <td>3</td>\n",
       "      <td>2</td>\n",
       "    </tr>\n",
       "    <tr>\n",
       "      <th>4</th>\n",
       "      <td>14260</td>\n",
       "      <td>2000</td>\n",
       "      <td>2198</td>\n",
       "      <td>3</td>\n",
       "      <td>3</td>\n",
       "    </tr>\n",
       "  </tbody>\n",
       "</table>\n",
       "</div>"
      ],
      "text/plain": [
       "   LotArea  YearBuilt  GrLivArea  GarageCars  SalePrice_label\n",
       "0     8450       2003       1710           2                3\n",
       "1     9600       1976       1262           2                2\n",
       "2    11250       2001       1786           2                3\n",
       "3     9550       1915       1717           3                2\n",
       "4    14260       2000       2198           3                3"
      ]
     },
     "execution_count": 8,
     "metadata": {},
     "output_type": "execute_result"
    }
   ],
   "source": [
    "df_num = df_num[['LotArea', 'YearBuilt', 'GrLivArea', 'GarageCars','SalePrice_label']]\n",
    "df_num.head()"
   ]
  },
  {
   "cell_type": "markdown",
   "id": "6025f343",
   "metadata": {},
   "source": [
    "### Discrétiser YearBuilt"
   ]
  },
  {
   "cell_type": "code",
   "execution_count": 9,
   "id": "5d69d6ed",
   "metadata": {},
   "outputs": [
    {
     "data": {
      "text/plain": [
       "<AxesSubplot:ylabel='Frequency'>"
      ]
     },
     "execution_count": 9,
     "metadata": {},
     "output_type": "execute_result"
    },
    {
     "data": {
      "image/png": "[encoded data removed]",
      "text/plain": [
       "<Figure size 432x288 with 1 Axes>"
      ]
     },
     "metadata": {
      "needs_background": "light"
     },
     "output_type": "display_data"
    }
   ],
   "source": [
    "df_num['YearBuilt'].plot(kind='hist', edgecolor='black') #(kind='kde')"
   ]
  },
  {
   "cell_type": "code",
   "execution_count": 10,
   "id": "7111a6ec",
   "metadata": {},
   "outputs": [
    {
     "data": {
      "text/html": [
       "<div>\n",
       "<style scoped>\n",
       "    .dataframe tbody tr th:only-of-type {\n",
       "        vertical-align: middle;\n",
       "    }\n",
       "\n",
       "    .dataframe tbody tr th {\n",
       "        vertical-align: top;\n",
       "    }\n",
       "\n",
       "    .dataframe thead th {\n",
       "        text-align: right;\n",
       "    }\n",
       "</style>\n",
       "<table border=\"1\" class=\"dataframe\">\n",
       "  <thead>\n",
       "    <tr style=\"text-align: right;\">\n",
       "      <th>YearBuilt</th>\n",
       "      <th>ancien+++</th>\n",
       "      <th>ancien++</th>\n",
       "      <th>ancien+</th>\n",
       "      <th>ancien</th>\n",
       "      <th>recent</th>\n",
       "      <th>recent+</th>\n",
       "      <th>recent++</th>\n",
       "      <th>recent+++</th>\n",
       "      <th>top</th>\n",
       "    </tr>\n",
       "    <tr>\n",
       "      <th>SalePrice_label</th>\n",
       "      <th></th>\n",
       "      <th></th>\n",
       "      <th></th>\n",
       "      <th></th>\n",
       "      <th></th>\n",
       "      <th></th>\n",
       "      <th></th>\n",
       "      <th></th>\n",
       "      <th></th>\n",
       "    </tr>\n",
       "  </thead>\n",
       "  <tbody>\n",
       "    <tr>\n",
       "      <th>1</th>\n",
       "      <td>10</td>\n",
       "      <td>66</td>\n",
       "      <td>37</td>\n",
       "      <td>0</td>\n",
       "      <td>0</td>\n",
       "      <td>1</td>\n",
       "      <td>0</td>\n",
       "      <td>0</td>\n",
       "      <td>0</td>\n",
       "    </tr>\n",
       "    <tr>\n",
       "      <th>2</th>\n",
       "      <td>32</td>\n",
       "      <td>198</td>\n",
       "      <td>498</td>\n",
       "      <td>13</td>\n",
       "      <td>69</td>\n",
       "      <td>83</td>\n",
       "      <td>14</td>\n",
       "      <td>4</td>\n",
       "      <td>0</td>\n",
       "    </tr>\n",
       "    <tr>\n",
       "      <th>3</th>\n",
       "      <td>3</td>\n",
       "      <td>23</td>\n",
       "      <td>84</td>\n",
       "      <td>13</td>\n",
       "      <td>91</td>\n",
       "      <td>67</td>\n",
       "      <td>29</td>\n",
       "      <td>10</td>\n",
       "      <td>0</td>\n",
       "    </tr>\n",
       "    <tr>\n",
       "      <th>4</th>\n",
       "      <td>1</td>\n",
       "      <td>4</td>\n",
       "      <td>15</td>\n",
       "      <td>3</td>\n",
       "      <td>13</td>\n",
       "      <td>26</td>\n",
       "      <td>22</td>\n",
       "      <td>2</td>\n",
       "      <td>1</td>\n",
       "    </tr>\n",
       "    <tr>\n",
       "      <th>5</th>\n",
       "      <td>1</td>\n",
       "      <td>0</td>\n",
       "      <td>2</td>\n",
       "      <td>2</td>\n",
       "      <td>2</td>\n",
       "      <td>7</td>\n",
       "      <td>4</td>\n",
       "      <td>1</td>\n",
       "      <td>0</td>\n",
       "    </tr>\n",
       "    <tr>\n",
       "      <th>6</th>\n",
       "      <td>0</td>\n",
       "      <td>0</td>\n",
       "      <td>0</td>\n",
       "      <td>0</td>\n",
       "      <td>1</td>\n",
       "      <td>1</td>\n",
       "      <td>3</td>\n",
       "      <td>0</td>\n",
       "      <td>0</td>\n",
       "    </tr>\n",
       "    <tr>\n",
       "      <th>7</th>\n",
       "      <td>0</td>\n",
       "      <td>0</td>\n",
       "      <td>0</td>\n",
       "      <td>1</td>\n",
       "      <td>0</td>\n",
       "      <td>0</td>\n",
       "      <td>0</td>\n",
       "      <td>1</td>\n",
       "      <td>0</td>\n",
       "    </tr>\n",
       "    <tr>\n",
       "      <th>8</th>\n",
       "      <td>0</td>\n",
       "      <td>0</td>\n",
       "      <td>1</td>\n",
       "      <td>1</td>\n",
       "      <td>0</td>\n",
       "      <td>0</td>\n",
       "      <td>0</td>\n",
       "      <td>0</td>\n",
       "      <td>0</td>\n",
       "    </tr>\n",
       "  </tbody>\n",
       "</table>\n",
       "</div>"
      ],
      "text/plain": [
       "YearBuilt        ancien+++  ancien++  ancien+  ancien  recent  recent+  \\\n",
       "SalePrice_label                                                          \n",
       "1                       10        66       37       0       0        1   \n",
       "2                       32       198      498      13      69       83   \n",
       "3                        3        23       84      13      91       67   \n",
       "4                        1         4       15       3      13       26   \n",
       "5                        1         0        2       2       2        7   \n",
       "6                        0         0        0       0       1        1   \n",
       "7                        0         0        0       1       0        0   \n",
       "8                        0         0        1       1       0        0   \n",
       "\n",
       "YearBuilt        recent++  recent+++  top  \n",
       "SalePrice_label                            \n",
       "1                       0          0    0  \n",
       "2                      14          4    0  \n",
       "3                      29         10    0  \n",
       "4                      22          2    1  \n",
       "5                       4          1    0  \n",
       "6                       3          0    0  \n",
       "7                       0          1    0  \n",
       "8                       0          0    0  "
      ]
     },
     "execution_count": 10,
     "metadata": {},
     "output_type": "execute_result"
    }
   ],
   "source": [
    "df_num_YearBuilt = pd.cut(x      = df_num['YearBuilt'],\n",
    "                  bins   = [1800, 1910, 1950, 1994, 1996, 2003, 2006, 2008, 2009, 2050],\n",
    "                  labels = ['ancien+++', 'ancien++', 'ancien+', 'ancien', 'recent', 'recent+', 'recent++', 'recent+++', 'top'])\n",
    "\n",
    "\n",
    "pd.crosstab(df_num['SalePrice_label'], df_num_YearBuilt)"
   ]
  },
  {
   "cell_type": "markdown",
   "id": "f0d41ce0",
   "metadata": {},
   "source": [
    "### Discrétiser GrLivArea"
   ]
  },
  {
   "cell_type": "code",
   "execution_count": 11,
   "id": "d301bddf",
   "metadata": {},
   "outputs": [
    {
     "data": {
      "text/plain": [
       "<AxesSubplot:ylabel='Frequency'>"
      ]
     },
     "execution_count": 11,
     "metadata": {},
     "output_type": "execute_result"
    },
    {
     "data": {
      "image/png": "[encoded data removed]",
      "text/plain": [
       "<Figure size 432x288 with 1 Axes>"
      ]
     },
     "metadata": {
      "needs_background": "light"
     },
     "output_type": "display_data"
    }
   ],
   "source": [
    "df_num['GrLivArea'].plot(kind='hist', edgecolor='black')"
   ]
  },
  {
   "cell_type": "code",
   "execution_count": 12,
   "id": "71f8a9ed",
   "metadata": {},
   "outputs": [
    {
     "data": {
      "text/html": [
       "<div>\n",
       "<style scoped>\n",
       "    .dataframe tbody tr th:only-of-type {\n",
       "        vertical-align: middle;\n",
       "    }\n",
       "\n",
       "    .dataframe tbody tr th {\n",
       "        vertical-align: top;\n",
       "    }\n",
       "\n",
       "    .dataframe thead th {\n",
       "        text-align: right;\n",
       "    }\n",
       "</style>\n",
       "<table border=\"1\" class=\"dataframe\">\n",
       "  <thead>\n",
       "    <tr style=\"text-align: right;\">\n",
       "      <th>GrLivArea</th>\n",
       "      <th>petit</th>\n",
       "      <th>moyen</th>\n",
       "      <th>moyen+</th>\n",
       "      <th>moyen++</th>\n",
       "    </tr>\n",
       "    <tr>\n",
       "      <th>SalePrice_label</th>\n",
       "      <th></th>\n",
       "      <th></th>\n",
       "      <th></th>\n",
       "      <th></th>\n",
       "    </tr>\n",
       "  </thead>\n",
       "  <tbody>\n",
       "    <tr>\n",
       "      <th>1</th>\n",
       "      <td>64</td>\n",
       "      <td>49</td>\n",
       "      <td>1</td>\n",
       "      <td>0</td>\n",
       "    </tr>\n",
       "    <tr>\n",
       "      <th>2</th>\n",
       "      <td>167</td>\n",
       "      <td>706</td>\n",
       "      <td>35</td>\n",
       "      <td>3</td>\n",
       "    </tr>\n",
       "    <tr>\n",
       "      <th>3</th>\n",
       "      <td>0</td>\n",
       "      <td>220</td>\n",
       "      <td>96</td>\n",
       "      <td>4</td>\n",
       "    </tr>\n",
       "    <tr>\n",
       "      <th>4</th>\n",
       "      <td>0</td>\n",
       "      <td>39</td>\n",
       "      <td>45</td>\n",
       "      <td>3</td>\n",
       "    </tr>\n",
       "    <tr>\n",
       "      <th>5</th>\n",
       "      <td>0</td>\n",
       "      <td>1</td>\n",
       "      <td>14</td>\n",
       "      <td>4</td>\n",
       "    </tr>\n",
       "    <tr>\n",
       "      <th>6</th>\n",
       "      <td>0</td>\n",
       "      <td>0</td>\n",
       "      <td>4</td>\n",
       "      <td>1</td>\n",
       "    </tr>\n",
       "    <tr>\n",
       "      <th>7</th>\n",
       "      <td>0</td>\n",
       "      <td>0</td>\n",
       "      <td>1</td>\n",
       "      <td>1</td>\n",
       "    </tr>\n",
       "    <tr>\n",
       "      <th>8</th>\n",
       "      <td>0</td>\n",
       "      <td>0</td>\n",
       "      <td>0</td>\n",
       "      <td>2</td>\n",
       "    </tr>\n",
       "  </tbody>\n",
       "</table>\n",
       "</div>"
      ],
      "text/plain": [
       "GrLivArea        petit  moyen  moyen+  moyen++\n",
       "SalePrice_label                               \n",
       "1                   64     49       1        0\n",
       "2                  167    706      35        3\n",
       "3                    0    220      96        4\n",
       "4                    0     39      45        3\n",
       "5                    0      1      14        4\n",
       "6                    0      0       4        1\n",
       "7                    0      0       1        1\n",
       "8                    0      0       0        2"
      ]
     },
     "execution_count": 12,
     "metadata": {},
     "output_type": "execute_result"
    }
   ],
   "source": [
    "df_num_GrLivArea = pd.cut(x      = df_num['GrLivArea'],\n",
    "                  bins   = [0, 1000, 2000, 3000, 6000],\n",
    "                  labels = ['petit', 'moyen', 'moyen+', 'moyen++'])\n",
    "\n",
    "\n",
    "pd.crosstab(df_num['SalePrice_label'], df_num_GrLivArea)"
   ]
  },
  {
   "cell_type": "markdown",
   "id": "047003f4",
   "metadata": {},
   "source": [
    "### Discrétiser LotArea"
   ]
  },
  {
   "cell_type": "code",
   "execution_count": 13,
   "id": "ea780581",
   "metadata": {},
   "outputs": [
    {
     "data": {
      "text/plain": [
       "<AxesSubplot:ylabel='Frequency'>"
      ]
     },
     "execution_count": 13,
     "metadata": {},
     "output_type": "execute_result"
    },
    {
     "data": {
      "image/png": "[encoded data removed]",
      "text/plain": [
       "<Figure size 432x288 with 1 Axes>"
      ]
     },
     "metadata": {
      "needs_background": "light"
     },
     "output_type": "display_data"
    }
   ],
   "source": [
    "df_num['LotArea'].plot(kind='hist', edgecolor='black')"
   ]
  },
  {
   "cell_type": "code",
   "execution_count": 14,
   "id": "59b56406",
   "metadata": {},
   "outputs": [
    {
     "data": {
      "text/html": [
       "<div>\n",
       "<style scoped>\n",
       "    .dataframe tbody tr th:only-of-type {\n",
       "        vertical-align: middle;\n",
       "    }\n",
       "\n",
       "    .dataframe tbody tr th {\n",
       "        vertical-align: top;\n",
       "    }\n",
       "\n",
       "    .dataframe thead th {\n",
       "        text-align: right;\n",
       "    }\n",
       "</style>\n",
       "<table border=\"1\" class=\"dataframe\">\n",
       "  <thead>\n",
       "    <tr style=\"text-align: right;\">\n",
       "      <th>LotArea</th>\n",
       "      <th>petit</th>\n",
       "      <th>moyen</th>\n",
       "    </tr>\n",
       "    <tr>\n",
       "      <th>SalePrice_label</th>\n",
       "      <th></th>\n",
       "      <th></th>\n",
       "    </tr>\n",
       "  </thead>\n",
       "  <tbody>\n",
       "    <tr>\n",
       "      <th>1</th>\n",
       "      <td>114</td>\n",
       "      <td>0</td>\n",
       "    </tr>\n",
       "    <tr>\n",
       "      <th>2</th>\n",
       "      <td>899</td>\n",
       "      <td>12</td>\n",
       "    </tr>\n",
       "    <tr>\n",
       "      <th>3</th>\n",
       "      <td>308</td>\n",
       "      <td>12</td>\n",
       "    </tr>\n",
       "    <tr>\n",
       "      <th>4</th>\n",
       "      <td>83</td>\n",
       "      <td>4</td>\n",
       "    </tr>\n",
       "    <tr>\n",
       "      <th>5</th>\n",
       "      <td>18</td>\n",
       "      <td>1</td>\n",
       "    </tr>\n",
       "    <tr>\n",
       "      <th>6</th>\n",
       "      <td>4</td>\n",
       "      <td>1</td>\n",
       "    </tr>\n",
       "    <tr>\n",
       "      <th>7</th>\n",
       "      <td>1</td>\n",
       "      <td>1</td>\n",
       "    </tr>\n",
       "    <tr>\n",
       "      <th>8</th>\n",
       "      <td>2</td>\n",
       "      <td>0</td>\n",
       "    </tr>\n",
       "  </tbody>\n",
       "</table>\n",
       "</div>"
      ],
      "text/plain": [
       "LotArea          petit  moyen\n",
       "SalePrice_label              \n",
       "1                  114      0\n",
       "2                  899     12\n",
       "3                  308     12\n",
       "4                   83      4\n",
       "5                   18      1\n",
       "6                    4      1\n",
       "7                    1      1\n",
       "8                    2      0"
      ]
     },
     "execution_count": 14,
     "metadata": {},
     "output_type": "execute_result"
    }
   ],
   "source": [
    "df_num_LotArea = pd.cut(x      = df_num['LotArea'],\n",
    "                  bins   = [0, 25000, 300000],\n",
    "                  labels = ['petit', 'moyen'])\n",
    "\n",
    "\n",
    "pd.crosstab(df_num['SalePrice_label'], df_num_LotArea)"
   ]
  },
  {
   "cell_type": "markdown",
   "id": "9461fc6e",
   "metadata": {},
   "source": [
    "### Discrétiser GarageCars"
   ]
  },
  {
   "cell_type": "code",
   "execution_count": 15,
   "id": "b25add04",
   "metadata": {},
   "outputs": [
    {
     "data": {
      "text/plain": [
       "<AxesSubplot:ylabel='Frequency'>"
      ]
     },
     "execution_count": 15,
     "metadata": {},
     "output_type": "execute_result"
    },
    {
     "data": {
      "image/png": "[encoded data removed]",
      "text/plain": [
       "<Figure size 432x288 with 1 Axes>"
      ]
     },
     "metadata": {
      "needs_background": "light"
     },
     "output_type": "display_data"
    }
   ],
   "source": [
    "df_num['GarageCars'].plot(kind='hist', edgecolor='black')"
   ]
  },
  {
   "cell_type": "code",
   "execution_count": 16,
   "id": "cec3050d",
   "metadata": {},
   "outputs": [
    {
     "data": {
      "text/html": [
       "<div>\n",
       "<style scoped>\n",
       "    .dataframe tbody tr th:only-of-type {\n",
       "        vertical-align: middle;\n",
       "    }\n",
       "\n",
       "    .dataframe tbody tr th {\n",
       "        vertical-align: top;\n",
       "    }\n",
       "\n",
       "    .dataframe thead th {\n",
       "        text-align: right;\n",
       "    }\n",
       "</style>\n",
       "<table border=\"1\" class=\"dataframe\">\n",
       "  <thead>\n",
       "    <tr style=\"text-align: right;\">\n",
       "      <th>GarageCars</th>\n",
       "      <th>petit</th>\n",
       "      <th>moyen</th>\n",
       "      <th>moyen+</th>\n",
       "    </tr>\n",
       "    <tr>\n",
       "      <th>SalePrice_label</th>\n",
       "      <th></th>\n",
       "      <th></th>\n",
       "      <th></th>\n",
       "    </tr>\n",
       "  </thead>\n",
       "  <tbody>\n",
       "    <tr>\n",
       "      <th>1</th>\n",
       "      <td>21</td>\n",
       "      <td>3</td>\n",
       "      <td>0</td>\n",
       "    </tr>\n",
       "    <tr>\n",
       "      <th>2</th>\n",
       "      <td>543</td>\n",
       "      <td>17</td>\n",
       "      <td>2</td>\n",
       "    </tr>\n",
       "    <tr>\n",
       "      <th>3</th>\n",
       "      <td>233</td>\n",
       "      <td>73</td>\n",
       "      <td>3</td>\n",
       "    </tr>\n",
       "    <tr>\n",
       "      <th>4</th>\n",
       "      <td>26</td>\n",
       "      <td>61</td>\n",
       "      <td>0</td>\n",
       "    </tr>\n",
       "    <tr>\n",
       "      <th>5</th>\n",
       "      <td>1</td>\n",
       "      <td>18</td>\n",
       "      <td>0</td>\n",
       "    </tr>\n",
       "    <tr>\n",
       "      <th>6</th>\n",
       "      <td>0</td>\n",
       "      <td>5</td>\n",
       "      <td>0</td>\n",
       "    </tr>\n",
       "    <tr>\n",
       "      <th>7</th>\n",
       "      <td>0</td>\n",
       "      <td>2</td>\n",
       "      <td>0</td>\n",
       "    </tr>\n",
       "    <tr>\n",
       "      <th>8</th>\n",
       "      <td>0</td>\n",
       "      <td>2</td>\n",
       "      <td>0</td>\n",
       "    </tr>\n",
       "  </tbody>\n",
       "</table>\n",
       "</div>"
      ],
      "text/plain": [
       "GarageCars       petit  moyen  moyen+\n",
       "SalePrice_label                      \n",
       "1                   21      3       0\n",
       "2                  543     17       2\n",
       "3                  233     73       3\n",
       "4                   26     61       0\n",
       "5                    1     18       0\n",
       "6                    0      5       0\n",
       "7                    0      2       0\n",
       "8                    0      2       0"
      ]
     },
     "execution_count": 16,
     "metadata": {},
     "output_type": "execute_result"
    }
   ],
   "source": [
    "df_num_GarageCars = pd.cut(x      = df_num['GarageCars'],\n",
    "                  bins   = [1, 2, 3, 4, 5],\n",
    "                  labels = ['petit', 'moyen', 'moyen+', 'grand'])\n",
    "\n",
    "\n",
    "pd.crosstab(df_num['SalePrice_label'], df_num_GarageCars)"
   ]
  },
  {
   "cell_type": "markdown",
   "id": "5c2cc6c8",
   "metadata": {},
   "source": [
    "## Dichotomisation"
   ]
  },
  {
   "cell_type": "code",
   "execution_count": 17,
   "id": "ee7e0221",
   "metadata": {},
   "outputs": [],
   "source": [
    "df_YearBuilt_dummies = pd.get_dummies(df_num_YearBuilt, prefix='YearBuilt')"
   ]
  },
  {
   "cell_type": "code",
   "execution_count": 18,
   "id": "53f102a6",
   "metadata": {},
   "outputs": [],
   "source": [
    "df_GrLivArea_dummies = pd.get_dummies(df_num_GrLivArea, prefix='GrLivArea')"
   ]
  },
  {
   "cell_type": "code",
   "execution_count": 19,
   "id": "e1131097",
   "metadata": {},
   "outputs": [],
   "source": [
    "df_LotArea_dummies = pd.get_dummies(df_num_LotArea, prefix='LotArea')"
   ]
  },
  {
   "cell_type": "code",
   "execution_count": 20,
   "id": "2bca615a",
   "metadata": {},
   "outputs": [],
   "source": [
    "df_GarageCars_dummies = pd.get_dummies(df_num_GarageCars, prefix='GarageCars')"
   ]
  },
  {
   "cell_type": "code",
   "execution_count": 21,
   "id": "16c6ca99",
   "metadata": {},
   "outputs": [
    {
     "data": {
      "text/html": [
       "<div>\n",
       "<style scoped>\n",
       "    .dataframe tbody tr th:only-of-type {\n",
       "        vertical-align: middle;\n",
       "    }\n",
       "\n",
       "    .dataframe tbody tr th {\n",
       "        vertical-align: top;\n",
       "    }\n",
       "\n",
       "    .dataframe thead th {\n",
       "        text-align: right;\n",
       "    }\n",
       "</style>\n",
       "<table border=\"1\" class=\"dataframe\">\n",
       "  <thead>\n",
       "    <tr style=\"text-align: right;\">\n",
       "      <th></th>\n",
       "      <th>GarageCars_petit</th>\n",
       "      <th>GarageCars_moyen</th>\n",
       "      <th>GarageCars_moyen+</th>\n",
       "      <th>GarageCars_grand</th>\n",
       "    </tr>\n",
       "  </thead>\n",
       "  <tbody>\n",
       "    <tr>\n",
       "      <th>0</th>\n",
       "      <td>1</td>\n",
       "      <td>0</td>\n",
       "      <td>0</td>\n",
       "      <td>0</td>\n",
       "    </tr>\n",
       "    <tr>\n",
       "      <th>1</th>\n",
       "      <td>1</td>\n",
       "      <td>0</td>\n",
       "      <td>0</td>\n",
       "      <td>0</td>\n",
       "    </tr>\n",
       "    <tr>\n",
       "      <th>2</th>\n",
       "      <td>1</td>\n",
       "      <td>0</td>\n",
       "      <td>0</td>\n",
       "      <td>0</td>\n",
       "    </tr>\n",
       "    <tr>\n",
       "      <th>3</th>\n",
       "      <td>0</td>\n",
       "      <td>1</td>\n",
       "      <td>0</td>\n",
       "      <td>0</td>\n",
       "    </tr>\n",
       "    <tr>\n",
       "      <th>4</th>\n",
       "      <td>0</td>\n",
       "      <td>1</td>\n",
       "      <td>0</td>\n",
       "      <td>0</td>\n",
       "    </tr>\n",
       "  </tbody>\n",
       "</table>\n",
       "</div>"
      ],
      "text/plain": [
       "   GarageCars_petit  GarageCars_moyen  GarageCars_moyen+  GarageCars_grand\n",
       "0                 1                 0                  0                 0\n",
       "1                 1                 0                  0                 0\n",
       "2                 1                 0                  0                 0\n",
       "3                 0                 1                  0                 0\n",
       "4                 0                 1                  0                 0"
      ]
     },
     "execution_count": 21,
     "metadata": {},
     "output_type": "execute_result"
    }
   ],
   "source": [
    "df_GarageCars_dummies.head()"
   ]
  },
  {
   "cell_type": "code",
   "execution_count": 22,
   "id": "52faf2c2",
   "metadata": {},
   "outputs": [],
   "source": [
    "df_num_prepared = df_num.join(df_YearBuilt_dummies).join(df_GrLivArea_dummies).join(df_LotArea_dummies).join(df_GarageCars_dummies)"
   ]
  },
  {
   "cell_type": "code",
   "execution_count": 23,
   "id": "c265ea90",
   "metadata": {},
   "outputs": [
    {
     "name": "stdout",
     "output_type": "stream",
     "text": [
      "<class 'pandas.core.frame.DataFrame'>\n",
      "RangeIndex: 1460 entries, 0 to 1459\n",
      "Data columns (total 24 columns):\n",
      " #   Column               Non-Null Count  Dtype\n",
      "---  ------               --------------  -----\n",
      " 0   LotArea              1460 non-null   int64\n",
      " 1   YearBuilt            1460 non-null   int64\n",
      " 2   GrLivArea            1460 non-null   int64\n",
      " 3   GarageCars           1460 non-null   int64\n",
      " 4   SalePrice_label      1460 non-null   int64\n",
      " 5   YearBuilt_ancien+++  1460 non-null   uint8\n",
      " 6   YearBuilt_ancien++   1460 non-null   uint8\n",
      " 7   YearBuilt_ancien+    1460 non-null   uint8\n",
      " 8   YearBuilt_ancien     1460 non-null   uint8\n",
      " 9   YearBuilt_recent     1460 non-null   uint8\n",
      " 10  YearBuilt_recent+    1460 non-null   uint8\n",
      " 11  YearBuilt_recent++   1460 non-null   uint8\n",
      " 12  YearBuilt_recent+++  1460 non-null   uint8\n",
      " 13  YearBuilt_top        1460 non-null   uint8\n",
      " 14  GrLivArea_petit      1460 non-null   uint8\n",
      " 15  GrLivArea_moyen      1460 non-null   uint8\n",
      " 16  GrLivArea_moyen+     1460 non-null   uint8\n",
      " 17  GrLivArea_moyen++    1460 non-null   uint8\n",
      " 18  LotArea_petit        1460 non-null   uint8\n",
      " 19  LotArea_moyen        1460 non-null   uint8\n",
      " 20  GarageCars_petit     1460 non-null   uint8\n",
      " 21  GarageCars_moyen     1460 non-null   uint8\n",
      " 22  GarageCars_moyen+    1460 non-null   uint8\n",
      " 23  GarageCars_grand     1460 non-null   uint8\n",
      "dtypes: int64(5), uint8(19)\n",
      "memory usage: 84.2 KB\n"
     ]
    }
   ],
   "source": [
    "df_num_prepared.info()"
   ]
  },
  {
   "cell_type": "markdown",
   "id": "528ddf33",
   "metadata": {},
   "source": [
    "### Evolution du modèle"
   ]
  },
  {
   "cell_type": "code",
   "execution_count": 24,
   "id": "1399297b",
   "metadata": {},
   "outputs": [],
   "source": [
    "data = df_num_prepared.iloc[:,4:]\n",
    "\n",
    "target = df_num_prepared['SalePrice_label']"
   ]
  },
  {
   "cell_type": "code",
   "execution_count": 25,
   "id": "b8d6df8b",
   "metadata": {},
   "outputs": [],
   "source": [
    "X_train, X_test, y_train, y_test = train_test_split(data, target, test_size = 0.2, random_state = 66) "
   ]
  },
  {
   "cell_type": "code",
   "execution_count": 26,
   "id": "c53c6a61",
   "metadata": {},
   "outputs": [
    {
     "data": {
      "text/plain": [
       "LogisticRegression(max_iter=1000)"
      ]
     },
     "execution_count": 26,
     "metadata": {},
     "output_type": "execute_result"
    }
   ],
   "source": [
    "clf = linear_model.LogisticRegression(C = 1.0, max_iter=1000)\n",
    "clf.fit(X_train, y_train)"
   ]
  },
  {
   "cell_type": "code",
   "execution_count": 27,
   "id": "eac4a1be",
   "metadata": {},
   "outputs": [
    {
     "name": "stdout",
     "output_type": "stream",
     "text": [
      "[[ 22   0   0   0   0   0   0]\n",
      " [  0 192   0   0   0   0   0]\n",
      " [  0   0  57   0   0   0   0]\n",
      " [  0   0   1  15   0   0   0]\n",
      " [  0   0   0   3   0   0   0]\n",
      " [  0   0   0   1   0   0   0]\n",
      " [  0   0   0   0   1   0   0]]\n"
     ]
    }
   ],
   "source": [
    "y_pred = clf.predict(X_test)\n",
    "\n",
    "from sklearn.metrics import confusion_matrix \n",
    "\n",
    "cm = confusion_matrix(y_test,y_pred)\n",
    "print(cm)"
   ]
  },
  {
   "cell_type": "code",
   "execution_count": 28,
   "id": "7f0edc6c",
   "metadata": {},
   "outputs": [
    {
     "data": {
      "text/html": [
       "<div>\n",
       "<style scoped>\n",
       "    .dataframe tbody tr th:only-of-type {\n",
       "        vertical-align: middle;\n",
       "    }\n",
       "\n",
       "    .dataframe tbody tr th {\n",
       "        vertical-align: top;\n",
       "    }\n",
       "\n",
       "    .dataframe thead th {\n",
       "        text-align: right;\n",
       "    }\n",
       "</style>\n",
       "<table border=\"1\" class=\"dataframe\">\n",
       "  <thead>\n",
       "    <tr style=\"text-align: right;\">\n",
       "      <th>Classe prédite</th>\n",
       "      <th>1</th>\n",
       "      <th>2</th>\n",
       "      <th>3</th>\n",
       "      <th>4</th>\n",
       "      <th>5</th>\n",
       "    </tr>\n",
       "    <tr>\n",
       "      <th>Classe réelle</th>\n",
       "      <th></th>\n",
       "      <th></th>\n",
       "      <th></th>\n",
       "      <th></th>\n",
       "      <th></th>\n",
       "    </tr>\n",
       "  </thead>\n",
       "  <tbody>\n",
       "    <tr>\n",
       "      <th>1</th>\n",
       "      <td>22</td>\n",
       "      <td>0</td>\n",
       "      <td>0</td>\n",
       "      <td>0</td>\n",
       "      <td>0</td>\n",
       "    </tr>\n",
       "    <tr>\n",
       "      <th>2</th>\n",
       "      <td>0</td>\n",
       "      <td>192</td>\n",
       "      <td>0</td>\n",
       "      <td>0</td>\n",
       "      <td>0</td>\n",
       "    </tr>\n",
       "    <tr>\n",
       "      <th>3</th>\n",
       "      <td>0</td>\n",
       "      <td>0</td>\n",
       "      <td>57</td>\n",
       "      <td>0</td>\n",
       "      <td>0</td>\n",
       "    </tr>\n",
       "    <tr>\n",
       "      <th>4</th>\n",
       "      <td>0</td>\n",
       "      <td>0</td>\n",
       "      <td>1</td>\n",
       "      <td>15</td>\n",
       "      <td>0</td>\n",
       "    </tr>\n",
       "    <tr>\n",
       "      <th>5</th>\n",
       "      <td>0</td>\n",
       "      <td>0</td>\n",
       "      <td>0</td>\n",
       "      <td>3</td>\n",
       "      <td>0</td>\n",
       "    </tr>\n",
       "    <tr>\n",
       "      <th>6</th>\n",
       "      <td>0</td>\n",
       "      <td>0</td>\n",
       "      <td>0</td>\n",
       "      <td>1</td>\n",
       "      <td>0</td>\n",
       "    </tr>\n",
       "    <tr>\n",
       "      <th>7</th>\n",
       "      <td>0</td>\n",
       "      <td>0</td>\n",
       "      <td>0</td>\n",
       "      <td>0</td>\n",
       "      <td>1</td>\n",
       "    </tr>\n",
       "  </tbody>\n",
       "</table>\n",
       "</div>"
      ],
      "text/plain": [
       "Classe prédite   1    2   3   4  5\n",
       "Classe réelle                     \n",
       "1               22    0   0   0  0\n",
       "2                0  192   0   0  0\n",
       "3                0    0  57   0  0\n",
       "4                0    0   1  15  0\n",
       "5                0    0   0   3  0\n",
       "6                0    0   0   1  0\n",
       "7                0    0   0   0  1"
      ]
     },
     "execution_count": 28,
     "metadata": {},
     "output_type": "execute_result"
    }
   ],
   "source": [
    "cm = pd.crosstab(y_test, y_pred, rownames=['Classe réelle'], colnames=['Classe prédite'])\n",
    "cm"
   ]
  },
  {
   "cell_type": "code",
   "execution_count": 29,
   "id": "4a7e1676",
   "metadata": {},
   "outputs": [
    {
     "data": {
      "text/plain": [
       "0.9794520547945206"
      ]
     },
     "execution_count": 29,
     "metadata": {},
     "output_type": "execute_result"
    }
   ],
   "source": [
    "clf.score(X_test, y_test)"
   ]
  },
  {
   "cell_type": "code",
   "execution_count": 30,
   "id": "49810da3",
   "metadata": {},
   "outputs": [
    {
     "name": "stdout",
     "output_type": "stream",
     "text": [
      "              precision    recall  f1-score   support\n",
      "\n",
      "           1       1.00      1.00      1.00        22\n",
      "           2       1.00      1.00      1.00       192\n",
      "           3       0.98      1.00      0.99        57\n",
      "           4       0.79      0.94      0.86        16\n",
      "           5       0.00      0.00      0.00         3\n",
      "           6       0.00      0.00      0.00         1\n",
      "           7       0.00      0.00      0.00         1\n",
      "\n",
      "    accuracy                           0.98       292\n",
      "   macro avg       0.54      0.56      0.55       292\n",
      "weighted avg       0.97      0.98      0.97       292\n",
      "\n"
     ]
    },
    {
     "name": "stderr",
     "output_type": "stream",
     "text": [
      "C:\\ProgramData\\Anaconda3\\lib\\site-packages\\sklearn\\metrics\\_classification.py:1245: UndefinedMetricWarning: Precision and F-score are ill-defined and being set to 0.0 in labels with no predicted samples. Use `zero_division` parameter to control this behavior.\n",
      "  _warn_prf(average, modifier, msg_start, len(result))\n",
      "C:\\ProgramData\\Anaconda3\\lib\\site-packages\\sklearn\\metrics\\_classification.py:1245: UndefinedMetricWarning: Precision and F-score are ill-defined and being set to 0.0 in labels with no predicted samples. Use `zero_division` parameter to control this behavior.\n",
      "  _warn_prf(average, modifier, msg_start, len(result))\n",
      "C:\\ProgramData\\Anaconda3\\lib\\site-packages\\sklearn\\metrics\\_classification.py:1245: UndefinedMetricWarning: Precision and F-score are ill-defined and being set to 0.0 in labels with no predicted samples. Use `zero_division` parameter to control this behavior.\n",
      "  _warn_prf(average, modifier, msg_start, len(result))\n"
     ]
    }
   ],
   "source": [
    "from sklearn.metrics import classification_report\n",
    "\n",
    "print(classification_report(y_test, y_pred))"
   ]
  },
  {
   "cell_type": "markdown",
   "id": "6b54fc54",
   "metadata": {},
   "source": [
    "### Courbe ROC"
   ]
  },
  {
   "cell_type": "code",
   "execution_count": 31,
   "id": "92644f1c",
   "metadata": {},
   "outputs": [],
   "source": [
    "probs = clf.predict_proba(X_test)"
   ]
  },
  {
   "cell_type": "code",
   "execution_count": 32,
   "id": "18f897d2",
   "metadata": {},
   "outputs": [],
   "source": [
    "from sklearn.metrics import roc_curve, auc\n",
    "fpr, tpr, seuils = roc_curve(y_test, probs[:,1], pos_label=1)\n",
    "\n",
    "roc_auc = auc(fpr, tpr)"
   ]
  },
  {
   "cell_type": "code",
   "execution_count": 33,
   "id": "4df7e758",
   "metadata": {},
   "outputs": [
    {
     "data": {
      "image/png": "[encoded data removed]",
      "text/plain": [
       "<Figure size 432x288 with 1 Axes>"
      ]
     },
     "metadata": {
      "needs_background": "light"
     },
     "output_type": "display_data"
    }
   ],
   "source": [
    "import matplotlib.pyplot as plt\n",
    "\n",
    "plt.plot(fpr, tpr, color='orange',\n",
    "         lw=2, label='Modèle clf (auc = %0.2f)' % roc_auc)\n",
    "plt.plot([0, 1], [0, 1], color='navy', lw=2, linestyle='--', label='Aléatoire (auc = 0.5)')\n",
    "plt.xlim([0.0, 1.0])\n",
    "plt.ylim([0.0, 1.05])\n",
    "plt.xlabel('Taux faux positifs')\n",
    "plt.ylabel('Taux vrais positifs')\n",
    "plt.title('Courbe ROC')\n",
    "plt.legend(loc=\"lower right\")\n",
    "plt.show()"
   ]
  },
  {
   "cell_type": "markdown",
   "id": "7262e9b2",
   "metadata": {},
   "source": [
    "## SVM"
   ]
  },
  {
   "cell_type": "code",
   "execution_count": 34,
   "id": "4d976b64",
   "metadata": {},
   "outputs": [],
   "source": [
    "from sklearn import svm"
   ]
  },
  {
   "cell_type": "code",
   "execution_count": 35,
   "id": "07eeb4ad",
   "metadata": {},
   "outputs": [
    {
     "data": {
      "text/plain": [
       "SVC(gamma=0.01, kernel='poly')"
      ]
     },
     "execution_count": 35,
     "metadata": {},
     "output_type": "execute_result"
    }
   ],
   "source": [
    "clf = svm.SVC(gamma=0.01,  kernel='poly')\n",
    "clf.fit(X_train, y_train)"
   ]
  },
  {
   "cell_type": "code",
   "execution_count": 36,
   "id": "bfaa59bb",
   "metadata": {},
   "outputs": [
    {
     "data": {
      "text/plain": [
       "0.6575342465753424"
      ]
     },
     "execution_count": 36,
     "metadata": {},
     "output_type": "execute_result"
    }
   ],
   "source": [
    "clf.score(X_test, y_test)"
   ]
  },
  {
   "cell_type": "code",
   "execution_count": null,
   "id": "6fc479e5",
   "metadata": {},
   "outputs": [],
   "source": []
  },
  {
   "cell_type": "code",
   "execution_count": null,
   "id": "85f41f3c",
   "metadata": {},
   "outputs": [],
   "source": []
  },
  {
   "cell_type": "code",
   "execution_count": null,
   "id": "5945c971",
   "metadata": {},
   "outputs": [],
   "source": []
  }
 ],
 "metadata": {
  "kernelspec": {
   "display_name": "Python 3",
   "language": "python",
   "name": "python3"
  },
  "language_info": {
   "codemirror_mode": {
    "name": "ipython",
    "version": 3
   },
   "file_extension": ".py",
   "mimetype": "text/x-python",
   "name": "python",
   "nbconvert_exporter": "python",
   "pygments_lexer": "ipython3",
   "version": "3.8.8"
  }
 },
 "nbformat": 4,
 "nbformat_minor": 5
}
