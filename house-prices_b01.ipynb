{
 "cells": [
  {
   "cell_type": "code",
   "execution_count": 1,
   "id": "bc244ec8",
   "metadata": {},
   "outputs": [],
   "source": [
    "%matplotlib inline\n",
    "\n",
    "import numpy as np\n",
    "import pandas as pd\n",
    "\n",
    "from sklearn import linear_model, preprocessing\n",
    "from sklearn.model_selection import train_test_split"
   ]
  },
  {
   "cell_type": "code",
   "execution_count": 2,
   "id": "bd528ff3",
   "metadata": {},
   "outputs": [
    {
     "name": "stderr",
     "output_type": "stream",
     "text": [
      "C:\\Users\\kjpb767\\AppData\\Local\\Temp\\ipykernel_47032\\2652454371.py:1: DtypeWarning: Columns (6,74) have mixed types. Specify dtype option on import or set low_memory=False.\n",
      "  df = pd.read_csv(\"./dataset/train_label_balanced.csv\")\n"
     ]
    },
    {
     "data": {
      "text/plain": [
       "(13550, 81)"
      ]
     },
     "execution_count": 2,
     "metadata": {},
     "output_type": "execute_result"
    }
   ],
   "source": [
    "df = pd.read_csv(\"./dataset/train_label_balanced.csv\")\n",
    "df.shape"
   ]
  },
  {
   "cell_type": "code",
   "execution_count": 3,
   "id": "828f166c",
   "metadata": {},
   "outputs": [
    {
     "data": {
      "text/html": [
       "<div>\n",
       "<style scoped>\n",
       "    .dataframe tbody tr th:only-of-type {\n",
       "        vertical-align: middle;\n",
       "    }\n",
       "\n",
       "    .dataframe tbody tr th {\n",
       "        vertical-align: top;\n",
       "    }\n",
       "\n",
       "    .dataframe thead th {\n",
       "        text-align: right;\n",
       "    }\n",
       "</style>\n",
       "<table border=\"1\" class=\"dataframe\">\n",
       "  <thead>\n",
       "    <tr style=\"text-align: right;\">\n",
       "      <th></th>\n",
       "      <th>Id</th>\n",
       "      <th>MSSubClass</th>\n",
       "      <th>MSZoning</th>\n",
       "      <th>LotFrontage</th>\n",
       "      <th>LotArea</th>\n",
       "      <th>Street</th>\n",
       "      <th>Alley</th>\n",
       "      <th>LotShape</th>\n",
       "      <th>LandContour</th>\n",
       "      <th>Utilities</th>\n",
       "      <th>...</th>\n",
       "      <th>PoolArea</th>\n",
       "      <th>PoolQC</th>\n",
       "      <th>Fence</th>\n",
       "      <th>MiscFeature</th>\n",
       "      <th>MiscVal</th>\n",
       "      <th>MoSold</th>\n",
       "      <th>YrSold</th>\n",
       "      <th>SaleType</th>\n",
       "      <th>SaleCondition</th>\n",
       "      <th>SalePrice_label</th>\n",
       "    </tr>\n",
       "  </thead>\n",
       "  <tbody>\n",
       "    <tr>\n",
       "      <th>0</th>\n",
       "      <td>31</td>\n",
       "      <td>70</td>\n",
       "      <td>C (all)</td>\n",
       "      <td>50.0</td>\n",
       "      <td>8500</td>\n",
       "      <td>Pave</td>\n",
       "      <td>Pave</td>\n",
       "      <td>Reg</td>\n",
       "      <td>Lvl</td>\n",
       "      <td>AllPub</td>\n",
       "      <td>...</td>\n",
       "      <td>0</td>\n",
       "      <td>NaN</td>\n",
       "      <td>MnPrv</td>\n",
       "      <td>NaN</td>\n",
       "      <td>0</td>\n",
       "      <td>7</td>\n",
       "      <td>2008</td>\n",
       "      <td>WD</td>\n",
       "      <td>Normal</td>\n",
       "      <td>1</td>\n",
       "    </tr>\n",
       "    <tr>\n",
       "      <th>1</th>\n",
       "      <td>496</td>\n",
       "      <td>30</td>\n",
       "      <td>C (all)</td>\n",
       "      <td>60.0</td>\n",
       "      <td>7879</td>\n",
       "      <td>Pave</td>\n",
       "      <td>NaN</td>\n",
       "      <td>Reg</td>\n",
       "      <td>Lvl</td>\n",
       "      <td>AllPub</td>\n",
       "      <td>...</td>\n",
       "      <td>0</td>\n",
       "      <td>NaN</td>\n",
       "      <td>GdWo</td>\n",
       "      <td>NaN</td>\n",
       "      <td>0</td>\n",
       "      <td>11</td>\n",
       "      <td>2009</td>\n",
       "      <td>WD</td>\n",
       "      <td>Abnorml</td>\n",
       "      <td>1</td>\n",
       "    </tr>\n",
       "    <tr>\n",
       "      <th>2</th>\n",
       "      <td>534</td>\n",
       "      <td>20</td>\n",
       "      <td>RL</td>\n",
       "      <td>50.0</td>\n",
       "      <td>5000</td>\n",
       "      <td>Pave</td>\n",
       "      <td>NaN</td>\n",
       "      <td>Reg</td>\n",
       "      <td>Low</td>\n",
       "      <td>AllPub</td>\n",
       "      <td>...</td>\n",
       "      <td>0</td>\n",
       "      <td>NaN</td>\n",
       "      <td>NaN</td>\n",
       "      <td>NaN</td>\n",
       "      <td>0</td>\n",
       "      <td>1</td>\n",
       "      <td>2007</td>\n",
       "      <td>WD</td>\n",
       "      <td>Normal</td>\n",
       "      <td>1</td>\n",
       "    </tr>\n",
       "    <tr>\n",
       "      <th>3</th>\n",
       "      <td>917</td>\n",
       "      <td>20</td>\n",
       "      <td>C (all)</td>\n",
       "      <td>50.0</td>\n",
       "      <td>9000</td>\n",
       "      <td>Pave</td>\n",
       "      <td>NaN</td>\n",
       "      <td>Reg</td>\n",
       "      <td>Lvl</td>\n",
       "      <td>AllPub</td>\n",
       "      <td>...</td>\n",
       "      <td>0</td>\n",
       "      <td>NaN</td>\n",
       "      <td>NaN</td>\n",
       "      <td>NaN</td>\n",
       "      <td>0</td>\n",
       "      <td>10</td>\n",
       "      <td>2006</td>\n",
       "      <td>WD</td>\n",
       "      <td>Abnorml</td>\n",
       "      <td>1</td>\n",
       "    </tr>\n",
       "    <tr>\n",
       "      <th>4</th>\n",
       "      <td>969</td>\n",
       "      <td>50</td>\n",
       "      <td>RM</td>\n",
       "      <td>50.0</td>\n",
       "      <td>5925</td>\n",
       "      <td>Pave</td>\n",
       "      <td>NaN</td>\n",
       "      <td>Reg</td>\n",
       "      <td>Lvl</td>\n",
       "      <td>AllPub</td>\n",
       "      <td>...</td>\n",
       "      <td>0</td>\n",
       "      <td>NaN</td>\n",
       "      <td>GdWo</td>\n",
       "      <td>NaN</td>\n",
       "      <td>0</td>\n",
       "      <td>5</td>\n",
       "      <td>2009</td>\n",
       "      <td>WD</td>\n",
       "      <td>Abnorml</td>\n",
       "      <td>1</td>\n",
       "    </tr>\n",
       "  </tbody>\n",
       "</table>\n",
       "<p>5 rows × 81 columns</p>\n",
       "</div>"
      ],
      "text/plain": [
       "    Id  MSSubClass MSZoning  LotFrontage  LotArea Street Alley LotShape  \\\n",
       "0   31          70  C (all)         50.0     8500   Pave  Pave      Reg   \n",
       "1  496          30  C (all)         60.0     7879   Pave   NaN      Reg   \n",
       "2  534          20       RL         50.0     5000   Pave   NaN      Reg   \n",
       "3  917          20  C (all)         50.0     9000   Pave   NaN      Reg   \n",
       "4  969          50       RM         50.0     5925   Pave   NaN      Reg   \n",
       "\n",
       "  LandContour Utilities  ... PoolArea PoolQC  Fence MiscFeature MiscVal  \\\n",
       "0         Lvl    AllPub  ...        0    NaN  MnPrv         NaN       0   \n",
       "1         Lvl    AllPub  ...        0    NaN   GdWo         NaN       0   \n",
       "2         Low    AllPub  ...        0    NaN    NaN         NaN       0   \n",
       "3         Lvl    AllPub  ...        0    NaN    NaN         NaN       0   \n",
       "4         Lvl    AllPub  ...        0    NaN   GdWo         NaN       0   \n",
       "\n",
       "  MoSold YrSold  SaleType  SaleCondition  SalePrice_label  \n",
       "0      7   2008        WD         Normal                1  \n",
       "1     11   2009        WD        Abnorml                1  \n",
       "2      1   2007        WD         Normal                1  \n",
       "3     10   2006        WD        Abnorml                1  \n",
       "4      5   2009        WD        Abnorml                1  \n",
       "\n",
       "[5 rows x 81 columns]"
      ]
     },
     "execution_count": 3,
     "metadata": {},
     "output_type": "execute_result"
    }
   ],
   "source": [
    "#df = df.loc[df['SalePrice_label'].between(6, 8)]\n",
    "df.head()"
   ]
  },
  {
   "cell_type": "code",
   "execution_count": 4,
   "id": "119e6cdc",
   "metadata": {},
   "outputs": [
    {
     "data": {
      "text/plain": [
       "<AxesSubplot:ylabel='Frequency'>"
      ]
     },
     "execution_count": 4,
     "metadata": {},
     "output_type": "execute_result"
    },
    {
     "data": {
      "image/png": "[encoded data removed]",
      "text/plain": [
       "<Figure size 432x288 with 1 Axes>"
      ]
     },
     "metadata": {
      "needs_background": "light"
     },
     "output_type": "display_data"
    }
   ],
   "source": [
    "df['SalePrice_label'].plot(kind='hist', edgecolor='black') # "
   ]
  },
  {
   "cell_type": "code",
   "execution_count": 5,
   "id": "b121365b",
   "metadata": {},
   "outputs": [
    {
     "data": {
      "image/png": "[encoded data removed]",
      "text/plain": [
       "<Figure size 432x288 with 1 Axes>"
      ]
     },
     "metadata": {
      "needs_background": "light"
     },
     "output_type": "display_data"
    }
   ],
   "source": [
    "df.plot.scatter(x = 'SalePrice_label', y = 'YearBuilt', s = 100);"
   ]
  },
  {
   "cell_type": "code",
   "execution_count": 6,
   "id": "f20fdc74",
   "metadata": {},
   "outputs": [
    {
     "data": {
      "text/plain": [
       "\"\\ndf.drop(df[(df['YearBuilt'] < 1900) & (df['SalePrice_label'] == 6)].index, inplace=True)\\ndf.drop(df[(df['YearBuilt'] < 1900) & (df['SalePrice_label'] == 7)].index, inplace=True)\\ndf.drop(df[(df['YearBuilt'] < 1900) & (df['SalePrice_label'] == 10)].index, inplace=True)\\ndf.plot.scatter(x = 'SalePrice_label', y = 'YearBuilt', s = 100);\\n\""
      ]
     },
     "execution_count": 6,
     "metadata": {},
     "output_type": "execute_result"
    }
   ],
   "source": [
    "# Outilers\n",
    "'''\n",
    "df.drop(df[(df['YearBuilt'] < 1900) & (df['SalePrice_label'] == 6)].index, inplace=True)\n",
    "df.drop(df[(df['YearBuilt'] < 1900) & (df['SalePrice_label'] == 7)].index, inplace=True)\n",
    "df.drop(df[(df['YearBuilt'] < 1900) & (df['SalePrice_label'] == 10)].index, inplace=True)\n",
    "df.plot.scatter(x = 'SalePrice_label', y = 'YearBuilt', s = 100);\n",
    "'''"
   ]
  },
  {
   "cell_type": "code",
   "execution_count": 7,
   "id": "3a13dbc9",
   "metadata": {
    "scrolled": true
   },
   "outputs": [
    {
     "name": "stdout",
     "output_type": "stream",
     "text": [
      "<class 'pandas.core.frame.DataFrame'>\n",
      "RangeIndex: 13550 entries, 0 to 13549\n",
      "Data columns (total 81 columns):\n",
      " #   Column           Non-Null Count  Dtype  \n",
      "---  ------           --------------  -----  \n",
      " 0   Id               13550 non-null  int64  \n",
      " 1   MSSubClass       13550 non-null  int64  \n",
      " 2   MSZoning         13550 non-null  object \n",
      " 3   LotFrontage      12326 non-null  float64\n",
      " 4   LotArea          13550 non-null  int64  \n",
      " 5   Street           13550 non-null  object \n",
      " 6   Alley            524 non-null    object \n",
      " 7   LotShape         13550 non-null  object \n",
      " 8   LandContour      13550 non-null  object \n",
      " 9   Utilities        13550 non-null  object \n",
      " 10  LotConfig        13550 non-null  object \n",
      " 11  LandSlope        13550 non-null  object \n",
      " 12  Neighborhood     13550 non-null  object \n",
      " 13  Condition1       13550 non-null  object \n",
      " 14  Condition2       13550 non-null  object \n",
      " 15  BldgType         13550 non-null  object \n",
      " 16  HouseStyle       13550 non-null  object \n",
      " 17  OverallQual      13550 non-null  int64  \n",
      " 18  OverallCond      13550 non-null  int64  \n",
      " 19  YearBuilt        13550 non-null  int64  \n",
      " 20  YearRemodAdd     13550 non-null  int64  \n",
      " 21  RoofStyle        13550 non-null  object \n",
      " 22  RoofMatl         13550 non-null  object \n",
      " 23  Exterior1st      13550 non-null  object \n",
      " 24  Exterior2nd      13550 non-null  object \n",
      " 25  MasVnrType       13272 non-null  object \n",
      " 26  MasVnrArea       13272 non-null  float64\n",
      " 27  ExterQual        13550 non-null  object \n",
      " 28  ExterCond        13550 non-null  object \n",
      " 29  Foundation       13550 non-null  object \n",
      " 30  BsmtQual         13126 non-null  object \n",
      " 31  BsmtCond         13126 non-null  object \n",
      " 32  BsmtExposure     13124 non-null  object \n",
      " 33  BsmtFinType1     13126 non-null  object \n",
      " 34  BsmtFinSF1       13550 non-null  int64  \n",
      " 35  BsmtFinType2     13118 non-null  object \n",
      " 36  BsmtFinSF2       13550 non-null  int64  \n",
      " 37  BsmtUnfSF        13550 non-null  int64  \n",
      " 38  TotalBsmtSF      13550 non-null  int64  \n",
      " 39  Heating          13550 non-null  object \n",
      " 40  HeatingQC        13550 non-null  object \n",
      " 41  CentralAir       13550 non-null  object \n",
      " 42  Electrical       13548 non-null  object \n",
      " 43  1stFlrSF         13550 non-null  int64  \n",
      " 44  2ndFlrSF         13550 non-null  int64  \n",
      " 45  LowQualFinSF     13550 non-null  int64  \n",
      " 46  GrLivArea        13550 non-null  int64  \n",
      " 47  BsmtFullBath     13550 non-null  int64  \n",
      " 48  BsmtHalfBath     13550 non-null  int64  \n",
      " 49  FullBath         13550 non-null  int64  \n",
      " 50  HalfBath         13550 non-null  int64  \n",
      " 51  BedroomAbvGr     13550 non-null  int64  \n",
      " 52  KitchenAbvGr     13550 non-null  int64  \n",
      " 53  KitchenQual      13550 non-null  object \n",
      " 54  TotRmsAbvGrd     13550 non-null  int64  \n",
      " 55  Functional       13550 non-null  object \n",
      " 56  Fireplaces       13550 non-null  int64  \n",
      " 57  FireplaceQu      10078 non-null  object \n",
      " 58  GarageType       12400 non-null  object \n",
      " 59  GarageYrBlt      12400 non-null  float64\n",
      " 60  GarageFinish     12400 non-null  object \n",
      " 61  GarageCars       13550 non-null  int64  \n",
      " 62  GarageArea       13550 non-null  int64  \n",
      " 63  GarageQual       12400 non-null  object \n",
      " 64  GarageCond       12400 non-null  object \n",
      " 65  PavedDrive       13550 non-null  object \n",
      " 66  WoodDeckSF       13550 non-null  int64  \n",
      " 67  OpenPorchSF      13550 non-null  int64  \n",
      " 68  EnclosedPorch    13550 non-null  int64  \n",
      " 69  3SsnPorch        13550 non-null  int64  \n",
      " 70  ScreenPorch      13550 non-null  int64  \n",
      " 71  PoolArea         13550 non-null  int64  \n",
      " 72  PoolQC           1050 non-null   object \n",
      " 73  Fence            2870 non-null   object \n",
      " 74  MiscFeature      194 non-null    object \n",
      " 75  MiscVal          13550 non-null  int64  \n",
      " 76  MoSold           13550 non-null  int64  \n",
      " 77  YrSold           13550 non-null  int64  \n",
      " 78  SaleType         13550 non-null  object \n",
      " 79  SaleCondition    13550 non-null  object \n",
      " 80  SalePrice_label  13550 non-null  int64  \n",
      "dtypes: float64(3), int64(35), object(43)\n",
      "memory usage: 8.4+ MB\n"
     ]
    }
   ],
   "source": [
    "df.info()"
   ]
  },
  {
   "cell_type": "code",
   "execution_count": 8,
   "id": "8371107b",
   "metadata": {},
   "outputs": [],
   "source": [
    "df_num = df.select_dtypes(include='number')"
   ]
  },
  {
   "cell_type": "code",
   "execution_count": 9,
   "id": "073021d8",
   "metadata": {
    "scrolled": true
   },
   "outputs": [
    {
     "name": "stdout",
     "output_type": "stream",
     "text": [
      "<class 'pandas.core.frame.DataFrame'>\n",
      "RangeIndex: 13550 entries, 0 to 13549\n",
      "Data columns (total 38 columns):\n",
      " #   Column           Non-Null Count  Dtype  \n",
      "---  ------           --------------  -----  \n",
      " 0   Id               13550 non-null  int64  \n",
      " 1   MSSubClass       13550 non-null  int64  \n",
      " 2   LotFrontage      12326 non-null  float64\n",
      " 3   LotArea          13550 non-null  int64  \n",
      " 4   OverallQual      13550 non-null  int64  \n",
      " 5   OverallCond      13550 non-null  int64  \n",
      " 6   YearBuilt        13550 non-null  int64  \n",
      " 7   YearRemodAdd     13550 non-null  int64  \n",
      " 8   MasVnrArea       13272 non-null  float64\n",
      " 9   BsmtFinSF1       13550 non-null  int64  \n",
      " 10  BsmtFinSF2       13550 non-null  int64  \n",
      " 11  BsmtUnfSF        13550 non-null  int64  \n",
      " 12  TotalBsmtSF      13550 non-null  int64  \n",
      " 13  1stFlrSF         13550 non-null  int64  \n",
      " 14  2ndFlrSF         13550 non-null  int64  \n",
      " 15  LowQualFinSF     13550 non-null  int64  \n",
      " 16  GrLivArea        13550 non-null  int64  \n",
      " 17  BsmtFullBath     13550 non-null  int64  \n",
      " 18  BsmtHalfBath     13550 non-null  int64  \n",
      " 19  FullBath         13550 non-null  int64  \n",
      " 20  HalfBath         13550 non-null  int64  \n",
      " 21  BedroomAbvGr     13550 non-null  int64  \n",
      " 22  KitchenAbvGr     13550 non-null  int64  \n",
      " 23  TotRmsAbvGrd     13550 non-null  int64  \n",
      " 24  Fireplaces       13550 non-null  int64  \n",
      " 25  GarageYrBlt      12400 non-null  float64\n",
      " 26  GarageCars       13550 non-null  int64  \n",
      " 27  GarageArea       13550 non-null  int64  \n",
      " 28  WoodDeckSF       13550 non-null  int64  \n",
      " 29  OpenPorchSF      13550 non-null  int64  \n",
      " 30  EnclosedPorch    13550 non-null  int64  \n",
      " 31  3SsnPorch        13550 non-null  int64  \n",
      " 32  ScreenPorch      13550 non-null  int64  \n",
      " 33  PoolArea         13550 non-null  int64  \n",
      " 34  MiscVal          13550 non-null  int64  \n",
      " 35  MoSold           13550 non-null  int64  \n",
      " 36  YrSold           13550 non-null  int64  \n",
      " 37  SalePrice_label  13550 non-null  int64  \n",
      "dtypes: float64(3), int64(35)\n",
      "memory usage: 3.9 MB\n"
     ]
    }
   ],
   "source": [
    "df_num.info()"
   ]
  },
  {
   "cell_type": "code",
   "execution_count": 10,
   "id": "5fbd9906",
   "metadata": {},
   "outputs": [
    {
     "data": {
      "text/plain": [
       "(13550, 38)"
      ]
     },
     "execution_count": 10,
     "metadata": {},
     "output_type": "execute_result"
    }
   ],
   "source": [
    "#df_num = df_num.dropna()\n",
    "#df_num.shape\n",
    "\n",
    "df_num.fillna(df_num.mean(), inplace=True)\n",
    "df_num.shape"
   ]
  },
  {
   "cell_type": "code",
   "execution_count": 11,
   "id": "465321fc",
   "metadata": {},
   "outputs": [
    {
     "data": {
      "text/html": [
       "<div>\n",
       "<style scoped>\n",
       "    .dataframe tbody tr th:only-of-type {\n",
       "        vertical-align: middle;\n",
       "    }\n",
       "\n",
       "    .dataframe tbody tr th {\n",
       "        vertical-align: top;\n",
       "    }\n",
       "\n",
       "    .dataframe thead th {\n",
       "        text-align: right;\n",
       "    }\n",
       "</style>\n",
       "<table border=\"1\" class=\"dataframe\">\n",
       "  <thead>\n",
       "    <tr style=\"text-align: right;\">\n",
       "      <th></th>\n",
       "      <th>LotArea</th>\n",
       "      <th>YearBuilt</th>\n",
       "      <th>GrLivArea</th>\n",
       "      <th>GarageCars</th>\n",
       "      <th>SalePrice_label</th>\n",
       "    </tr>\n",
       "  </thead>\n",
       "  <tbody>\n",
       "    <tr>\n",
       "      <th>0</th>\n",
       "      <td>8500</td>\n",
       "      <td>1920</td>\n",
       "      <td>1317</td>\n",
       "      <td>1</td>\n",
       "      <td>1</td>\n",
       "    </tr>\n",
       "    <tr>\n",
       "      <th>1</th>\n",
       "      <td>7879</td>\n",
       "      <td>1920</td>\n",
       "      <td>720</td>\n",
       "      <td>0</td>\n",
       "      <td>1</td>\n",
       "    </tr>\n",
       "    <tr>\n",
       "      <th>2</th>\n",
       "      <td>5000</td>\n",
       "      <td>1946</td>\n",
       "      <td>334</td>\n",
       "      <td>0</td>\n",
       "      <td>1</td>\n",
       "    </tr>\n",
       "    <tr>\n",
       "      <th>3</th>\n",
       "      <td>9000</td>\n",
       "      <td>1949</td>\n",
       "      <td>480</td>\n",
       "      <td>1</td>\n",
       "      <td>1</td>\n",
       "    </tr>\n",
       "    <tr>\n",
       "      <th>4</th>\n",
       "      <td>5925</td>\n",
       "      <td>1910</td>\n",
       "      <td>968</td>\n",
       "      <td>0</td>\n",
       "      <td>1</td>\n",
       "    </tr>\n",
       "  </tbody>\n",
       "</table>\n",
       "</div>"
      ],
      "text/plain": [
       "   LotArea  YearBuilt  GrLivArea  GarageCars  SalePrice_label\n",
       "0     8500       1920       1317           1                1\n",
       "1     7879       1920        720           0                1\n",
       "2     5000       1946        334           0                1\n",
       "3     9000       1949        480           1                1\n",
       "4     5925       1910        968           0                1"
      ]
     },
     "execution_count": 11,
     "metadata": {},
     "output_type": "execute_result"
    }
   ],
   "source": [
    "df_num = df_num[['LotArea', 'YearBuilt', 'GrLivArea', 'GarageCars','SalePrice_label']]\n",
    "df_num.head()"
   ]
  },
  {
   "cell_type": "markdown",
   "id": "239065e7",
   "metadata": {},
   "source": [
    "### Discrétiser YearBuilt"
   ]
  },
  {
   "cell_type": "code",
   "execution_count": 12,
   "id": "8cc1f460",
   "metadata": {},
   "outputs": [
    {
     "data": {
      "text/plain": [
       "<AxesSubplot:ylabel='Frequency'>"
      ]
     },
     "execution_count": 12,
     "metadata": {},
     "output_type": "execute_result"
    },
    {
     "data": {
      "image/png": "[encoded data removed]",
      "text/plain": [
       "<Figure size 432x288 with 1 Axes>"
      ]
     },
     "metadata": {
      "needs_background": "light"
     },
     "output_type": "display_data"
    }
   ],
   "source": [
    "df_num['YearBuilt'].plot(kind='hist', edgecolor='black') #(kind='kde')"
   ]
  },
  {
   "cell_type": "code",
   "execution_count": 13,
   "id": "90a11bf3",
   "metadata": {},
   "outputs": [
    {
     "data": {
      "text/html": [
       "<div>\n",
       "<style scoped>\n",
       "    .dataframe tbody tr th:only-of-type {\n",
       "        vertical-align: middle;\n",
       "    }\n",
       "\n",
       "    .dataframe tbody tr th {\n",
       "        vertical-align: top;\n",
       "    }\n",
       "\n",
       "    .dataframe thead th {\n",
       "        text-align: right;\n",
       "    }\n",
       "</style>\n",
       "<table border=\"1\" class=\"dataframe\">\n",
       "  <thead>\n",
       "    <tr style=\"text-align: right;\">\n",
       "      <th>YearBuilt</th>\n",
       "      <th>ancien+++</th>\n",
       "      <th>ancien++</th>\n",
       "      <th>ancien+</th>\n",
       "      <th>ancien</th>\n",
       "      <th>recent</th>\n",
       "      <th>recent+</th>\n",
       "      <th>recent++</th>\n",
       "      <th>recent+++</th>\n",
       "      <th>top</th>\n",
       "    </tr>\n",
       "    <tr>\n",
       "      <th>SalePrice_label</th>\n",
       "      <th></th>\n",
       "      <th></th>\n",
       "      <th></th>\n",
       "      <th></th>\n",
       "      <th></th>\n",
       "      <th></th>\n",
       "      <th></th>\n",
       "      <th></th>\n",
       "      <th></th>\n",
       "    </tr>\n",
       "  </thead>\n",
       "  <tbody>\n",
       "    <tr>\n",
       "      <th>1</th>\n",
       "      <td>256</td>\n",
       "      <td>1024</td>\n",
       "      <td>0</td>\n",
       "      <td>0</td>\n",
       "      <td>0</td>\n",
       "      <td>0</td>\n",
       "      <td>0</td>\n",
       "      <td>0</td>\n",
       "      <td>0</td>\n",
       "    </tr>\n",
       "    <tr>\n",
       "      <th>2</th>\n",
       "      <td>72</td>\n",
       "      <td>496</td>\n",
       "      <td>296</td>\n",
       "      <td>0</td>\n",
       "      <td>0</td>\n",
       "      <td>8</td>\n",
       "      <td>0</td>\n",
       "      <td>0</td>\n",
       "      <td>0</td>\n",
       "    </tr>\n",
       "    <tr>\n",
       "      <th>3</th>\n",
       "      <td>52</td>\n",
       "      <td>312</td>\n",
       "      <td>582</td>\n",
       "      <td>4</td>\n",
       "      <td>12</td>\n",
       "      <td>36</td>\n",
       "      <td>4</td>\n",
       "      <td>0</td>\n",
       "      <td>0</td>\n",
       "    </tr>\n",
       "    <tr>\n",
       "      <th>4</th>\n",
       "      <td>12</td>\n",
       "      <td>84</td>\n",
       "      <td>414</td>\n",
       "      <td>22</td>\n",
       "      <td>126</td>\n",
       "      <td>130</td>\n",
       "      <td>24</td>\n",
       "      <td>8</td>\n",
       "      <td>0</td>\n",
       "    </tr>\n",
       "    <tr>\n",
       "      <th>5</th>\n",
       "      <td>4</td>\n",
       "      <td>76</td>\n",
       "      <td>216</td>\n",
       "      <td>28</td>\n",
       "      <td>268</td>\n",
       "      <td>148</td>\n",
       "      <td>72</td>\n",
       "      <td>28</td>\n",
       "      <td>0</td>\n",
       "    </tr>\n",
       "    <tr>\n",
       "      <th>6</th>\n",
       "      <td>16</td>\n",
       "      <td>32</td>\n",
       "      <td>240</td>\n",
       "      <td>48</td>\n",
       "      <td>192</td>\n",
       "      <td>240</td>\n",
       "      <td>88</td>\n",
       "      <td>24</td>\n",
       "      <td>0</td>\n",
       "    </tr>\n",
       "    <tr>\n",
       "      <th>7</th>\n",
       "      <td>16</td>\n",
       "      <td>32</td>\n",
       "      <td>208</td>\n",
       "      <td>32</td>\n",
       "      <td>160</td>\n",
       "      <td>288</td>\n",
       "      <td>208</td>\n",
       "      <td>0</td>\n",
       "      <td>0</td>\n",
       "    </tr>\n",
       "    <tr>\n",
       "      <th>8</th>\n",
       "      <td>0</td>\n",
       "      <td>64</td>\n",
       "      <td>64</td>\n",
       "      <td>32</td>\n",
       "      <td>96</td>\n",
       "      <td>256</td>\n",
       "      <td>288</td>\n",
       "      <td>64</td>\n",
       "      <td>32</td>\n",
       "    </tr>\n",
       "    <tr>\n",
       "      <th>9</th>\n",
       "      <td>0</td>\n",
       "      <td>0</td>\n",
       "      <td>128</td>\n",
       "      <td>128</td>\n",
       "      <td>64</td>\n",
       "      <td>384</td>\n",
       "      <td>128</td>\n",
       "      <td>64</td>\n",
       "      <td>0</td>\n",
       "    </tr>\n",
       "    <tr>\n",
       "      <th>10</th>\n",
       "      <td>256</td>\n",
       "      <td>0</td>\n",
       "      <td>0</td>\n",
       "      <td>0</td>\n",
       "      <td>256</td>\n",
       "      <td>256</td>\n",
       "      <td>512</td>\n",
       "      <td>0</td>\n",
       "      <td>0</td>\n",
       "    </tr>\n",
       "    <tr>\n",
       "      <th>11</th>\n",
       "      <td>0</td>\n",
       "      <td>0</td>\n",
       "      <td>0</td>\n",
       "      <td>0</td>\n",
       "      <td>512</td>\n",
       "      <td>0</td>\n",
       "      <td>512</td>\n",
       "      <td>0</td>\n",
       "      <td>0</td>\n",
       "    </tr>\n",
       "    <tr>\n",
       "      <th>12</th>\n",
       "      <td>0</td>\n",
       "      <td>0</td>\n",
       "      <td>0</td>\n",
       "      <td>0</td>\n",
       "      <td>0</td>\n",
       "      <td>256</td>\n",
       "      <td>512</td>\n",
       "      <td>0</td>\n",
       "      <td>0</td>\n",
       "    </tr>\n",
       "    <tr>\n",
       "      <th>13</th>\n",
       "      <td>0</td>\n",
       "      <td>0</td>\n",
       "      <td>0</td>\n",
       "      <td>512</td>\n",
       "      <td>0</td>\n",
       "      <td>0</td>\n",
       "      <td>0</td>\n",
       "      <td>512</td>\n",
       "      <td>0</td>\n",
       "    </tr>\n",
       "    <tr>\n",
       "      <th>15</th>\n",
       "      <td>0</td>\n",
       "      <td>0</td>\n",
       "      <td>0</td>\n",
       "      <td>1024</td>\n",
       "      <td>0</td>\n",
       "      <td>0</td>\n",
       "      <td>0</td>\n",
       "      <td>0</td>\n",
       "      <td>0</td>\n",
       "    </tr>\n",
       "  </tbody>\n",
       "</table>\n",
       "</div>"
      ],
      "text/plain": [
       "YearBuilt        ancien+++  ancien++  ancien+  ancien  recent  recent+  \\\n",
       "SalePrice_label                                                          \n",
       "1                      256      1024        0       0       0        0   \n",
       "2                       72       496      296       0       0        8   \n",
       "3                       52       312      582       4      12       36   \n",
       "4                       12        84      414      22     126      130   \n",
       "5                        4        76      216      28     268      148   \n",
       "6                       16        32      240      48     192      240   \n",
       "7                       16        32      208      32     160      288   \n",
       "8                        0        64       64      32      96      256   \n",
       "9                        0         0      128     128      64      384   \n",
       "10                     256         0        0       0     256      256   \n",
       "11                       0         0        0       0     512        0   \n",
       "12                       0         0        0       0       0      256   \n",
       "13                       0         0        0     512       0        0   \n",
       "15                       0         0        0    1024       0        0   \n",
       "\n",
       "YearBuilt        recent++  recent+++  top  \n",
       "SalePrice_label                            \n",
       "1                       0          0    0  \n",
       "2                       0          0    0  \n",
       "3                       4          0    0  \n",
       "4                      24          8    0  \n",
       "5                      72         28    0  \n",
       "6                      88         24    0  \n",
       "7                     208          0    0  \n",
       "8                     288         64   32  \n",
       "9                     128         64    0  \n",
       "10                    512          0    0  \n",
       "11                    512          0    0  \n",
       "12                    512          0    0  \n",
       "13                      0        512    0  \n",
       "15                      0          0    0  "
      ]
     },
     "execution_count": 13,
     "metadata": {},
     "output_type": "execute_result"
    }
   ],
   "source": [
    "df_num_YearBuilt = pd.cut(x      = df_num['YearBuilt'],\n",
    "                  bins   = [1800, 1910, 1950, 1994, 1996, 2003, 2006, 2008, 2009, 2050],\n",
    "                  labels = ['ancien+++', 'ancien++', 'ancien+', 'ancien', 'recent', 'recent+', 'recent++', 'recent+++', 'top'])\n",
    "\n",
    "\n",
    "pd.crosstab(df_num['SalePrice_label'], df_num_YearBuilt)"
   ]
  },
  {
   "cell_type": "markdown",
   "id": "f120ee19",
   "metadata": {},
   "source": [
    "### Discrétiser GrLivArea"
   ]
  },
  {
   "cell_type": "code",
   "execution_count": 14,
   "id": "fcea337a",
   "metadata": {},
   "outputs": [
    {
     "data": {
      "text/plain": [
       "<AxesSubplot:ylabel='Frequency'>"
      ]
     },
     "execution_count": 14,
     "metadata": {},
     "output_type": "execute_result"
    },
    {
     "data": {
      "image/png": "[encoded data removed]",
      "text/plain": [
       "<Figure size 432x288 with 1 Axes>"
      ]
     },
     "metadata": {
      "needs_background": "light"
     },
     "output_type": "display_data"
    }
   ],
   "source": [
    "df_num['GrLivArea'].plot(kind='hist', edgecolor='black')"
   ]
  },
  {
   "cell_type": "code",
   "execution_count": 15,
   "id": "5bf2d365",
   "metadata": {},
   "outputs": [
    {
     "data": {
      "text/html": [
       "<div>\n",
       "<style scoped>\n",
       "    .dataframe tbody tr th:only-of-type {\n",
       "        vertical-align: middle;\n",
       "    }\n",
       "\n",
       "    .dataframe tbody tr th {\n",
       "        vertical-align: top;\n",
       "    }\n",
       "\n",
       "    .dataframe thead th {\n",
       "        text-align: right;\n",
       "    }\n",
       "</style>\n",
       "<table border=\"1\" class=\"dataframe\">\n",
       "  <thead>\n",
       "    <tr style=\"text-align: right;\">\n",
       "      <th>GrLivArea</th>\n",
       "      <th>petit</th>\n",
       "      <th>moyen</th>\n",
       "      <th>moyen+</th>\n",
       "      <th>moyen++</th>\n",
       "    </tr>\n",
       "    <tr>\n",
       "      <th>SalePrice_label</th>\n",
       "      <th></th>\n",
       "      <th></th>\n",
       "      <th></th>\n",
       "      <th></th>\n",
       "    </tr>\n",
       "  </thead>\n",
       "  <tbody>\n",
       "    <tr>\n",
       "      <th>1</th>\n",
       "      <td>1024</td>\n",
       "      <td>256</td>\n",
       "      <td>0</td>\n",
       "      <td>0</td>\n",
       "    </tr>\n",
       "    <tr>\n",
       "      <th>2</th>\n",
       "      <td>480</td>\n",
       "      <td>384</td>\n",
       "      <td>8</td>\n",
       "      <td>0</td>\n",
       "    </tr>\n",
       "    <tr>\n",
       "      <th>3</th>\n",
       "      <td>320</td>\n",
       "      <td>648</td>\n",
       "      <td>34</td>\n",
       "      <td>0</td>\n",
       "    </tr>\n",
       "    <tr>\n",
       "      <th>4</th>\n",
       "      <td>14</td>\n",
       "      <td>764</td>\n",
       "      <td>36</td>\n",
       "      <td>6</td>\n",
       "    </tr>\n",
       "    <tr>\n",
       "      <th>5</th>\n",
       "      <td>0</td>\n",
       "      <td>632</td>\n",
       "      <td>196</td>\n",
       "      <td>12</td>\n",
       "    </tr>\n",
       "    <tr>\n",
       "      <th>6</th>\n",
       "      <td>0</td>\n",
       "      <td>496</td>\n",
       "      <td>376</td>\n",
       "      <td>8</td>\n",
       "    </tr>\n",
       "    <tr>\n",
       "      <th>7</th>\n",
       "      <td>0</td>\n",
       "      <td>400</td>\n",
       "      <td>528</td>\n",
       "      <td>16</td>\n",
       "    </tr>\n",
       "    <tr>\n",
       "      <th>8</th>\n",
       "      <td>0</td>\n",
       "      <td>448</td>\n",
       "      <td>384</td>\n",
       "      <td>64</td>\n",
       "    </tr>\n",
       "    <tr>\n",
       "      <th>9</th>\n",
       "      <td>0</td>\n",
       "      <td>64</td>\n",
       "      <td>704</td>\n",
       "      <td>128</td>\n",
       "    </tr>\n",
       "    <tr>\n",
       "      <th>10</th>\n",
       "      <td>0</td>\n",
       "      <td>0</td>\n",
       "      <td>768</td>\n",
       "      <td>512</td>\n",
       "    </tr>\n",
       "    <tr>\n",
       "      <th>11</th>\n",
       "      <td>0</td>\n",
       "      <td>0</td>\n",
       "      <td>512</td>\n",
       "      <td>512</td>\n",
       "    </tr>\n",
       "    <tr>\n",
       "      <th>12</th>\n",
       "      <td>0</td>\n",
       "      <td>0</td>\n",
       "      <td>768</td>\n",
       "      <td>0</td>\n",
       "    </tr>\n",
       "    <tr>\n",
       "      <th>13</th>\n",
       "      <td>0</td>\n",
       "      <td>0</td>\n",
       "      <td>512</td>\n",
       "      <td>512</td>\n",
       "    </tr>\n",
       "    <tr>\n",
       "      <th>15</th>\n",
       "      <td>0</td>\n",
       "      <td>0</td>\n",
       "      <td>0</td>\n",
       "      <td>1024</td>\n",
       "    </tr>\n",
       "  </tbody>\n",
       "</table>\n",
       "</div>"
      ],
      "text/plain": [
       "GrLivArea        petit  moyen  moyen+  moyen++\n",
       "SalePrice_label                               \n",
       "1                 1024    256       0        0\n",
       "2                  480    384       8        0\n",
       "3                  320    648      34        0\n",
       "4                   14    764      36        6\n",
       "5                    0    632     196       12\n",
       "6                    0    496     376        8\n",
       "7                    0    400     528       16\n",
       "8                    0    448     384       64\n",
       "9                    0     64     704      128\n",
       "10                   0      0     768      512\n",
       "11                   0      0     512      512\n",
       "12                   0      0     768        0\n",
       "13                   0      0     512      512\n",
       "15                   0      0       0     1024"
      ]
     },
     "execution_count": 15,
     "metadata": {},
     "output_type": "execute_result"
    }
   ],
   "source": [
    "df_num_GrLivArea = pd.cut(x      = df_num['GrLivArea'],\n",
    "                  bins   = [0, 1000, 2000, 3000, 6000],\n",
    "                  labels = ['petit', 'moyen', 'moyen+', 'moyen++'])\n",
    "\n",
    "\n",
    "pd.crosstab(df_num['SalePrice_label'], df_num_GrLivArea)"
   ]
  },
  {
   "cell_type": "markdown",
   "id": "1dfdaaeb",
   "metadata": {},
   "source": [
    "### Discrétiser LotArea"
   ]
  },
  {
   "cell_type": "code",
   "execution_count": 16,
   "id": "56a90998",
   "metadata": {},
   "outputs": [
    {
     "data": {
      "text/plain": [
       "<AxesSubplot:ylabel='Frequency'>"
      ]
     },
     "execution_count": 16,
     "metadata": {},
     "output_type": "execute_result"
    },
    {
     "data": {
      "image/png": "[encoded data removed]",
      "text/plain": [
       "<Figure size 432x288 with 1 Axes>"
      ]
     },
     "metadata": {
      "needs_background": "light"
     },
     "output_type": "display_data"
    }
   ],
   "source": [
    "df_num['LotArea'].plot(kind='hist', edgecolor='black')"
   ]
  },
  {
   "cell_type": "code",
   "execution_count": 17,
   "id": "d3c0d207",
   "metadata": {},
   "outputs": [
    {
     "data": {
      "text/html": [
       "<div>\n",
       "<style scoped>\n",
       "    .dataframe tbody tr th:only-of-type {\n",
       "        vertical-align: middle;\n",
       "    }\n",
       "\n",
       "    .dataframe tbody tr th {\n",
       "        vertical-align: top;\n",
       "    }\n",
       "\n",
       "    .dataframe thead th {\n",
       "        text-align: right;\n",
       "    }\n",
       "</style>\n",
       "<table border=\"1\" class=\"dataframe\">\n",
       "  <thead>\n",
       "    <tr style=\"text-align: right;\">\n",
       "      <th>LotArea</th>\n",
       "      <th>petit</th>\n",
       "      <th>moyen</th>\n",
       "    </tr>\n",
       "    <tr>\n",
       "      <th>SalePrice_label</th>\n",
       "      <th></th>\n",
       "      <th></th>\n",
       "    </tr>\n",
       "  </thead>\n",
       "  <tbody>\n",
       "    <tr>\n",
       "      <th>1</th>\n",
       "      <td>1280</td>\n",
       "      <td>0</td>\n",
       "    </tr>\n",
       "    <tr>\n",
       "      <th>2</th>\n",
       "      <td>872</td>\n",
       "      <td>0</td>\n",
       "    </tr>\n",
       "    <tr>\n",
       "      <th>3</th>\n",
       "      <td>994</td>\n",
       "      <td>8</td>\n",
       "    </tr>\n",
       "    <tr>\n",
       "      <th>4</th>\n",
       "      <td>804</td>\n",
       "      <td>16</td>\n",
       "    </tr>\n",
       "    <tr>\n",
       "      <th>5</th>\n",
       "      <td>804</td>\n",
       "      <td>36</td>\n",
       "    </tr>\n",
       "    <tr>\n",
       "      <th>6</th>\n",
       "      <td>856</td>\n",
       "      <td>24</td>\n",
       "    </tr>\n",
       "    <tr>\n",
       "      <th>7</th>\n",
       "      <td>912</td>\n",
       "      <td>32</td>\n",
       "    </tr>\n",
       "    <tr>\n",
       "      <th>8</th>\n",
       "      <td>832</td>\n",
       "      <td>64</td>\n",
       "    </tr>\n",
       "    <tr>\n",
       "      <th>9</th>\n",
       "      <td>832</td>\n",
       "      <td>64</td>\n",
       "    </tr>\n",
       "    <tr>\n",
       "      <th>10</th>\n",
       "      <td>1280</td>\n",
       "      <td>0</td>\n",
       "    </tr>\n",
       "    <tr>\n",
       "      <th>11</th>\n",
       "      <td>512</td>\n",
       "      <td>512</td>\n",
       "    </tr>\n",
       "    <tr>\n",
       "      <th>12</th>\n",
       "      <td>768</td>\n",
       "      <td>0</td>\n",
       "    </tr>\n",
       "    <tr>\n",
       "      <th>13</th>\n",
       "      <td>512</td>\n",
       "      <td>512</td>\n",
       "    </tr>\n",
       "    <tr>\n",
       "      <th>15</th>\n",
       "      <td>1024</td>\n",
       "      <td>0</td>\n",
       "    </tr>\n",
       "  </tbody>\n",
       "</table>\n",
       "</div>"
      ],
      "text/plain": [
       "LotArea          petit  moyen\n",
       "SalePrice_label              \n",
       "1                 1280      0\n",
       "2                  872      0\n",
       "3                  994      8\n",
       "4                  804     16\n",
       "5                  804     36\n",
       "6                  856     24\n",
       "7                  912     32\n",
       "8                  832     64\n",
       "9                  832     64\n",
       "10                1280      0\n",
       "11                 512    512\n",
       "12                 768      0\n",
       "13                 512    512\n",
       "15                1024      0"
      ]
     },
     "execution_count": 17,
     "metadata": {},
     "output_type": "execute_result"
    }
   ],
   "source": [
    "df_num_LotArea = pd.cut(x      = df_num['LotArea'],\n",
    "                  bins   = [0, 25000, 300000],\n",
    "                  labels = ['petit', 'moyen'])\n",
    "\n",
    "\n",
    "pd.crosstab(df_num['SalePrice_label'], df_num_LotArea)"
   ]
  },
  {
   "cell_type": "markdown",
   "id": "4c0306c8",
   "metadata": {},
   "source": [
    "### Discrétiser GarageCars"
   ]
  },
  {
   "cell_type": "code",
   "execution_count": 18,
   "id": "1e78880e",
   "metadata": {},
   "outputs": [
    {
     "data": {
      "text/plain": [
       "<AxesSubplot:ylabel='Frequency'>"
      ]
     },
     "execution_count": 18,
     "metadata": {},
     "output_type": "execute_result"
    },
    {
     "data": {
      "image/png": "[encoded data removed]",
      "text/plain": [
       "<Figure size 432x288 with 1 Axes>"
      ]
     },
     "metadata": {
      "needs_background": "light"
     },
     "output_type": "display_data"
    }
   ],
   "source": [
    "df_num['GarageCars'].plot(kind='hist', edgecolor='black')"
   ]
  },
  {
   "cell_type": "code",
   "execution_count": 19,
   "id": "eff3af6e",
   "metadata": {},
   "outputs": [
    {
     "data": {
      "text/html": [
       "<div>\n",
       "<style scoped>\n",
       "    .dataframe tbody tr th:only-of-type {\n",
       "        vertical-align: middle;\n",
       "    }\n",
       "\n",
       "    .dataframe tbody tr th {\n",
       "        vertical-align: top;\n",
       "    }\n",
       "\n",
       "    .dataframe thead th {\n",
       "        text-align: right;\n",
       "    }\n",
       "</style>\n",
       "<table border=\"1\" class=\"dataframe\">\n",
       "  <thead>\n",
       "    <tr style=\"text-align: right;\">\n",
       "      <th>GarageCars</th>\n",
       "      <th>petit</th>\n",
       "      <th>moyen</th>\n",
       "      <th>moyen+</th>\n",
       "    </tr>\n",
       "    <tr>\n",
       "      <th>SalePrice_label</th>\n",
       "      <th></th>\n",
       "      <th></th>\n",
       "      <th></th>\n",
       "    </tr>\n",
       "  </thead>\n",
       "  <tbody>\n",
       "    <tr>\n",
       "      <th>2</th>\n",
       "      <td>168</td>\n",
       "      <td>24</td>\n",
       "      <td>0</td>\n",
       "    </tr>\n",
       "    <tr>\n",
       "      <th>3</th>\n",
       "      <td>398</td>\n",
       "      <td>12</td>\n",
       "      <td>2</td>\n",
       "    </tr>\n",
       "    <tr>\n",
       "      <th>4</th>\n",
       "      <td>688</td>\n",
       "      <td>22</td>\n",
       "      <td>2</td>\n",
       "    </tr>\n",
       "    <tr>\n",
       "      <th>5</th>\n",
       "      <td>680</td>\n",
       "      <td>120</td>\n",
       "      <td>8</td>\n",
       "    </tr>\n",
       "    <tr>\n",
       "      <th>6</th>\n",
       "      <td>504</td>\n",
       "      <td>344</td>\n",
       "      <td>8</td>\n",
       "    </tr>\n",
       "    <tr>\n",
       "      <th>7</th>\n",
       "      <td>352</td>\n",
       "      <td>592</td>\n",
       "      <td>0</td>\n",
       "    </tr>\n",
       "    <tr>\n",
       "      <th>8</th>\n",
       "      <td>128</td>\n",
       "      <td>768</td>\n",
       "      <td>0</td>\n",
       "    </tr>\n",
       "    <tr>\n",
       "      <th>9</th>\n",
       "      <td>64</td>\n",
       "      <td>832</td>\n",
       "      <td>0</td>\n",
       "    </tr>\n",
       "    <tr>\n",
       "      <th>10</th>\n",
       "      <td>0</td>\n",
       "      <td>1280</td>\n",
       "      <td>0</td>\n",
       "    </tr>\n",
       "    <tr>\n",
       "      <th>11</th>\n",
       "      <td>0</td>\n",
       "      <td>1024</td>\n",
       "      <td>0</td>\n",
       "    </tr>\n",
       "    <tr>\n",
       "      <th>12</th>\n",
       "      <td>0</td>\n",
       "      <td>768</td>\n",
       "      <td>0</td>\n",
       "    </tr>\n",
       "    <tr>\n",
       "      <th>13</th>\n",
       "      <td>0</td>\n",
       "      <td>1024</td>\n",
       "      <td>0</td>\n",
       "    </tr>\n",
       "    <tr>\n",
       "      <th>15</th>\n",
       "      <td>0</td>\n",
       "      <td>1024</td>\n",
       "      <td>0</td>\n",
       "    </tr>\n",
       "  </tbody>\n",
       "</table>\n",
       "</div>"
      ],
      "text/plain": [
       "GarageCars       petit  moyen  moyen+\n",
       "SalePrice_label                      \n",
       "2                  168     24       0\n",
       "3                  398     12       2\n",
       "4                  688     22       2\n",
       "5                  680    120       8\n",
       "6                  504    344       8\n",
       "7                  352    592       0\n",
       "8                  128    768       0\n",
       "9                   64    832       0\n",
       "10                   0   1280       0\n",
       "11                   0   1024       0\n",
       "12                   0    768       0\n",
       "13                   0   1024       0\n",
       "15                   0   1024       0"
      ]
     },
     "execution_count": 19,
     "metadata": {},
     "output_type": "execute_result"
    }
   ],
   "source": [
    "df_num_GarageCars = pd.cut(x      = df_num['GarageCars'],\n",
    "                  bins   = [1, 2, 3, 4, 5],\n",
    "                  labels = ['petit', 'moyen', 'moyen+', 'grand'])\n",
    "\n",
    "\n",
    "pd.crosstab(df_num['SalePrice_label'], df_num_GarageCars)"
   ]
  },
  {
   "cell_type": "markdown",
   "id": "39ec6007",
   "metadata": {},
   "source": [
    "## Dichotomisation"
   ]
  },
  {
   "cell_type": "code",
   "execution_count": 20,
   "id": "2b217551",
   "metadata": {},
   "outputs": [],
   "source": [
    "df_YearBuilt_dummies = pd.get_dummies(df_num_YearBuilt, prefix='YearBuilt')"
   ]
  },
  {
   "cell_type": "code",
   "execution_count": 21,
   "id": "2cb37ac2",
   "metadata": {},
   "outputs": [],
   "source": [
    "df_GrLivArea_dummies = pd.get_dummies(df_num_GrLivArea, prefix='GrLivArea')"
   ]
  },
  {
   "cell_type": "code",
   "execution_count": 22,
   "id": "57e69c04",
   "metadata": {},
   "outputs": [],
   "source": [
    "df_LotArea_dummies = pd.get_dummies(df_num_LotArea, prefix='LotArea')"
   ]
  },
  {
   "cell_type": "code",
   "execution_count": 23,
   "id": "cd9ac1c5",
   "metadata": {},
   "outputs": [],
   "source": [
    "df_GarageCars_dummies = pd.get_dummies(df_num_GarageCars, prefix='GarageCars')"
   ]
  },
  {
   "cell_type": "code",
   "execution_count": 24,
   "id": "269eeae6",
   "metadata": {},
   "outputs": [
    {
     "data": {
      "text/html": [
       "<div>\n",
       "<style scoped>\n",
       "    .dataframe tbody tr th:only-of-type {\n",
       "        vertical-align: middle;\n",
       "    }\n",
       "\n",
       "    .dataframe tbody tr th {\n",
       "        vertical-align: top;\n",
       "    }\n",
       "\n",
       "    .dataframe thead th {\n",
       "        text-align: right;\n",
       "    }\n",
       "</style>\n",
       "<table border=\"1\" class=\"dataframe\">\n",
       "  <thead>\n",
       "    <tr style=\"text-align: right;\">\n",
       "      <th></th>\n",
       "      <th>GarageCars_petit</th>\n",
       "      <th>GarageCars_moyen</th>\n",
       "      <th>GarageCars_moyen+</th>\n",
       "      <th>GarageCars_grand</th>\n",
       "    </tr>\n",
       "  </thead>\n",
       "  <tbody>\n",
       "    <tr>\n",
       "      <th>0</th>\n",
       "      <td>0</td>\n",
       "      <td>0</td>\n",
       "      <td>0</td>\n",
       "      <td>0</td>\n",
       "    </tr>\n",
       "    <tr>\n",
       "      <th>1</th>\n",
       "      <td>0</td>\n",
       "      <td>0</td>\n",
       "      <td>0</td>\n",
       "      <td>0</td>\n",
       "    </tr>\n",
       "    <tr>\n",
       "      <th>2</th>\n",
       "      <td>0</td>\n",
       "      <td>0</td>\n",
       "      <td>0</td>\n",
       "      <td>0</td>\n",
       "    </tr>\n",
       "    <tr>\n",
       "      <th>3</th>\n",
       "      <td>0</td>\n",
       "      <td>0</td>\n",
       "      <td>0</td>\n",
       "      <td>0</td>\n",
       "    </tr>\n",
       "    <tr>\n",
       "      <th>4</th>\n",
       "      <td>0</td>\n",
       "      <td>0</td>\n",
       "      <td>0</td>\n",
       "      <td>0</td>\n",
       "    </tr>\n",
       "  </tbody>\n",
       "</table>\n",
       "</div>"
      ],
      "text/plain": [
       "   GarageCars_petit  GarageCars_moyen  GarageCars_moyen+  GarageCars_grand\n",
       "0                 0                 0                  0                 0\n",
       "1                 0                 0                  0                 0\n",
       "2                 0                 0                  0                 0\n",
       "3                 0                 0                  0                 0\n",
       "4                 0                 0                  0                 0"
      ]
     },
     "execution_count": 24,
     "metadata": {},
     "output_type": "execute_result"
    }
   ],
   "source": [
    "df_GarageCars_dummies.head()"
   ]
  },
  {
   "cell_type": "code",
   "execution_count": 25,
   "id": "afee4f86",
   "metadata": {},
   "outputs": [],
   "source": [
    "df_num_prepared = df_num.join(df_YearBuilt_dummies).join(df_GrLivArea_dummies).join(df_LotArea_dummies).join(df_GarageCars_dummies)"
   ]
  },
  {
   "cell_type": "code",
   "execution_count": 26,
   "id": "eba52d15",
   "metadata": {},
   "outputs": [
    {
     "name": "stdout",
     "output_type": "stream",
     "text": [
      "<class 'pandas.core.frame.DataFrame'>\n",
      "RangeIndex: 13550 entries, 0 to 13549\n",
      "Data columns (total 24 columns):\n",
      " #   Column               Non-Null Count  Dtype\n",
      "---  ------               --------------  -----\n",
      " 0   LotArea              13550 non-null  int64\n",
      " 1   YearBuilt            13550 non-null  int64\n",
      " 2   GrLivArea            13550 non-null  int64\n",
      " 3   GarageCars           13550 non-null  int64\n",
      " 4   SalePrice_label      13550 non-null  int64\n",
      " 5   YearBuilt_ancien+++  13550 non-null  uint8\n",
      " 6   YearBuilt_ancien++   13550 non-null  uint8\n",
      " 7   YearBuilt_ancien+    13550 non-null  uint8\n",
      " 8   YearBuilt_ancien     13550 non-null  uint8\n",
      " 9   YearBuilt_recent     13550 non-null  uint8\n",
      " 10  YearBuilt_recent+    13550 non-null  uint8\n",
      " 11  YearBuilt_recent++   13550 non-null  uint8\n",
      " 12  YearBuilt_recent+++  13550 non-null  uint8\n",
      " 13  YearBuilt_top        13550 non-null  uint8\n",
      " 14  GrLivArea_petit      13550 non-null  uint8\n",
      " 15  GrLivArea_moyen      13550 non-null  uint8\n",
      " 16  GrLivArea_moyen+     13550 non-null  uint8\n",
      " 17  GrLivArea_moyen++    13550 non-null  uint8\n",
      " 18  LotArea_petit        13550 non-null  uint8\n",
      " 19  LotArea_moyen        13550 non-null  uint8\n",
      " 20  GarageCars_petit     13550 non-null  uint8\n",
      " 21  GarageCars_moyen     13550 non-null  uint8\n",
      " 22  GarageCars_moyen+    13550 non-null  uint8\n",
      " 23  GarageCars_grand     13550 non-null  uint8\n",
      "dtypes: int64(5), uint8(19)\n",
      "memory usage: 780.8 KB\n"
     ]
    }
   ],
   "source": [
    "df_num_prepared.info()"
   ]
  },
  {
   "cell_type": "markdown",
   "id": "feca7ba9",
   "metadata": {},
   "source": [
    "### Evolution du modèle"
   ]
  },
  {
   "cell_type": "code",
   "execution_count": 27,
   "id": "0b41edd2",
   "metadata": {},
   "outputs": [],
   "source": [
    "data = df_num_prepared.iloc[:,4:]\n",
    "\n",
    "target = df_num_prepared['SalePrice_label']"
   ]
  },
  {
   "cell_type": "code",
   "execution_count": 28,
   "id": "651a0630",
   "metadata": {},
   "outputs": [],
   "source": [
    "X_train, X_test, y_train, y_test = train_test_split(data, target, test_size = 0.2, random_state = 66) "
   ]
  },
  {
   "cell_type": "code",
   "execution_count": 29,
   "id": "64dd881e",
   "metadata": {},
   "outputs": [
    {
     "data": {
      "text/html": [
       "<style>#sk-container-id-1 {color: black;background-color: white;}#sk-container-id-1 pre{padding: 0;}#sk-container-id-1 div.sk-toggleable {background-color: white;}#sk-container-id-1 label.sk-toggleable__label {cursor: pointer;display: block;width: 100%;margin-bottom: 0;padding: 0.3em;box-sizing: border-box;text-align: center;}#sk-container-id-1 label.sk-toggleable__label-arrow:before {content: \"▸\";float: left;margin-right: 0.25em;color: #696969;}#sk-container-id-1 label.sk-toggleable__label-arrow:hover:before {color: black;}#sk-container-id-1 div.sk-estimator:hover label.sk-toggleable__label-arrow:before {color: black;}#sk-container-id-1 div.sk-toggleable__content {max-height: 0;max-width: 0;overflow: hidden;text-align: left;background-color: #f0f8ff;}#sk-container-id-1 div.sk-toggleable__content pre {margin: 0.2em;color: black;border-radius: 0.25em;background-color: #f0f8ff;}#sk-container-id-1 input.sk-toggleable__control:checked~div.sk-toggleable__content {max-height: 200px;max-width: 100%;overflow: auto;}#sk-container-id-1 input.sk-toggleable__control:checked~label.sk-toggleable__label-arrow:before {content: \"▾\";}#sk-container-id-1 div.sk-estimator input.sk-toggleable__control:checked~label.sk-toggleable__label {background-color: #d4ebff;}#sk-container-id-1 div.sk-label input.sk-toggleable__control:checked~label.sk-toggleable__label {background-color: #d4ebff;}#sk-container-id-1 input.sk-hidden--visually {border: 0;clip: rect(1px 1px 1px 1px);clip: rect(1px, 1px, 1px, 1px);height: 1px;margin: -1px;overflow: hidden;padding: 0;position: absolute;width: 1px;}#sk-container-id-1 div.sk-estimator {font-family: monospace;background-color: #f0f8ff;border: 1px dotted black;border-radius: 0.25em;box-sizing: border-box;margin-bottom: 0.5em;}#sk-container-id-1 div.sk-estimator:hover {background-color: #d4ebff;}#sk-container-id-1 div.sk-parallel-item::after {content: \"\";width: 100%;border-bottom: 1px solid gray;flex-grow: 1;}#sk-container-id-1 div.sk-label:hover label.sk-toggleable__label {background-color: #d4ebff;}#sk-container-id-1 div.sk-serial::before {content: \"\";position: absolute;border-left: 1px solid gray;box-sizing: border-box;top: 0;bottom: 0;left: 50%;z-index: 0;}#sk-container-id-1 div.sk-serial {display: flex;flex-direction: column;align-items: center;background-color: white;padding-right: 0.2em;padding-left: 0.2em;position: relative;}#sk-container-id-1 div.sk-item {position: relative;z-index: 1;}#sk-container-id-1 div.sk-parallel {display: flex;align-items: stretch;justify-content: center;background-color: white;position: relative;}#sk-container-id-1 div.sk-item::before, #sk-container-id-1 div.sk-parallel-item::before {content: \"\";position: absolute;border-left: 1px solid gray;box-sizing: border-box;top: 0;bottom: 0;left: 50%;z-index: -1;}#sk-container-id-1 div.sk-parallel-item {display: flex;flex-direction: column;z-index: 1;position: relative;background-color: white;}#sk-container-id-1 div.sk-parallel-item:first-child::after {align-self: flex-end;width: 50%;}#sk-container-id-1 div.sk-parallel-item:last-child::after {align-self: flex-start;width: 50%;}#sk-container-id-1 div.sk-parallel-item:only-child::after {width: 0;}#sk-container-id-1 div.sk-dashed-wrapped {border: 1px dashed gray;margin: 0 0.4em 0.5em 0.4em;box-sizing: border-box;padding-bottom: 0.4em;background-color: white;}#sk-container-id-1 div.sk-label label {font-family: monospace;font-weight: bold;display: inline-block;line-height: 1.2em;}#sk-container-id-1 div.sk-label-container {text-align: center;}#sk-container-id-1 div.sk-container {/* jupyter's `normalize.less` sets `[hidden] { display: none; }` but bootstrap.min.css set `[hidden] { display: none !important; }` so we also need the `!important` here to be able to override the default hidden behavior on the sphinx rendered scikit-learn.org. See: https://github.com/scikit-learn/scikit-learn/issues/21755 */display: inline-block !important;position: relative;}#sk-container-id-1 div.sk-text-repr-fallback {display: none;}</style><div id=\"sk-container-id-1\" class=\"sk-top-container\"><div class=\"sk-text-repr-fallback\"><pre>LogisticRegression(max_iter=10000000)</pre><b>In a Jupyter environment, please rerun this cell to show the HTML representation or trust the notebook. <br />On GitHub, the HTML representation is unable to render, please try loading this page with nbviewer.org.</b></div><div class=\"sk-container\" hidden><div class=\"sk-item\"><div class=\"sk-estimator sk-toggleable\"><input class=\"sk-toggleable__control sk-hidden--visually\" id=\"sk-estimator-id-1\" type=\"checkbox\" checked><label for=\"sk-estimator-id-1\" class=\"sk-toggleable__label sk-toggleable__label-arrow\">LogisticRegression</label><div class=\"sk-toggleable__content\"><pre>LogisticRegression(max_iter=10000000)</pre></div></div></div></div></div>"
      ],
      "text/plain": [
       "LogisticRegression(max_iter=10000000)"
      ]
     },
     "execution_count": 29,
     "metadata": {},
     "output_type": "execute_result"
    }
   ],
   "source": [
    "clf = linear_model.LogisticRegression(C = 1.0, max_iter=10000000)\n",
    "clf.fit(X_train, y_train)"
   ]
  },
  {
   "cell_type": "code",
   "execution_count": 30,
   "id": "312d9709",
   "metadata": {},
   "outputs": [
    {
     "name": "stdout",
     "output_type": "stream",
     "text": [
      "[[265   0   0   0   0   0   0   0   0   0   0   0   0   0]\n",
      " [  0 178   0   0   0   0   0   0   0   0   0   0   0   0]\n",
      " [  0   0 208   0   0   0   0   0   0   0   0   0   0   0]\n",
      " [  0   0   1 165   0   0   0   0   0   0   0   0   0   0]\n",
      " [  0   0   0   0 167   0   0   0   0   0   0   0   0   0]\n",
      " [  0   0   0   0   0 163   0   0   0   0   0   0   0   0]\n",
      " [  0   0   0   0   0   0 202   0   0   0   0   0   0   0]\n",
      " [  0   0   0   0   0   0   0 179   0   0   0   0   0   0]\n",
      " [  0   0   0   0   0   0   0   0 183   0   0   0   0   0]\n",
      " [  0   0   0   0   0   0   0   0   0 261   0   0   0   0]\n",
      " [  0   0   0   0   0   0   0   0   0   0 190   0   0   0]\n",
      " [  0   0   0   0   0   0   0   0   0   0   0 156   0   0]\n",
      " [  0   0   0   0   0   0   0   0   0   0   0   0 178   0]\n",
      " [  0   0   0   0   0   0   0   0   0   0   0   0   0 214]]\n"
     ]
    }
   ],
   "source": [
    "y_pred = clf.predict(X_test)\n",
    "\n",
    "from sklearn.metrics import confusion_matrix \n",
    "\n",
    "cm = confusion_matrix(y_test,y_pred)\n",
    "print(cm)"
   ]
  },
  {
   "cell_type": "code",
   "execution_count": 31,
   "id": "123201ba",
   "metadata": {},
   "outputs": [
    {
     "data": {
      "text/html": [
       "<div>\n",
       "<style scoped>\n",
       "    .dataframe tbody tr th:only-of-type {\n",
       "        vertical-align: middle;\n",
       "    }\n",
       "\n",
       "    .dataframe tbody tr th {\n",
       "        vertical-align: top;\n",
       "    }\n",
       "\n",
       "    .dataframe thead th {\n",
       "        text-align: right;\n",
       "    }\n",
       "</style>\n",
       "<table border=\"1\" class=\"dataframe\">\n",
       "  <thead>\n",
       "    <tr style=\"text-align: right;\">\n",
       "      <th>Classe prédite</th>\n",
       "      <th>1</th>\n",
       "      <th>2</th>\n",
       "      <th>3</th>\n",
       "      <th>4</th>\n",
       "      <th>5</th>\n",
       "      <th>6</th>\n",
       "      <th>7</th>\n",
       "      <th>8</th>\n",
       "      <th>9</th>\n",
       "      <th>10</th>\n",
       "      <th>11</th>\n",
       "      <th>12</th>\n",
       "      <th>13</th>\n",
       "      <th>15</th>\n",
       "    </tr>\n",
       "    <tr>\n",
       "      <th>Classe réelle</th>\n",
       "      <th></th>\n",
       "      <th></th>\n",
       "      <th></th>\n",
       "      <th></th>\n",
       "      <th></th>\n",
       "      <th></th>\n",
       "      <th></th>\n",
       "      <th></th>\n",
       "      <th></th>\n",
       "      <th></th>\n",
       "      <th></th>\n",
       "      <th></th>\n",
       "      <th></th>\n",
       "      <th></th>\n",
       "    </tr>\n",
       "  </thead>\n",
       "  <tbody>\n",
       "    <tr>\n",
       "      <th>1</th>\n",
       "      <td>265</td>\n",
       "      <td>0</td>\n",
       "      <td>0</td>\n",
       "      <td>0</td>\n",
       "      <td>0</td>\n",
       "      <td>0</td>\n",
       "      <td>0</td>\n",
       "      <td>0</td>\n",
       "      <td>0</td>\n",
       "      <td>0</td>\n",
       "      <td>0</td>\n",
       "      <td>0</td>\n",
       "      <td>0</td>\n",
       "      <td>0</td>\n",
       "    </tr>\n",
       "    <tr>\n",
       "      <th>2</th>\n",
       "      <td>0</td>\n",
       "      <td>178</td>\n",
       "      <td>0</td>\n",
       "      <td>0</td>\n",
       "      <td>0</td>\n",
       "      <td>0</td>\n",
       "      <td>0</td>\n",
       "      <td>0</td>\n",
       "      <td>0</td>\n",
       "      <td>0</td>\n",
       "      <td>0</td>\n",
       "      <td>0</td>\n",
       "      <td>0</td>\n",
       "      <td>0</td>\n",
       "    </tr>\n",
       "    <tr>\n",
       "      <th>3</th>\n",
       "      <td>0</td>\n",
       "      <td>0</td>\n",
       "      <td>208</td>\n",
       "      <td>0</td>\n",
       "      <td>0</td>\n",
       "      <td>0</td>\n",
       "      <td>0</td>\n",
       "      <td>0</td>\n",
       "      <td>0</td>\n",
       "      <td>0</td>\n",
       "      <td>0</td>\n",
       "      <td>0</td>\n",
       "      <td>0</td>\n",
       "      <td>0</td>\n",
       "    </tr>\n",
       "    <tr>\n",
       "      <th>4</th>\n",
       "      <td>0</td>\n",
       "      <td>0</td>\n",
       "      <td>1</td>\n",
       "      <td>165</td>\n",
       "      <td>0</td>\n",
       "      <td>0</td>\n",
       "      <td>0</td>\n",
       "      <td>0</td>\n",
       "      <td>0</td>\n",
       "      <td>0</td>\n",
       "      <td>0</td>\n",
       "      <td>0</td>\n",
       "      <td>0</td>\n",
       "      <td>0</td>\n",
       "    </tr>\n",
       "    <tr>\n",
       "      <th>5</th>\n",
       "      <td>0</td>\n",
       "      <td>0</td>\n",
       "      <td>0</td>\n",
       "      <td>0</td>\n",
       "      <td>167</td>\n",
       "      <td>0</td>\n",
       "      <td>0</td>\n",
       "      <td>0</td>\n",
       "      <td>0</td>\n",
       "      <td>0</td>\n",
       "      <td>0</td>\n",
       "      <td>0</td>\n",
       "      <td>0</td>\n",
       "      <td>0</td>\n",
       "    </tr>\n",
       "    <tr>\n",
       "      <th>6</th>\n",
       "      <td>0</td>\n",
       "      <td>0</td>\n",
       "      <td>0</td>\n",
       "      <td>0</td>\n",
       "      <td>0</td>\n",
       "      <td>163</td>\n",
       "      <td>0</td>\n",
       "      <td>0</td>\n",
       "      <td>0</td>\n",
       "      <td>0</td>\n",
       "      <td>0</td>\n",
       "      <td>0</td>\n",
       "      <td>0</td>\n",
       "      <td>0</td>\n",
       "    </tr>\n",
       "    <tr>\n",
       "      <th>7</th>\n",
       "      <td>0</td>\n",
       "      <td>0</td>\n",
       "      <td>0</td>\n",
       "      <td>0</td>\n",
       "      <td>0</td>\n",
       "      <td>0</td>\n",
       "      <td>202</td>\n",
       "      <td>0</td>\n",
       "      <td>0</td>\n",
       "      <td>0</td>\n",
       "      <td>0</td>\n",
       "      <td>0</td>\n",
       "      <td>0</td>\n",
       "      <td>0</td>\n",
       "    </tr>\n",
       "    <tr>\n",
       "      <th>8</th>\n",
       "      <td>0</td>\n",
       "      <td>0</td>\n",
       "      <td>0</td>\n",
       "      <td>0</td>\n",
       "      <td>0</td>\n",
       "      <td>0</td>\n",
       "      <td>0</td>\n",
       "      <td>179</td>\n",
       "      <td>0</td>\n",
       "      <td>0</td>\n",
       "      <td>0</td>\n",
       "      <td>0</td>\n",
       "      <td>0</td>\n",
       "      <td>0</td>\n",
       "    </tr>\n",
       "    <tr>\n",
       "      <th>9</th>\n",
       "      <td>0</td>\n",
       "      <td>0</td>\n",
       "      <td>0</td>\n",
       "      <td>0</td>\n",
       "      <td>0</td>\n",
       "      <td>0</td>\n",
       "      <td>0</td>\n",
       "      <td>0</td>\n",
       "      <td>183</td>\n",
       "      <td>0</td>\n",
       "      <td>0</td>\n",
       "      <td>0</td>\n",
       "      <td>0</td>\n",
       "      <td>0</td>\n",
       "    </tr>\n",
       "    <tr>\n",
       "      <th>10</th>\n",
       "      <td>0</td>\n",
       "      <td>0</td>\n",
       "      <td>0</td>\n",
       "      <td>0</td>\n",
       "      <td>0</td>\n",
       "      <td>0</td>\n",
       "      <td>0</td>\n",
       "      <td>0</td>\n",
       "      <td>0</td>\n",
       "      <td>261</td>\n",
       "      <td>0</td>\n",
       "      <td>0</td>\n",
       "      <td>0</td>\n",
       "      <td>0</td>\n",
       "    </tr>\n",
       "    <tr>\n",
       "      <th>11</th>\n",
       "      <td>0</td>\n",
       "      <td>0</td>\n",
       "      <td>0</td>\n",
       "      <td>0</td>\n",
       "      <td>0</td>\n",
       "      <td>0</td>\n",
       "      <td>0</td>\n",
       "      <td>0</td>\n",
       "      <td>0</td>\n",
       "      <td>0</td>\n",
       "      <td>190</td>\n",
       "      <td>0</td>\n",
       "      <td>0</td>\n",
       "      <td>0</td>\n",
       "    </tr>\n",
       "    <tr>\n",
       "      <th>12</th>\n",
       "      <td>0</td>\n",
       "      <td>0</td>\n",
       "      <td>0</td>\n",
       "      <td>0</td>\n",
       "      <td>0</td>\n",
       "      <td>0</td>\n",
       "      <td>0</td>\n",
       "      <td>0</td>\n",
       "      <td>0</td>\n",
       "      <td>0</td>\n",
       "      <td>0</td>\n",
       "      <td>156</td>\n",
       "      <td>0</td>\n",
       "      <td>0</td>\n",
       "    </tr>\n",
       "    <tr>\n",
       "      <th>13</th>\n",
       "      <td>0</td>\n",
       "      <td>0</td>\n",
       "      <td>0</td>\n",
       "      <td>0</td>\n",
       "      <td>0</td>\n",
       "      <td>0</td>\n",
       "      <td>0</td>\n",
       "      <td>0</td>\n",
       "      <td>0</td>\n",
       "      <td>0</td>\n",
       "      <td>0</td>\n",
       "      <td>0</td>\n",
       "      <td>178</td>\n",
       "      <td>0</td>\n",
       "    </tr>\n",
       "    <tr>\n",
       "      <th>15</th>\n",
       "      <td>0</td>\n",
       "      <td>0</td>\n",
       "      <td>0</td>\n",
       "      <td>0</td>\n",
       "      <td>0</td>\n",
       "      <td>0</td>\n",
       "      <td>0</td>\n",
       "      <td>0</td>\n",
       "      <td>0</td>\n",
       "      <td>0</td>\n",
       "      <td>0</td>\n",
       "      <td>0</td>\n",
       "      <td>0</td>\n",
       "      <td>214</td>\n",
       "    </tr>\n",
       "  </tbody>\n",
       "</table>\n",
       "</div>"
      ],
      "text/plain": [
       "Classe prédite   1    2    3    4    5    6    7    8    9    10   11   12  \\\n",
       "Classe réelle                                                                \n",
       "1               265    0    0    0    0    0    0    0    0    0    0    0   \n",
       "2                 0  178    0    0    0    0    0    0    0    0    0    0   \n",
       "3                 0    0  208    0    0    0    0    0    0    0    0    0   \n",
       "4                 0    0    1  165    0    0    0    0    0    0    0    0   \n",
       "5                 0    0    0    0  167    0    0    0    0    0    0    0   \n",
       "6                 0    0    0    0    0  163    0    0    0    0    0    0   \n",
       "7                 0    0    0    0    0    0  202    0    0    0    0    0   \n",
       "8                 0    0    0    0    0    0    0  179    0    0    0    0   \n",
       "9                 0    0    0    0    0    0    0    0  183    0    0    0   \n",
       "10                0    0    0    0    0    0    0    0    0  261    0    0   \n",
       "11                0    0    0    0    0    0    0    0    0    0  190    0   \n",
       "12                0    0    0    0    0    0    0    0    0    0    0  156   \n",
       "13                0    0    0    0    0    0    0    0    0    0    0    0   \n",
       "15                0    0    0    0    0    0    0    0    0    0    0    0   \n",
       "\n",
       "Classe prédite   13   15  \n",
       "Classe réelle             \n",
       "1                 0    0  \n",
       "2                 0    0  \n",
       "3                 0    0  \n",
       "4                 0    0  \n",
       "5                 0    0  \n",
       "6                 0    0  \n",
       "7                 0    0  \n",
       "8                 0    0  \n",
       "9                 0    0  \n",
       "10                0    0  \n",
       "11                0    0  \n",
       "12                0    0  \n",
       "13              178    0  \n",
       "15                0  214  "
      ]
     },
     "execution_count": 31,
     "metadata": {},
     "output_type": "execute_result"
    }
   ],
   "source": [
    "cm = pd.crosstab(y_test, y_pred, rownames=['Classe réelle'], colnames=['Classe prédite'])\n",
    "cm"
   ]
  },
  {
   "cell_type": "code",
   "execution_count": 32,
   "id": "d9dd4118",
   "metadata": {},
   "outputs": [
    {
     "data": {
      "text/plain": [
       "0.9996309963099631"
      ]
     },
     "execution_count": 32,
     "metadata": {},
     "output_type": "execute_result"
    }
   ],
   "source": [
    "clf.score(X_test, y_test)"
   ]
  },
  {
   "cell_type": "code",
   "execution_count": 33,
   "id": "5e9af0f5",
   "metadata": {},
   "outputs": [
    {
     "name": "stdout",
     "output_type": "stream",
     "text": [
      "              precision    recall  f1-score   support\n",
      "\n",
      "           1       1.00      1.00      1.00       265\n",
      "           2       1.00      1.00      1.00       178\n",
      "           3       1.00      1.00      1.00       208\n",
      "           4       1.00      0.99      1.00       166\n",
      "           5       1.00      1.00      1.00       167\n",
      "           6       1.00      1.00      1.00       163\n",
      "           7       1.00      1.00      1.00       202\n",
      "           8       1.00      1.00      1.00       179\n",
      "           9       1.00      1.00      1.00       183\n",
      "          10       1.00      1.00      1.00       261\n",
      "          11       1.00      1.00      1.00       190\n",
      "          12       1.00      1.00      1.00       156\n",
      "          13       1.00      1.00      1.00       178\n",
      "          15       1.00      1.00      1.00       214\n",
      "\n",
      "    accuracy                           1.00      2710\n",
      "   macro avg       1.00      1.00      1.00      2710\n",
      "weighted avg       1.00      1.00      1.00      2710\n",
      "\n"
     ]
    }
   ],
   "source": [
    "from sklearn.metrics import classification_report\n",
    "\n",
    "print(classification_report(y_test, y_pred))"
   ]
  },
  {
   "cell_type": "markdown",
   "id": "77cdf344",
   "metadata": {},
   "source": [
    "### Courbe ROC"
   ]
  },
  {
   "cell_type": "code",
   "execution_count": 34,
   "id": "1d9383ec",
   "metadata": {},
   "outputs": [],
   "source": [
    "probs = clf.predict_proba(X_test)"
   ]
  },
  {
   "cell_type": "code",
   "execution_count": 35,
   "id": "aec5f305",
   "metadata": {},
   "outputs": [],
   "source": [
    "from sklearn.metrics import roc_curve, auc\n",
    "fpr, tpr, seuils = roc_curve(y_test, probs[:,1], pos_label=1) # \n",
    "\n",
    "roc_auc = auc(fpr, tpr)"
   ]
  },
  {
   "cell_type": "code",
   "execution_count": 36,
   "id": "cfd13ce0",
   "metadata": {},
   "outputs": [
    {
     "data": {
      "text/plain": [
       "Counter({1: 265,\n",
       "         12: 156,\n",
       "         4: 166,\n",
       "         15: 214,\n",
       "         6: 163,\n",
       "         2: 178,\n",
       "         5: 167,\n",
       "         13: 178,\n",
       "         9: 183,\n",
       "         10: 261,\n",
       "         8: 179,\n",
       "         7: 202,\n",
       "         11: 190,\n",
       "         3: 208})"
      ]
     },
     "execution_count": 36,
     "metadata": {},
     "output_type": "execute_result"
    }
   ],
   "source": [
    "from collections import Counter\n",
    "Counter(y_test)"
   ]
  },
  {
   "cell_type": "code",
   "execution_count": 37,
   "id": "7d6a6025",
   "metadata": {},
   "outputs": [
    {
     "data": {
      "image/png": "[encoded data removed]",
      "text/plain": [
       "<Figure size 432x288 with 1 Axes>"
      ]
     },
     "metadata": {
      "needs_background": "light"
     },
     "output_type": "display_data"
    }
   ],
   "source": [
    "import matplotlib.pyplot as plt\n",
    "\n",
    "plt.plot(fpr, tpr, color='orange',\n",
    "         lw=2, label='Modèle clf (auc = %0.2f)' % roc_auc)\n",
    "plt.plot([0, 1], [0, 1], color='navy', lw=2, linestyle='--', label='Aléatoire (auc = 0.5)')\n",
    "plt.xlim([0.0, 1.0])\n",
    "plt.ylim([0.0, 1.05])\n",
    "plt.xlabel('Taux faux positifs')\n",
    "plt.ylabel('Taux vrais positifs')\n",
    "plt.title('Courbe ROC')\n",
    "plt.legend(loc=\"lower right\")\n",
    "plt.show()"
   ]
  },
  {
   "cell_type": "markdown",
   "id": "217d881b",
   "metadata": {},
   "source": [
    "## SVM"
   ]
  },
  {
   "cell_type": "code",
   "execution_count": 38,
   "id": "c92d5a55",
   "metadata": {},
   "outputs": [],
   "source": [
    "from sklearn import svm"
   ]
  },
  {
   "cell_type": "code",
   "execution_count": 39,
   "id": "5089e2f9",
   "metadata": {},
   "outputs": [
    {
     "data": {
      "text/html": [
       "<style>#sk-container-id-2 {color: black;background-color: white;}#sk-container-id-2 pre{padding: 0;}#sk-container-id-2 div.sk-toggleable {background-color: white;}#sk-container-id-2 label.sk-toggleable__label {cursor: pointer;display: block;width: 100%;margin-bottom: 0;padding: 0.3em;box-sizing: border-box;text-align: center;}#sk-container-id-2 label.sk-toggleable__label-arrow:before {content: \"▸\";float: left;margin-right: 0.25em;color: #696969;}#sk-container-id-2 label.sk-toggleable__label-arrow:hover:before {color: black;}#sk-container-id-2 div.sk-estimator:hover label.sk-toggleable__label-arrow:before {color: black;}#sk-container-id-2 div.sk-toggleable__content {max-height: 0;max-width: 0;overflow: hidden;text-align: left;background-color: #f0f8ff;}#sk-container-id-2 div.sk-toggleable__content pre {margin: 0.2em;color: black;border-radius: 0.25em;background-color: #f0f8ff;}#sk-container-id-2 input.sk-toggleable__control:checked~div.sk-toggleable__content {max-height: 200px;max-width: 100%;overflow: auto;}#sk-container-id-2 input.sk-toggleable__control:checked~label.sk-toggleable__label-arrow:before {content: \"▾\";}#sk-container-id-2 div.sk-estimator input.sk-toggleable__control:checked~label.sk-toggleable__label {background-color: #d4ebff;}#sk-container-id-2 div.sk-label input.sk-toggleable__control:checked~label.sk-toggleable__label {background-color: #d4ebff;}#sk-container-id-2 input.sk-hidden--visually {border: 0;clip: rect(1px 1px 1px 1px);clip: rect(1px, 1px, 1px, 1px);height: 1px;margin: -1px;overflow: hidden;padding: 0;position: absolute;width: 1px;}#sk-container-id-2 div.sk-estimator {font-family: monospace;background-color: #f0f8ff;border: 1px dotted black;border-radius: 0.25em;box-sizing: border-box;margin-bottom: 0.5em;}#sk-container-id-2 div.sk-estimator:hover {background-color: #d4ebff;}#sk-container-id-2 div.sk-parallel-item::after {content: \"\";width: 100%;border-bottom: 1px solid gray;flex-grow: 1;}#sk-container-id-2 div.sk-label:hover label.sk-toggleable__label {background-color: #d4ebff;}#sk-container-id-2 div.sk-serial::before {content: \"\";position: absolute;border-left: 1px solid gray;box-sizing: border-box;top: 0;bottom: 0;left: 50%;z-index: 0;}#sk-container-id-2 div.sk-serial {display: flex;flex-direction: column;align-items: center;background-color: white;padding-right: 0.2em;padding-left: 0.2em;position: relative;}#sk-container-id-2 div.sk-item {position: relative;z-index: 1;}#sk-container-id-2 div.sk-parallel {display: flex;align-items: stretch;justify-content: center;background-color: white;position: relative;}#sk-container-id-2 div.sk-item::before, #sk-container-id-2 div.sk-parallel-item::before {content: \"\";position: absolute;border-left: 1px solid gray;box-sizing: border-box;top: 0;bottom: 0;left: 50%;z-index: -1;}#sk-container-id-2 div.sk-parallel-item {display: flex;flex-direction: column;z-index: 1;position: relative;background-color: white;}#sk-container-id-2 div.sk-parallel-item:first-child::after {align-self: flex-end;width: 50%;}#sk-container-id-2 div.sk-parallel-item:last-child::after {align-self: flex-start;width: 50%;}#sk-container-id-2 div.sk-parallel-item:only-child::after {width: 0;}#sk-container-id-2 div.sk-dashed-wrapped {border: 1px dashed gray;margin: 0 0.4em 0.5em 0.4em;box-sizing: border-box;padding-bottom: 0.4em;background-color: white;}#sk-container-id-2 div.sk-label label {font-family: monospace;font-weight: bold;display: inline-block;line-height: 1.2em;}#sk-container-id-2 div.sk-label-container {text-align: center;}#sk-container-id-2 div.sk-container {/* jupyter's `normalize.less` sets `[hidden] { display: none; }` but bootstrap.min.css set `[hidden] { display: none !important; }` so we also need the `!important` here to be able to override the default hidden behavior on the sphinx rendered scikit-learn.org. See: https://github.com/scikit-learn/scikit-learn/issues/21755 */display: inline-block !important;position: relative;}#sk-container-id-2 div.sk-text-repr-fallback {display: none;}</style><div id=\"sk-container-id-2\" class=\"sk-top-container\"><div class=\"sk-text-repr-fallback\"><pre>SVC(gamma=0.01, kernel=&#x27;poly&#x27;)</pre><b>In a Jupyter environment, please rerun this cell to show the HTML representation or trust the notebook. <br />On GitHub, the HTML representation is unable to render, please try loading this page with nbviewer.org.</b></div><div class=\"sk-container\" hidden><div class=\"sk-item\"><div class=\"sk-estimator sk-toggleable\"><input class=\"sk-toggleable__control sk-hidden--visually\" id=\"sk-estimator-id-2\" type=\"checkbox\" checked><label for=\"sk-estimator-id-2\" class=\"sk-toggleable__label sk-toggleable__label-arrow\">SVC</label><div class=\"sk-toggleable__content\"><pre>SVC(gamma=0.01, kernel=&#x27;poly&#x27;)</pre></div></div></div></div></div>"
      ],
      "text/plain": [
       "SVC(gamma=0.01, kernel='poly')"
      ]
     },
     "execution_count": 39,
     "metadata": {},
     "output_type": "execute_result"
    }
   ],
   "source": [
    "clf = svm.SVC(gamma=0.01,  kernel='poly')\n",
    "clf.fit(X_train, y_train)"
   ]
  },
  {
   "cell_type": "code",
   "execution_count": 40,
   "id": "bf4551b9",
   "metadata": {},
   "outputs": [
    {
     "data": {
      "text/plain": [
       "0.8955719557195572"
      ]
     },
     "execution_count": 40,
     "metadata": {},
     "output_type": "execute_result"
    }
   ],
   "source": [
    "clf.score(X_test, y_test)"
   ]
  },
  {
   "cell_type": "code",
   "execution_count": null,
   "id": "b7f068b0",
   "metadata": {},
   "outputs": [],
   "source": []
  },
  {
   "cell_type": "code",
   "execution_count": null,
   "id": "7c4f4b47",
   "metadata": {},
   "outputs": [],
   "source": []
  },
  {
   "cell_type": "code",
   "execution_count": null,
   "id": "0136f08e",
   "metadata": {},
   "outputs": [],
   "source": []
  }
 ],
 "metadata": {
  "kernelspec": {
   "display_name": "Python 3 (ipykernel)",
   "language": "python",
   "name": "python3"
  },
  "language_info": {
   "codemirror_mode": {
    "name": "ipython",
    "version": 3
   },
   "file_extension": ".py",
   "mimetype": "text/x-python",
   "name": "python",
   "nbconvert_exporter": "python",
   "pygments_lexer": "ipython3",
   "version": "3.10.2"
  }
 },
 "nbformat": 4,
 "nbformat_minor": 5
}
