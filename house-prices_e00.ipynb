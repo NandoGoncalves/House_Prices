{
 "cells": [
  {
   "cell_type": "code",
   "execution_count": 1,
   "id": "feb7c9f6",
   "metadata": {},
   "outputs": [],
   "source": [
    "%matplotlib inline\n",
    "\n",
    "import numpy as np\n",
    "import pandas as pd\n",
    "\n",
    "from sklearn import neighbors\n",
    "from sklearn.decomposition import PCA\n",
    "from sklearn import linear_model, preprocessing\n",
    "from sklearn.feature_selection import VarianceThreshold\n",
    "from sklearn import model_selection\n",
    "from sklearn.model_selection import train_test_split\n",
    "\n",
    "\n",
    "import matplotlib.pyplot as plt\n",
    "import seaborn as sns"
   ]
  },
  {
   "cell_type": "code",
   "execution_count": 2,
   "id": "691461a2",
   "metadata": {},
   "outputs": [],
   "source": [
    "def df_corr_columns(df, target, threshold):\n",
    "    df_corr = df.corr()\n",
    "    df_corr_SalePrice = df_corr[[target]]\n",
    "    df_corr_SalePrice = df_corr_SalePrice.reset_index()\n",
    "    df_corr_SalePrice = df_corr_SalePrice[(df_corr_SalePrice['index'] != target)]\n",
    "    df_corr_SalePrice_columns = df_corr_SalePrice[(\n",
    "        (df_corr_SalePrice[target] > threshold) | \n",
    "        (df_corr_SalePrice[target] < -threshold))]['index']\n",
    "    return df_corr_SalePrice_columns"
   ]
  },
  {
   "cell_type": "code",
   "execution_count": 3,
   "id": "1b16d362",
   "metadata": {},
   "outputs": [],
   "source": [
    "def separe_per_unique_threshold(df, threshold):\n",
    "    dic_c_unique_len = {}\n",
    "    for c in df.columns:\n",
    "        dic_c_unique_len[c] = len(df[c].unique())\n",
    "        #print(c, len(df_num[c].unique()))\n",
    " \n",
    "\n",
    "    df_c_unique_len = pd.DataFrame.from_dict(dic_c_unique_len, orient=\"index\").reset_index()\n",
    "    df_c_unique_len.columns=['variable', 'count']\n",
    "    return df_c_unique_len[df_c_unique_len['count'] <= 20].sort_values('count'), df_c_unique_len[df_c_unique_len['count'] > 20].sort_values('count')\n"
   ]
  },
  {
   "cell_type": "code",
   "execution_count": 4,
   "id": "526b0b80",
   "metadata": {},
   "outputs": [],
   "source": [
    "def dummies(df, quantiles = 4):\n",
    "    \n",
    "    columns = df.columns\n",
    "    for c in columns:\n",
    "        \n",
    "        df[c] = pd.qcut(df[c], q=quantiles, duplicates='drop') # , labels=dummies_cols\n",
    "        \n",
    "        df = pd.concat([df, pd.get_dummies(df[c], prefix=c)], axis=1)\n",
    "        \n",
    "    df.columns = [c.replace(',', '_') for c in df.columns]\n",
    "    df.columns = [c.replace('(', '_') for c in df.columns]\n",
    "    df.columns = [c.replace(']', '_') for c in df.columns]\n",
    "    df.columns = [c.replace('.', '_') for c in df.columns]\n",
    "           \n",
    "        \n",
    "    df.drop(columns, axis=1, inplace=True)\n",
    "        \n",
    "    return df"
   ]
  },
  {
   "cell_type": "code",
   "execution_count": 5,
   "id": "1bb64a3f",
   "metadata": {},
   "outputs": [],
   "source": [
    "corr_threshold = 0\n",
    "dummies_quantiles = 4\n",
    "variance_threshold = 0.1\n",
    "unique_values_threshold = 20\n",
    "pca_components = 0.999\n"
   ]
  },
  {
   "cell_type": "code",
   "execution_count": 6,
   "id": "4123f0c3",
   "metadata": {},
   "outputs": [
    {
     "data": {
      "text/plain": [
       "(1460, 80)"
      ]
     },
     "execution_count": 6,
     "metadata": {},
     "output_type": "execute_result"
    }
   ],
   "source": [
    "df_train = pd.read_csv(\"./dataset/train.csv\")\n",
    "\n",
    "df_train_Id = df_train[['Id']]\n",
    "df_train_SalePrice = df_train[['SalePrice']]\n",
    "df_train.drop(['Id'], axis=1, inplace=True)\n",
    "df_train.shape"
   ]
  },
  {
   "cell_type": "code",
   "execution_count": 7,
   "id": "4bec4a68",
   "metadata": {},
   "outputs": [
    {
     "data": {
      "text/plain": [
       "(1459, 79)"
      ]
     },
     "execution_count": 7,
     "metadata": {},
     "output_type": "execute_result"
    }
   ],
   "source": [
    "df_test = pd.read_csv(\"./dataset/test.csv\")\n",
    "df_test_Id = df_test[['Id']]\n",
    "df_test.drop(['Id'], axis = 1, inplace=True)\n",
    "df_test.shape"
   ]
  },
  {
   "cell_type": "code",
   "execution_count": 8,
   "id": "5baaa971",
   "metadata": {},
   "outputs": [
    {
     "data": {
      "text/plain": [
       "(2919, 80)"
      ]
     },
     "execution_count": 8,
     "metadata": {},
     "output_type": "execute_result"
    }
   ],
   "source": [
    "df_train = pd.concat([df_train, df_test])\n",
    "df_train.shape"
   ]
  },
  {
   "cell_type": "markdown",
   "id": "16afbe86",
   "metadata": {},
   "source": [
    "##### Fill the nan"
   ]
  },
  {
   "cell_type": "code",
   "execution_count": 9,
   "id": "7d521abe",
   "metadata": {},
   "outputs": [
    {
     "name": "stdout",
     "output_type": "stream",
     "text": [
      "(2919, 37) (2919, 43) (2919, 80)\n"
     ]
    },
    {
     "name": "stderr",
     "output_type": "stream",
     "text": [
      "C:\\ProgramData\\Anaconda3\\lib\\site-packages\\pandas\\core\\series.py:4463: SettingWithCopyWarning: \n",
      "A value is trying to be set on a copy of a slice from a DataFrame\n",
      "\n",
      "See the caveats in the documentation: https://pandas.pydata.org/pandas-docs/stable/user_guide/indexing.html#returning-a-view-versus-a-copy\n",
      "  return super().fillna(\n"
     ]
    }
   ],
   "source": [
    "df_train_num =  df_train.select_dtypes(include='number')\n",
    "df_train_num.fillna(df_train_num.mean(), inplace=True)\n",
    "\n",
    "\n",
    "df_train_cat = df_train.select_dtypes(include='object')\n",
    "df_train_cat.fillna(df_train_cat.mode().iloc[0], inplace=True)\n",
    "\n",
    "df_train = pd.concat([df_train_num, df_train_cat], axis=1)\n",
    "\n",
    "print(df_train_num.shape, df_train_cat.shape, df_train.shape)"
   ]
  },
  {
   "cell_type": "markdown",
   "id": "a1d9bf9b",
   "metadata": {},
   "source": [
    "### Matrice de correlation"
   ]
  },
  {
   "cell_type": "code",
   "execution_count": 10,
   "id": "3bc7751e",
   "metadata": {},
   "outputs": [
    {
     "name": "stdout",
     "output_type": "stream",
     "text": [
      "<class 'pandas.core.frame.DataFrame'>\n",
      "Int64Index: 2919 entries, 0 to 1458\n",
      "Data columns (total 36 columns):\n",
      " #   Column         Non-Null Count  Dtype  \n",
      "---  ------         --------------  -----  \n",
      " 0   MSSubClass     2919 non-null   int64  \n",
      " 1   LotFrontage    2919 non-null   float64\n",
      " 2   LotArea        2919 non-null   int64  \n",
      " 3   OverallQual    2919 non-null   int64  \n",
      " 4   OverallCond    2919 non-null   int64  \n",
      " 5   YearBuilt      2919 non-null   int64  \n",
      " 6   YearRemodAdd   2919 non-null   int64  \n",
      " 7   MasVnrArea     2919 non-null   float64\n",
      " 8   BsmtFinSF1     2919 non-null   float64\n",
      " 9   BsmtFinSF2     2919 non-null   float64\n",
      " 10  BsmtUnfSF      2919 non-null   float64\n",
      " 11  TotalBsmtSF    2919 non-null   float64\n",
      " 12  1stFlrSF       2919 non-null   int64  \n",
      " 13  2ndFlrSF       2919 non-null   int64  \n",
      " 14  LowQualFinSF   2919 non-null   int64  \n",
      " 15  GrLivArea      2919 non-null   int64  \n",
      " 16  BsmtFullBath   2919 non-null   float64\n",
      " 17  BsmtHalfBath   2919 non-null   float64\n",
      " 18  FullBath       2919 non-null   int64  \n",
      " 19  HalfBath       2919 non-null   int64  \n",
      " 20  BedroomAbvGr   2919 non-null   int64  \n",
      " 21  KitchenAbvGr   2919 non-null   int64  \n",
      " 22  TotRmsAbvGrd   2919 non-null   int64  \n",
      " 23  Fireplaces     2919 non-null   int64  \n",
      " 24  GarageYrBlt    2919 non-null   float64\n",
      " 25  GarageCars     2919 non-null   float64\n",
      " 26  GarageArea     2919 non-null   float64\n",
      " 27  WoodDeckSF     2919 non-null   int64  \n",
      " 28  OpenPorchSF    2919 non-null   int64  \n",
      " 29  EnclosedPorch  2919 non-null   int64  \n",
      " 30  3SsnPorch      2919 non-null   int64  \n",
      " 31  ScreenPorch    2919 non-null   int64  \n",
      " 32  PoolArea       2919 non-null   int64  \n",
      " 33  MiscVal        2919 non-null   int64  \n",
      " 34  MoSold         2919 non-null   int64  \n",
      " 35  YrSold         2919 non-null   int64  \n",
      "dtypes: float64(11), int64(25)\n",
      "memory usage: 843.8 KB\n"
     ]
    }
   ],
   "source": [
    "df_train = df_train[df_corr_columns(df_train, 'SalePrice', corr_threshold)]\n",
    "df_train.info()"
   ]
  },
  {
   "cell_type": "code",
   "execution_count": 11,
   "id": "8317939b",
   "metadata": {},
   "outputs": [
    {
     "name": "stdout",
     "output_type": "stream",
     "text": [
      "(15, 2) (21, 2)\n"
     ]
    }
   ],
   "source": [
    "df_train_dummies_cols, df_train_scaled_cols = separe_per_unique_threshold(df_train, unique_values_threshold)\n",
    "print(df_train_dummies_cols.shape, df_train_scaled_cols.shape)"
   ]
  },
  {
   "cell_type": "markdown",
   "id": "546aec3e",
   "metadata": {},
   "source": [
    "##### transfert à la main de certaines variables pour discretisation"
   ]
  },
  {
   "cell_type": "code",
   "execution_count": 12,
   "id": "6bf27ab7",
   "metadata": {},
   "outputs": [],
   "source": [
    "df_train_dummies_cols = pd.concat([df_train_dummies_cols, df_train_scaled_cols[\n",
    "    (df_train_scaled_cols['variable'] == 'YearBuilt') |\n",
    "    (df_train_scaled_cols['variable'] == 'YearRemodAdd') |\n",
    "    (df_train_scaled_cols['variable'] == 'GarageYrBlt')]])\n",
    "\n",
    "\n",
    "df_train_scaled_cols = df_train_scaled_cols[\n",
    "    (df_train_scaled_cols['variable'] != 'YearBuilt') &\n",
    "    (df_train_scaled_cols['variable'] != 'YearRemodAdd') &\n",
    "    (df_train_scaled_cols['variable'] != 'GarageYrBlt')]\n",
    "\n"
   ]
  },
  {
   "cell_type": "code",
   "execution_count": 13,
   "id": "5b299473",
   "metadata": {},
   "outputs": [
    {
     "data": {
      "text/html": [
       "<div>\n",
       "<style scoped>\n",
       "    .dataframe tbody tr th:only-of-type {\n",
       "        vertical-align: middle;\n",
       "    }\n",
       "\n",
       "    .dataframe tbody tr th {\n",
       "        vertical-align: top;\n",
       "    }\n",
       "\n",
       "    .dataframe thead th {\n",
       "        text-align: right;\n",
       "    }\n",
       "</style>\n",
       "<table border=\"1\" class=\"dataframe\">\n",
       "  <thead>\n",
       "    <tr style=\"text-align: right;\">\n",
       "      <th></th>\n",
       "      <th>variable</th>\n",
       "      <th>count</th>\n",
       "    </tr>\n",
       "  </thead>\n",
       "  <tbody>\n",
       "    <tr>\n",
       "      <th>19</th>\n",
       "      <td>HalfBath</td>\n",
       "      <td>3</td>\n",
       "    </tr>\n",
       "    <tr>\n",
       "      <th>17</th>\n",
       "      <td>BsmtHalfBath</td>\n",
       "      <td>4</td>\n",
       "    </tr>\n",
       "    <tr>\n",
       "      <th>21</th>\n",
       "      <td>KitchenAbvGr</td>\n",
       "      <td>4</td>\n",
       "    </tr>\n",
       "    <tr>\n",
       "      <th>16</th>\n",
       "      <td>BsmtFullBath</td>\n",
       "      <td>5</td>\n",
       "    </tr>\n",
       "    <tr>\n",
       "      <th>18</th>\n",
       "      <td>FullBath</td>\n",
       "      <td>5</td>\n",
       "    </tr>\n",
       "    <tr>\n",
       "      <th>23</th>\n",
       "      <td>Fireplaces</td>\n",
       "      <td>5</td>\n",
       "    </tr>\n",
       "    <tr>\n",
       "      <th>35</th>\n",
       "      <td>YrSold</td>\n",
       "      <td>5</td>\n",
       "    </tr>\n",
       "    <tr>\n",
       "      <th>25</th>\n",
       "      <td>GarageCars</td>\n",
       "      <td>7</td>\n",
       "    </tr>\n",
       "    <tr>\n",
       "      <th>20</th>\n",
       "      <td>BedroomAbvGr</td>\n",
       "      <td>8</td>\n",
       "    </tr>\n",
       "    <tr>\n",
       "      <th>4</th>\n",
       "      <td>OverallCond</td>\n",
       "      <td>9</td>\n",
       "    </tr>\n",
       "    <tr>\n",
       "      <th>3</th>\n",
       "      <td>OverallQual</td>\n",
       "      <td>10</td>\n",
       "    </tr>\n",
       "    <tr>\n",
       "      <th>34</th>\n",
       "      <td>MoSold</td>\n",
       "      <td>12</td>\n",
       "    </tr>\n",
       "    <tr>\n",
       "      <th>22</th>\n",
       "      <td>TotRmsAbvGrd</td>\n",
       "      <td>14</td>\n",
       "    </tr>\n",
       "    <tr>\n",
       "      <th>32</th>\n",
       "      <td>PoolArea</td>\n",
       "      <td>14</td>\n",
       "    </tr>\n",
       "    <tr>\n",
       "      <th>0</th>\n",
       "      <td>MSSubClass</td>\n",
       "      <td>16</td>\n",
       "    </tr>\n",
       "    <tr>\n",
       "      <th>6</th>\n",
       "      <td>YearRemodAdd</td>\n",
       "      <td>61</td>\n",
       "    </tr>\n",
       "    <tr>\n",
       "      <th>24</th>\n",
       "      <td>GarageYrBlt</td>\n",
       "      <td>104</td>\n",
       "    </tr>\n",
       "    <tr>\n",
       "      <th>5</th>\n",
       "      <td>YearBuilt</td>\n",
       "      <td>118</td>\n",
       "    </tr>\n",
       "  </tbody>\n",
       "</table>\n",
       "</div>"
      ],
      "text/plain": [
       "        variable  count\n",
       "19      HalfBath      3\n",
       "17  BsmtHalfBath      4\n",
       "21  KitchenAbvGr      4\n",
       "16  BsmtFullBath      5\n",
       "18      FullBath      5\n",
       "23    Fireplaces      5\n",
       "35        YrSold      5\n",
       "25    GarageCars      7\n",
       "20  BedroomAbvGr      8\n",
       "4    OverallCond      9\n",
       "3    OverallQual     10\n",
       "34        MoSold     12\n",
       "22  TotRmsAbvGrd     14\n",
       "32      PoolArea     14\n",
       "0     MSSubClass     16\n",
       "6   YearRemodAdd     61\n",
       "24   GarageYrBlt    104\n",
       "5      YearBuilt    118"
      ]
     },
     "execution_count": 13,
     "metadata": {},
     "output_type": "execute_result"
    }
   ],
   "source": [
    "df_train_dummies_cols"
   ]
  },
  {
   "cell_type": "code",
   "execution_count": 14,
   "id": "7d88fb9f",
   "metadata": {},
   "outputs": [
    {
     "data": {
      "text/html": [
       "<div>\n",
       "<style scoped>\n",
       "    .dataframe tbody tr th:only-of-type {\n",
       "        vertical-align: middle;\n",
       "    }\n",
       "\n",
       "    .dataframe tbody tr th {\n",
       "        vertical-align: top;\n",
       "    }\n",
       "\n",
       "    .dataframe thead th {\n",
       "        text-align: right;\n",
       "    }\n",
       "</style>\n",
       "<table border=\"1\" class=\"dataframe\">\n",
       "  <thead>\n",
       "    <tr style=\"text-align: right;\">\n",
       "      <th></th>\n",
       "      <th>variable</th>\n",
       "      <th>count</th>\n",
       "    </tr>\n",
       "  </thead>\n",
       "  <tbody>\n",
       "    <tr>\n",
       "      <th>30</th>\n",
       "      <td>3SsnPorch</td>\n",
       "      <td>31</td>\n",
       "    </tr>\n",
       "    <tr>\n",
       "      <th>14</th>\n",
       "      <td>LowQualFinSF</td>\n",
       "      <td>36</td>\n",
       "    </tr>\n",
       "    <tr>\n",
       "      <th>33</th>\n",
       "      <td>MiscVal</td>\n",
       "      <td>38</td>\n",
       "    </tr>\n",
       "    <tr>\n",
       "      <th>31</th>\n",
       "      <td>ScreenPorch</td>\n",
       "      <td>121</td>\n",
       "    </tr>\n",
       "    <tr>\n",
       "      <th>1</th>\n",
       "      <td>LotFrontage</td>\n",
       "      <td>129</td>\n",
       "    </tr>\n",
       "    <tr>\n",
       "      <th>29</th>\n",
       "      <td>EnclosedPorch</td>\n",
       "      <td>183</td>\n",
       "    </tr>\n",
       "    <tr>\n",
       "      <th>28</th>\n",
       "      <td>OpenPorchSF</td>\n",
       "      <td>252</td>\n",
       "    </tr>\n",
       "    <tr>\n",
       "      <th>9</th>\n",
       "      <td>BsmtFinSF2</td>\n",
       "      <td>273</td>\n",
       "    </tr>\n",
       "    <tr>\n",
       "      <th>27</th>\n",
       "      <td>WoodDeckSF</td>\n",
       "      <td>379</td>\n",
       "    </tr>\n",
       "    <tr>\n",
       "      <th>7</th>\n",
       "      <td>MasVnrArea</td>\n",
       "      <td>445</td>\n",
       "    </tr>\n",
       "    <tr>\n",
       "      <th>26</th>\n",
       "      <td>GarageArea</td>\n",
       "      <td>604</td>\n",
       "    </tr>\n",
       "    <tr>\n",
       "      <th>13</th>\n",
       "      <td>2ndFlrSF</td>\n",
       "      <td>635</td>\n",
       "    </tr>\n",
       "    <tr>\n",
       "      <th>8</th>\n",
       "      <td>BsmtFinSF1</td>\n",
       "      <td>992</td>\n",
       "    </tr>\n",
       "    <tr>\n",
       "      <th>11</th>\n",
       "      <td>TotalBsmtSF</td>\n",
       "      <td>1059</td>\n",
       "    </tr>\n",
       "    <tr>\n",
       "      <th>12</th>\n",
       "      <td>1stFlrSF</td>\n",
       "      <td>1083</td>\n",
       "    </tr>\n",
       "    <tr>\n",
       "      <th>10</th>\n",
       "      <td>BsmtUnfSF</td>\n",
       "      <td>1136</td>\n",
       "    </tr>\n",
       "    <tr>\n",
       "      <th>15</th>\n",
       "      <td>GrLivArea</td>\n",
       "      <td>1292</td>\n",
       "    </tr>\n",
       "    <tr>\n",
       "      <th>2</th>\n",
       "      <td>LotArea</td>\n",
       "      <td>1951</td>\n",
       "    </tr>\n",
       "  </tbody>\n",
       "</table>\n",
       "</div>"
      ],
      "text/plain": [
       "         variable  count\n",
       "30      3SsnPorch     31\n",
       "14   LowQualFinSF     36\n",
       "33        MiscVal     38\n",
       "31    ScreenPorch    121\n",
       "1     LotFrontage    129\n",
       "29  EnclosedPorch    183\n",
       "28    OpenPorchSF    252\n",
       "9      BsmtFinSF2    273\n",
       "27     WoodDeckSF    379\n",
       "7      MasVnrArea    445\n",
       "26     GarageArea    604\n",
       "13       2ndFlrSF    635\n",
       "8      BsmtFinSF1    992\n",
       "11    TotalBsmtSF   1059\n",
       "12       1stFlrSF   1083\n",
       "10      BsmtUnfSF   1136\n",
       "15      GrLivArea   1292\n",
       "2         LotArea   1951"
      ]
     },
     "execution_count": 14,
     "metadata": {},
     "output_type": "execute_result"
    }
   ],
   "source": [
    "df_train_scaled_cols"
   ]
  },
  {
   "cell_type": "markdown",
   "id": "21b4fa8c",
   "metadata": {},
   "source": [
    "### Dummies"
   ]
  },
  {
   "cell_type": "code",
   "execution_count": 15,
   "id": "c43dfb7d",
   "metadata": {},
   "outputs": [
    {
     "name": "stderr",
     "output_type": "stream",
     "text": [
      "<ipython-input-4-8fc706ab67e0>:6: SettingWithCopyWarning: \n",
      "A value is trying to be set on a copy of a slice from a DataFrame.\n",
      "Try using .loc[row_indexer,col_indexer] = value instead\n",
      "\n",
      "See the caveats in the documentation: https://pandas.pydata.org/pandas-docs/stable/user_guide/indexing.html#returning-a-view-versus-a-copy\n",
      "  df[c] = pd.qcut(df[c], q=quantiles, duplicates='drop') # , labels=dummies_cols\n"
     ]
    },
    {
     "data": {
      "text/html": [
       "<div>\n",
       "<style scoped>\n",
       "    .dataframe tbody tr th:only-of-type {\n",
       "        vertical-align: middle;\n",
       "    }\n",
       "\n",
       "    .dataframe tbody tr th {\n",
       "        vertical-align: top;\n",
       "    }\n",
       "\n",
       "    .dataframe thead th {\n",
       "        text-align: right;\n",
       "    }\n",
       "</style>\n",
       "<table border=\"1\" class=\"dataframe\">\n",
       "  <thead>\n",
       "    <tr style=\"text-align: right;\">\n",
       "      <th></th>\n",
       "      <th>HalfBath__-0_001_ 1_0_</th>\n",
       "      <th>HalfBath__1_0_ 2_0_</th>\n",
       "      <th>BsmtHalfBath__-0_001_ 2_0_</th>\n",
       "      <th>KitchenAbvGr__-0_001_ 1_0_</th>\n",
       "      <th>KitchenAbvGr__1_0_ 3_0_</th>\n",
       "      <th>BsmtFullBath__-0_001_ 1_0_</th>\n",
       "      <th>BsmtFullBath__1_0_ 3_0_</th>\n",
       "      <th>FullBath__-0_001_ 1_0_</th>\n",
       "      <th>FullBath__1_0_ 2_0_</th>\n",
       "      <th>FullBath__2_0_ 4_0_</th>\n",
       "      <th>...</th>\n",
       "      <th>YearRemodAdd__1993_0_ 2004_0_</th>\n",
       "      <th>YearRemodAdd__2004_0_ 2010_0_</th>\n",
       "      <th>GarageYrBlt__1894_999_ 1961_5_</th>\n",
       "      <th>GarageYrBlt__1961_5_ 1978_113_</th>\n",
       "      <th>GarageYrBlt__1978_113_ 2001_0_</th>\n",
       "      <th>GarageYrBlt__2001_0_ 2207_0_</th>\n",
       "      <th>YearBuilt__1871_999_ 1953_5_</th>\n",
       "      <th>YearBuilt__1953_5_ 1973_0_</th>\n",
       "      <th>YearBuilt__1973_0_ 2001_0_</th>\n",
       "      <th>YearBuilt__2001_0_ 2010_0_</th>\n",
       "    </tr>\n",
       "  </thead>\n",
       "  <tbody>\n",
       "    <tr>\n",
       "      <th>0</th>\n",
       "      <td>1</td>\n",
       "      <td>0</td>\n",
       "      <td>1</td>\n",
       "      <td>1</td>\n",
       "      <td>0</td>\n",
       "      <td>1</td>\n",
       "      <td>0</td>\n",
       "      <td>0</td>\n",
       "      <td>1</td>\n",
       "      <td>0</td>\n",
       "      <td>...</td>\n",
       "      <td>1</td>\n",
       "      <td>0</td>\n",
       "      <td>0</td>\n",
       "      <td>0</td>\n",
       "      <td>0</td>\n",
       "      <td>1</td>\n",
       "      <td>0</td>\n",
       "      <td>0</td>\n",
       "      <td>0</td>\n",
       "      <td>1</td>\n",
       "    </tr>\n",
       "    <tr>\n",
       "      <th>1</th>\n",
       "      <td>1</td>\n",
       "      <td>0</td>\n",
       "      <td>1</td>\n",
       "      <td>1</td>\n",
       "      <td>0</td>\n",
       "      <td>1</td>\n",
       "      <td>0</td>\n",
       "      <td>0</td>\n",
       "      <td>1</td>\n",
       "      <td>0</td>\n",
       "      <td>...</td>\n",
       "      <td>0</td>\n",
       "      <td>0</td>\n",
       "      <td>0</td>\n",
       "      <td>1</td>\n",
       "      <td>0</td>\n",
       "      <td>0</td>\n",
       "      <td>0</td>\n",
       "      <td>0</td>\n",
       "      <td>1</td>\n",
       "      <td>0</td>\n",
       "    </tr>\n",
       "    <tr>\n",
       "      <th>2</th>\n",
       "      <td>1</td>\n",
       "      <td>0</td>\n",
       "      <td>1</td>\n",
       "      <td>1</td>\n",
       "      <td>0</td>\n",
       "      <td>1</td>\n",
       "      <td>0</td>\n",
       "      <td>0</td>\n",
       "      <td>1</td>\n",
       "      <td>0</td>\n",
       "      <td>...</td>\n",
       "      <td>1</td>\n",
       "      <td>0</td>\n",
       "      <td>0</td>\n",
       "      <td>0</td>\n",
       "      <td>1</td>\n",
       "      <td>0</td>\n",
       "      <td>0</td>\n",
       "      <td>0</td>\n",
       "      <td>1</td>\n",
       "      <td>0</td>\n",
       "    </tr>\n",
       "    <tr>\n",
       "      <th>3</th>\n",
       "      <td>1</td>\n",
       "      <td>0</td>\n",
       "      <td>1</td>\n",
       "      <td>1</td>\n",
       "      <td>0</td>\n",
       "      <td>1</td>\n",
       "      <td>0</td>\n",
       "      <td>1</td>\n",
       "      <td>0</td>\n",
       "      <td>0</td>\n",
       "      <td>...</td>\n",
       "      <td>0</td>\n",
       "      <td>0</td>\n",
       "      <td>0</td>\n",
       "      <td>0</td>\n",
       "      <td>1</td>\n",
       "      <td>0</td>\n",
       "      <td>1</td>\n",
       "      <td>0</td>\n",
       "      <td>0</td>\n",
       "      <td>0</td>\n",
       "    </tr>\n",
       "    <tr>\n",
       "      <th>4</th>\n",
       "      <td>1</td>\n",
       "      <td>0</td>\n",
       "      <td>1</td>\n",
       "      <td>1</td>\n",
       "      <td>0</td>\n",
       "      <td>1</td>\n",
       "      <td>0</td>\n",
       "      <td>0</td>\n",
       "      <td>1</td>\n",
       "      <td>0</td>\n",
       "      <td>...</td>\n",
       "      <td>1</td>\n",
       "      <td>0</td>\n",
       "      <td>0</td>\n",
       "      <td>0</td>\n",
       "      <td>1</td>\n",
       "      <td>0</td>\n",
       "      <td>0</td>\n",
       "      <td>0</td>\n",
       "      <td>1</td>\n",
       "      <td>0</td>\n",
       "    </tr>\n",
       "  </tbody>\n",
       "</table>\n",
       "<p>5 rows × 53 columns</p>\n",
       "</div>"
      ],
      "text/plain": [
       "   HalfBath__-0_001_ 1_0_  HalfBath__1_0_ 2_0_  BsmtHalfBath__-0_001_ 2_0_  \\\n",
       "0                       1                    0                           1   \n",
       "1                       1                    0                           1   \n",
       "2                       1                    0                           1   \n",
       "3                       1                    0                           1   \n",
       "4                       1                    0                           1   \n",
       "\n",
       "   KitchenAbvGr__-0_001_ 1_0_  KitchenAbvGr__1_0_ 3_0_  \\\n",
       "0                           1                        0   \n",
       "1                           1                        0   \n",
       "2                           1                        0   \n",
       "3                           1                        0   \n",
       "4                           1                        0   \n",
       "\n",
       "   BsmtFullBath__-0_001_ 1_0_  BsmtFullBath__1_0_ 3_0_  \\\n",
       "0                           1                        0   \n",
       "1                           1                        0   \n",
       "2                           1                        0   \n",
       "3                           1                        0   \n",
       "4                           1                        0   \n",
       "\n",
       "   FullBath__-0_001_ 1_0_  FullBath__1_0_ 2_0_  FullBath__2_0_ 4_0_  ...  \\\n",
       "0                       0                    1                    0  ...   \n",
       "1                       0                    1                    0  ...   \n",
       "2                       0                    1                    0  ...   \n",
       "3                       1                    0                    0  ...   \n",
       "4                       0                    1                    0  ...   \n",
       "\n",
       "   YearRemodAdd__1993_0_ 2004_0_  YearRemodAdd__2004_0_ 2010_0_  \\\n",
       "0                              1                              0   \n",
       "1                              0                              0   \n",
       "2                              1                              0   \n",
       "3                              0                              0   \n",
       "4                              1                              0   \n",
       "\n",
       "   GarageYrBlt__1894_999_ 1961_5_  GarageYrBlt__1961_5_ 1978_113_  \\\n",
       "0                               0                               0   \n",
       "1                               0                               1   \n",
       "2                               0                               0   \n",
       "3                               0                               0   \n",
       "4                               0                               0   \n",
       "\n",
       "   GarageYrBlt__1978_113_ 2001_0_  GarageYrBlt__2001_0_ 2207_0_  \\\n",
       "0                               0                             1   \n",
       "1                               0                             0   \n",
       "2                               1                             0   \n",
       "3                               1                             0   \n",
       "4                               1                             0   \n",
       "\n",
       "   YearBuilt__1871_999_ 1953_5_  YearBuilt__1953_5_ 1973_0_  \\\n",
       "0                             0                           0   \n",
       "1                             0                           0   \n",
       "2                             0                           0   \n",
       "3                             1                           0   \n",
       "4                             0                           0   \n",
       "\n",
       "   YearBuilt__1973_0_ 2001_0_  YearBuilt__2001_0_ 2010_0_  \n",
       "0                           0                           1  \n",
       "1                           1                           0  \n",
       "2                           1                           0  \n",
       "3                           0                           0  \n",
       "4                           1                           0  \n",
       "\n",
       "[5 rows x 53 columns]"
      ]
     },
     "execution_count": 15,
     "metadata": {},
     "output_type": "execute_result"
    }
   ],
   "source": [
    "df_train_dummies = dummies(df_train[df_train_dummies_cols['variable'].tolist()])\n",
    "\n",
    "df_train_dummies.head()"
   ]
  },
  {
   "cell_type": "markdown",
   "id": "037d0c00",
   "metadata": {},
   "source": [
    "### Scaled"
   ]
  },
  {
   "cell_type": "code",
   "execution_count": 16,
   "id": "6cbbf144",
   "metadata": {},
   "outputs": [
    {
     "name": "stderr",
     "output_type": "stream",
     "text": [
      "C:\\ProgramData\\Anaconda3\\lib\\site-packages\\pandas\\core\\frame.py:3191: SettingWithCopyWarning: \n",
      "A value is trying to be set on a copy of a slice from a DataFrame.\n",
      "Try using .loc[row_indexer,col_indexer] = value instead\n",
      "\n",
      "See the caveats in the documentation: https://pandas.pydata.org/pandas-docs/stable/user_guide/indexing.html#returning-a-view-versus-a-copy\n",
      "  self[k1] = value[k2]\n"
     ]
    },
    {
     "data": {
      "text/html": [
       "<div>\n",
       "<style scoped>\n",
       "    .dataframe tbody tr th:only-of-type {\n",
       "        vertical-align: middle;\n",
       "    }\n",
       "\n",
       "    .dataframe tbody tr th {\n",
       "        vertical-align: top;\n",
       "    }\n",
       "\n",
       "    .dataframe thead th {\n",
       "        text-align: right;\n",
       "    }\n",
       "</style>\n",
       "<table border=\"1\" class=\"dataframe\">\n",
       "  <thead>\n",
       "    <tr style=\"text-align: right;\">\n",
       "      <th></th>\n",
       "      <th>3SsnPorch</th>\n",
       "      <th>LowQualFinSF</th>\n",
       "      <th>MiscVal</th>\n",
       "      <th>ScreenPorch</th>\n",
       "      <th>LotFrontage</th>\n",
       "      <th>EnclosedPorch</th>\n",
       "      <th>OpenPorchSF</th>\n",
       "      <th>BsmtFinSF2</th>\n",
       "      <th>WoodDeckSF</th>\n",
       "      <th>MasVnrArea</th>\n",
       "      <th>GarageArea</th>\n",
       "      <th>2ndFlrSF</th>\n",
       "      <th>BsmtFinSF1</th>\n",
       "      <th>TotalBsmtSF</th>\n",
       "      <th>1stFlrSF</th>\n",
       "      <th>BsmtUnfSF</th>\n",
       "      <th>GrLivArea</th>\n",
       "      <th>LotArea</th>\n",
       "    </tr>\n",
       "  </thead>\n",
       "  <tbody>\n",
       "    <tr>\n",
       "      <th>0</th>\n",
       "      <td>-0.103331</td>\n",
       "      <td>-0.101197</td>\n",
       "      <td>-0.089592</td>\n",
       "      <td>-0.285935</td>\n",
       "      <td>-0.202068</td>\n",
       "      <td>-0.359601</td>\n",
       "      <td>0.200006</td>\n",
       "      <td>-0.29313</td>\n",
       "      <td>-0.740760</td>\n",
       "      <td>0.525202</td>\n",
       "      <td>0.348900</td>\n",
       "      <td>1.207379</td>\n",
       "      <td>0.580907</td>\n",
       "      <td>-0.444328</td>\n",
       "      <td>-0.773861</td>\n",
       "      <td>-0.934863</td>\n",
       "      <td>0.413547</td>\n",
       "      <td>-0.217879</td>\n",
       "    </tr>\n",
       "    <tr>\n",
       "      <th>1</th>\n",
       "      <td>-0.103331</td>\n",
       "      <td>-0.101197</td>\n",
       "      <td>-0.089592</td>\n",
       "      <td>-0.285935</td>\n",
       "      <td>0.501870</td>\n",
       "      <td>-0.359601</td>\n",
       "      <td>-0.702843</td>\n",
       "      <td>-0.29313</td>\n",
       "      <td>1.614879</td>\n",
       "      <td>-0.572250</td>\n",
       "      <td>-0.059792</td>\n",
       "      <td>-0.785025</td>\n",
       "      <td>1.178112</td>\n",
       "      <td>0.477111</td>\n",
       "      <td>0.261075</td>\n",
       "      <td>-0.629896</td>\n",
       "      <td>-0.471891</td>\n",
       "      <td>-0.072044</td>\n",
       "    </tr>\n",
       "    <tr>\n",
       "      <th>2</th>\n",
       "      <td>-0.103331</td>\n",
       "      <td>-0.101197</td>\n",
       "      <td>-0.089592</td>\n",
       "      <td>-0.285935</td>\n",
       "      <td>-0.061280</td>\n",
       "      <td>-0.359601</td>\n",
       "      <td>-0.081209</td>\n",
       "      <td>-0.29313</td>\n",
       "      <td>-0.740760</td>\n",
       "      <td>0.334828</td>\n",
       "      <td>0.627553</td>\n",
       "      <td>1.235375</td>\n",
       "      <td>0.097873</td>\n",
       "      <td>-0.299076</td>\n",
       "      <td>-0.610718</td>\n",
       "      <td>-0.288516</td>\n",
       "      <td>0.563755</td>\n",
       "      <td>0.137197</td>\n",
       "    </tr>\n",
       "    <tr>\n",
       "      <th>3</th>\n",
       "      <td>-0.103331</td>\n",
       "      <td>-0.101197</td>\n",
       "      <td>-0.089592</td>\n",
       "      <td>-0.285935</td>\n",
       "      <td>-0.436714</td>\n",
       "      <td>3.874967</td>\n",
       "      <td>-0.184815</td>\n",
       "      <td>-0.29313</td>\n",
       "      <td>-0.740760</td>\n",
       "      <td>-0.572250</td>\n",
       "      <td>0.785457</td>\n",
       "      <td>0.978742</td>\n",
       "      <td>-0.494941</td>\n",
       "      <td>-0.671283</td>\n",
       "      <td>-0.506205</td>\n",
       "      <td>-0.047275</td>\n",
       "      <td>0.427382</td>\n",
       "      <td>-0.078385</td>\n",
       "    </tr>\n",
       "    <tr>\n",
       "      <th>4</th>\n",
       "      <td>-0.103331</td>\n",
       "      <td>-0.101197</td>\n",
       "      <td>-0.089592</td>\n",
       "      <td>-0.285935</td>\n",
       "      <td>0.689587</td>\n",
       "      <td>-0.359601</td>\n",
       "      <td>0.540424</td>\n",
       "      <td>-0.29313</td>\n",
       "      <td>0.776967</td>\n",
       "      <td>1.387486</td>\n",
       "      <td>1.686437</td>\n",
       "      <td>1.671651</td>\n",
       "      <td>0.468931</td>\n",
       "      <td>0.211573</td>\n",
       "      <td>-0.037170</td>\n",
       "      <td>-0.161068</td>\n",
       "      <td>1.378042</td>\n",
       "      <td>0.518903</td>\n",
       "    </tr>\n",
       "  </tbody>\n",
       "</table>\n",
       "</div>"
      ],
      "text/plain": [
       "   3SsnPorch  LowQualFinSF   MiscVal  ScreenPorch  LotFrontage  EnclosedPorch  \\\n",
       "0  -0.103331     -0.101197 -0.089592    -0.285935    -0.202068      -0.359601   \n",
       "1  -0.103331     -0.101197 -0.089592    -0.285935     0.501870      -0.359601   \n",
       "2  -0.103331     -0.101197 -0.089592    -0.285935    -0.061280      -0.359601   \n",
       "3  -0.103331     -0.101197 -0.089592    -0.285935    -0.436714       3.874967   \n",
       "4  -0.103331     -0.101197 -0.089592    -0.285935     0.689587      -0.359601   \n",
       "\n",
       "   OpenPorchSF  BsmtFinSF2  WoodDeckSF  MasVnrArea  GarageArea  2ndFlrSF  \\\n",
       "0     0.200006    -0.29313   -0.740760    0.525202    0.348900  1.207379   \n",
       "1    -0.702843    -0.29313    1.614879   -0.572250   -0.059792 -0.785025   \n",
       "2    -0.081209    -0.29313   -0.740760    0.334828    0.627553  1.235375   \n",
       "3    -0.184815    -0.29313   -0.740760   -0.572250    0.785457  0.978742   \n",
       "4     0.540424    -0.29313    0.776967    1.387486    1.686437  1.671651   \n",
       "\n",
       "   BsmtFinSF1  TotalBsmtSF  1stFlrSF  BsmtUnfSF  GrLivArea   LotArea  \n",
       "0    0.580907    -0.444328 -0.773861  -0.934863   0.413547 -0.217879  \n",
       "1    1.178112     0.477111  0.261075  -0.629896  -0.471891 -0.072044  \n",
       "2    0.097873    -0.299076 -0.610718  -0.288516   0.563755  0.137197  \n",
       "3   -0.494941    -0.671283 -0.506205  -0.047275   0.427382 -0.078385  \n",
       "4    0.468931     0.211573 -0.037170  -0.161068   1.378042  0.518903  "
      ]
     },
     "execution_count": 16,
     "metadata": {},
     "output_type": "execute_result"
    }
   ],
   "source": [
    "df_train_scaled = df_train[df_train_scaled_cols['variable'].tolist()]\n",
    "\n",
    "scaler = preprocessing.StandardScaler().fit(df_train_scaled)\n",
    "df_train_scaled[df_train_scaled.columns] = pd.DataFrame(scaler.transform(df_train_scaled), index=df_train_scaled.index)\n",
    "\n",
    "df_train_scaled.head()"
   ]
  },
  {
   "cell_type": "code",
   "execution_count": null,
   "id": "40d3df73",
   "metadata": {},
   "outputs": [],
   "source": []
  },
  {
   "cell_type": "code",
   "execution_count": 17,
   "id": "db18d7fd",
   "metadata": {},
   "outputs": [
    {
     "data": {
      "text/plain": [
       "(2919, 71)"
      ]
     },
     "execution_count": 17,
     "metadata": {},
     "output_type": "execute_result"
    }
   ],
   "source": [
    "df_train = pd.concat([df_train_dummies, df_train_scaled], axis=1)\n",
    "df_train.shape"
   ]
  },
  {
   "cell_type": "markdown",
   "id": "6dd48f04",
   "metadata": {},
   "source": [
    "##### variance filter"
   ]
  },
  {
   "cell_type": "code",
   "execution_count": 18,
   "id": "a276ed9a",
   "metadata": {},
   "outputs": [
    {
     "data": {
      "text/plain": [
       "\"\\nselector = VarianceThreshold(variance_threshold)\\n\\nselector.fit(df_train)\\nfeatures = selector.get_support(indices = True) #returns an array of integers corresponding to nonremoved features\\n#features\\nfeatures = [column for column in df_train.columns[features]] #Array of all nonremoved features' names\\n#features\\n#Format and Return\\ndf_train = pd.DataFrame(selector.transform(df_train))\\ndf_train.columns = features\\n\""
      ]
     },
     "execution_count": 18,
     "metadata": {},
     "output_type": "execute_result"
    }
   ],
   "source": [
    "'''\n",
    "selector = VarianceThreshold(variance_threshold)\n",
    "\n",
    "selector.fit(df_train)\n",
    "features = selector.get_support(indices = True) #returns an array of integers corresponding to nonremoved features\n",
    "#features\n",
    "features = [column for column in df_train.columns[features]] #Array of all nonremoved features' names\n",
    "#features\n",
    "#Format and Return\n",
    "df_train = pd.DataFrame(selector.transform(df_train))\n",
    "df_train.columns = features\n",
    "'''"
   ]
  },
  {
   "cell_type": "markdown",
   "id": "33e8f8c7",
   "metadata": {},
   "source": [
    "##### separate train - test"
   ]
  },
  {
   "cell_type": "code",
   "execution_count": 19,
   "id": "fa72e34e",
   "metadata": {},
   "outputs": [
    {
     "name": "stdout",
     "output_type": "stream",
     "text": [
      "(1460, 71) (1459, 71)\n"
     ]
    }
   ],
   "source": [
    "df_test = df_train.tail(1459) \n",
    "df_train = df_train.head(1460) \n",
    "\n",
    "print(df_train.shape, df_test.shape)"
   ]
  },
  {
   "cell_type": "code",
   "execution_count": 20,
   "id": "8cfa00f5",
   "metadata": {},
   "outputs": [],
   "source": [
    "target = df_train_SalePrice\n",
    "data = df_train\n",
    "\n",
    "X_train, X_test, y_train, y_test = train_test_split(data, target, test_size = 0.3, random_state = 66) "
   ]
  },
  {
   "cell_type": "markdown",
   "id": "5399b39f",
   "metadata": {},
   "source": [
    "##### pca reduction dimension"
   ]
  },
  {
   "cell_type": "code",
   "execution_count": 21,
   "id": "bb5f4ded",
   "metadata": {},
   "outputs": [
    {
     "data": {
      "text/plain": [
       "'\\nprint(X_train.shape, X_test.shape)\\npca = PCA(n_components = pca_components)\\nX_train = pca.fit_transform(X_train)\\nX_test = pca.transform(X_test)\\nprint(X_train.shape, X_test.shape)\\n'"
      ]
     },
     "execution_count": 21,
     "metadata": {},
     "output_type": "execute_result"
    }
   ],
   "source": [
    "'''\n",
    "print(X_train.shape, X_test.shape)\n",
    "pca = PCA(n_components = pca_components)\n",
    "X_train = pca.fit_transform(X_train)\n",
    "X_test = pca.transform(X_test)\n",
    "print(X_train.shape, X_test.shape)\n",
    "'''"
   ]
  },
  {
   "cell_type": "code",
   "execution_count": 22,
   "id": "4f9f0e2e",
   "metadata": {},
   "outputs": [
    {
     "name": "stdout",
     "output_type": "stream",
     "text": [
      "1.5.2\n"
     ]
    }
   ],
   "source": [
    "import xgboost\n",
    "from xgboost import XGBRegressor\n",
    "from sklearn.metrics import mean_squared_error\n",
    "print(xgboost.__version__)"
   ]
  },
  {
   "cell_type": "markdown",
   "id": "17de59ab",
   "metadata": {},
   "source": [
    "### XGBRegressor"
   ]
  },
  {
   "cell_type": "markdown",
   "id": "323602d9",
   "metadata": {},
   "source": [
    "https://towardsdatascience.com/fine-tuning-xgboost-in-python-like-a-boss-b4543ed8b1e\n",
    "    \n",
    "https://stackoverflow.com/questions/53731529/using-xgboost-regressor-in-python-results-in-very-good-training-performance-but"
   ]
  },
  {
   "cell_type": "code",
   "execution_count": 23,
   "id": "27d0b3e4",
   "metadata": {
    "scrolled": true
   },
   "outputs": [
    {
     "name": "stdout",
     "output_type": "stream",
     "text": [
      "[0]\tvalidation_0-rmse:140531.98438\n",
      "[1]\tvalidation_0-rmse:102428.70312\n",
      "[2]\tvalidation_0-rmse:76651.45312\n",
      "[3]\tvalidation_0-rmse:58657.68750\n",
      "[4]\tvalidation_0-rmse:46432.23047\n",
      "[5]\tvalidation_0-rmse:38799.63281\n",
      "[6]\tvalidation_0-rmse:34225.07422\n",
      "[7]\tvalidation_0-rmse:31346.15625\n",
      "[8]\tvalidation_0-rmse:29994.58398\n",
      "[9]\tvalidation_0-rmse:29065.33008\n",
      "[10]\tvalidation_0-rmse:28821.69531\n",
      "[11]\tvalidation_0-rmse:28328.34766\n",
      "[12]\tvalidation_0-rmse:28063.97656\n",
      "[13]\tvalidation_0-rmse:27732.77930\n",
      "[14]\tvalidation_0-rmse:27568.25000\n",
      "[15]\tvalidation_0-rmse:27338.38477\n",
      "[16]\tvalidation_0-rmse:27274.88672\n",
      "[17]\tvalidation_0-rmse:27145.64062\n",
      "[18]\tvalidation_0-rmse:27111.34570\n",
      "[19]\tvalidation_0-rmse:27210.49414\n",
      "[20]\tvalidation_0-rmse:27229.26953\n",
      "[21]\tvalidation_0-rmse:27137.46094\n",
      "[22]\tvalidation_0-rmse:27087.14648\n",
      "[23]\tvalidation_0-rmse:27148.98438\n",
      "[24]\tvalidation_0-rmse:27102.09180\n",
      "[25]\tvalidation_0-rmse:27058.30469\n",
      "[26]\tvalidation_0-rmse:27082.51172\n",
      "[27]\tvalidation_0-rmse:27143.42969\n",
      "[28]\tvalidation_0-rmse:27134.91211\n",
      "[29]\tvalidation_0-rmse:27155.32422\n",
      "[30]\tvalidation_0-rmse:27128.10547\n",
      "[31]\tvalidation_0-rmse:27104.59570\n",
      "[32]\tvalidation_0-rmse:27160.05859\n",
      "[33]\tvalidation_0-rmse:27132.90234\n",
      "[34]\tvalidation_0-rmse:27096.85938\n",
      "[35]\tvalidation_0-rmse:27116.07422\n",
      "[36]\tvalidation_0-rmse:27121.02148\n",
      "[37]\tvalidation_0-rmse:27028.22266\n",
      "[38]\tvalidation_0-rmse:27040.54492\n",
      "[39]\tvalidation_0-rmse:27030.30469\n",
      "[40]\tvalidation_0-rmse:27014.24805\n",
      "[41]\tvalidation_0-rmse:26998.95312\n",
      "[42]\tvalidation_0-rmse:26977.39453\n",
      "[43]\tvalidation_0-rmse:26859.71094\n",
      "[44]\tvalidation_0-rmse:26802.12109\n",
      "[45]\tvalidation_0-rmse:26812.67969\n",
      "[46]\tvalidation_0-rmse:26771.52930\n",
      "[47]\tvalidation_0-rmse:26786.01758\n",
      "[48]\tvalidation_0-rmse:26783.68164\n",
      "[49]\tvalidation_0-rmse:26815.08008\n",
      "RMSE :  26815.079275\n"
     ]
    }
   ],
   "source": [
    "# create an xgboost regression model\n",
    "#model_xgbr = XGBRegressor()\n",
    "\n",
    "# Instantiation\n",
    "xgb_r = XGBRegressor(objective ='reg:squarederror', learning_rate=0.3, subsample=1, colsample_bytree=1, gamma=0.1,\n",
    "                     max_depth=4, \n",
    "                  n_estimators = 50, seed = 123)\n",
    "  \n",
    "# Fitting the model\n",
    "eval_set = [(X_test, y_test)]\n",
    "xgb_r.fit(X_train, y_train, eval_metric=\"rmse\", eval_set=eval_set, verbose=True)\n",
    "  \n",
    "# Predict the model\n",
    "pred = xgb_r.predict(X_test)\n",
    "  \n",
    "# RMSE Computation\n",
    "rmse = np.sqrt(mean_squared_error(y_test, pred))\n",
    "print(\"RMSE : % f\" %(rmse))"
   ]
  },
  {
   "cell_type": "code",
   "execution_count": 24,
   "id": "a3048c3b",
   "metadata": {},
   "outputs": [
    {
     "name": "stdout",
     "output_type": "stream",
     "text": [
      "score train : 0.9850213117920847\n",
      "score test : 0.8851263364494057\n"
     ]
    }
   ],
   "source": [
    "print(\"score train :\",xgb_r.score(X_train, y_train))\n",
    "print(\"score test :\", xgb_r.score(X_test, y_test))"
   ]
  },
  {
   "cell_type": "code",
   "execution_count": 25,
   "id": "6ffcf146",
   "metadata": {},
   "outputs": [
    {
     "data": {
      "text/html": [
       "<div>\n",
       "<style scoped>\n",
       "    .dataframe tbody tr th:only-of-type {\n",
       "        vertical-align: middle;\n",
       "    }\n",
       "\n",
       "    .dataframe tbody tr th {\n",
       "        vertical-align: top;\n",
       "    }\n",
       "\n",
       "    .dataframe thead th {\n",
       "        text-align: right;\n",
       "    }\n",
       "</style>\n",
       "<table border=\"1\" class=\"dataframe\">\n",
       "  <thead>\n",
       "    <tr style=\"text-align: right;\">\n",
       "      <th></th>\n",
       "      <th>SalePrice</th>\n",
       "    </tr>\n",
       "  </thead>\n",
       "  <tbody>\n",
       "    <tr>\n",
       "      <th>0</th>\n",
       "      <td>128231.750000</td>\n",
       "    </tr>\n",
       "    <tr>\n",
       "      <th>1</th>\n",
       "      <td>182711.187500</td>\n",
       "    </tr>\n",
       "    <tr>\n",
       "      <th>2</th>\n",
       "      <td>177454.281250</td>\n",
       "    </tr>\n",
       "    <tr>\n",
       "      <th>3</th>\n",
       "      <td>187708.703125</td>\n",
       "    </tr>\n",
       "    <tr>\n",
       "      <th>4</th>\n",
       "      <td>192396.328125</td>\n",
       "    </tr>\n",
       "  </tbody>\n",
       "</table>\n",
       "</div>"
      ],
      "text/plain": [
       "       SalePrice\n",
       "0  128231.750000\n",
       "1  182711.187500\n",
       "2  177454.281250\n",
       "3  187708.703125\n",
       "4  192396.328125"
      ]
     },
     "execution_count": 25,
     "metadata": {},
     "output_type": "execute_result"
    }
   ],
   "source": [
    "#pred = xgb_r.predict(pca.transform(df_test))\n",
    "pred = xgb_r.predict(df_test)\n",
    "\n",
    "df_pred = pd.DataFrame(pred, columns=['SalePrice'])\n",
    "df_pred.head()"
   ]
  },
  {
   "cell_type": "code",
   "execution_count": 26,
   "id": "7764f413",
   "metadata": {},
   "outputs": [
    {
     "data": {
      "text/plain": [
       "(1459, 2)"
      ]
     },
     "execution_count": 26,
     "metadata": {},
     "output_type": "execute_result"
    }
   ],
   "source": [
    "df_pred = df_test_Id.join(df_pred)\n",
    "\n",
    "df_pred.shape"
   ]
  },
  {
   "cell_type": "code",
   "execution_count": 27,
   "id": "eeb0c3cc",
   "metadata": {},
   "outputs": [],
   "source": [
    "df_pred.to_csv('./submission/model_xgb_r.csv', index=False)"
   ]
  },
  {
   "cell_type": "markdown",
   "id": "91a6214d",
   "metadata": {},
   "source": [
    "### GradientBoostingRegressor"
   ]
  },
  {
   "cell_type": "code",
   "execution_count": 28,
   "id": "98d2ed7e",
   "metadata": {},
   "outputs": [],
   "source": [
    "from sklearn.ensemble import GradientBoostingRegressor"
   ]
  },
  {
   "cell_type": "code",
   "execution_count": 69,
   "id": "0ea39522",
   "metadata": {},
   "outputs": [],
   "source": [
    "gbrt = GradientBoostingRegressor(max_depth=4, n_estimators = 5000, learning_rate=0.1, verbose=True)"
   ]
  },
  {
   "cell_type": "code",
   "execution_count": 70,
   "id": "4e72984e",
   "metadata": {
    "scrolled": true
   },
   "outputs": [
    {
     "name": "stdout",
     "output_type": "stream",
     "text": [
      "      Iter       Train Loss   Remaining Time \n",
      "         1  5360109808.4857            1.08m\n",
      "         2  4562394014.1364           45.86s\n",
      "         3  3908596329.2408           30.56s\n",
      "         4  3337834812.4866           40.08s\n",
      "         5  2867610005.2076           32.06s\n",
      "         6  2490308773.2306           37.54s\n",
      "         7  2162586481.8787           34.13s\n",
      "         8  1897706783.4305           33.30s\n",
      "         9  1680527085.1986           34.06s\n",
      "        10  1487605398.7208           34.64s\n",
      "        20   576742060.0333           31.01s\n",
      "        30   335284388.6090           30.99s\n",
      "        40   248863599.8871           31.16s\n",
      "        50   208409664.0842           29.52s\n",
      "        60   180585233.2645           29.70s\n",
      "        70   160832925.0635           30.91s\n",
      "        80   146137742.8529           30.95s\n",
      "        90   130930059.3320           30.87s\n",
      "       100   118972617.1688           30.02s\n",
      "       200    50959533.6163           29.93s\n",
      "       300    23394502.5739           29.13s\n",
      "       400    11776535.6891           28.36s\n",
      "       500     6756814.3026           27.47s\n",
      "       600     3628470.8677           26.76s\n",
      "       700     2070477.3764           25.83s\n",
      "       800     1191431.2697           25.09s\n",
      "       900      698609.7129           24.21s\n",
      "      1000      426073.7418           23.30s\n",
      "      2000       43194.7769           16.01s\n",
      "      3000       41541.3206           10.30s\n",
      "      4000       41531.3690            5.03s\n",
      "      5000       41531.3115            0.00s\n"
     ]
    },
    {
     "data": {
      "text/plain": [
       "GradientBoostingRegressor(max_depth=4, n_estimators=5000, verbose=True)"
      ]
     },
     "execution_count": 70,
     "metadata": {},
     "output_type": "execute_result"
    }
   ],
   "source": [
    "gbrt.fit(X_train, y_train.values.ravel())"
   ]
  },
  {
   "cell_type": "code",
   "execution_count": 71,
   "id": "82731c1b",
   "metadata": {},
   "outputs": [],
   "source": [
    "pred = gbrt.predict(X_test)"
   ]
  },
  {
   "cell_type": "code",
   "execution_count": 72,
   "id": "585e3e89",
   "metadata": {},
   "outputs": [
    {
     "data": {
      "text/plain": [
       "0.864357683384419"
      ]
     },
     "execution_count": 72,
     "metadata": {},
     "output_type": "execute_result"
    }
   ],
   "source": [
    "gbrt.score(X_test, y_test)"
   ]
  },
  {
   "cell_type": "code",
   "execution_count": 73,
   "id": "e829f6db",
   "metadata": {},
   "outputs": [
    {
     "name": "stdout",
     "output_type": "stream",
     "text": [
      "RMSE :  29138.450167\n"
     ]
    }
   ],
   "source": [
    "rmse = np.sqrt(mean_squared_error(y_test, pred))\n",
    "print(\"RMSE : % f\" %(rmse))"
   ]
  },
  {
   "cell_type": "code",
   "execution_count": 34,
   "id": "895e89a8",
   "metadata": {},
   "outputs": [],
   "source": [
    "df_pred.to_csv('./submission/model_gbrt.csv', index=False)"
   ]
  },
  {
   "cell_type": "markdown",
   "id": "d7099ad1",
   "metadata": {},
   "source": [
    "##### tests"
   ]
  },
  {
   "cell_type": "markdown",
   "id": "e0176507",
   "metadata": {},
   "source": [
    "https://medium.com/all-things-ai/in-depth-parameter-tuning-for-gradient-boosting-3363992e9bae"
   ]
  },
  {
   "cell_type": "markdown",
   "id": "500b9764",
   "metadata": {},
   "source": [
    "###### learning_rates"
   ]
  },
  {
   "cell_type": "code",
   "execution_count": 55,
   "id": "1bc54eab",
   "metadata": {},
   "outputs": [
    {
     "data": {
      "image/png": "[encoded data removed]",
      "text/plain": [
       "<Figure size 432x288 with 1 Axes>"
      ]
     },
     "metadata": {
      "needs_background": "light"
     },
     "output_type": "display_data"
    }
   ],
   "source": [
    "learning_rates = [1, 0.5, 0.25, 0.1, 0.05, 0.01, 0.001, 0.0001]\n",
    "train_results = []\n",
    "test_results = []\n",
    "for eta in learning_rates:\n",
    "   model = GradientBoostingRegressor(learning_rate=eta)\n",
    "   model.fit(X_train, y_train.values.ravel())\n",
    "   train_pred = model.predict(X_train)\n",
    "   train_results.append(model.score(X_train, y_train.values.ravel()))\n",
    "   y_pred = model.predict(X_test)\n",
    "   test_results.append(model.score(X_test, y_test))\n",
    "from matplotlib.legend_handler import HandlerLine2D\n",
    "line1, = plt.plot(learning_rates, train_results, 'b', label=\"Train score\")\n",
    "line2, = plt.plot(learning_rates, test_results, 'r', label=\"Test score\")\n",
    "plt.legend(handler_map={line1: HandlerLine2D(numpoints=2)})\n",
    "plt.ylabel(\"score\")\n",
    "plt.xlabel(\"learning rate\")\n",
    "plt.show()"
   ]
  },
  {
   "cell_type": "markdown",
   "id": "2385dffc",
   "metadata": {},
   "source": [
    "###### n_estimators"
   ]
  },
  {
   "cell_type": "code",
   "execution_count": 56,
   "id": "12880429",
   "metadata": {},
   "outputs": [
    {
     "data": {
      "image/png": "[encoded data removed]",
      "text/plain": [
       "<Figure size 432x288 with 1 Axes>"
      ]
     },
     "metadata": {
      "needs_background": "light"
     },
     "output_type": "display_data"
    }
   ],
   "source": [
    "n_estimators = [1, 10, 20, 30, 40, 50, 60, 70, 80, 90, 100, 110, 120, 130, 140, 150]\n",
    "train_results = []\n",
    "test_results = []\n",
    "for eta in n_estimators:\n",
    "   model = GradientBoostingRegressor(n_estimators=eta)\n",
    "   model.fit(X_train, y_train.values.ravel())\n",
    "   train_pred = model.predict(X_train)\n",
    "   train_results.append(model.score(X_train, y_train.values.ravel()))\n",
    "   y_pred = model.predict(X_test)\n",
    "   test_results.append(model.score(X_test, y_test))\n",
    "from matplotlib.legend_handler import HandlerLine2D\n",
    "line1, = plt.plot(n_estimators, train_results, 'b', label=\"Train score\")\n",
    "line2, = plt.plot(n_estimators, test_results, 'r', label=\"Test score\")\n",
    "plt.legend(handler_map={line1: HandlerLine2D(numpoints=2)})\n",
    "plt.ylabel(\"score\")\n",
    "plt.xlabel(\"n_estimators\")\n",
    "plt.show()"
   ]
  },
  {
   "cell_type": "code",
   "execution_count": null,
   "id": "35e5b3b8",
   "metadata": {},
   "outputs": [],
   "source": []
  },
  {
   "cell_type": "code",
   "execution_count": null,
   "id": "6b1f9852",
   "metadata": {},
   "outputs": [],
   "source": []
  },
  {
   "cell_type": "markdown",
   "id": "11aeeafe",
   "metadata": {},
   "source": []
  }
 ],
 "metadata": {
  "kernelspec": {
   "display_name": "Python 3",
   "language": "python",
   "name": "python3"
  },
  "language_info": {
   "codemirror_mode": {
    "name": "ipython",
    "version": 3
   },
   "file_extension": ".py",
   "mimetype": "text/x-python",
   "name": "python",
   "nbconvert_exporter": "python",
   "pygments_lexer": "ipython3",
   "version": "3.8.8"
  }
 },
 "nbformat": 4,
 "nbformat_minor": 5
}
