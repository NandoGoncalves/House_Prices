{
 "cells": [
  {
   "cell_type": "code",
   "execution_count": 1,
   "id": "0eedc437",
   "metadata": {},
   "outputs": [],
   "source": [
    "import joblib\n",
    "import pandas as pd\n",
    "\n",
    "from sklearn.preprocessing import MinMaxScaler\n",
    "from sklearn.preprocessing import StandardScaler\n",
    "\n",
    "from typing import List, Dict"
   ]
  },
  {
   "cell_type": "code",
   "execution_count": 2,
   "id": "100a44c6",
   "metadata": {},
   "outputs": [],
   "source": [
    "model_file = \"./model/model_xgbr.pkl\"\n",
    "model_xgbr = joblib.load(model_file)"
   ]
  },
  {
   "cell_type": "code",
   "execution_count": 3,
   "id": "26598d84",
   "metadata": {},
   "outputs": [
    {
     "data": {
      "text/plain": [
       "XGBRegressor(base_score=0.5, booster='gbtree', colsample_bylevel=1,\n",
       "             colsample_bynode=1, colsample_bytree=1, enable_categorical=False,\n",
       "             gamma=0, gpu_id=-1, importance_type=None,\n",
       "             interaction_constraints='', learning_rate=0.09, max_delta_step=0,\n",
       "             max_depth=4, min_child_weight=1, missing=nan,\n",
       "             monotone_constraints='()', n_estimators=500, n_jobs=12,\n",
       "             num_parallel_tree=1, predictor='auto', random_state=0, reg_alpha=0,\n",
       "             reg_lambda=1, scale_pos_weight=1, subsample=0.64,\n",
       "             tree_method='auto', validate_parameters=1, verbosity=None)"
      ]
     },
     "execution_count": 3,
     "metadata": {},
     "output_type": "execute_result"
    }
   ],
   "source": [
    "model_xgbr"
   ]
  },
  {
   "cell_type": "code",
   "execution_count": 4,
   "id": "1c9ed7f6",
   "metadata": {},
   "outputs": [
    {
     "data": {
      "text/plain": [
       "(1459, 80)"
      ]
     },
     "execution_count": 4,
     "metadata": {},
     "output_type": "execute_result"
    }
   ],
   "source": [
    "df = pd.read_csv(\"./dataset/test.csv\")\n",
    "df.shape"
   ]
  },
  {
   "cell_type": "code",
   "execution_count": 5,
   "id": "992227b5",
   "metadata": {},
   "outputs": [
    {
     "data": {
      "text/plain": [
       "(1459, 1)"
      ]
     },
     "execution_count": 5,
     "metadata": {},
     "output_type": "execute_result"
    }
   ],
   "source": [
    "df_id = df[['Id']]\n",
    "df_id.shape"
   ]
  },
  {
   "cell_type": "markdown",
   "id": "d648d610",
   "metadata": {},
   "source": [
    "### variable numérique"
   ]
  },
  {
   "cell_type": "code",
   "execution_count": 6,
   "id": "fae731a0",
   "metadata": {},
   "outputs": [],
   "source": [
    "df['GarageArea'] = df[['GarageArea']].fillna((df['GarageArea'].mean()), inplace=False)\n",
    "df['TotalBsmtSF'] = df[['TotalBsmtSF']].fillna((df['TotalBsmtSF'].mean()), inplace=False)"
   ]
  },
  {
   "cell_type": "code",
   "execution_count": 7,
   "id": "1867e0be",
   "metadata": {},
   "outputs": [],
   "source": [
    "df.loc[df['GarageArea'] == 0, 'GarageArea'] = df['GarageArea'].quantile(0.5)\n",
    "df.loc[df['TotalBsmtSF'] == 0, 'TotalBsmtSF'] = df['TotalBsmtSF'].quantile(0.5)"
   ]
  },
  {
   "cell_type": "code",
   "execution_count": 8,
   "id": "3d8e28cf",
   "metadata": {},
   "outputs": [
    {
     "data": {
      "text/html": [
       "<div>\n",
       "<style scoped>\n",
       "    .dataframe tbody tr th:only-of-type {\n",
       "        vertical-align: middle;\n",
       "    }\n",
       "\n",
       "    .dataframe tbody tr th {\n",
       "        vertical-align: top;\n",
       "    }\n",
       "\n",
       "    .dataframe thead th {\n",
       "        text-align: right;\n",
       "    }\n",
       "</style>\n",
       "<table border=\"1\" class=\"dataframe\">\n",
       "  <thead>\n",
       "    <tr style=\"text-align: right;\">\n",
       "      <th></th>\n",
       "      <th>GrLivArea</th>\n",
       "      <th>GarageArea</th>\n",
       "      <th>TotalBsmtSF</th>\n",
       "      <th>1stFlrSF</th>\n",
       "      <th>LotArea</th>\n",
       "    </tr>\n",
       "  </thead>\n",
       "  <tbody>\n",
       "    <tr>\n",
       "      <th>count</th>\n",
       "      <td>1459.000000</td>\n",
       "      <td>1459.000000</td>\n",
       "      <td>1459.000000</td>\n",
       "      <td>1459.000000</td>\n",
       "      <td>1459.000000</td>\n",
       "    </tr>\n",
       "    <tr>\n",
       "      <th>mean</th>\n",
       "      <td>1486.045922</td>\n",
       "      <td>497.772288</td>\n",
       "      <td>1073.882192</td>\n",
       "      <td>1156.534613</td>\n",
       "      <td>9819.161069</td>\n",
       "    </tr>\n",
       "    <tr>\n",
       "      <th>std</th>\n",
       "      <td>485.566099</td>\n",
       "      <td>186.558747</td>\n",
       "      <td>405.677201</td>\n",
       "      <td>398.165820</td>\n",
       "      <td>4955.517327</td>\n",
       "    </tr>\n",
       "    <tr>\n",
       "      <th>min</th>\n",
       "      <td>407.000000</td>\n",
       "      <td>100.000000</td>\n",
       "      <td>160.000000</td>\n",
       "      <td>407.000000</td>\n",
       "      <td>1470.000000</td>\n",
       "    </tr>\n",
       "    <tr>\n",
       "      <th>25%</th>\n",
       "      <td>1117.500000</td>\n",
       "      <td>368.500000</td>\n",
       "      <td>816.000000</td>\n",
       "      <td>873.500000</td>\n",
       "      <td>7391.000000</td>\n",
       "    </tr>\n",
       "    <tr>\n",
       "      <th>50%</th>\n",
       "      <td>1432.000000</td>\n",
       "      <td>480.000000</td>\n",
       "      <td>988.000000</td>\n",
       "      <td>1079.000000</td>\n",
       "      <td>9399.000000</td>\n",
       "    </tr>\n",
       "    <tr>\n",
       "      <th>75%</th>\n",
       "      <td>1721.000000</td>\n",
       "      <td>576.000000</td>\n",
       "      <td>1304.000000</td>\n",
       "      <td>1382.500000</td>\n",
       "      <td>11517.500000</td>\n",
       "    </tr>\n",
       "    <tr>\n",
       "      <th>max</th>\n",
       "      <td>5095.000000</td>\n",
       "      <td>1488.000000</td>\n",
       "      <td>5095.000000</td>\n",
       "      <td>5095.000000</td>\n",
       "      <td>56600.000000</td>\n",
       "    </tr>\n",
       "  </tbody>\n",
       "</table>\n",
       "</div>"
      ],
      "text/plain": [
       "         GrLivArea   GarageArea  TotalBsmtSF     1stFlrSF       LotArea\n",
       "count  1459.000000  1459.000000  1459.000000  1459.000000   1459.000000\n",
       "mean   1486.045922   497.772288  1073.882192  1156.534613   9819.161069\n",
       "std     485.566099   186.558747   405.677201   398.165820   4955.517327\n",
       "min     407.000000   100.000000   160.000000   407.000000   1470.000000\n",
       "25%    1117.500000   368.500000   816.000000   873.500000   7391.000000\n",
       "50%    1432.000000   480.000000   988.000000  1079.000000   9399.000000\n",
       "75%    1721.000000   576.000000  1304.000000  1382.500000  11517.500000\n",
       "max    5095.000000  1488.000000  5095.000000  5095.000000  56600.000000"
      ]
     },
     "execution_count": 8,
     "metadata": {},
     "output_type": "execute_result"
    }
   ],
   "source": [
    "df_num = df[['GrLivArea', 'GarageArea', 'TotalBsmtSF', '1stFlrSF', 'LotArea']] \n",
    "df_num.describe()"
   ]
  },
  {
   "cell_type": "code",
   "execution_count": 9,
   "id": "f1eb6c62",
   "metadata": {},
   "outputs": [],
   "source": [
    "def qcut(df, variables, labels = ['micro-','micro','micro+', 'tiny-', 'tiny','tiny+', 'small-', 'small', 'small+','medium-', 'medium','medium+', 'large-', 'large', 'large+']) -> Dict:\n",
    "    print('labels :', len(labels))\n",
    "    df_dis_dic = {}\n",
    "    for variable in variables:\n",
    "        #print(variable)\n",
    "        df_dis_dic[variable] = pd.qcut(x      = df[variable],\n",
    "                  q   = len(labels),\n",
    "                  labels = labels,\n",
    "                  precision=0).to_frame()\n",
    "    print('df_dis_dic :', len(df_dis_dic))\n",
    "    return df_dis_dic"
   ]
  },
  {
   "cell_type": "code",
   "execution_count": 10,
   "id": "5b170867",
   "metadata": {},
   "outputs": [],
   "source": [
    "def dummies(df_dic: Dict) -> Dict:\n",
    "    #df_train_dis_GrLivArea = pd.get_dummies(df_train_dis_GrLivArea, prefix = 'GrLivArea')\n",
    "    df_dch_dic = {}\n",
    "    for variable, df in df_dic.items():\n",
    "        df_dch_dic[variable] = pd.get_dummies(df, prefix = variable)\n",
    "    print('df_dch_dic : ', len(df_dch_dic))\n",
    "    return df_dch_dic"
   ]
  },
  {
   "cell_type": "code",
   "execution_count": 11,
   "id": "90ea5349",
   "metadata": {},
   "outputs": [],
   "source": [
    "def qcut_dummies(df, variables : List) -> Dict:\n",
    "    return dummies(qcut(df, variables))"
   ]
  },
  {
   "cell_type": "code",
   "execution_count": 12,
   "id": "a8824b75",
   "metadata": {},
   "outputs": [],
   "source": [
    "def join_list(df_list: List) -> pd.DataFrame:\n",
    "    \n",
    "    df_join = None\n",
    "    \n",
    "    for df in df_list:\n",
    "        if df_join is None:\n",
    "            df_join = df\n",
    "        else:\n",
    "            df_join = df_join.join(df)\n",
    "        \n",
    "    return df_join\n",
    "\n"
   ]
  },
  {
   "cell_type": "code",
   "execution_count": 13,
   "id": "8340b0f5",
   "metadata": {},
   "outputs": [],
   "source": [
    "def join_dict(df_dic: Dict) -> pd.DataFrame:\n",
    "    print(type(df_dic))\n",
    "    return join_list(list(df_dic.values()))"
   ]
  },
  {
   "cell_type": "code",
   "execution_count": 14,
   "id": "45d6861d",
   "metadata": {},
   "outputs": [
    {
     "name": "stdout",
     "output_type": "stream",
     "text": [
      "labels : 15\n",
      "df_dis_dic : 5\n",
      "df_dch_dic :  5\n",
      "<class 'dict'>\n"
     ]
    },
    {
     "data": {
      "text/plain": [
       "(1459, 75)"
      ]
     },
     "execution_count": 14,
     "metadata": {},
     "output_type": "execute_result"
    }
   ],
   "source": [
    "df_dic = qcut_dummies(df_num, ['GrLivArea', 'GarageArea', 'TotalBsmtSF', '1stFlrSF', 'LotArea'])\n",
    "\n",
    "df_num = join_dict(df_dic)\n",
    "\n",
    "\n",
    "\n",
    "df_num.shape"
   ]
  },
  {
   "cell_type": "markdown",
   "id": "c30a74b5",
   "metadata": {},
   "source": [
    "### Variable cétégorielle"
   ]
  },
  {
   "cell_type": "code",
   "execution_count": 15,
   "id": "1e275571",
   "metadata": {},
   "outputs": [
    {
     "data": {
      "text/html": [
       "<div>\n",
       "<style scoped>\n",
       "    .dataframe tbody tr th:only-of-type {\n",
       "        vertical-align: middle;\n",
       "    }\n",
       "\n",
       "    .dataframe tbody tr th {\n",
       "        vertical-align: top;\n",
       "    }\n",
       "\n",
       "    .dataframe thead th {\n",
       "        text-align: right;\n",
       "    }\n",
       "</style>\n",
       "<table border=\"1\" class=\"dataframe\">\n",
       "  <thead>\n",
       "    <tr style=\"text-align: right;\">\n",
       "      <th></th>\n",
       "      <th>OverallQual</th>\n",
       "      <th>GarageCars</th>\n",
       "      <th>FullBath</th>\n",
       "      <th>TotRmsAbvGrd</th>\n",
       "    </tr>\n",
       "  </thead>\n",
       "  <tbody>\n",
       "    <tr>\n",
       "      <th>count</th>\n",
       "      <td>1459</td>\n",
       "      <td>1459</td>\n",
       "      <td>1459</td>\n",
       "      <td>1459</td>\n",
       "    </tr>\n",
       "    <tr>\n",
       "      <th>unique</th>\n",
       "      <td>10</td>\n",
       "      <td>7</td>\n",
       "      <td>5</td>\n",
       "      <td>12</td>\n",
       "    </tr>\n",
       "    <tr>\n",
       "      <th>top</th>\n",
       "      <td>5</td>\n",
       "      <td>2.0</td>\n",
       "      <td>2</td>\n",
       "      <td>6</td>\n",
       "    </tr>\n",
       "    <tr>\n",
       "      <th>freq</th>\n",
       "      <td>428</td>\n",
       "      <td>770</td>\n",
       "      <td>762</td>\n",
       "      <td>442</td>\n",
       "    </tr>\n",
       "  </tbody>\n",
       "</table>\n",
       "</div>"
      ],
      "text/plain": [
       "       OverallQual GarageCars FullBath TotRmsAbvGrd\n",
       "count         1459       1459     1459         1459\n",
       "unique          10          7        5           12\n",
       "top              5        2.0        2            6\n",
       "freq           428        770      762          442"
      ]
     },
     "execution_count": 15,
     "metadata": {},
     "output_type": "execute_result"
    }
   ],
   "source": [
    "df_cat = df[['OverallQual', 'GarageCars', 'FullBath', 'TotRmsAbvGrd']].astype(str)\n",
    "df_cat.describe()"
   ]
  },
  {
   "cell_type": "code",
   "execution_count": 16,
   "id": "4ab2bc5e",
   "metadata": {},
   "outputs": [
    {
     "data": {
      "text/html": [
       "<div>\n",
       "<style scoped>\n",
       "    .dataframe tbody tr th:only-of-type {\n",
       "        vertical-align: middle;\n",
       "    }\n",
       "\n",
       "    .dataframe tbody tr th {\n",
       "        vertical-align: top;\n",
       "    }\n",
       "\n",
       "    .dataframe thead th {\n",
       "        text-align: right;\n",
       "    }\n",
       "</style>\n",
       "<table border=\"1\" class=\"dataframe\">\n",
       "  <thead>\n",
       "    <tr style=\"text-align: right;\">\n",
       "      <th></th>\n",
       "      <th>OverallQual_1</th>\n",
       "      <th>OverallQual_10</th>\n",
       "      <th>OverallQual_2</th>\n",
       "      <th>OverallQual_3</th>\n",
       "      <th>OverallQual_4</th>\n",
       "      <th>OverallQual_5</th>\n",
       "      <th>OverallQual_6</th>\n",
       "      <th>OverallQual_7</th>\n",
       "      <th>OverallQual_8</th>\n",
       "      <th>OverallQual_9</th>\n",
       "      <th>...</th>\n",
       "      <th>TotRmsAbvGrd_12</th>\n",
       "      <th>TotRmsAbvGrd_13</th>\n",
       "      <th>TotRmsAbvGrd_15</th>\n",
       "      <th>TotRmsAbvGrd_3</th>\n",
       "      <th>TotRmsAbvGrd_4</th>\n",
       "      <th>TotRmsAbvGrd_5</th>\n",
       "      <th>TotRmsAbvGrd_6</th>\n",
       "      <th>TotRmsAbvGrd_7</th>\n",
       "      <th>TotRmsAbvGrd_8</th>\n",
       "      <th>TotRmsAbvGrd_9</th>\n",
       "    </tr>\n",
       "  </thead>\n",
       "  <tbody>\n",
       "    <tr>\n",
       "      <th>0</th>\n",
       "      <td>0</td>\n",
       "      <td>0</td>\n",
       "      <td>0</td>\n",
       "      <td>0</td>\n",
       "      <td>0</td>\n",
       "      <td>1</td>\n",
       "      <td>0</td>\n",
       "      <td>0</td>\n",
       "      <td>0</td>\n",
       "      <td>0</td>\n",
       "      <td>...</td>\n",
       "      <td>0</td>\n",
       "      <td>0</td>\n",
       "      <td>0</td>\n",
       "      <td>0</td>\n",
       "      <td>0</td>\n",
       "      <td>1</td>\n",
       "      <td>0</td>\n",
       "      <td>0</td>\n",
       "      <td>0</td>\n",
       "      <td>0</td>\n",
       "    </tr>\n",
       "    <tr>\n",
       "      <th>1</th>\n",
       "      <td>0</td>\n",
       "      <td>0</td>\n",
       "      <td>0</td>\n",
       "      <td>0</td>\n",
       "      <td>0</td>\n",
       "      <td>0</td>\n",
       "      <td>1</td>\n",
       "      <td>0</td>\n",
       "      <td>0</td>\n",
       "      <td>0</td>\n",
       "      <td>...</td>\n",
       "      <td>0</td>\n",
       "      <td>0</td>\n",
       "      <td>0</td>\n",
       "      <td>0</td>\n",
       "      <td>0</td>\n",
       "      <td>0</td>\n",
       "      <td>1</td>\n",
       "      <td>0</td>\n",
       "      <td>0</td>\n",
       "      <td>0</td>\n",
       "    </tr>\n",
       "    <tr>\n",
       "      <th>2</th>\n",
       "      <td>0</td>\n",
       "      <td>0</td>\n",
       "      <td>0</td>\n",
       "      <td>0</td>\n",
       "      <td>0</td>\n",
       "      <td>1</td>\n",
       "      <td>0</td>\n",
       "      <td>0</td>\n",
       "      <td>0</td>\n",
       "      <td>0</td>\n",
       "      <td>...</td>\n",
       "      <td>0</td>\n",
       "      <td>0</td>\n",
       "      <td>0</td>\n",
       "      <td>0</td>\n",
       "      <td>0</td>\n",
       "      <td>0</td>\n",
       "      <td>1</td>\n",
       "      <td>0</td>\n",
       "      <td>0</td>\n",
       "      <td>0</td>\n",
       "    </tr>\n",
       "    <tr>\n",
       "      <th>3</th>\n",
       "      <td>0</td>\n",
       "      <td>0</td>\n",
       "      <td>0</td>\n",
       "      <td>0</td>\n",
       "      <td>0</td>\n",
       "      <td>0</td>\n",
       "      <td>1</td>\n",
       "      <td>0</td>\n",
       "      <td>0</td>\n",
       "      <td>0</td>\n",
       "      <td>...</td>\n",
       "      <td>0</td>\n",
       "      <td>0</td>\n",
       "      <td>0</td>\n",
       "      <td>0</td>\n",
       "      <td>0</td>\n",
       "      <td>0</td>\n",
       "      <td>0</td>\n",
       "      <td>1</td>\n",
       "      <td>0</td>\n",
       "      <td>0</td>\n",
       "    </tr>\n",
       "    <tr>\n",
       "      <th>4</th>\n",
       "      <td>0</td>\n",
       "      <td>0</td>\n",
       "      <td>0</td>\n",
       "      <td>0</td>\n",
       "      <td>0</td>\n",
       "      <td>0</td>\n",
       "      <td>0</td>\n",
       "      <td>0</td>\n",
       "      <td>1</td>\n",
       "      <td>0</td>\n",
       "      <td>...</td>\n",
       "      <td>0</td>\n",
       "      <td>0</td>\n",
       "      <td>0</td>\n",
       "      <td>0</td>\n",
       "      <td>0</td>\n",
       "      <td>1</td>\n",
       "      <td>0</td>\n",
       "      <td>0</td>\n",
       "      <td>0</td>\n",
       "      <td>0</td>\n",
       "    </tr>\n",
       "  </tbody>\n",
       "</table>\n",
       "<p>5 rows × 34 columns</p>\n",
       "</div>"
      ],
      "text/plain": [
       "   OverallQual_1  OverallQual_10  OverallQual_2  OverallQual_3  OverallQual_4  \\\n",
       "0              0               0              0              0              0   \n",
       "1              0               0              0              0              0   \n",
       "2              0               0              0              0              0   \n",
       "3              0               0              0              0              0   \n",
       "4              0               0              0              0              0   \n",
       "\n",
       "   OverallQual_5  OverallQual_6  OverallQual_7  OverallQual_8  OverallQual_9  \\\n",
       "0              1              0              0              0              0   \n",
       "1              0              1              0              0              0   \n",
       "2              1              0              0              0              0   \n",
       "3              0              1              0              0              0   \n",
       "4              0              0              0              1              0   \n",
       "\n",
       "   ...  TotRmsAbvGrd_12  TotRmsAbvGrd_13  TotRmsAbvGrd_15  TotRmsAbvGrd_3  \\\n",
       "0  ...                0                0                0               0   \n",
       "1  ...                0                0                0               0   \n",
       "2  ...                0                0                0               0   \n",
       "3  ...                0                0                0               0   \n",
       "4  ...                0                0                0               0   \n",
       "\n",
       "   TotRmsAbvGrd_4  TotRmsAbvGrd_5  TotRmsAbvGrd_6  TotRmsAbvGrd_7  \\\n",
       "0               0               1               0               0   \n",
       "1               0               0               1               0   \n",
       "2               0               0               1               0   \n",
       "3               0               0               0               1   \n",
       "4               0               1               0               0   \n",
       "\n",
       "   TotRmsAbvGrd_8  TotRmsAbvGrd_9  \n",
       "0               0               0  \n",
       "1               0               0  \n",
       "2               0               0  \n",
       "3               0               0  \n",
       "4               0               0  \n",
       "\n",
       "[5 rows x 34 columns]"
      ]
     },
     "execution_count": 16,
     "metadata": {},
     "output_type": "execute_result"
    }
   ],
   "source": [
    "df_cat = pd.get_dummies(df_cat)\n",
    "df_cat.head()"
   ]
  },
  {
   "cell_type": "code",
   "execution_count": 17,
   "id": "b9149326",
   "metadata": {},
   "outputs": [
    {
     "data": {
      "text/plain": [
       "(1459, 109)"
      ]
     },
     "execution_count": 17,
     "metadata": {},
     "output_type": "execute_result"
    }
   ],
   "source": [
    "df_new = df_num.join(df_cat)\n",
    "df_new.shape"
   ]
  },
  {
   "cell_type": "code",
   "execution_count": 18,
   "id": "ce730d02",
   "metadata": {},
   "outputs": [
    {
     "data": {
      "text/html": [
       "<div>\n",
       "<style scoped>\n",
       "    .dataframe tbody tr th:only-of-type {\n",
       "        vertical-align: middle;\n",
       "    }\n",
       "\n",
       "    .dataframe tbody tr th {\n",
       "        vertical-align: top;\n",
       "    }\n",
       "\n",
       "    .dataframe thead th {\n",
       "        text-align: right;\n",
       "    }\n",
       "</style>\n",
       "<table border=\"1\" class=\"dataframe\">\n",
       "  <thead>\n",
       "    <tr style=\"text-align: right;\">\n",
       "      <th></th>\n",
       "      <th>GrLivArea_micro-</th>\n",
       "      <th>GrLivArea_micro</th>\n",
       "      <th>GrLivArea_micro+</th>\n",
       "      <th>GrLivArea_tiny-</th>\n",
       "      <th>GrLivArea_tiny</th>\n",
       "      <th>GrLivArea_tiny+</th>\n",
       "      <th>GrLivArea_small-</th>\n",
       "      <th>GrLivArea_small</th>\n",
       "      <th>GrLivArea_small+</th>\n",
       "      <th>GrLivArea_medium-</th>\n",
       "      <th>...</th>\n",
       "      <th>TotRmsAbvGrd_12</th>\n",
       "      <th>TotRmsAbvGrd_13</th>\n",
       "      <th>TotRmsAbvGrd_15</th>\n",
       "      <th>TotRmsAbvGrd_3</th>\n",
       "      <th>TotRmsAbvGrd_4</th>\n",
       "      <th>TotRmsAbvGrd_5</th>\n",
       "      <th>TotRmsAbvGrd_6</th>\n",
       "      <th>TotRmsAbvGrd_7</th>\n",
       "      <th>TotRmsAbvGrd_8</th>\n",
       "      <th>TotRmsAbvGrd_9</th>\n",
       "    </tr>\n",
       "  </thead>\n",
       "  <tbody>\n",
       "    <tr>\n",
       "      <th>1454</th>\n",
       "      <td>0</td>\n",
       "      <td>0</td>\n",
       "      <td>0</td>\n",
       "      <td>1</td>\n",
       "      <td>0</td>\n",
       "      <td>0</td>\n",
       "      <td>0</td>\n",
       "      <td>0</td>\n",
       "      <td>0</td>\n",
       "      <td>0</td>\n",
       "      <td>...</td>\n",
       "      <td>0</td>\n",
       "      <td>0</td>\n",
       "      <td>0</td>\n",
       "      <td>0</td>\n",
       "      <td>0</td>\n",
       "      <td>1</td>\n",
       "      <td>0</td>\n",
       "      <td>0</td>\n",
       "      <td>0</td>\n",
       "      <td>0</td>\n",
       "    </tr>\n",
       "    <tr>\n",
       "      <th>1455</th>\n",
       "      <td>0</td>\n",
       "      <td>0</td>\n",
       "      <td>0</td>\n",
       "      <td>1</td>\n",
       "      <td>0</td>\n",
       "      <td>0</td>\n",
       "      <td>0</td>\n",
       "      <td>0</td>\n",
       "      <td>0</td>\n",
       "      <td>0</td>\n",
       "      <td>...</td>\n",
       "      <td>0</td>\n",
       "      <td>0</td>\n",
       "      <td>0</td>\n",
       "      <td>0</td>\n",
       "      <td>0</td>\n",
       "      <td>0</td>\n",
       "      <td>1</td>\n",
       "      <td>0</td>\n",
       "      <td>0</td>\n",
       "      <td>0</td>\n",
       "    </tr>\n",
       "    <tr>\n",
       "      <th>1456</th>\n",
       "      <td>0</td>\n",
       "      <td>0</td>\n",
       "      <td>0</td>\n",
       "      <td>0</td>\n",
       "      <td>1</td>\n",
       "      <td>0</td>\n",
       "      <td>0</td>\n",
       "      <td>0</td>\n",
       "      <td>0</td>\n",
       "      <td>0</td>\n",
       "      <td>...</td>\n",
       "      <td>0</td>\n",
       "      <td>0</td>\n",
       "      <td>0</td>\n",
       "      <td>0</td>\n",
       "      <td>0</td>\n",
       "      <td>0</td>\n",
       "      <td>0</td>\n",
       "      <td>1</td>\n",
       "      <td>0</td>\n",
       "      <td>0</td>\n",
       "    </tr>\n",
       "    <tr>\n",
       "      <th>1457</th>\n",
       "      <td>0</td>\n",
       "      <td>1</td>\n",
       "      <td>0</td>\n",
       "      <td>0</td>\n",
       "      <td>0</td>\n",
       "      <td>0</td>\n",
       "      <td>0</td>\n",
       "      <td>0</td>\n",
       "      <td>0</td>\n",
       "      <td>0</td>\n",
       "      <td>...</td>\n",
       "      <td>0</td>\n",
       "      <td>0</td>\n",
       "      <td>0</td>\n",
       "      <td>0</td>\n",
       "      <td>0</td>\n",
       "      <td>0</td>\n",
       "      <td>1</td>\n",
       "      <td>0</td>\n",
       "      <td>0</td>\n",
       "      <td>0</td>\n",
       "    </tr>\n",
       "    <tr>\n",
       "      <th>1458</th>\n",
       "      <td>0</td>\n",
       "      <td>0</td>\n",
       "      <td>0</td>\n",
       "      <td>0</td>\n",
       "      <td>0</td>\n",
       "      <td>0</td>\n",
       "      <td>0</td>\n",
       "      <td>0</td>\n",
       "      <td>0</td>\n",
       "      <td>0</td>\n",
       "      <td>...</td>\n",
       "      <td>0</td>\n",
       "      <td>0</td>\n",
       "      <td>0</td>\n",
       "      <td>0</td>\n",
       "      <td>0</td>\n",
       "      <td>0</td>\n",
       "      <td>0</td>\n",
       "      <td>0</td>\n",
       "      <td>0</td>\n",
       "      <td>1</td>\n",
       "    </tr>\n",
       "  </tbody>\n",
       "</table>\n",
       "<p>5 rows × 109 columns</p>\n",
       "</div>"
      ],
      "text/plain": [
       "      GrLivArea_micro-  GrLivArea_micro  GrLivArea_micro+  GrLivArea_tiny-  \\\n",
       "1454                 0                0                 0                1   \n",
       "1455                 0                0                 0                1   \n",
       "1456                 0                0                 0                0   \n",
       "1457                 0                1                 0                0   \n",
       "1458                 0                0                 0                0   \n",
       "\n",
       "      GrLivArea_tiny  GrLivArea_tiny+  GrLivArea_small-  GrLivArea_small  \\\n",
       "1454               0                0                 0                0   \n",
       "1455               0                0                 0                0   \n",
       "1456               1                0                 0                0   \n",
       "1457               0                0                 0                0   \n",
       "1458               0                0                 0                0   \n",
       "\n",
       "      GrLivArea_small+  GrLivArea_medium-  ...  TotRmsAbvGrd_12  \\\n",
       "1454                 0                  0  ...                0   \n",
       "1455                 0                  0  ...                0   \n",
       "1456                 0                  0  ...                0   \n",
       "1457                 0                  0  ...                0   \n",
       "1458                 0                  0  ...                0   \n",
       "\n",
       "      TotRmsAbvGrd_13  TotRmsAbvGrd_15  TotRmsAbvGrd_3  TotRmsAbvGrd_4  \\\n",
       "1454                0                0               0               0   \n",
       "1455                0                0               0               0   \n",
       "1456                0                0               0               0   \n",
       "1457                0                0               0               0   \n",
       "1458                0                0               0               0   \n",
       "\n",
       "      TotRmsAbvGrd_5  TotRmsAbvGrd_6  TotRmsAbvGrd_7  TotRmsAbvGrd_8  \\\n",
       "1454               1               0               0               0   \n",
       "1455               0               1               0               0   \n",
       "1456               0               0               1               0   \n",
       "1457               0               1               0               0   \n",
       "1458               0               0               0               0   \n",
       "\n",
       "      TotRmsAbvGrd_9  \n",
       "1454               0  \n",
       "1455               0  \n",
       "1456               0  \n",
       "1457               0  \n",
       "1458               1  \n",
       "\n",
       "[5 rows x 109 columns]"
      ]
     },
     "execution_count": 18,
     "metadata": {},
     "output_type": "execute_result"
    }
   ],
   "source": [
    "df_new.tail()"
   ]
  },
  {
   "cell_type": "markdown",
   "id": "6c76999a",
   "metadata": {},
   "source": [
    "Missing variables (difference between train and test)"
   ]
  },
  {
   "cell_type": "code",
   "execution_count": 19,
   "id": "0ff1c25d",
   "metadata": {},
   "outputs": [
    {
     "name": "stdout",
     "output_type": "stream",
     "text": [
      "GarageCars_0\n",
      "GarageCars_1\n",
      "GarageCars_2\n",
      "GarageCars_3\n",
      "GarageCars_4\n",
      "TotRmsAbvGrd_14\n",
      "TotRmsAbvGrd_2\n"
     ]
    },
    {
     "data": {
      "text/plain": [
       "(1459, 116)"
      ]
     },
     "execution_count": 19,
     "metadata": {},
     "output_type": "execute_result"
    }
   ],
   "source": [
    "model_xbgr_columns = ['GrLivArea_micro-', 'GrLivArea_micro', 'GrLivArea_micro+', 'GrLivArea_tiny-', 'GrLivArea_tiny', 'GrLivArea_tiny+', 'GrLivArea_small-', 'GrLivArea_small', 'GrLivArea_small+', 'GrLivArea_medium-', 'GrLivArea_medium', 'GrLivArea_medium+', 'GrLivArea_large-', 'GrLivArea_large', 'GrLivArea_large+', 'GarageArea_micro-', 'GarageArea_micro', 'GarageArea_micro+', 'GarageArea_tiny-', 'GarageArea_tiny', 'GarageArea_tiny+', 'GarageArea_small-', 'GarageArea_small', 'GarageArea_small+', 'GarageArea_medium-', 'GarageArea_medium', 'GarageArea_medium+', 'GarageArea_large-', 'GarageArea_large', 'GarageArea_large+', 'TotalBsmtSF_micro-', 'TotalBsmtSF_micro', 'TotalBsmtSF_micro+', 'TotalBsmtSF_tiny-', 'TotalBsmtSF_tiny', 'TotalBsmtSF_tiny+', 'TotalBsmtSF_small-', 'TotalBsmtSF_small', 'TotalBsmtSF_small+', 'TotalBsmtSF_medium-', 'TotalBsmtSF_medium', 'TotalBsmtSF_medium+', 'TotalBsmtSF_large-', 'TotalBsmtSF_large', 'TotalBsmtSF_large+', '1stFlrSF_micro-', '1stFlrSF_micro', '1stFlrSF_micro+', '1stFlrSF_tiny-', '1stFlrSF_tiny', '1stFlrSF_tiny+', '1stFlrSF_small-', '1stFlrSF_small', '1stFlrSF_small+', '1stFlrSF_medium-', '1stFlrSF_medium', '1stFlrSF_medium+', '1stFlrSF_large-', '1stFlrSF_large', '1stFlrSF_large+', 'LotArea_micro-', 'LotArea_micro', 'LotArea_micro+', 'LotArea_tiny-', 'LotArea_tiny', 'LotArea_tiny+', 'LotArea_small-', 'LotArea_small', 'LotArea_small+', 'LotArea_medium-', 'LotArea_medium', 'LotArea_medium+', 'LotArea_large-', 'LotArea_large', 'LotArea_large+', 'OverallQual_1', 'OverallQual_10', 'OverallQual_2', 'OverallQual_3', 'OverallQual_4', 'OverallQual_5', 'OverallQual_6', 'OverallQual_7', 'OverallQual_8', 'OverallQual_9', 'GarageCars_0', 'GarageCars_0.0', 'GarageCars_1', 'GarageCars_1.0', 'GarageCars_2', 'GarageCars_2.0', 'GarageCars_3', 'GarageCars_3.0', 'GarageCars_4', 'GarageCars_4.0', 'GarageCars_5.0', 'GarageCars_nan', 'FullBath_0', 'FullBath_1', 'FullBath_2', 'FullBath_3', 'FullBath_4', 'TotRmsAbvGrd_10', 'TotRmsAbvGrd_11', 'TotRmsAbvGrd_12', 'TotRmsAbvGrd_13', 'TotRmsAbvGrd_14', 'TotRmsAbvGrd_15', 'TotRmsAbvGrd_2', 'TotRmsAbvGrd_3', 'TotRmsAbvGrd_4', 'TotRmsAbvGrd_5', 'TotRmsAbvGrd_6', 'TotRmsAbvGrd_7', 'TotRmsAbvGrd_8', 'TotRmsAbvGrd_9']\n",
    "\n",
    "for model_xbgr_column in model_xbgr_columns:\n",
    "    if model_xbgr_column not in df_new.columns:\n",
    "        df_new[model_xbgr_column] = 0\n",
    "        print(model_xbgr_column)\n",
    "\n",
    "df_new.shape"
   ]
  },
  {
   "cell_type": "code",
   "execution_count": 20,
   "id": "65c7d497",
   "metadata": {},
   "outputs": [],
   "source": [
    "pred = model_xgbr.predict(df_new)"
   ]
  },
  {
   "cell_type": "code",
   "execution_count": 21,
   "id": "7b67bdc1",
   "metadata": {},
   "outputs": [
    {
     "data": {
      "text/plain": [
       "(1459, 1)"
      ]
     },
     "execution_count": 21,
     "metadata": {},
     "output_type": "execute_result"
    }
   ],
   "source": [
    "df_pred = pd.DataFrame(pred, columns=['SalePrice'])\n",
    "\n",
    "df_pred.shape"
   ]
  },
  {
   "cell_type": "code",
   "execution_count": 22,
   "id": "eede644b",
   "metadata": {},
   "outputs": [
    {
     "data": {
      "text/plain": [
       "(1459, 2)"
      ]
     },
     "execution_count": 22,
     "metadata": {},
     "output_type": "execute_result"
    }
   ],
   "source": [
    "df_pred = df_id.join(df_pred)\n",
    "\n",
    "df_pred.shape"
   ]
  },
  {
   "cell_type": "code",
   "execution_count": 23,
   "id": "591a5c5d",
   "metadata": {},
   "outputs": [
    {
     "data": {
      "text/html": [
       "<div>\n",
       "<style scoped>\n",
       "    .dataframe tbody tr th:only-of-type {\n",
       "        vertical-align: middle;\n",
       "    }\n",
       "\n",
       "    .dataframe tbody tr th {\n",
       "        vertical-align: top;\n",
       "    }\n",
       "\n",
       "    .dataframe thead th {\n",
       "        text-align: right;\n",
       "    }\n",
       "</style>\n",
       "<table border=\"1\" class=\"dataframe\">\n",
       "  <thead>\n",
       "    <tr style=\"text-align: right;\">\n",
       "      <th></th>\n",
       "      <th>Id</th>\n",
       "      <th>SalePrice</th>\n",
       "    </tr>\n",
       "  </thead>\n",
       "  <tbody>\n",
       "    <tr>\n",
       "      <th>0</th>\n",
       "      <td>1461</td>\n",
       "      <td>127110.750000</td>\n",
       "    </tr>\n",
       "    <tr>\n",
       "      <th>1</th>\n",
       "      <td>1462</td>\n",
       "      <td>178178.671875</td>\n",
       "    </tr>\n",
       "    <tr>\n",
       "      <th>2</th>\n",
       "      <td>1463</td>\n",
       "      <td>146484.109375</td>\n",
       "    </tr>\n",
       "    <tr>\n",
       "      <th>3</th>\n",
       "      <td>1464</td>\n",
       "      <td>171336.546875</td>\n",
       "    </tr>\n",
       "    <tr>\n",
       "      <th>4</th>\n",
       "      <td>1465</td>\n",
       "      <td>207622.250000</td>\n",
       "    </tr>\n",
       "  </tbody>\n",
       "</table>\n",
       "</div>"
      ],
      "text/plain": [
       "     Id      SalePrice\n",
       "0  1461  127110.750000\n",
       "1  1462  178178.671875\n",
       "2  1463  146484.109375\n",
       "3  1464  171336.546875\n",
       "4  1465  207622.250000"
      ]
     },
     "execution_count": 23,
     "metadata": {},
     "output_type": "execute_result"
    }
   ],
   "source": [
    "df_pred.head()"
   ]
  },
  {
   "cell_type": "code",
   "execution_count": 24,
   "id": "825b5bcd",
   "metadata": {},
   "outputs": [],
   "source": [
    "df_pred.to_csv('./submission/model_xgbr.csv', index=False)"
   ]
  },
  {
   "cell_type": "markdown",
   "id": "64a10375",
   "metadata": {},
   "source": [
    "Ranking Kaggle\n",
    "3444\n",
    "Fernando Gonçalves\n",
    "0.20832\n",
    "1\n",
    "1s\n",
    "🙂\n",
    "Your First Entry!\n",
    "Welcome to the leaderboard!"
   ]
  },
  {
   "cell_type": "markdown",
   "id": "5f27a9b6",
   "metadata": {},
   "source": [
    "With hot one points for numerical (a01-b and a02-b), Score: 0.22209"
   ]
  }
 ],
 "metadata": {
  "kernelspec": {
   "display_name": "Python 3",
   "language": "python",
   "name": "python3"
  },
  "language_info": {
   "codemirror_mode": {
    "name": "ipython",
    "version": 3
   },
   "file_extension": ".py",
   "mimetype": "text/x-python",
   "name": "python",
   "nbconvert_exporter": "python",
   "pygments_lexer": "ipython3",
   "version": "3.8.8"
  }
 },
 "nbformat": 4,
 "nbformat_minor": 5
}
