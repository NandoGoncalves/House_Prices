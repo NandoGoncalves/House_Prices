{
 "cells": [
  {
   "cell_type": "code",
   "execution_count": 1,
   "id": "e1397c84",
   "metadata": {},
   "outputs": [],
   "source": [
    "%matplotlib inline\n",
    "\n",
    "import numpy as np\n",
    "import pandas as pd\n",
    "\n",
    "from sklearn import neighbors\n",
    "from sklearn.decomposition import PCA\n",
    "from sklearn import linear_model, preprocessing\n",
    "from sklearn.feature_selection import VarianceThreshold\n",
    "from sklearn import model_selection\n",
    "from sklearn.model_selection import train_test_split\n",
    "\n",
    "\n",
    "import matplotlib.pyplot as plt\n",
    "import seaborn as sns"
   ]
  },
  {
   "cell_type": "code",
   "execution_count": 2,
   "id": "6eca0751",
   "metadata": {},
   "outputs": [],
   "source": [
    "corr_threshold = 0.4\n",
    "variance_threshold = 0.2\n",
    "pca_components = 0.9"
   ]
  },
  {
   "cell_type": "code",
   "execution_count": 3,
   "id": "c3f09bf2",
   "metadata": {},
   "outputs": [
    {
     "data": {
      "text/plain": [
       "(1460, 81)"
      ]
     },
     "execution_count": 3,
     "metadata": {},
     "output_type": "execute_result"
    }
   ],
   "source": [
    "df_train = pd.read_csv(\"./dataset/train.csv\")\n",
    "df_train.shape"
   ]
  },
  {
   "cell_type": "code",
   "execution_count": 4,
   "id": "e98304d3",
   "metadata": {},
   "outputs": [],
   "source": [
    "df_test = pd.read_csv(\"./dataset/test.csv\")\n",
    "df_test_Id = df_test[['Id']]\n",
    "df_test.drop(['Id'], axis = 1, inplace=True)\n",
    "#df_test.shape"
   ]
  },
  {
   "cell_type": "code",
   "execution_count": 5,
   "id": "fa891010",
   "metadata": {},
   "outputs": [
    {
     "data": {
      "text/html": [
       "<div>\n",
       "<style scoped>\n",
       "    .dataframe tbody tr th:only-of-type {\n",
       "        vertical-align: middle;\n",
       "    }\n",
       "\n",
       "    .dataframe tbody tr th {\n",
       "        vertical-align: top;\n",
       "    }\n",
       "\n",
       "    .dataframe thead th {\n",
       "        text-align: right;\n",
       "    }\n",
       "</style>\n",
       "<table border=\"1\" class=\"dataframe\">\n",
       "  <thead>\n",
       "    <tr style=\"text-align: right;\">\n",
       "      <th></th>\n",
       "      <th>MSSubClass</th>\n",
       "      <th>MSZoning</th>\n",
       "      <th>LotFrontage</th>\n",
       "      <th>LotArea</th>\n",
       "      <th>Street</th>\n",
       "      <th>Alley</th>\n",
       "      <th>LotShape</th>\n",
       "      <th>LandContour</th>\n",
       "      <th>Utilities</th>\n",
       "      <th>LotConfig</th>\n",
       "      <th>...</th>\n",
       "      <th>ScreenPorch</th>\n",
       "      <th>PoolArea</th>\n",
       "      <th>PoolQC</th>\n",
       "      <th>Fence</th>\n",
       "      <th>MiscFeature</th>\n",
       "      <th>MiscVal</th>\n",
       "      <th>MoSold</th>\n",
       "      <th>YrSold</th>\n",
       "      <th>SaleType</th>\n",
       "      <th>SaleCondition</th>\n",
       "    </tr>\n",
       "  </thead>\n",
       "  <tbody>\n",
       "    <tr>\n",
       "      <th>0</th>\n",
       "      <td>20</td>\n",
       "      <td>RH</td>\n",
       "      <td>80.0</td>\n",
       "      <td>11622</td>\n",
       "      <td>Pave</td>\n",
       "      <td>NaN</td>\n",
       "      <td>Reg</td>\n",
       "      <td>Lvl</td>\n",
       "      <td>AllPub</td>\n",
       "      <td>Inside</td>\n",
       "      <td>...</td>\n",
       "      <td>120</td>\n",
       "      <td>0</td>\n",
       "      <td>NaN</td>\n",
       "      <td>MnPrv</td>\n",
       "      <td>NaN</td>\n",
       "      <td>0</td>\n",
       "      <td>6</td>\n",
       "      <td>2010</td>\n",
       "      <td>WD</td>\n",
       "      <td>Normal</td>\n",
       "    </tr>\n",
       "    <tr>\n",
       "      <th>1</th>\n",
       "      <td>20</td>\n",
       "      <td>RL</td>\n",
       "      <td>81.0</td>\n",
       "      <td>14267</td>\n",
       "      <td>Pave</td>\n",
       "      <td>NaN</td>\n",
       "      <td>IR1</td>\n",
       "      <td>Lvl</td>\n",
       "      <td>AllPub</td>\n",
       "      <td>Corner</td>\n",
       "      <td>...</td>\n",
       "      <td>0</td>\n",
       "      <td>0</td>\n",
       "      <td>NaN</td>\n",
       "      <td>NaN</td>\n",
       "      <td>Gar2</td>\n",
       "      <td>12500</td>\n",
       "      <td>6</td>\n",
       "      <td>2010</td>\n",
       "      <td>WD</td>\n",
       "      <td>Normal</td>\n",
       "    </tr>\n",
       "    <tr>\n",
       "      <th>2</th>\n",
       "      <td>60</td>\n",
       "      <td>RL</td>\n",
       "      <td>74.0</td>\n",
       "      <td>13830</td>\n",
       "      <td>Pave</td>\n",
       "      <td>NaN</td>\n",
       "      <td>IR1</td>\n",
       "      <td>Lvl</td>\n",
       "      <td>AllPub</td>\n",
       "      <td>Inside</td>\n",
       "      <td>...</td>\n",
       "      <td>0</td>\n",
       "      <td>0</td>\n",
       "      <td>NaN</td>\n",
       "      <td>MnPrv</td>\n",
       "      <td>NaN</td>\n",
       "      <td>0</td>\n",
       "      <td>3</td>\n",
       "      <td>2010</td>\n",
       "      <td>WD</td>\n",
       "      <td>Normal</td>\n",
       "    </tr>\n",
       "    <tr>\n",
       "      <th>3</th>\n",
       "      <td>60</td>\n",
       "      <td>RL</td>\n",
       "      <td>78.0</td>\n",
       "      <td>9978</td>\n",
       "      <td>Pave</td>\n",
       "      <td>NaN</td>\n",
       "      <td>IR1</td>\n",
       "      <td>Lvl</td>\n",
       "      <td>AllPub</td>\n",
       "      <td>Inside</td>\n",
       "      <td>...</td>\n",
       "      <td>0</td>\n",
       "      <td>0</td>\n",
       "      <td>NaN</td>\n",
       "      <td>NaN</td>\n",
       "      <td>NaN</td>\n",
       "      <td>0</td>\n",
       "      <td>6</td>\n",
       "      <td>2010</td>\n",
       "      <td>WD</td>\n",
       "      <td>Normal</td>\n",
       "    </tr>\n",
       "    <tr>\n",
       "      <th>4</th>\n",
       "      <td>120</td>\n",
       "      <td>RL</td>\n",
       "      <td>43.0</td>\n",
       "      <td>5005</td>\n",
       "      <td>Pave</td>\n",
       "      <td>NaN</td>\n",
       "      <td>IR1</td>\n",
       "      <td>HLS</td>\n",
       "      <td>AllPub</td>\n",
       "      <td>Inside</td>\n",
       "      <td>...</td>\n",
       "      <td>144</td>\n",
       "      <td>0</td>\n",
       "      <td>NaN</td>\n",
       "      <td>NaN</td>\n",
       "      <td>NaN</td>\n",
       "      <td>0</td>\n",
       "      <td>1</td>\n",
       "      <td>2010</td>\n",
       "      <td>WD</td>\n",
       "      <td>Normal</td>\n",
       "    </tr>\n",
       "  </tbody>\n",
       "</table>\n",
       "<p>5 rows × 79 columns</p>\n",
       "</div>"
      ],
      "text/plain": [
       "   MSSubClass MSZoning  LotFrontage  LotArea Street Alley LotShape  \\\n",
       "0          20       RH         80.0    11622   Pave   NaN      Reg   \n",
       "1          20       RL         81.0    14267   Pave   NaN      IR1   \n",
       "2          60       RL         74.0    13830   Pave   NaN      IR1   \n",
       "3          60       RL         78.0     9978   Pave   NaN      IR1   \n",
       "4         120       RL         43.0     5005   Pave   NaN      IR1   \n",
       "\n",
       "  LandContour Utilities LotConfig  ... ScreenPorch PoolArea PoolQC  Fence  \\\n",
       "0         Lvl    AllPub    Inside  ...         120        0    NaN  MnPrv   \n",
       "1         Lvl    AllPub    Corner  ...           0        0    NaN    NaN   \n",
       "2         Lvl    AllPub    Inside  ...           0        0    NaN  MnPrv   \n",
       "3         Lvl    AllPub    Inside  ...           0        0    NaN    NaN   \n",
       "4         HLS    AllPub    Inside  ...         144        0    NaN    NaN   \n",
       "\n",
       "  MiscFeature MiscVal  MoSold  YrSold  SaleType  SaleCondition  \n",
       "0         NaN       0       6    2010        WD         Normal  \n",
       "1        Gar2   12500       6    2010        WD         Normal  \n",
       "2         NaN       0       3    2010        WD         Normal  \n",
       "3         NaN       0       6    2010        WD         Normal  \n",
       "4         NaN       0       1    2010        WD         Normal  \n",
       "\n",
       "[5 rows x 79 columns]"
      ]
     },
     "execution_count": 5,
     "metadata": {},
     "output_type": "execute_result"
    }
   ],
   "source": [
    "df_test.head()"
   ]
  },
  {
   "cell_type": "code",
   "execution_count": 6,
   "id": "4662f491",
   "metadata": {},
   "outputs": [],
   "source": [
    "df_train_corr = df_train.corr()"
   ]
  },
  {
   "cell_type": "code",
   "execution_count": 7,
   "id": "59c8a3f5",
   "metadata": {},
   "outputs": [],
   "source": [
    "df_train_corr_SalePrice = df_train_corr[['SalePrice']]"
   ]
  },
  {
   "cell_type": "code",
   "execution_count": 8,
   "id": "a08600f7",
   "metadata": {},
   "outputs": [
    {
     "data": {
      "text/plain": [
       "(1460, 80)"
      ]
     },
     "execution_count": 8,
     "metadata": {},
     "output_type": "execute_result"
    }
   ],
   "source": [
    "df_train_SalePrice = df_train[['SalePrice']]\n",
    "df_train_Id = df_train[['Id']]\n",
    "df_train.drop(['SalePrice'], axis=1, inplace=True)\n",
    "df_train.shape"
   ]
  },
  {
   "cell_type": "code",
   "execution_count": 9,
   "id": "88cd8423",
   "metadata": {},
   "outputs": [
    {
     "data": {
      "text/plain": [
       "(2919, 80)"
      ]
     },
     "execution_count": 9,
     "metadata": {},
     "output_type": "execute_result"
    }
   ],
   "source": [
    "df_train = pd.concat([df_train, df_test])\n",
    "df_train.shape"
   ]
  },
  {
   "cell_type": "code",
   "execution_count": 10,
   "id": "72066404",
   "metadata": {},
   "outputs": [],
   "source": [
    "df_train_corr_SalePrice = df_train_corr_SalePrice.reset_index()"
   ]
  },
  {
   "cell_type": "code",
   "execution_count": 11,
   "id": "30aac9a5",
   "metadata": {},
   "outputs": [],
   "source": [
    "df_train_corr_SalePrice = df_train_corr_SalePrice[(df_train_corr_SalePrice['index'] != 'SalePrice')]"
   ]
  },
  {
   "cell_type": "code",
   "execution_count": 12,
   "id": "55e36bd6",
   "metadata": {},
   "outputs": [],
   "source": [
    "df_train_corr_SalePrice_columns = df_train_corr_SalePrice[((df_train_corr_SalePrice['SalePrice'] > corr_threshold) | (df_train_corr_SalePrice['SalePrice'] < -corr_threshold))]['index']"
   ]
  },
  {
   "cell_type": "code",
   "execution_count": 13,
   "id": "52ad4ced",
   "metadata": {},
   "outputs": [
    {
     "data": {
      "text/plain": [
       "4      OverallQual\n",
       "6        YearBuilt\n",
       "7     YearRemodAdd\n",
       "8       MasVnrArea\n",
       "12     TotalBsmtSF\n",
       "13        1stFlrSF\n",
       "16       GrLivArea\n",
       "19        FullBath\n",
       "23    TotRmsAbvGrd\n",
       "24      Fireplaces\n",
       "25     GarageYrBlt\n",
       "26      GarageCars\n",
       "27      GarageArea\n",
       "Name: index, dtype: object"
      ]
     },
     "execution_count": 13,
     "metadata": {},
     "output_type": "execute_result"
    }
   ],
   "source": [
    "df_train_corr_SalePrice_columns"
   ]
  },
  {
   "cell_type": "code",
   "execution_count": 14,
   "id": "39a52204",
   "metadata": {},
   "outputs": [],
   "source": [
    "df_train = df_train[df_train_corr_SalePrice_columns]"
   ]
  },
  {
   "cell_type": "code",
   "execution_count": 15,
   "id": "c70c5ea5",
   "metadata": {},
   "outputs": [
    {
     "name": "stdout",
     "output_type": "stream",
     "text": [
      "<class 'pandas.core.frame.DataFrame'>\n",
      "Int64Index: 2919 entries, 0 to 1458\n",
      "Data columns (total 13 columns):\n",
      " #   Column        Non-Null Count  Dtype  \n",
      "---  ------        --------------  -----  \n",
      " 0   OverallQual   2919 non-null   int64  \n",
      " 1   YearBuilt     2919 non-null   int64  \n",
      " 2   YearRemodAdd  2919 non-null   int64  \n",
      " 3   MasVnrArea    2896 non-null   float64\n",
      " 4   TotalBsmtSF   2918 non-null   float64\n",
      " 5   1stFlrSF      2919 non-null   int64  \n",
      " 6   GrLivArea     2919 non-null   int64  \n",
      " 7   FullBath      2919 non-null   int64  \n",
      " 8   TotRmsAbvGrd  2919 non-null   int64  \n",
      " 9   Fireplaces    2919 non-null   int64  \n",
      " 10  GarageYrBlt   2760 non-null   float64\n",
      " 11  GarageCars    2918 non-null   float64\n",
      " 12  GarageArea    2918 non-null   float64\n",
      "dtypes: float64(5), int64(8)\n",
      "memory usage: 319.3 KB\n"
     ]
    }
   ],
   "source": [
    "df_train.info()"
   ]
  },
  {
   "cell_type": "code",
   "execution_count": 16,
   "id": "43de26a2",
   "metadata": {},
   "outputs": [
    {
     "data": {
      "text/html": [
       "<div>\n",
       "<style scoped>\n",
       "    .dataframe tbody tr th:only-of-type {\n",
       "        vertical-align: middle;\n",
       "    }\n",
       "\n",
       "    .dataframe tbody tr th {\n",
       "        vertical-align: top;\n",
       "    }\n",
       "\n",
       "    .dataframe thead th {\n",
       "        text-align: right;\n",
       "    }\n",
       "</style>\n",
       "<table border=\"1\" class=\"dataframe\">\n",
       "  <thead>\n",
       "    <tr style=\"text-align: right;\">\n",
       "      <th></th>\n",
       "      <th>variable</th>\n",
       "      <th>count</th>\n",
       "    </tr>\n",
       "  </thead>\n",
       "  <tbody>\n",
       "    <tr>\n",
       "      <th>7</th>\n",
       "      <td>FullBath</td>\n",
       "      <td>5</td>\n",
       "    </tr>\n",
       "    <tr>\n",
       "      <th>9</th>\n",
       "      <td>Fireplaces</td>\n",
       "      <td>5</td>\n",
       "    </tr>\n",
       "    <tr>\n",
       "      <th>11</th>\n",
       "      <td>GarageCars</td>\n",
       "      <td>7</td>\n",
       "    </tr>\n",
       "    <tr>\n",
       "      <th>0</th>\n",
       "      <td>OverallQual</td>\n",
       "      <td>10</td>\n",
       "    </tr>\n",
       "    <tr>\n",
       "      <th>8</th>\n",
       "      <td>TotRmsAbvGrd</td>\n",
       "      <td>14</td>\n",
       "    </tr>\n",
       "  </tbody>\n",
       "</table>\n",
       "</div>"
      ],
      "text/plain": [
       "        variable  count\n",
       "7       FullBath      5\n",
       "9     Fireplaces      5\n",
       "11    GarageCars      7\n",
       "0    OverallQual     10\n",
       "8   TotRmsAbvGrd     14"
      ]
     },
     "execution_count": 16,
     "metadata": {},
     "output_type": "execute_result"
    }
   ],
   "source": [
    "dic_c_unique_len = {}\n",
    "for c in df_train.columns:\n",
    "    dic_c_unique_len[c] = len(df_train[c].unique())\n",
    "    #print(c, len(df_num[c].unique()))\n",
    " \n",
    "\n",
    "df_c_unique_len = pd.DataFrame.from_dict(dic_c_unique_len, orient=\"index\").reset_index()\n",
    "df_c_unique_len.columns=['variable', 'count']\n",
    "df_c_unique_len[df_c_unique_len['count'] < 20].sort_values('count')"
   ]
  },
  {
   "cell_type": "code",
   "execution_count": 17,
   "id": "108f87f1",
   "metadata": {},
   "outputs": [
    {
     "name": "stdout",
     "output_type": "stream",
     "text": [
      "(2919, 13) (2919, 0) (2919, 13)\n"
     ]
    }
   ],
   "source": [
    "df_train_num =  df_train.select_dtypes(include='number')\n",
    "df_train_num.fillna(df_train_num.mean(), inplace=True)\n",
    "\n",
    "\n",
    "df_train_cat = df_train.select_dtypes(include='object')\n",
    "df_train_cat.fillna(df_train_cat.mode().iloc[0], inplace=True)\n",
    "\n",
    "df_train = pd.concat([df_train_num, df_train_cat], axis=1)\n",
    "\n",
    "print(df_train_num.shape, df_train_cat.shape, df_train.shape)"
   ]
  },
  {
   "cell_type": "markdown",
   "id": "3e7c3395",
   "metadata": {},
   "source": [
    "### YearBuilt"
   ]
  },
  {
   "cell_type": "code",
   "execution_count": 18,
   "id": "3fcbc607",
   "metadata": {},
   "outputs": [
    {
     "data": {
      "image/png": "[encoded data removed]",
      "text/plain": [
       "<Figure size 720x144 with 1 Axes>"
      ]
     },
     "metadata": {
      "needs_background": "light"
     },
     "output_type": "display_data"
    }
   ],
   "source": [
    "df_train['YearBuilt'].plot(kind='hist', edgecolor='black', figsize=(10, 2)); "
   ]
  },
  {
   "cell_type": "markdown",
   "id": "a182c625",
   "metadata": {},
   "source": [
    "##### Discretiser"
   ]
  },
  {
   "cell_type": "code",
   "execution_count": 19,
   "id": "0a7429e0",
   "metadata": {},
   "outputs": [],
   "source": [
    "#df_train['YearBuilt'] = pd.cut(x=df_train['YearBuilt'], bins=[1700, 1915, 1950, 1990, 2023],\n",
    "#                    labels=['old++', 'old+', 'old', 'recent'])\n",
    "\n",
    "df_train['YearBuilt'] = pd.qcut(df_train['YearBuilt'], q=4,\n",
    "                    labels=['old++', 'old+', 'old', 'recent'])"
   ]
  },
  {
   "cell_type": "code",
   "execution_count": 20,
   "id": "6c4f63de",
   "metadata": {},
   "outputs": [
    {
     "data": {
      "image/png": "[encoded data removed]",
      "text/plain": [
       "<Figure size 720x144 with 1 Axes>"
      ]
     },
     "metadata": {
      "needs_background": "light"
     },
     "output_type": "display_data"
    }
   ],
   "source": [
    "df_train['YearBuilt'].value_counts().plot(kind='bar', figsize=(10, 2));"
   ]
  },
  {
   "cell_type": "markdown",
   "id": "58d738b3",
   "metadata": {},
   "source": [
    "### YearRemodAdd"
   ]
  },
  {
   "cell_type": "code",
   "execution_count": 21,
   "id": "ca0b8eb7",
   "metadata": {},
   "outputs": [
    {
     "data": {
      "text/plain": [
       "<AxesSubplot:ylabel='Frequency'>"
      ]
     },
     "execution_count": 21,
     "metadata": {},
     "output_type": "execute_result"
    },
    {
     "data": {
      "image/png": "[encoded data removed]",
      "text/plain": [
       "<Figure size 720x144 with 1 Axes>"
      ]
     },
     "metadata": {
      "needs_background": "light"
     },
     "output_type": "display_data"
    }
   ],
   "source": [
    "df_train['YearRemodAdd'].plot(kind='hist', edgecolor='black', figsize=(10, 2)) "
   ]
  },
  {
   "cell_type": "code",
   "execution_count": 22,
   "id": "a781f2ba",
   "metadata": {},
   "outputs": [],
   "source": [
    "#df_train['YearRemodAdd'] = pd.cut(x=df_train['YearRemodAdd'], bins=[1700, 1955, 1995, 2023],\n",
    "#                    labels=['old+', 'old', 'recent'])\n",
    "\n",
    "df_train['YearRemodAdd'] = pd.qcut(x=df_train['YearRemodAdd'], q=3,\n",
    "                    labels=['old+', 'old', 'recent'])"
   ]
  },
  {
   "cell_type": "code",
   "execution_count": 23,
   "id": "ff893008",
   "metadata": {},
   "outputs": [
    {
     "data": {
      "image/png": "[encoded data removed]",
      "text/plain": [
       "<Figure size 720x144 with 1 Axes>"
      ]
     },
     "metadata": {
      "needs_background": "light"
     },
     "output_type": "display_data"
    }
   ],
   "source": [
    "df_train['YearRemodAdd'].value_counts().plot(kind='bar', figsize=(10, 2));"
   ]
  },
  {
   "cell_type": "markdown",
   "id": "76591a1d",
   "metadata": {},
   "source": [
    "### FullBath"
   ]
  },
  {
   "cell_type": "code",
   "execution_count": 24,
   "id": "bede40cc",
   "metadata": {},
   "outputs": [
    {
     "data": {
      "image/png": "[encoded data removed]",
      "text/plain": [
       "<Figure size 720x144 with 1 Axes>"
      ]
     },
     "metadata": {
      "needs_background": "light"
     },
     "output_type": "display_data"
    }
   ],
   "source": [
    "df_train['FullBath'].plot(kind='hist', edgecolor='black', figsize=(10, 2)) ;"
   ]
  },
  {
   "cell_type": "markdown",
   "id": "f9ad87c3",
   "metadata": {},
   "source": [
    "### GarageCars"
   ]
  },
  {
   "cell_type": "code",
   "execution_count": 25,
   "id": "1d7246c1",
   "metadata": {},
   "outputs": [
    {
     "data": {
      "image/png": "[encoded data removed]",
      "text/plain": [
       "<Figure size 720x144 with 1 Axes>"
      ]
     },
     "metadata": {
      "needs_background": "light"
     },
     "output_type": "display_data"
    }
   ],
   "source": [
    "df_train['GarageCars'].plot(kind='hist', edgecolor='black', figsize=(10, 2)) ;"
   ]
  },
  {
   "cell_type": "markdown",
   "id": "6e3600a2",
   "metadata": {},
   "source": [
    "### OverallQual"
   ]
  },
  {
   "cell_type": "code",
   "execution_count": 26,
   "id": "1d8149a5",
   "metadata": {},
   "outputs": [
    {
     "data": {
      "image/png": "[encoded data removed]",
      "text/plain": [
       "<Figure size 720x144 with 1 Axes>"
      ]
     },
     "metadata": {
      "needs_background": "light"
     },
     "output_type": "display_data"
    }
   ],
   "source": [
    "df_train['OverallQual'].plot(kind='hist', edgecolor='black', figsize=(10, 2)) ;"
   ]
  },
  {
   "cell_type": "code",
   "execution_count": 27,
   "id": "8564185d",
   "metadata": {},
   "outputs": [],
   "source": [
    "#df_train['OverallQual'] = pd.cut(x=df_train['OverallQual'], bins=[0, 5, 8, 10],\n",
    "#                    labels=['low', 'middle', 'high'])\n",
    "\n",
    "df_train['OverallQual'] = pd.qcut(x=df_train['OverallQual'].astype(str).astype(int), q=4, labels=['low', 'middle', 'middle+', 'high'])"
   ]
  },
  {
   "cell_type": "code",
   "execution_count": 28,
   "id": "879e392a",
   "metadata": {},
   "outputs": [
    {
     "data": {
      "image/png": "[encoded data removed]",
      "text/plain": [
       "<Figure size 720x144 with 1 Axes>"
      ]
     },
     "metadata": {
      "needs_background": "light"
     },
     "output_type": "display_data"
    }
   ],
   "source": [
    "df_train['OverallQual'].value_counts().plot(kind='bar', figsize=(10, 2));"
   ]
  },
  {
   "cell_type": "markdown",
   "id": "100ddace",
   "metadata": {},
   "source": [
    "### TotRmsAbvGrd"
   ]
  },
  {
   "cell_type": "code",
   "execution_count": 29,
   "id": "84a2bb1c",
   "metadata": {},
   "outputs": [
    {
     "data": {
      "image/png": "[encoded data removed]",
      "text/plain": [
       "<Figure size 720x144 with 1 Axes>"
      ]
     },
     "metadata": {
      "needs_background": "light"
     },
     "output_type": "display_data"
    }
   ],
   "source": [
    "df_train['TotRmsAbvGrd'].plot(kind='hist', edgecolor='black', figsize=(10, 2)) ;"
   ]
  },
  {
   "cell_type": "code",
   "execution_count": 30,
   "id": "1f273569",
   "metadata": {},
   "outputs": [],
   "source": [
    "#df_train['TotRmsAbvGrd'] = pd.cut(x=df_train['TotRmsAbvGrd'], bins=[0, 5, 9, 20],\n",
    "#                    labels=['low', 'middle', 'high'])\n",
    "\n",
    "df_train['TotRmsAbvGrd'] = pd.qcut(x=df_train['TotRmsAbvGrd'], q=4,\n",
    "                    labels=['low', 'middle', 'middle+', 'high'])"
   ]
  },
  {
   "cell_type": "code",
   "execution_count": 31,
   "id": "8d511c1d",
   "metadata": {},
   "outputs": [
    {
     "data": {
      "image/png": "[encoded data removed]",
      "text/plain": [
       "<Figure size 720x144 with 1 Axes>"
      ]
     },
     "metadata": {
      "needs_background": "light"
     },
     "output_type": "display_data"
    }
   ],
   "source": [
    "df_train['TotRmsAbvGrd'].value_counts().plot(kind='bar', figsize=(10, 2));"
   ]
  },
  {
   "cell_type": "markdown",
   "id": "f5168c80",
   "metadata": {},
   "source": [
    "### Fireplaces"
   ]
  },
  {
   "cell_type": "code",
   "execution_count": 32,
   "id": "e781d8ac",
   "metadata": {},
   "outputs": [
    {
     "data": {
      "image/png": "[encoded data removed]",
      "text/plain": [
       "<Figure size 720x144 with 1 Axes>"
      ]
     },
     "metadata": {
      "needs_background": "light"
     },
     "output_type": "display_data"
    }
   ],
   "source": [
    "df_train['Fireplaces'].plot(kind='hist', edgecolor='black', figsize=(10, 2)) ;"
   ]
  },
  {
   "cell_type": "markdown",
   "id": "753cddce",
   "metadata": {},
   "source": [
    "### 1stFlrSF"
   ]
  },
  {
   "cell_type": "code",
   "execution_count": 33,
   "id": "30f52889",
   "metadata": {},
   "outputs": [
    {
     "data": {
      "image/png": "[encoded data removed]",
      "text/plain": [
       "<Figure size 720x144 with 1 Axes>"
      ]
     },
     "metadata": {
      "needs_background": "light"
     },
     "output_type": "display_data"
    }
   ],
   "source": [
    "df_train['1stFlrSF'].plot(kind='hist', edgecolor='black', figsize=(10, 2)) ;"
   ]
  },
  {
   "cell_type": "code",
   "execution_count": 34,
   "id": "656a485d",
   "metadata": {},
   "outputs": [
    {
     "data": {
      "text/plain": [
       "(2919, 13)"
      ]
     },
     "execution_count": 34,
     "metadata": {},
     "output_type": "execute_result"
    }
   ],
   "source": [
    "df_train.shape"
   ]
  },
  {
   "cell_type": "markdown",
   "id": "71766d94",
   "metadata": {},
   "source": [
    "### Dichotomisation"
   ]
  },
  {
   "cell_type": "markdown",
   "id": "3a34e832",
   "metadata": {},
   "source": [
    "YearBuilt YearRemodAdd OverallQual TotRmsAbvGrd GarageCars FullBath"
   ]
  },
  {
   "cell_type": "code",
   "execution_count": 35,
   "id": "3272a16c",
   "metadata": {},
   "outputs": [],
   "source": [
    "df_YearBuilt_dummies = pd.get_dummies(df_train['YearBuilt'], prefix='YearBuilt')"
   ]
  },
  {
   "cell_type": "code",
   "execution_count": 36,
   "id": "818382ad",
   "metadata": {},
   "outputs": [],
   "source": [
    "df_YearRemodAdd_dummies = pd.get_dummies(df_train['YearRemodAdd'], prefix='YearRemodAdd')"
   ]
  },
  {
   "cell_type": "code",
   "execution_count": 37,
   "id": "1e54067c",
   "metadata": {},
   "outputs": [],
   "source": [
    "df_OverallQual_dummies = pd.get_dummies(df_train['OverallQual'], prefix='OverallQual')"
   ]
  },
  {
   "cell_type": "code",
   "execution_count": 38,
   "id": "7c8633e6",
   "metadata": {},
   "outputs": [],
   "source": [
    "df_TotRmsAbvGrd_dummies = pd.get_dummies(df_train['TotRmsAbvGrd'], prefix='TotRmsAbvGrd')"
   ]
  },
  {
   "cell_type": "code",
   "execution_count": 39,
   "id": "1e25bebf",
   "metadata": {},
   "outputs": [],
   "source": [
    "df_FullBath_dummies = pd.get_dummies(df_train['FullBath'], prefix='FullBath')"
   ]
  },
  {
   "cell_type": "code",
   "execution_count": 40,
   "id": "95f393c1",
   "metadata": {},
   "outputs": [],
   "source": [
    "df_GarageCars_dummies = pd.get_dummies(df_train['GarageCars'], prefix='GarageCars')"
   ]
  },
  {
   "cell_type": "code",
   "execution_count": 41,
   "id": "a6967a53",
   "metadata": {},
   "outputs": [],
   "source": [
    "df_Fireplaces_dummies = pd.get_dummies(df_train['Fireplaces'], prefix='Fireplaces')"
   ]
  },
  {
   "cell_type": "code",
   "execution_count": 42,
   "id": "717322c5",
   "metadata": {},
   "outputs": [],
   "source": [
    "#df_dummies = df_YearBuilt_dummies.join(df_YearRemodAdd_dummies).join(df_OverallQual_dummies).join(df_TotRmsAbvGrd_dummies).join(df_FullBath_dummies).join(df_GarageCars_dummies)\n",
    "df_dummies = pd.concat([df_YearBuilt_dummies, \n",
    "                        df_YearRemodAdd_dummies,\n",
    "                        df_OverallQual_dummies,\n",
    "                        df_TotRmsAbvGrd_dummies,\n",
    "                        df_FullBath_dummies,\n",
    "                        df_GarageCars_dummies,\n",
    "                        df_Fireplaces_dummies], \n",
    "                       axis=1)\n"
   ]
  },
  {
   "cell_type": "code",
   "execution_count": 43,
   "id": "000dc6b7",
   "metadata": {},
   "outputs": [
    {
     "data": {
      "text/plain": [
       "(2919, 32)"
      ]
     },
     "execution_count": 43,
     "metadata": {},
     "output_type": "execute_result"
    }
   ],
   "source": [
    "df_dummies.shape"
   ]
  },
  {
   "cell_type": "code",
   "execution_count": 44,
   "id": "7d24e59b",
   "metadata": {},
   "outputs": [],
   "source": [
    "df_train_scaled = df_train[['1stFlrSF','GrLivArea','GarageArea','TotalBsmtSF']]"
   ]
  },
  {
   "cell_type": "code",
   "execution_count": 45,
   "id": "1bc871ad",
   "metadata": {},
   "outputs": [
    {
     "name": "stderr",
     "output_type": "stream",
     "text": [
      "C:\\ProgramData\\Anaconda3\\lib\\site-packages\\pandas\\core\\frame.py:3191: SettingWithCopyWarning: \n",
      "A value is trying to be set on a copy of a slice from a DataFrame.\n",
      "Try using .loc[row_indexer,col_indexer] = value instead\n",
      "\n",
      "See the caveats in the documentation: https://pandas.pydata.org/pandas-docs/stable/user_guide/indexing.html#returning-a-view-versus-a-copy\n",
      "  self[k1] = value[k2]\n"
     ]
    }
   ],
   "source": [
    "scaler = preprocessing.StandardScaler().fit(df_train_scaled)\n",
    "df_train_scaled[df_train_scaled.columns] = pd.DataFrame(scaler.transform(df_train_scaled), index=df_train_scaled.index)"
   ]
  },
  {
   "cell_type": "code",
   "execution_count": 46,
   "id": "94d88669",
   "metadata": {},
   "outputs": [
    {
     "data": {
      "text/plain": [
       "(2919, 36)"
      ]
     },
     "execution_count": 46,
     "metadata": {},
     "output_type": "execute_result"
    }
   ],
   "source": [
    "df_train = pd.concat([df_dummies, df_train_scaled], axis=1)\n",
    "df_train.shape"
   ]
  },
  {
   "cell_type": "code",
   "execution_count": 47,
   "id": "8ab7177f",
   "metadata": {},
   "outputs": [
    {
     "data": {
      "text/html": [
       "<div>\n",
       "<style scoped>\n",
       "    .dataframe tbody tr th:only-of-type {\n",
       "        vertical-align: middle;\n",
       "    }\n",
       "\n",
       "    .dataframe tbody tr th {\n",
       "        vertical-align: top;\n",
       "    }\n",
       "\n",
       "    .dataframe thead th {\n",
       "        text-align: right;\n",
       "    }\n",
       "</style>\n",
       "<table border=\"1\" class=\"dataframe\">\n",
       "  <thead>\n",
       "    <tr style=\"text-align: right;\">\n",
       "      <th></th>\n",
       "      <th>YearBuilt_old++</th>\n",
       "      <th>YearBuilt_old+</th>\n",
       "      <th>YearBuilt_old</th>\n",
       "      <th>YearBuilt_recent</th>\n",
       "      <th>YearRemodAdd_old+</th>\n",
       "      <th>YearRemodAdd_old</th>\n",
       "      <th>YearRemodAdd_recent</th>\n",
       "      <th>OverallQual_low</th>\n",
       "      <th>OverallQual_middle</th>\n",
       "      <th>OverallQual_middle+</th>\n",
       "      <th>...</th>\n",
       "      <th>GarageCars_5.0</th>\n",
       "      <th>Fireplaces_0</th>\n",
       "      <th>Fireplaces_1</th>\n",
       "      <th>Fireplaces_2</th>\n",
       "      <th>Fireplaces_3</th>\n",
       "      <th>Fireplaces_4</th>\n",
       "      <th>1stFlrSF</th>\n",
       "      <th>GrLivArea</th>\n",
       "      <th>GarageArea</th>\n",
       "      <th>TotalBsmtSF</th>\n",
       "    </tr>\n",
       "  </thead>\n",
       "  <tbody>\n",
       "    <tr>\n",
       "      <th>0</th>\n",
       "      <td>0</td>\n",
       "      <td>0</td>\n",
       "      <td>0</td>\n",
       "      <td>1</td>\n",
       "      <td>0</td>\n",
       "      <td>0</td>\n",
       "      <td>1</td>\n",
       "      <td>0</td>\n",
       "      <td>0</td>\n",
       "      <td>1</td>\n",
       "      <td>...</td>\n",
       "      <td>0</td>\n",
       "      <td>1</td>\n",
       "      <td>0</td>\n",
       "      <td>0</td>\n",
       "      <td>0</td>\n",
       "      <td>0</td>\n",
       "      <td>-0.773861</td>\n",
       "      <td>0.413547</td>\n",
       "      <td>0.348900</td>\n",
       "      <td>-0.444328</td>\n",
       "    </tr>\n",
       "    <tr>\n",
       "      <th>1</th>\n",
       "      <td>0</td>\n",
       "      <td>0</td>\n",
       "      <td>1</td>\n",
       "      <td>0</td>\n",
       "      <td>0</td>\n",
       "      <td>1</td>\n",
       "      <td>0</td>\n",
       "      <td>0</td>\n",
       "      <td>1</td>\n",
       "      <td>0</td>\n",
       "      <td>...</td>\n",
       "      <td>0</td>\n",
       "      <td>0</td>\n",
       "      <td>1</td>\n",
       "      <td>0</td>\n",
       "      <td>0</td>\n",
       "      <td>0</td>\n",
       "      <td>0.261075</td>\n",
       "      <td>-0.471891</td>\n",
       "      <td>-0.059792</td>\n",
       "      <td>0.477111</td>\n",
       "    </tr>\n",
       "    <tr>\n",
       "      <th>2</th>\n",
       "      <td>0</td>\n",
       "      <td>0</td>\n",
       "      <td>1</td>\n",
       "      <td>0</td>\n",
       "      <td>0</td>\n",
       "      <td>0</td>\n",
       "      <td>1</td>\n",
       "      <td>0</td>\n",
       "      <td>0</td>\n",
       "      <td>1</td>\n",
       "      <td>...</td>\n",
       "      <td>0</td>\n",
       "      <td>0</td>\n",
       "      <td>1</td>\n",
       "      <td>0</td>\n",
       "      <td>0</td>\n",
       "      <td>0</td>\n",
       "      <td>-0.610718</td>\n",
       "      <td>0.563755</td>\n",
       "      <td>0.627553</td>\n",
       "      <td>-0.299076</td>\n",
       "    </tr>\n",
       "    <tr>\n",
       "      <th>3</th>\n",
       "      <td>1</td>\n",
       "      <td>0</td>\n",
       "      <td>0</td>\n",
       "      <td>0</td>\n",
       "      <td>1</td>\n",
       "      <td>0</td>\n",
       "      <td>0</td>\n",
       "      <td>0</td>\n",
       "      <td>0</td>\n",
       "      <td>1</td>\n",
       "      <td>...</td>\n",
       "      <td>0</td>\n",
       "      <td>0</td>\n",
       "      <td>1</td>\n",
       "      <td>0</td>\n",
       "      <td>0</td>\n",
       "      <td>0</td>\n",
       "      <td>-0.506205</td>\n",
       "      <td>0.427382</td>\n",
       "      <td>0.785457</td>\n",
       "      <td>-0.671283</td>\n",
       "    </tr>\n",
       "    <tr>\n",
       "      <th>4</th>\n",
       "      <td>0</td>\n",
       "      <td>0</td>\n",
       "      <td>1</td>\n",
       "      <td>0</td>\n",
       "      <td>0</td>\n",
       "      <td>1</td>\n",
       "      <td>0</td>\n",
       "      <td>0</td>\n",
       "      <td>0</td>\n",
       "      <td>0</td>\n",
       "      <td>...</td>\n",
       "      <td>0</td>\n",
       "      <td>0</td>\n",
       "      <td>1</td>\n",
       "      <td>0</td>\n",
       "      <td>0</td>\n",
       "      <td>0</td>\n",
       "      <td>-0.037170</td>\n",
       "      <td>1.378042</td>\n",
       "      <td>1.686437</td>\n",
       "      <td>0.211573</td>\n",
       "    </tr>\n",
       "  </tbody>\n",
       "</table>\n",
       "<p>5 rows × 36 columns</p>\n",
       "</div>"
      ],
      "text/plain": [
       "   YearBuilt_old++  YearBuilt_old+  YearBuilt_old  YearBuilt_recent  \\\n",
       "0                0               0              0                 1   \n",
       "1                0               0              1                 0   \n",
       "2                0               0              1                 0   \n",
       "3                1               0              0                 0   \n",
       "4                0               0              1                 0   \n",
       "\n",
       "   YearRemodAdd_old+  YearRemodAdd_old  YearRemodAdd_recent  OverallQual_low  \\\n",
       "0                  0                 0                    1                0   \n",
       "1                  0                 1                    0                0   \n",
       "2                  0                 0                    1                0   \n",
       "3                  1                 0                    0                0   \n",
       "4                  0                 1                    0                0   \n",
       "\n",
       "   OverallQual_middle  OverallQual_middle+  ...  GarageCars_5.0  Fireplaces_0  \\\n",
       "0                   0                    1  ...               0             1   \n",
       "1                   1                    0  ...               0             0   \n",
       "2                   0                    1  ...               0             0   \n",
       "3                   0                    1  ...               0             0   \n",
       "4                   0                    0  ...               0             0   \n",
       "\n",
       "   Fireplaces_1  Fireplaces_2  Fireplaces_3  Fireplaces_4  1stFlrSF  \\\n",
       "0             0             0             0             0 -0.773861   \n",
       "1             1             0             0             0  0.261075   \n",
       "2             1             0             0             0 -0.610718   \n",
       "3             1             0             0             0 -0.506205   \n",
       "4             1             0             0             0 -0.037170   \n",
       "\n",
       "   GrLivArea  GarageArea  TotalBsmtSF  \n",
       "0   0.413547    0.348900    -0.444328  \n",
       "1  -0.471891   -0.059792     0.477111  \n",
       "2   0.563755    0.627553    -0.299076  \n",
       "3   0.427382    0.785457    -0.671283  \n",
       "4   1.378042    1.686437     0.211573  \n",
       "\n",
       "[5 rows x 36 columns]"
      ]
     },
     "execution_count": 47,
     "metadata": {},
     "output_type": "execute_result"
    }
   ],
   "source": [
    "df_train.head()"
   ]
  },
  {
   "cell_type": "code",
   "execution_count": 48,
   "id": "2c7fa225",
   "metadata": {},
   "outputs": [],
   "source": [
    "#df_train = df_train.fillna(0)"
   ]
  },
  {
   "cell_type": "code",
   "execution_count": 49,
   "id": "efaa0588",
   "metadata": {},
   "outputs": [
    {
     "data": {
      "text/plain": [
       "\"\\nselector = VarianceThreshold(variance_threshold)\\n\\nselector.fit(df_train)\\nfeatures = selector.get_support(indices = True) #returns an array of integers corresponding to nonremoved features\\n#features\\nfeatures = [column for column in df_train.columns[features]] #Array of all nonremoved features' names\\n#features\\n#Format and Return\\ndf_train = pd.DataFrame(selector.transform(df_train))\\ndf_train.columns = features\\n\""
      ]
     },
     "execution_count": 49,
     "metadata": {},
     "output_type": "execute_result"
    }
   ],
   "source": [
    "'''\n",
    "selector = VarianceThreshold(variance_threshold)\n",
    "\n",
    "selector.fit(df_train)\n",
    "features = selector.get_support(indices = True) #returns an array of integers corresponding to nonremoved features\n",
    "#features\n",
    "features = [column for column in df_train.columns[features]] #Array of all nonremoved features' names\n",
    "#features\n",
    "#Format and Return\n",
    "df_train = pd.DataFrame(selector.transform(df_train))\n",
    "df_train.columns = features\n",
    "'''\n",
    "\n"
   ]
  },
  {
   "cell_type": "code",
   "execution_count": 50,
   "id": "676122e3",
   "metadata": {},
   "outputs": [
    {
     "name": "stdout",
     "output_type": "stream",
     "text": [
      "(1460, 36) (1459, 36)\n"
     ]
    }
   ],
   "source": [
    "df_test = df_train.tail(1459) #df_train[df_train['SalePrice'] == 0]\n",
    "#df_test.drop(['SalePrice'], axis = 1, inplace=True)\n",
    "df_train = df_train.head(1460) #[df_train['SalePrice'] > 0]\n",
    "\n",
    "print(df_train.shape, df_test.shape)"
   ]
  },
  {
   "cell_type": "code",
   "execution_count": null,
   "id": "b5e94b14",
   "metadata": {},
   "outputs": [],
   "source": []
  },
  {
   "cell_type": "code",
   "execution_count": 51,
   "id": "0e1333d3",
   "metadata": {},
   "outputs": [
    {
     "data": {
      "text/plain": [
       "(1460, 36)"
      ]
     },
     "execution_count": 51,
     "metadata": {},
     "output_type": "execute_result"
    }
   ],
   "source": [
    "df_train.shape"
   ]
  },
  {
   "cell_type": "code",
   "execution_count": 52,
   "id": "2c98b902",
   "metadata": {},
   "outputs": [
    {
     "data": {
      "text/html": [
       "<div>\n",
       "<style scoped>\n",
       "    .dataframe tbody tr th:only-of-type {\n",
       "        vertical-align: middle;\n",
       "    }\n",
       "\n",
       "    .dataframe tbody tr th {\n",
       "        vertical-align: top;\n",
       "    }\n",
       "\n",
       "    .dataframe thead th {\n",
       "        text-align: right;\n",
       "    }\n",
       "</style>\n",
       "<table border=\"1\" class=\"dataframe\">\n",
       "  <thead>\n",
       "    <tr style=\"text-align: right;\">\n",
       "      <th></th>\n",
       "      <th>YearBuilt_old++</th>\n",
       "      <th>YearBuilt_old+</th>\n",
       "      <th>YearBuilt_old</th>\n",
       "      <th>YearBuilt_recent</th>\n",
       "      <th>YearRemodAdd_old+</th>\n",
       "      <th>YearRemodAdd_old</th>\n",
       "      <th>YearRemodAdd_recent</th>\n",
       "      <th>OverallQual_low</th>\n",
       "      <th>OverallQual_middle</th>\n",
       "      <th>OverallQual_middle+</th>\n",
       "      <th>...</th>\n",
       "      <th>GarageCars_5.0</th>\n",
       "      <th>Fireplaces_0</th>\n",
       "      <th>Fireplaces_1</th>\n",
       "      <th>Fireplaces_2</th>\n",
       "      <th>Fireplaces_3</th>\n",
       "      <th>Fireplaces_4</th>\n",
       "      <th>1stFlrSF</th>\n",
       "      <th>GrLivArea</th>\n",
       "      <th>GarageArea</th>\n",
       "      <th>TotalBsmtSF</th>\n",
       "    </tr>\n",
       "  </thead>\n",
       "  <tbody>\n",
       "    <tr>\n",
       "      <th>0</th>\n",
       "      <td>0</td>\n",
       "      <td>0</td>\n",
       "      <td>0</td>\n",
       "      <td>1</td>\n",
       "      <td>0</td>\n",
       "      <td>0</td>\n",
       "      <td>1</td>\n",
       "      <td>0</td>\n",
       "      <td>0</td>\n",
       "      <td>1</td>\n",
       "      <td>...</td>\n",
       "      <td>0</td>\n",
       "      <td>1</td>\n",
       "      <td>0</td>\n",
       "      <td>0</td>\n",
       "      <td>0</td>\n",
       "      <td>0</td>\n",
       "      <td>-0.773861</td>\n",
       "      <td>0.413547</td>\n",
       "      <td>0.348900</td>\n",
       "      <td>-0.444328</td>\n",
       "    </tr>\n",
       "    <tr>\n",
       "      <th>1</th>\n",
       "      <td>0</td>\n",
       "      <td>0</td>\n",
       "      <td>1</td>\n",
       "      <td>0</td>\n",
       "      <td>0</td>\n",
       "      <td>1</td>\n",
       "      <td>0</td>\n",
       "      <td>0</td>\n",
       "      <td>1</td>\n",
       "      <td>0</td>\n",
       "      <td>...</td>\n",
       "      <td>0</td>\n",
       "      <td>0</td>\n",
       "      <td>1</td>\n",
       "      <td>0</td>\n",
       "      <td>0</td>\n",
       "      <td>0</td>\n",
       "      <td>0.261075</td>\n",
       "      <td>-0.471891</td>\n",
       "      <td>-0.059792</td>\n",
       "      <td>0.477111</td>\n",
       "    </tr>\n",
       "    <tr>\n",
       "      <th>2</th>\n",
       "      <td>0</td>\n",
       "      <td>0</td>\n",
       "      <td>1</td>\n",
       "      <td>0</td>\n",
       "      <td>0</td>\n",
       "      <td>0</td>\n",
       "      <td>1</td>\n",
       "      <td>0</td>\n",
       "      <td>0</td>\n",
       "      <td>1</td>\n",
       "      <td>...</td>\n",
       "      <td>0</td>\n",
       "      <td>0</td>\n",
       "      <td>1</td>\n",
       "      <td>0</td>\n",
       "      <td>0</td>\n",
       "      <td>0</td>\n",
       "      <td>-0.610718</td>\n",
       "      <td>0.563755</td>\n",
       "      <td>0.627553</td>\n",
       "      <td>-0.299076</td>\n",
       "    </tr>\n",
       "    <tr>\n",
       "      <th>3</th>\n",
       "      <td>1</td>\n",
       "      <td>0</td>\n",
       "      <td>0</td>\n",
       "      <td>0</td>\n",
       "      <td>1</td>\n",
       "      <td>0</td>\n",
       "      <td>0</td>\n",
       "      <td>0</td>\n",
       "      <td>0</td>\n",
       "      <td>1</td>\n",
       "      <td>...</td>\n",
       "      <td>0</td>\n",
       "      <td>0</td>\n",
       "      <td>1</td>\n",
       "      <td>0</td>\n",
       "      <td>0</td>\n",
       "      <td>0</td>\n",
       "      <td>-0.506205</td>\n",
       "      <td>0.427382</td>\n",
       "      <td>0.785457</td>\n",
       "      <td>-0.671283</td>\n",
       "    </tr>\n",
       "    <tr>\n",
       "      <th>4</th>\n",
       "      <td>0</td>\n",
       "      <td>0</td>\n",
       "      <td>1</td>\n",
       "      <td>0</td>\n",
       "      <td>0</td>\n",
       "      <td>1</td>\n",
       "      <td>0</td>\n",
       "      <td>0</td>\n",
       "      <td>0</td>\n",
       "      <td>0</td>\n",
       "      <td>...</td>\n",
       "      <td>0</td>\n",
       "      <td>0</td>\n",
       "      <td>1</td>\n",
       "      <td>0</td>\n",
       "      <td>0</td>\n",
       "      <td>0</td>\n",
       "      <td>-0.037170</td>\n",
       "      <td>1.378042</td>\n",
       "      <td>1.686437</td>\n",
       "      <td>0.211573</td>\n",
       "    </tr>\n",
       "  </tbody>\n",
       "</table>\n",
       "<p>5 rows × 36 columns</p>\n",
       "</div>"
      ],
      "text/plain": [
       "   YearBuilt_old++  YearBuilt_old+  YearBuilt_old  YearBuilt_recent  \\\n",
       "0                0               0              0                 1   \n",
       "1                0               0              1                 0   \n",
       "2                0               0              1                 0   \n",
       "3                1               0              0                 0   \n",
       "4                0               0              1                 0   \n",
       "\n",
       "   YearRemodAdd_old+  YearRemodAdd_old  YearRemodAdd_recent  OverallQual_low  \\\n",
       "0                  0                 0                    1                0   \n",
       "1                  0                 1                    0                0   \n",
       "2                  0                 0                    1                0   \n",
       "3                  1                 0                    0                0   \n",
       "4                  0                 1                    0                0   \n",
       "\n",
       "   OverallQual_middle  OverallQual_middle+  ...  GarageCars_5.0  Fireplaces_0  \\\n",
       "0                   0                    1  ...               0             1   \n",
       "1                   1                    0  ...               0             0   \n",
       "2                   0                    1  ...               0             0   \n",
       "3                   0                    1  ...               0             0   \n",
       "4                   0                    0  ...               0             0   \n",
       "\n",
       "   Fireplaces_1  Fireplaces_2  Fireplaces_3  Fireplaces_4  1stFlrSF  \\\n",
       "0             0             0             0             0 -0.773861   \n",
       "1             1             0             0             0  0.261075   \n",
       "2             1             0             0             0 -0.610718   \n",
       "3             1             0             0             0 -0.506205   \n",
       "4             1             0             0             0 -0.037170   \n",
       "\n",
       "   GrLivArea  GarageArea  TotalBsmtSF  \n",
       "0   0.413547    0.348900    -0.444328  \n",
       "1  -0.471891   -0.059792     0.477111  \n",
       "2   0.563755    0.627553    -0.299076  \n",
       "3   0.427382    0.785457    -0.671283  \n",
       "4   1.378042    1.686437     0.211573  \n",
       "\n",
       "[5 rows x 36 columns]"
      ]
     },
     "execution_count": 52,
     "metadata": {},
     "output_type": "execute_result"
    }
   ],
   "source": [
    "df_train.head()"
   ]
  },
  {
   "cell_type": "code",
   "execution_count": 53,
   "id": "c511c7de",
   "metadata": {},
   "outputs": [],
   "source": [
    "target = df_train_SalePrice\n",
    "data = df_train"
   ]
  },
  {
   "cell_type": "code",
   "execution_count": 54,
   "id": "a1941eae",
   "metadata": {},
   "outputs": [],
   "source": [
    "X_train, X_test, y_train, y_test = train_test_split(data, target, test_size = 0.35, random_state = 66) "
   ]
  },
  {
   "cell_type": "code",
   "execution_count": 55,
   "id": "f08a2d37",
   "metadata": {},
   "outputs": [
    {
     "name": "stdout",
     "output_type": "stream",
     "text": [
      "(949, 36) (511, 36)\n",
      "(949, 12) (511, 12)\n"
     ]
    }
   ],
   "source": [
    "\n",
    "\n",
    "print(X_train.shape, X_test.shape)\n",
    "pca = PCA(n_components = pca_components)\n",
    "X_train = pca.fit_transform(X_train)\n",
    "X_test = pca.transform(X_test)\n",
    "print(X_train.shape, X_test.shape)\n",
    "\n"
   ]
  },
  {
   "cell_type": "code",
   "execution_count": 56,
   "id": "4eeb3f2d",
   "metadata": {},
   "outputs": [
    {
     "name": "stdout",
     "output_type": "stream",
     "text": [
      "1.5.2\n"
     ]
    }
   ],
   "source": [
    "import xgboost\n",
    "from xgboost import XGBRegressor\n",
    "from sklearn.metrics import mean_squared_error\n",
    "print(xgboost.__version__)"
   ]
  },
  {
   "cell_type": "code",
   "execution_count": 57,
   "id": "3eb17682",
   "metadata": {},
   "outputs": [
    {
     "name": "stdout",
     "output_type": "stream",
     "text": [
      "[0]\tvalidation_0-rmse:139785.53125\n",
      "[1]\tvalidation_0-rmse:101457.64062\n",
      "[2]\tvalidation_0-rmse:76212.57812\n",
      "[3]\tvalidation_0-rmse:58574.04688\n",
      "[4]\tvalidation_0-rmse:48118.18359\n",
      "[5]\tvalidation_0-rmse:41680.48047\n",
      "[6]\tvalidation_0-rmse:38021.75781\n",
      "[7]\tvalidation_0-rmse:35523.22656\n",
      "[8]\tvalidation_0-rmse:34356.30078\n",
      "[9]\tvalidation_0-rmse:34102.75391\n",
      "[10]\tvalidation_0-rmse:33677.94531\n",
      "[11]\tvalidation_0-rmse:33674.36328\n",
      "[12]\tvalidation_0-rmse:33532.73047\n",
      "[13]\tvalidation_0-rmse:33275.64062\n",
      "[14]\tvalidation_0-rmse:33163.80078\n",
      "[15]\tvalidation_0-rmse:33134.07812\n",
      "[16]\tvalidation_0-rmse:33078.47656\n",
      "[17]\tvalidation_0-rmse:33062.68750\n",
      "[18]\tvalidation_0-rmse:33052.72266\n",
      "[19]\tvalidation_0-rmse:33021.59375\n",
      "RMSE :  33021.593038\n"
     ]
    }
   ],
   "source": [
    "# create an xgboost regression model\n",
    "#model_xgbr = XGBRegressor()\n",
    "\n",
    "# Instantiation\n",
    "xgb_r = XGBRegressor(objective ='reg:squarederror',\n",
    "                  n_estimators = 20, seed = 123)\n",
    "  \n",
    "# Fitting the model\n",
    "eval_set = [(X_test, y_test)]\n",
    "xgb_r.fit(X_train, y_train, eval_metric=\"rmse\", eval_set=eval_set, verbose=True)\n",
    "  \n",
    "# Predict the model\n",
    "pred = xgb_r.predict(X_test)\n",
    "  \n",
    "# RMSE Computation\n",
    "rmse = np.sqrt(mean_squared_error(y_test, pred))\n",
    "print(\"RMSE : % f\" %(rmse))"
   ]
  },
  {
   "cell_type": "code",
   "execution_count": 58,
   "id": "a94234ec",
   "metadata": {},
   "outputs": [
    {
     "name": "stdout",
     "output_type": "stream",
     "text": [
      "score train : 0.9780941238927969\n",
      "score test : 0.821776528668715\n"
     ]
    }
   ],
   "source": [
    "print(\"score train :\",xgb_r.score(X_train, y_train))\n",
    "print(\"score test :\", xgb_r.score(X_test, y_test))"
   ]
  },
  {
   "cell_type": "code",
   "execution_count": null,
   "id": "43ae3a8e",
   "metadata": {},
   "outputs": [],
   "source": []
  },
  {
   "cell_type": "code",
   "execution_count": 59,
   "id": "526e46d1",
   "metadata": {},
   "outputs": [
    {
     "data": {
      "text/html": [
       "<div>\n",
       "<style scoped>\n",
       "    .dataframe tbody tr th:only-of-type {\n",
       "        vertical-align: middle;\n",
       "    }\n",
       "\n",
       "    .dataframe tbody tr th {\n",
       "        vertical-align: top;\n",
       "    }\n",
       "\n",
       "    .dataframe thead th {\n",
       "        text-align: right;\n",
       "    }\n",
       "</style>\n",
       "<table border=\"1\" class=\"dataframe\">\n",
       "  <thead>\n",
       "    <tr style=\"text-align: right;\">\n",
       "      <th></th>\n",
       "      <th>SalePrice</th>\n",
       "    </tr>\n",
       "  </thead>\n",
       "  <tbody>\n",
       "    <tr>\n",
       "      <th>0</th>\n",
       "      <td>123047.335938</td>\n",
       "    </tr>\n",
       "    <tr>\n",
       "      <th>1</th>\n",
       "      <td>144557.203125</td>\n",
       "    </tr>\n",
       "    <tr>\n",
       "      <th>2</th>\n",
       "      <td>178901.375000</td>\n",
       "    </tr>\n",
       "    <tr>\n",
       "      <th>3</th>\n",
       "      <td>176882.500000</td>\n",
       "    </tr>\n",
       "    <tr>\n",
       "      <th>4</th>\n",
       "      <td>195567.828125</td>\n",
       "    </tr>\n",
       "  </tbody>\n",
       "</table>\n",
       "</div>"
      ],
      "text/plain": [
       "       SalePrice\n",
       "0  123047.335938\n",
       "1  144557.203125\n",
       "2  178901.375000\n",
       "3  176882.500000\n",
       "4  195567.828125"
      ]
     },
     "execution_count": 59,
     "metadata": {},
     "output_type": "execute_result"
    }
   ],
   "source": [
    "pred = xgb_r.predict(pca.transform(df_test))\n",
    "#pred = xgb_r.predict(df_test)\n",
    "\n",
    "df_pred = pd.DataFrame(pred, columns=['SalePrice'])\n",
    "df_pred.head()"
   ]
  },
  {
   "cell_type": "code",
   "execution_count": 60,
   "id": "e690d3f2",
   "metadata": {},
   "outputs": [
    {
     "data": {
      "text/plain": [
       "(1459, 2)"
      ]
     },
     "execution_count": 60,
     "metadata": {},
     "output_type": "execute_result"
    }
   ],
   "source": [
    "df_pred = df_test_Id.join(df_pred)\n",
    "\n",
    "df_pred.shape"
   ]
  },
  {
   "cell_type": "code",
   "execution_count": 61,
   "id": "e98bf152",
   "metadata": {},
   "outputs": [],
   "source": [
    "df_pred.to_csv('./submission/model_xgb_r.csv', index=False)"
   ]
  }
 ],
 "metadata": {
  "kernelspec": {
   "display_name": "Python 3",
   "language": "python",
   "name": "python3"
  },
  "language_info": {
   "codemirror_mode": {
    "name": "ipython",
    "version": 3
   },
   "file_extension": ".py",
   "mimetype": "text/x-python",
   "name": "python",
   "nbconvert_exporter": "python",
   "pygments_lexer": "ipython3",
   "version": "3.8.8"
  }
 },
 "nbformat": 4,
 "nbformat_minor": 5
}
