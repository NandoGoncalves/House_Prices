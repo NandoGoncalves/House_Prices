{
 "cells": [
  {
   "cell_type": "code",
   "execution_count": 1,
   "id": "a83dbfc1",
   "metadata": {},
   "outputs": [],
   "source": [
    "%matplotlib inline\n",
    "\n",
    "import numpy as np\n",
    "import pandas as pd\n",
    "\n",
    "from sklearn import neighbors\n",
    "from sklearn.decomposition import PCA\n",
    "from sklearn import linear_model, preprocessing\n",
    "from sklearn.feature_selection import VarianceThreshold\n",
    "from sklearn import model_selection\n",
    "from sklearn.model_selection import train_test_split\n",
    "\n",
    "\n",
    "import matplotlib.pyplot as plt\n",
    "import seaborn as sns"
   ]
  },
  {
   "cell_type": "code",
   "execution_count": 2,
   "id": "90c2fa84",
   "metadata": {},
   "outputs": [],
   "source": [
    "def df_corr_columns(df, target, threshold):\n",
    "    df_corr = df.corr()\n",
    "    df_corr_SalePrice = df_corr[[target]]\n",
    "    df_corr_SalePrice = df_corr_SalePrice.reset_index()\n",
    "    df_corr_SalePrice = df_corr_SalePrice[(df_corr_SalePrice['index'] != target)]\n",
    "    df_corr_SalePrice_columns = df_corr_SalePrice[(\n",
    "        (df_corr_SalePrice[target] > threshold) | \n",
    "        (df_corr_SalePrice[target] < -threshold))]['index']\n",
    "    return df_corr_SalePrice_columns"
   ]
  },
  {
   "cell_type": "code",
   "execution_count": 3,
   "id": "1933f198",
   "metadata": {},
   "outputs": [],
   "source": [
    "def separe_per_unique_threshold(df, threshold):\n",
    "    dic_c_unique_len = {}\n",
    "    for c in df.columns:\n",
    "        dic_c_unique_len[c] = len(df[c].unique())\n",
    "        #print(c, len(df_num[c].unique()))\n",
    " \n",
    "\n",
    "    df_c_unique_len = pd.DataFrame.from_dict(dic_c_unique_len, orient=\"index\").reset_index()\n",
    "    df_c_unique_len.columns=['variable', 'count']\n",
    "    return df_c_unique_len[df_c_unique_len['count'] <= 20].sort_values('count'), df_c_unique_len[df_c_unique_len['count'] > 20].sort_values('count')\n"
   ]
  },
  {
   "cell_type": "code",
   "execution_count": 4,
   "id": "16854e12",
   "metadata": {},
   "outputs": [],
   "source": [
    "def dummies(df, quantiles = 4):\n",
    "    \n",
    "    columns = df.columns\n",
    "    for c in columns:\n",
    "        \n",
    "        df[c] = pd.qcut(df[c], q=quantiles, duplicates='drop') # , labels=dummies_cols\n",
    "        \n",
    "        df = pd.concat([df, pd.get_dummies(df[c], prefix=c)], axis=1)\n",
    "        \n",
    "    df.drop(columns, axis=1, inplace=True)\n",
    "        \n",
    "    return df"
   ]
  },
  {
   "cell_type": "code",
   "execution_count": 5,
   "id": "78dda4a2",
   "metadata": {},
   "outputs": [],
   "source": [
    "corr_threshold = 0.3\n",
    "dummies_quantiles = 4\n",
    "variance_threshold = 0.2\n",
    "unique_values_threshold = 20\n",
    "pca_components = 0.9\n"
   ]
  },
  {
   "cell_type": "code",
   "execution_count": 6,
   "id": "3f782529",
   "metadata": {},
   "outputs": [
    {
     "data": {
      "text/plain": [
       "(1460, 80)"
      ]
     },
     "execution_count": 6,
     "metadata": {},
     "output_type": "execute_result"
    }
   ],
   "source": [
    "df_train = pd.read_csv(\"./dataset/train.csv\")\n",
    "\n",
    "df_train_Id = df_train[['Id']]\n",
    "df_train_SalePrice = df_train[['SalePrice']]\n",
    "df_train.drop(['Id'], axis=1, inplace=True)\n",
    "df_train.shape"
   ]
  },
  {
   "cell_type": "code",
   "execution_count": 7,
   "id": "e6ccc1ae",
   "metadata": {},
   "outputs": [
    {
     "data": {
      "text/plain": [
       "(1459, 79)"
      ]
     },
     "execution_count": 7,
     "metadata": {},
     "output_type": "execute_result"
    }
   ],
   "source": [
    "df_test = pd.read_csv(\"./dataset/test.csv\")\n",
    "df_test_Id = df_test[['Id']]\n",
    "df_test.drop(['Id'], axis = 1, inplace=True)\n",
    "df_test.shape"
   ]
  },
  {
   "cell_type": "code",
   "execution_count": 8,
   "id": "a63f6d16",
   "metadata": {},
   "outputs": [
    {
     "data": {
      "text/plain": [
       "(2919, 80)"
      ]
     },
     "execution_count": 8,
     "metadata": {},
     "output_type": "execute_result"
    }
   ],
   "source": [
    "df_train = pd.concat([df_train, df_test])\n",
    "df_train.shape"
   ]
  },
  {
   "cell_type": "markdown",
   "id": "ab160c18",
   "metadata": {},
   "source": [
    "##### Fill the nan"
   ]
  },
  {
   "cell_type": "code",
   "execution_count": 9,
   "id": "4c9cc642",
   "metadata": {},
   "outputs": [
    {
     "name": "stdout",
     "output_type": "stream",
     "text": [
      "(2919, 37) (2919, 43) (2919, 80)\n"
     ]
    },
    {
     "name": "stderr",
     "output_type": "stream",
     "text": [
      "C:\\ProgramData\\Anaconda3\\lib\\site-packages\\pandas\\core\\series.py:4463: SettingWithCopyWarning: \n",
      "A value is trying to be set on a copy of a slice from a DataFrame\n",
      "\n",
      "See the caveats in the documentation: https://pandas.pydata.org/pandas-docs/stable/user_guide/indexing.html#returning-a-view-versus-a-copy\n",
      "  return super().fillna(\n"
     ]
    }
   ],
   "source": [
    "df_train_num =  df_train.select_dtypes(include='number')\n",
    "df_train_num.fillna(df_train_num.mean(), inplace=True)\n",
    "\n",
    "\n",
    "df_train_cat = df_train.select_dtypes(include='object')\n",
    "df_train_cat.fillna(df_train_cat.mode().iloc[0], inplace=True)\n",
    "\n",
    "df_train = pd.concat([df_train_num, df_train_cat], axis=1)\n",
    "\n",
    "print(df_train_num.shape, df_train_cat.shape, df_train.shape)"
   ]
  },
  {
   "cell_type": "markdown",
   "id": "a82ecd06",
   "metadata": {},
   "source": [
    "### Matrice de correlation"
   ]
  },
  {
   "cell_type": "code",
   "execution_count": 10,
   "id": "329016c6",
   "metadata": {},
   "outputs": [
    {
     "name": "stdout",
     "output_type": "stream",
     "text": [
      "<class 'pandas.core.frame.DataFrame'>\n",
      "Int64Index: 2919 entries, 0 to 1458\n",
      "Data columns (total 13 columns):\n",
      " #   Column        Non-Null Count  Dtype  \n",
      "---  ------        --------------  -----  \n",
      " 0   OverallQual   2919 non-null   int64  \n",
      " 1   YearBuilt     2919 non-null   int64  \n",
      " 2   YearRemodAdd  2919 non-null   int64  \n",
      " 3   MasVnrArea    2919 non-null   float64\n",
      " 4   TotalBsmtSF   2919 non-null   float64\n",
      " 5   1stFlrSF      2919 non-null   int64  \n",
      " 6   GrLivArea     2919 non-null   int64  \n",
      " 7   FullBath      2919 non-null   int64  \n",
      " 8   TotRmsAbvGrd  2919 non-null   int64  \n",
      " 9   Fireplaces    2919 non-null   int64  \n",
      " 10  GarageYrBlt   2919 non-null   float64\n",
      " 11  GarageCars    2919 non-null   float64\n",
      " 12  GarageArea    2919 non-null   float64\n",
      "dtypes: float64(5), int64(8)\n",
      "memory usage: 319.3 KB\n"
     ]
    }
   ],
   "source": [
    "df_train = df_train[df_corr_columns(df_train, 'SalePrice', corr_threshold)]\n",
    "df_train.info()"
   ]
  },
  {
   "cell_type": "code",
   "execution_count": 11,
   "id": "b2e694a3",
   "metadata": {},
   "outputs": [
    {
     "name": "stdout",
     "output_type": "stream",
     "text": [
      "(5, 2) (8, 2)\n"
     ]
    }
   ],
   "source": [
    "df_train_dummies_cols, df_train_scaled_cols = separe_per_unique_threshold(df_train, unique_values_threshold)\n",
    "print(df_train_dummies_cols.shape, df_train_scaled_cols.shape)"
   ]
  },
  {
   "cell_type": "code",
   "execution_count": 12,
   "id": "f0e82797",
   "metadata": {},
   "outputs": [
    {
     "name": "stderr",
     "output_type": "stream",
     "text": [
      "<ipython-input-4-149b6687076c>:5: SettingWithCopyWarning: \n",
      "A value is trying to be set on a copy of a slice from a DataFrame.\n",
      "Try using .loc[row_indexer,col_indexer] = value instead\n",
      "\n",
      "See the caveats in the documentation: https://pandas.pydata.org/pandas-docs/stable/user_guide/indexing.html#returning-a-view-versus-a-copy\n",
      "  df[c] = pd.qcut(df[c], q=quantiles, duplicates='drop') # , labels=dummies_cols\n"
     ]
    },
    {
     "ename": "NameError",
     "evalue": "name 'columns' is not defined",
     "output_type": "error",
     "traceback": [
      "\u001b[1;31m---------------------------------------------------------------------------\u001b[0m",
      "\u001b[1;31mNameError\u001b[0m                                 Traceback (most recent call last)",
      "\u001b[1;32m<ipython-input-12-2092e1102319>\u001b[0m in \u001b[0;36m<module>\u001b[1;34m\u001b[0m\n\u001b[1;32m----> 1\u001b[1;33m \u001b[0mdf_train_dummies\u001b[0m \u001b[1;33m=\u001b[0m \u001b[0mdummies\u001b[0m\u001b[1;33m(\u001b[0m\u001b[0mdf_train\u001b[0m\u001b[1;33m[\u001b[0m\u001b[0mdf_train_dummies_cols\u001b[0m\u001b[1;33m[\u001b[0m\u001b[1;34m'variable'\u001b[0m\u001b[1;33m]\u001b[0m\u001b[1;33m.\u001b[0m\u001b[0mtolist\u001b[0m\u001b[1;33m(\u001b[0m\u001b[1;33m)\u001b[0m\u001b[1;33m]\u001b[0m\u001b[1;33m)\u001b[0m\u001b[1;33m\u001b[0m\u001b[1;33m\u001b[0m\u001b[0m\n\u001b[0m\u001b[0;32m      2\u001b[0m \u001b[1;33m\u001b[0m\u001b[0m\n\u001b[0;32m      3\u001b[0m \u001b[0mdf_train_dummies\u001b[0m\u001b[1;33m.\u001b[0m\u001b[0mhead\u001b[0m\u001b[1;33m(\u001b[0m\u001b[1;33m)\u001b[0m\u001b[1;33m\u001b[0m\u001b[1;33m\u001b[0m\u001b[0m\n",
      "\u001b[1;32m<ipython-input-4-149b6687076c>\u001b[0m in \u001b[0;36mdummies\u001b[1;34m(df, quantiles)\u001b[0m\n\u001b[0;32m      7\u001b[0m         \u001b[0mdf\u001b[0m \u001b[1;33m=\u001b[0m \u001b[0mpd\u001b[0m\u001b[1;33m.\u001b[0m\u001b[0mconcat\u001b[0m\u001b[1;33m(\u001b[0m\u001b[1;33m[\u001b[0m\u001b[0mdf\u001b[0m\u001b[1;33m,\u001b[0m \u001b[0mpd\u001b[0m\u001b[1;33m.\u001b[0m\u001b[0mget_dummies\u001b[0m\u001b[1;33m(\u001b[0m\u001b[0mdf\u001b[0m\u001b[1;33m[\u001b[0m\u001b[0mc\u001b[0m\u001b[1;33m]\u001b[0m\u001b[1;33m,\u001b[0m \u001b[0mprefix\u001b[0m\u001b[1;33m=\u001b[0m\u001b[0mc\u001b[0m\u001b[1;33m)\u001b[0m\u001b[1;33m]\u001b[0m\u001b[1;33m,\u001b[0m \u001b[0maxis\u001b[0m\u001b[1;33m=\u001b[0m\u001b[1;36m1\u001b[0m\u001b[1;33m)\u001b[0m\u001b[1;33m\u001b[0m\u001b[1;33m\u001b[0m\u001b[0m\n\u001b[0;32m      8\u001b[0m \u001b[1;33m\u001b[0m\u001b[0m\n\u001b[1;32m----> 9\u001b[1;33m     \u001b[0mdf\u001b[0m\u001b[1;33m.\u001b[0m\u001b[0mdrop\u001b[0m\u001b[1;33m(\u001b[0m\u001b[0mcolumns\u001b[0m\u001b[1;33m,\u001b[0m \u001b[0maxis\u001b[0m\u001b[1;33m=\u001b[0m\u001b[1;36m1\u001b[0m\u001b[1;33m,\u001b[0m \u001b[0minplace\u001b[0m\u001b[1;33m=\u001b[0m\u001b[1;32mTrue\u001b[0m\u001b[1;33m)\u001b[0m\u001b[1;33m\u001b[0m\u001b[1;33m\u001b[0m\u001b[0m\n\u001b[0m\u001b[0;32m     10\u001b[0m \u001b[1;33m\u001b[0m\u001b[0m\n\u001b[0;32m     11\u001b[0m     \u001b[1;32mreturn\u001b[0m \u001b[0mdf\u001b[0m\u001b[1;33m\u001b[0m\u001b[1;33m\u001b[0m\u001b[0m\n",
      "\u001b[1;31mNameError\u001b[0m: name 'columns' is not defined"
     ]
    }
   ],
   "source": [
    "df_train_dummies = dummies(df_train[df_train_dummies_cols['variable'].tolist()])\n",
    "\n",
    "df_train_dummies.head()"
   ]
  },
  {
   "cell_type": "code",
   "execution_count": null,
   "id": "d2794bcb",
   "metadata": {},
   "outputs": [],
   "source": []
  }
 ],
 "metadata": {
  "kernelspec": {
   "display_name": "Python 3",
   "language": "python",
   "name": "python3"
  },
  "language_info": {
   "codemirror_mode": {
    "name": "ipython",
    "version": 3
   },
   "file_extension": ".py",
   "mimetype": "text/x-python",
   "name": "python",
   "nbconvert_exporter": "python",
   "pygments_lexer": "ipython3",
   "version": "3.8.8"
  }
 },
 "nbformat": 4,
 "nbformat_minor": 5
}
