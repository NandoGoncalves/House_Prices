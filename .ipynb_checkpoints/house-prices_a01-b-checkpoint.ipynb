{
 "cells": [
  {
   "cell_type": "code",
   "execution_count": 153,
   "id": "f6fccc65",
   "metadata": {},
   "outputs": [],
   "source": [
    "\n",
    "%matplotlib inline\n",
    "import matplotlib.pyplot as plt\n",
    "import seaborn as sns\n",
    "import numpy as np\n",
    "from numpy import arange\n",
    "import pandas as pd\n",
    "\n",
    "from sklearn.model_selection import train_test_split, cross_val_score, cross_validate\n",
    "\n",
    "from sklearn.feature_selection import SelectKBest, f_regression\n",
    "\n",
    "from sklearn.linear_model import LinearRegression\n",
    "from sklearn.linear_model import Lasso\n",
    "from sklearn.linear_model import LassoCV\n",
    "from sklearn.linear_model import RidgeCV\n",
    "from sklearn.linear_model import ElasticNetCV\n",
    "from xgboost import XGBRegressor\n",
    "\n",
    "from sklearn import preprocessing\n",
    "from sklearn.preprocessing import PolynomialFeatures\n",
    "from sklearn.preprocessing import MinMaxScaler\n",
    "from sklearn.preprocessing import StandardScaler\n",
    "\n",
    "from sklearn.metrics import mean_squared_error\n",
    "from sklearn.metrics import mean_absolute_error\n",
    "\n",
    "from typing import List, Dict"
   ]
  },
  {
   "cell_type": "code",
   "execution_count": 2,
   "id": "841c5a46",
   "metadata": {},
   "outputs": [
    {
     "data": {
      "text/plain": [
       "(1460, 81)"
      ]
     },
     "execution_count": 2,
     "metadata": {},
     "output_type": "execute_result"
    }
   ],
   "source": [
    "df_train = pd.read_csv(\"./dataset/train.csv\")\n",
    "df_train.shape"
   ]
  },
  {
   "cell_type": "code",
   "execution_count": 3,
   "id": "9c412011",
   "metadata": {},
   "outputs": [
    {
     "data": {
      "text/plain": [
       "(1459, 80)"
      ]
     },
     "execution_count": 3,
     "metadata": {},
     "output_type": "execute_result"
    }
   ],
   "source": [
    "df_test = pd.read_csv(\"./dataset/test.csv\")\n",
    "df_test.shape"
   ]
  },
  {
   "cell_type": "markdown",
   "id": "d8b8be4f",
   "metadata": {},
   "source": [
    "### variable numérique"
   ]
  },
  {
   "cell_type": "code",
   "execution_count": 4,
   "id": "54cb99ac",
   "metadata": {},
   "outputs": [
    {
     "data": {
      "text/html": [
       "<div>\n",
       "<style scoped>\n",
       "    .dataframe tbody tr th:only-of-type {\n",
       "        vertical-align: middle;\n",
       "    }\n",
       "\n",
       "    .dataframe tbody tr th {\n",
       "        vertical-align: top;\n",
       "    }\n",
       "\n",
       "    .dataframe thead th {\n",
       "        text-align: right;\n",
       "    }\n",
       "</style>\n",
       "<table border=\"1\" class=\"dataframe\">\n",
       "  <thead>\n",
       "    <tr style=\"text-align: right;\">\n",
       "      <th></th>\n",
       "      <th>GarageArea</th>\n",
       "      <th>TotalBsmtSF</th>\n",
       "      <th>1stFlrSF</th>\n",
       "      <th>LotArea</th>\n",
       "    </tr>\n",
       "  </thead>\n",
       "  <tbody>\n",
       "    <tr>\n",
       "      <th>0</th>\n",
       "      <td>548</td>\n",
       "      <td>856</td>\n",
       "      <td>856</td>\n",
       "      <td>8450</td>\n",
       "    </tr>\n",
       "    <tr>\n",
       "      <th>1</th>\n",
       "      <td>460</td>\n",
       "      <td>1262</td>\n",
       "      <td>1262</td>\n",
       "      <td>9600</td>\n",
       "    </tr>\n",
       "    <tr>\n",
       "      <th>2</th>\n",
       "      <td>608</td>\n",
       "      <td>920</td>\n",
       "      <td>920</td>\n",
       "      <td>11250</td>\n",
       "    </tr>\n",
       "    <tr>\n",
       "      <th>3</th>\n",
       "      <td>642</td>\n",
       "      <td>756</td>\n",
       "      <td>961</td>\n",
       "      <td>9550</td>\n",
       "    </tr>\n",
       "    <tr>\n",
       "      <th>4</th>\n",
       "      <td>836</td>\n",
       "      <td>1145</td>\n",
       "      <td>1145</td>\n",
       "      <td>14260</td>\n",
       "    </tr>\n",
       "  </tbody>\n",
       "</table>\n",
       "</div>"
      ],
      "text/plain": [
       "   GarageArea  TotalBsmtSF  1stFlrSF  LotArea\n",
       "0         548          856       856     8450\n",
       "1         460         1262      1262     9600\n",
       "2         608          920       920    11250\n",
       "3         642          756       961     9550\n",
       "4         836         1145      1145    14260"
      ]
     },
     "execution_count": 4,
     "metadata": {},
     "output_type": "execute_result"
    }
   ],
   "source": [
    "#df[['GrLivArea']].fillna((df['GrLivArea'].mean()), inplace=False)\n",
    "df_train_num = df_train[['GarageArea', 'TotalBsmtSF', '1stFlrSF', 'LotArea']] # 'GrLivArea' (discrétisée), \n",
    "\n",
    "df_train_num.head()"
   ]
  },
  {
   "cell_type": "markdown",
   "id": "ed5f2f16",
   "metadata": {},
   "source": [
    "#### Suppression des outliers extrèmes"
   ]
  },
  {
   "cell_type": "code",
   "execution_count": 5,
   "id": "cc09a1e3",
   "metadata": {},
   "outputs": [],
   "source": [
    "df_train = df_train.drop(df_train[(df_train.GrLivArea > 4000) & (df_train.SalePrice < 300000)].index)"
   ]
  },
  {
   "cell_type": "markdown",
   "id": "c350df06",
   "metadata": {},
   "source": [
    "### Discretisation et dichotomisation"
   ]
  },
  {
   "cell_type": "code",
   "execution_count": 165,
   "id": "b8c0293c",
   "metadata": {},
   "outputs": [],
   "source": [
    "def qcut(df, variables, labels = ['micro-','micro','micro+', 'tiny-', 'tiny','tiny+', 'small-', 'small', 'small+','medium-', 'medium','medium+', 'large-', 'large', 'large+']) -> Dict:\n",
    "    print('labels :', len(labels))\n",
    "    df_dis_dic = {}\n",
    "    for variable in variables:\n",
    "        #print(variable)\n",
    "        df_dis_dic[variable] = pd.qcut(x      = df[variable],\n",
    "                  q   = len(labels),\n",
    "                  labels = labels,\n",
    "                  precision=0).to_frame()\n",
    "    print('df_dis_dic :', len(df_dis_dic))\n",
    "    return df_dis_dic"
   ]
  },
  {
   "cell_type": "code",
   "execution_count": 166,
   "id": "c4b9f2c5",
   "metadata": {},
   "outputs": [],
   "source": [
    "def dummies(df_dic: Dict) -> Dict:\n",
    "    #df_train_dis_GrLivArea = pd.get_dummies(df_train_dis_GrLivArea, prefix = 'GrLivArea')\n",
    "    df_dch_dic = {}\n",
    "    for variable, df in df_dic.items():\n",
    "        df_dch_dic[variable] = pd.get_dummies(df, prefix = variable)\n",
    "    print('df_dch_dic : ', len(df_dch_dic))\n",
    "    return df_dch_dic"
   ]
  },
  {
   "cell_type": "code",
   "execution_count": 191,
   "id": "2e22f2fe",
   "metadata": {},
   "outputs": [],
   "source": [
    "def qcut_dummies(df, variables : List) -> Dict:\n",
    "    return dummies(qcut(df, variables))"
   ]
  },
  {
   "cell_type": "code",
   "execution_count": 210,
   "id": "845c3002",
   "metadata": {},
   "outputs": [],
   "source": [
    "def join_list(df_list: List) -> pd.DataFrame:\n",
    "    \n",
    "    df_join = None\n",
    "    \n",
    "    for df in df_list:\n",
    "        if df_join is None:\n",
    "            df_join = df\n",
    "        else:\n",
    "            df_join = df_join.join(df)\n",
    "        \n",
    "    return df_join\n",
    "\n"
   ]
  },
  {
   "cell_type": "code",
   "execution_count": 211,
   "id": "22c9b435",
   "metadata": {},
   "outputs": [],
   "source": [
    "def join_dict(df_dic: Dict) -> pd.DataFrame:\n",
    "    print(type(df_dic))\n",
    "    return join_list(list(df_dic.values()))"
   ]
  },
  {
   "cell_type": "code",
   "execution_count": 216,
   "id": "50884e90",
   "metadata": {},
   "outputs": [
    {
     "name": "stdout",
     "output_type": "stream",
     "text": [
      "labels : 15\n",
      "df_dis_dic : 5\n",
      "df_dch_dic :  5\n",
      "<class 'dict'>\n"
     ]
    },
    {
     "data": {
      "text/plain": [
       "(1458, 75)"
      ]
     },
     "execution_count": 216,
     "metadata": {},
     "output_type": "execute_result"
    }
   ],
   "source": [
    "df_dic = qcut_dummies(df_train, ['GrLivArea', 'GarageArea', 'TotalBsmtSF', '1stFlrSF', 'LotArea'])\n",
    "\n",
    "df_train_dis = join_dict(df_dic)\n",
    "\n",
    "\n",
    "\n",
    "df_joined.shape"
   ]
  },
  {
   "cell_type": "markdown",
   "id": "315678b7",
   "metadata": {},
   "source": [
    "### Variable catégorielle"
   ]
  },
  {
   "cell_type": "code",
   "execution_count": 217,
   "id": "1327197a",
   "metadata": {},
   "outputs": [],
   "source": [
    "df_train_cat = df_train[['OverallQual', 'GarageCars', 'FullBath', 'TotRmsAbvGrd']].astype(str)\n",
    "df_test_cat = df_test[['OverallQual', 'GarageCars', 'FullBath', 'TotRmsAbvGrd']].astype(str)\n",
    "df_train_test_cat = pd.concat([df_train_cat, df_test_cat])\n",
    "df_train_test_cat = pd.get_dummies(df_train_test_cat)\n",
    "#df_new = df_train_num.join(df_train_test_cat.head(1460))"
   ]
  },
  {
   "cell_type": "code",
   "execution_count": null,
   "id": "d904c7c0",
   "metadata": {},
   "outputs": [],
   "source": []
  },
  {
   "cell_type": "code",
   "execution_count": 218,
   "id": "185267d1",
   "metadata": {},
   "outputs": [],
   "source": [
    "df_new = df_train_dis.join(\n",
    "    df_train_test_cat.head(1458)) # 2 outliers removed"
   ]
  },
  {
   "cell_type": "code",
   "execution_count": 219,
   "id": "c1c10312",
   "metadata": {},
   "outputs": [
    {
     "data": {
      "text/html": [
       "<div>\n",
       "<style scoped>\n",
       "    .dataframe tbody tr th:only-of-type {\n",
       "        vertical-align: middle;\n",
       "    }\n",
       "\n",
       "    .dataframe tbody tr th {\n",
       "        vertical-align: top;\n",
       "    }\n",
       "\n",
       "    .dataframe thead th {\n",
       "        text-align: right;\n",
       "    }\n",
       "</style>\n",
       "<table border=\"1\" class=\"dataframe\">\n",
       "  <thead>\n",
       "    <tr style=\"text-align: right;\">\n",
       "      <th></th>\n",
       "      <th>GrLivArea_micro-</th>\n",
       "      <th>GrLivArea_micro</th>\n",
       "      <th>GrLivArea_micro+</th>\n",
       "      <th>GrLivArea_tiny-</th>\n",
       "      <th>GrLivArea_tiny</th>\n",
       "      <th>GrLivArea_tiny+</th>\n",
       "      <th>GrLivArea_small-</th>\n",
       "      <th>GrLivArea_small</th>\n",
       "      <th>GrLivArea_small+</th>\n",
       "      <th>GrLivArea_medium-</th>\n",
       "      <th>...</th>\n",
       "      <th>TotRmsAbvGrd_14</th>\n",
       "      <th>TotRmsAbvGrd_15</th>\n",
       "      <th>TotRmsAbvGrd_2</th>\n",
       "      <th>TotRmsAbvGrd_3</th>\n",
       "      <th>TotRmsAbvGrd_4</th>\n",
       "      <th>TotRmsAbvGrd_5</th>\n",
       "      <th>TotRmsAbvGrd_6</th>\n",
       "      <th>TotRmsAbvGrd_7</th>\n",
       "      <th>TotRmsAbvGrd_8</th>\n",
       "      <th>TotRmsAbvGrd_9</th>\n",
       "    </tr>\n",
       "  </thead>\n",
       "  <tbody>\n",
       "    <tr>\n",
       "      <th>0</th>\n",
       "      <td>0</td>\n",
       "      <td>0</td>\n",
       "      <td>0</td>\n",
       "      <td>0</td>\n",
       "      <td>0</td>\n",
       "      <td>0</td>\n",
       "      <td>0</td>\n",
       "      <td>0</td>\n",
       "      <td>0</td>\n",
       "      <td>0</td>\n",
       "      <td>...</td>\n",
       "      <td>0</td>\n",
       "      <td>0</td>\n",
       "      <td>0</td>\n",
       "      <td>0</td>\n",
       "      <td>0</td>\n",
       "      <td>0</td>\n",
       "      <td>0</td>\n",
       "      <td>0</td>\n",
       "      <td>1</td>\n",
       "      <td>0</td>\n",
       "    </tr>\n",
       "    <tr>\n",
       "      <th>1</th>\n",
       "      <td>0</td>\n",
       "      <td>0</td>\n",
       "      <td>0</td>\n",
       "      <td>0</td>\n",
       "      <td>0</td>\n",
       "      <td>1</td>\n",
       "      <td>0</td>\n",
       "      <td>0</td>\n",
       "      <td>0</td>\n",
       "      <td>0</td>\n",
       "      <td>...</td>\n",
       "      <td>0</td>\n",
       "      <td>0</td>\n",
       "      <td>0</td>\n",
       "      <td>0</td>\n",
       "      <td>0</td>\n",
       "      <td>0</td>\n",
       "      <td>1</td>\n",
       "      <td>0</td>\n",
       "      <td>0</td>\n",
       "      <td>0</td>\n",
       "    </tr>\n",
       "    <tr>\n",
       "      <th>2</th>\n",
       "      <td>0</td>\n",
       "      <td>0</td>\n",
       "      <td>0</td>\n",
       "      <td>0</td>\n",
       "      <td>0</td>\n",
       "      <td>0</td>\n",
       "      <td>0</td>\n",
       "      <td>0</td>\n",
       "      <td>0</td>\n",
       "      <td>0</td>\n",
       "      <td>...</td>\n",
       "      <td>0</td>\n",
       "      <td>0</td>\n",
       "      <td>0</td>\n",
       "      <td>0</td>\n",
       "      <td>0</td>\n",
       "      <td>0</td>\n",
       "      <td>1</td>\n",
       "      <td>0</td>\n",
       "      <td>0</td>\n",
       "      <td>0</td>\n",
       "    </tr>\n",
       "    <tr>\n",
       "      <th>3</th>\n",
       "      <td>0</td>\n",
       "      <td>0</td>\n",
       "      <td>0</td>\n",
       "      <td>0</td>\n",
       "      <td>0</td>\n",
       "      <td>0</td>\n",
       "      <td>0</td>\n",
       "      <td>0</td>\n",
       "      <td>0</td>\n",
       "      <td>0</td>\n",
       "      <td>...</td>\n",
       "      <td>0</td>\n",
       "      <td>0</td>\n",
       "      <td>0</td>\n",
       "      <td>0</td>\n",
       "      <td>0</td>\n",
       "      <td>0</td>\n",
       "      <td>0</td>\n",
       "      <td>1</td>\n",
       "      <td>0</td>\n",
       "      <td>0</td>\n",
       "    </tr>\n",
       "    <tr>\n",
       "      <th>4</th>\n",
       "      <td>0</td>\n",
       "      <td>0</td>\n",
       "      <td>0</td>\n",
       "      <td>0</td>\n",
       "      <td>0</td>\n",
       "      <td>0</td>\n",
       "      <td>0</td>\n",
       "      <td>0</td>\n",
       "      <td>0</td>\n",
       "      <td>0</td>\n",
       "      <td>...</td>\n",
       "      <td>0</td>\n",
       "      <td>0</td>\n",
       "      <td>0</td>\n",
       "      <td>0</td>\n",
       "      <td>0</td>\n",
       "      <td>0</td>\n",
       "      <td>0</td>\n",
       "      <td>0</td>\n",
       "      <td>0</td>\n",
       "      <td>1</td>\n",
       "    </tr>\n",
       "  </tbody>\n",
       "</table>\n",
       "<p>5 rows × 116 columns</p>\n",
       "</div>"
      ],
      "text/plain": [
       "   GrLivArea_micro-  GrLivArea_micro  GrLivArea_micro+  GrLivArea_tiny-  \\\n",
       "0                 0                0                 0                0   \n",
       "1                 0                0                 0                0   \n",
       "2                 0                0                 0                0   \n",
       "3                 0                0                 0                0   \n",
       "4                 0                0                 0                0   \n",
       "\n",
       "   GrLivArea_tiny  GrLivArea_tiny+  GrLivArea_small-  GrLivArea_small  \\\n",
       "0               0                0                 0                0   \n",
       "1               0                1                 0                0   \n",
       "2               0                0                 0                0   \n",
       "3               0                0                 0                0   \n",
       "4               0                0                 0                0   \n",
       "\n",
       "   GrLivArea_small+  GrLivArea_medium-  ...  TotRmsAbvGrd_14  TotRmsAbvGrd_15  \\\n",
       "0                 0                  0  ...                0                0   \n",
       "1                 0                  0  ...                0                0   \n",
       "2                 0                  0  ...                0                0   \n",
       "3                 0                  0  ...                0                0   \n",
       "4                 0                  0  ...                0                0   \n",
       "\n",
       "   TotRmsAbvGrd_2  TotRmsAbvGrd_3  TotRmsAbvGrd_4  TotRmsAbvGrd_5  \\\n",
       "0               0               0               0               0   \n",
       "1               0               0               0               0   \n",
       "2               0               0               0               0   \n",
       "3               0               0               0               0   \n",
       "4               0               0               0               0   \n",
       "\n",
       "   TotRmsAbvGrd_6  TotRmsAbvGrd_7  TotRmsAbvGrd_8  TotRmsAbvGrd_9  \n",
       "0               0               0               1               0  \n",
       "1               1               0               0               0  \n",
       "2               1               0               0               0  \n",
       "3               0               1               0               0  \n",
       "4               0               0               0               1  \n",
       "\n",
       "[5 rows x 116 columns]"
      ]
     },
     "execution_count": 219,
     "metadata": {},
     "output_type": "execute_result"
    }
   ],
   "source": [
    "df_new.head()"
   ]
  },
  {
   "cell_type": "code",
   "execution_count": 220,
   "id": "410e0756",
   "metadata": {},
   "outputs": [],
   "source": [
    "# Variables explicatives\n",
    "X = df_new\n",
    "\n",
    "# Variable cible\n",
    "y = df_train['SalePrice']"
   ]
  },
  {
   "cell_type": "code",
   "execution_count": 221,
   "id": "7fd1f315",
   "metadata": {},
   "outputs": [],
   "source": [
    "X_train, X_test, y_train, y_test = train_test_split(X, y, test_size = 0.33, random_state=33)"
   ]
  },
  {
   "cell_type": "markdown",
   "id": "03c4d336",
   "metadata": {},
   "source": [
    "### Linear"
   ]
  },
  {
   "cell_type": "code",
   "execution_count": 222,
   "id": "de15b9b8",
   "metadata": {},
   "outputs": [],
   "source": [
    "lr = LinearRegression()\n",
    "\n",
    "lr.fit(X_train, y_train)\n",
    "\n",
    "y_pred_train = lr.predict(X_train)\n",
    "\n",
    "y_pred_test = lr.predict(X_test)"
   ]
  },
  {
   "cell_type": "code",
   "execution_count": 223,
   "id": "a4e2fdee",
   "metadata": {},
   "outputs": [
    {
     "name": "stdout",
     "output_type": "stream",
     "text": [
      "MSE train lr: 891839411.4692622\n",
      "MSE test lr: 1013095765.93361\n"
     ]
    }
   ],
   "source": [
    "mse_train = mean_squared_error(y_train, y_pred_train)\n",
    "\n",
    "mse_test = mean_squared_error(y_test, y_pred_test)\n",
    "\n",
    "print(\"MSE train lr:\", mse_train)\n",
    "print(\"MSE test lr:\", mse_test)"
   ]
  },
  {
   "cell_type": "code",
   "execution_count": 224,
   "id": "7fcac5d5",
   "metadata": {},
   "outputs": [
    {
     "name": "stdout",
     "output_type": "stream",
     "text": [
      "MAE train lr: 20455.233606557376\n",
      "MAE test lr: 22234.7510373444\n",
      "\n",
      "Relative error 0.12288947280557797\n"
     ]
    }
   ],
   "source": [
    "mae_train = mean_absolute_error(y_train, y_pred_train)\n",
    "\n",
    "mae_test = mean_absolute_error(y_test, y_pred_test)\n",
    "\n",
    "print(\"MAE train lr:\", mae_train)\n",
    "print(\"MAE test lr:\", mae_test)\n",
    "\n",
    "mean_price = df_train['SalePrice'].mean()\n",
    "\n",
    "print(\"\\nRelative error\", mae_test / mean_price)"
   ]
  },
  {
   "cell_type": "markdown",
   "id": "67217b3a",
   "metadata": {},
   "source": [
    "### Ridge"
   ]
  },
  {
   "cell_type": "code",
   "execution_count": 53,
   "id": "57280d18",
   "metadata": {},
   "outputs": [
    {
     "data": {
      "text/plain": [
       "RidgeCV(alphas=array([1.e-03, 1.e-02, 1.e-01, 3.e-01, 7.e-01, 1.e+00, 1.e+01, 5.e+01,\n",
       "       1.e+02]))"
      ]
     },
     "execution_count": 53,
     "metadata": {},
     "output_type": "execute_result"
    }
   ],
   "source": [
    "ridge_reg = RidgeCV(alphas= (0.001, 0.01, 0.1, 0.3, 0.7, 1, 10, 50, 100))\n",
    "ridge_reg.fit(X_train, y_train) "
   ]
  },
  {
   "cell_type": "code",
   "execution_count": 54,
   "id": "cb7756fe",
   "metadata": {},
   "outputs": [
    {
     "name": "stdout",
     "output_type": "stream",
     "text": [
      "alpha sélectionné par c-v : 1.0\n",
      "score train : 0.8649338783173685\n",
      "score test : 0.820820122954007\n"
     ]
    }
   ],
   "source": [
    "print('alpha sélectionné par c-v :', ridge_reg.alpha_)\n",
    "print('score train :', ridge_reg.score(X_train, y_train))\n",
    "print('score test :', ridge_reg.score(X_test, y_test))"
   ]
  },
  {
   "cell_type": "code",
   "execution_count": 55,
   "id": "208d0a39",
   "metadata": {},
   "outputs": [],
   "source": [
    "ridge_pred_train = ridge_reg.predict(X_train)\n",
    "\n",
    "ridge_pred_test = ridge_reg.predict(X_test)"
   ]
  },
  {
   "cell_type": "code",
   "execution_count": 56,
   "id": "7ebcac97",
   "metadata": {},
   "outputs": [
    {
     "name": "stdout",
     "output_type": "stream",
     "text": [
      "mse train : 899869805.863024\n",
      "mse test : 1003598353.7782211\n"
     ]
    }
   ],
   "source": [
    "mse_train = mean_squared_error(ridge_pred_train, y_train)\n",
    "\n",
    "mae_test = mean_squared_error(ridge_pred_test, y_test)\n",
    "\n",
    "print('mse train :', mse_train)\n",
    "print('mse test :', mae_test)"
   ]
  },
  {
   "cell_type": "code",
   "execution_count": 57,
   "id": "a0a10085",
   "metadata": {},
   "outputs": [
    {
     "name": "stdout",
     "output_type": "stream",
     "text": [
      "MAE train lr: 20463.672961405857\n",
      "MAE test lr: 22345.857273945247\n",
      "\n",
      "Relative error 0.12350354700044337\n"
     ]
    }
   ],
   "source": [
    "mae_train = mean_absolute_error(ridge_pred_train, y_train)\n",
    "\n",
    "mae_test = mean_absolute_error(ridge_pred_test, y_test)\n",
    "\n",
    "print(\"MAE train lr:\", mae_train)\n",
    "print(\"MAE test lr:\", mae_test)\n",
    "\n",
    "mean_price = df_train['SalePrice'].mean()\n",
    "\n",
    "print(\"\\nRelative error\", mae_test / mean_price)"
   ]
  },
  {
   "cell_type": "markdown",
   "id": "d11ec352",
   "metadata": {},
   "source": [
    "### ElasticNet"
   ]
  },
  {
   "cell_type": "code",
   "execution_count": 58,
   "id": "ad493a80",
   "metadata": {},
   "outputs": [
    {
     "data": {
      "text/plain": [
       "ElasticNetCV(alphas=(0.001, 0.01, 0.02, 0.025, 0.05, 0.1, 0.25, 0.5, 0.8, 1.0),\n",
       "             cv=8, l1_ratio=(0.1, 0.25, 0.5, 0.7, 0.75, 0.8, 0.85, 0.9, 0.99),\n",
       "             max_iter=50000)"
      ]
     },
     "execution_count": 58,
     "metadata": {},
     "output_type": "execute_result"
    }
   ],
   "source": [
    "model_en = ElasticNetCV(cv=8, l1_ratio=(0.1, 0.25, 0.5, 0.7, 0.75, 0.8, 0.85, 0.9, 0.99), \n",
    "                        alphas=(0.001, 0.01, 0.02, 0.025, 0.05, 0.1, 0.25, 0.5, 0.8, 1.0), max_iter=50000)\n",
    "\n",
    "model_en.fit(X_train, y_train)"
   ]
  },
  {
   "cell_type": "code",
   "execution_count": 59,
   "id": "ccd41f3e",
   "metadata": {},
   "outputs": [],
   "source": [
    "pred_train = model_en.predict(X_train)\n",
    "pred_test = model_en.predict(X_test)\n"
   ]
  },
  {
   "cell_type": "code",
   "execution_count": 60,
   "id": "2f733900",
   "metadata": {},
   "outputs": [
    {
     "name": "stdout",
     "output_type": "stream",
     "text": [
      "mse train : 899612476.4021239\n",
      "mse test : 1003711518.1023433\n"
     ]
    }
   ],
   "source": [
    "mse_train = mean_squared_error(pred_train, y_train)\n",
    "\n",
    "mae_test = mean_squared_error(pred_test, y_test)\n",
    "\n",
    "print('mse train :', mse_train)\n",
    "print('mse test :', mae_test)"
   ]
  },
  {
   "cell_type": "code",
   "execution_count": 61,
   "id": "0cf1c165",
   "metadata": {},
   "outputs": [
    {
     "name": "stdout",
     "output_type": "stream",
     "text": [
      "MAE train lr: 20463.727012909345\n",
      "MAE test lr: 22344.033623116793\n",
      "\n",
      "Relative error 0.12349346784603711\n"
     ]
    }
   ],
   "source": [
    "mae_train = mean_absolute_error(pred_train, y_train)\n",
    "\n",
    "mae_test = mean_absolute_error(pred_test, y_test)\n",
    "\n",
    "print(\"MAE train lr:\", mae_train)\n",
    "print(\"MAE test lr:\", mae_test)\n",
    "\n",
    "mean_price = df_train['SalePrice'].mean()\n",
    "\n",
    "print(\"\\nRelative error\", mae_test / mean_price)"
   ]
  },
  {
   "cell_type": "markdown",
   "id": "cb4a6c32",
   "metadata": {},
   "source": [
    "### XGBoost"
   ]
  },
  {
   "cell_type": "code",
   "execution_count": 62,
   "id": "1e852168",
   "metadata": {},
   "outputs": [],
   "source": [
    "model_xgbr = XGBRegressor(learning_rate=0.09, max_depth=4, n_estimators=500, tree_method='auto', subsample=0.64)"
   ]
  },
  {
   "cell_type": "code",
   "execution_count": 63,
   "id": "7f88378f",
   "metadata": {},
   "outputs": [
    {
     "data": {
      "text/plain": [
       "XGBRegressor(base_score=0.5, booster='gbtree', colsample_bylevel=1,\n",
       "             colsample_bynode=1, colsample_bytree=1, enable_categorical=False,\n",
       "             gamma=0, gpu_id=-1, importance_type=None,\n",
       "             interaction_constraints='', learning_rate=0.09, max_delta_step=0,\n",
       "             max_depth=4, min_child_weight=1, missing=nan,\n",
       "             monotone_constraints='()', n_estimators=500, n_jobs=12,\n",
       "             num_parallel_tree=1, predictor='auto', random_state=0, reg_alpha=0,\n",
       "             reg_lambda=1, scale_pos_weight=1, subsample=0.64,\n",
       "             tree_method='auto', validate_parameters=1, verbosity=None)"
      ]
     },
     "execution_count": 63,
     "metadata": {},
     "output_type": "execute_result"
    }
   ],
   "source": [
    "model_xgbr.fit(X_train, y_train)"
   ]
  },
  {
   "cell_type": "code",
   "execution_count": 64,
   "id": "e9a5c316",
   "metadata": {},
   "outputs": [],
   "source": [
    "y_pred_train = model_xgbr.predict(X_train)\n",
    "\n",
    "y_pred_test = model_xgbr.predict(X_test)"
   ]
  },
  {
   "cell_type": "code",
   "execution_count": 65,
   "id": "b56cc55f",
   "metadata": {},
   "outputs": [
    {
     "name": "stdout",
     "output_type": "stream",
     "text": [
      "MSE train lr: 108975611.5185746\n",
      "MSE test lr: 1087185521.6175606\n"
     ]
    }
   ],
   "source": [
    "mse_train = mean_squared_error(y_train, y_pred_train)\n",
    "\n",
    "mse_test = mean_squared_error(y_test, y_pred_test)\n",
    "\n",
    "print(\"MSE train lr:\", mse_train)\n",
    "print(\"MSE test lr:\", mse_test)"
   ]
  },
  {
   "cell_type": "code",
   "execution_count": 66,
   "id": "c0f30540",
   "metadata": {},
   "outputs": [
    {
     "name": "stdout",
     "output_type": "stream",
     "text": [
      "MAE train lr: 8016.6101314357065\n",
      "MAE test lr: 22844.366685036308\n",
      "\n",
      "Relative error 0.12625876376067188\n"
     ]
    }
   ],
   "source": [
    "mae_train = mean_absolute_error(y_train, y_pred_train)\n",
    "\n",
    "mae_test = mean_absolute_error(y_test, y_pred_test)\n",
    "\n",
    "print(\"MAE train lr:\", mae_train)\n",
    "print(\"MAE test lr:\", mae_test)\n",
    "\n",
    "mean_price = df_train['SalePrice'].mean()\n",
    "\n",
    "print(\"\\nRelative error\", mae_test / mean_price)"
   ]
  },
  {
   "cell_type": "markdown",
   "id": "13dcbee0",
   "metadata": {},
   "source": [
    "#### save a model\n",
    "#### https://www.geeksforgeeks.org/saving-a-machine-learning-model/"
   ]
  },
  {
   "cell_type": "code",
   "execution_count": 67,
   "id": "b32e9866",
   "metadata": {},
   "outputs": [
    {
     "data": {
      "text/plain": [
       "['./model/model_en.pkl']"
      ]
     },
     "execution_count": 67,
     "metadata": {},
     "output_type": "execute_result"
    }
   ],
   "source": [
    "import joblib\n",
    "\n",
    "model_file = \"./model/model_xgbr.pkl\"\n",
    "joblib.dump(model_xgbr, model_file)"
   ]
  }
 ],
 "metadata": {
  "kernelspec": {
   "display_name": "Python 3",
   "language": "python",
   "name": "python3"
  },
  "language_info": {
   "codemirror_mode": {
    "name": "ipython",
    "version": 3
   },
   "file_extension": ".py",
   "mimetype": "text/x-python",
   "name": "python",
   "nbconvert_exporter": "python",
   "pygments_lexer": "ipython3",
   "version": "3.8.8"
  }
 },
 "nbformat": 4,
 "nbformat_minor": 5
}
