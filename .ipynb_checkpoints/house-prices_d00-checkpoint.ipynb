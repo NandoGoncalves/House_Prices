{
 "cells": [
  {
   "cell_type": "code",
   "execution_count": 1,
   "id": "a635ddb1",
   "metadata": {},
   "outputs": [],
   "source": [
    "%matplotlib inline\n",
    "\n",
    "import numpy as np\n",
    "import pandas as pd\n",
    "\n",
    "from sklearn import neighbors\n",
    "from sklearn import linear_model, preprocessing\n",
    "from sklearn.feature_selection import VarianceThreshold\n",
    "from sklearn import model_selection\n",
    "from sklearn.model_selection import train_test_split\n",
    "\n",
    "\n",
    "import matplotlib.pyplot as plt\n",
    "import seaborn as sns"
   ]
  },
  {
   "cell_type": "code",
   "execution_count": 2,
   "id": "7dc322b5",
   "metadata": {},
   "outputs": [
    {
     "data": {
      "text/plain": [
       "(1460, 81)"
      ]
     },
     "execution_count": 2,
     "metadata": {},
     "output_type": "execute_result"
    }
   ],
   "source": [
    "df_train = pd.read_csv(\"./dataset/train.csv\")\n",
    "df_train.shape"
   ]
  },
  {
   "cell_type": "code",
   "execution_count": 3,
   "id": "6c17d199",
   "metadata": {},
   "outputs": [],
   "source": [
    "df_train_corr = df_train.corr()"
   ]
  },
  {
   "cell_type": "code",
   "execution_count": 4,
   "id": "56f74e1b",
   "metadata": {},
   "outputs": [],
   "source": [
    "df_train_corr_SalePrice = df_train_corr[['SalePrice']]"
   ]
  },
  {
   "cell_type": "code",
   "execution_count": 5,
   "id": "38ea8af5",
   "metadata": {},
   "outputs": [],
   "source": [
    "df_train_corr_SalePrice = df_train_corr_SalePrice.reset_index()"
   ]
  },
  {
   "cell_type": "code",
   "execution_count": 6,
   "id": "099dda62",
   "metadata": {},
   "outputs": [],
   "source": [
    "df_train_corr_SalePrice = df_train_corr_SalePrice[(df_train_corr_SalePrice['index'] != 'SalePrice')]"
   ]
  },
  {
   "cell_type": "code",
   "execution_count": 7,
   "id": "facbd44b",
   "metadata": {},
   "outputs": [],
   "source": [
    "df_train_corr_SalePrice_columns = df_train_corr_SalePrice[((df_train_corr_SalePrice['SalePrice'] > 0.5) | (df_train_corr_SalePrice['SalePrice'] < -0.5))]['index']"
   ]
  },
  {
   "cell_type": "code",
   "execution_count": 8,
   "id": "b50a3963",
   "metadata": {},
   "outputs": [
    {
     "data": {
      "text/plain": [
       "4      OverallQual\n",
       "6        YearBuilt\n",
       "7     YearRemodAdd\n",
       "12     TotalBsmtSF\n",
       "13        1stFlrSF\n",
       "16       GrLivArea\n",
       "19        FullBath\n",
       "23    TotRmsAbvGrd\n",
       "26      GarageCars\n",
       "27      GarageArea\n",
       "Name: index, dtype: object"
      ]
     },
     "execution_count": 8,
     "metadata": {},
     "output_type": "execute_result"
    }
   ],
   "source": [
    "df_train_corr_SalePrice_columns"
   ]
  },
  {
   "cell_type": "code",
   "execution_count": 9,
   "id": "567765f7",
   "metadata": {},
   "outputs": [],
   "source": [
    "df_train = df_train[df_train_corr_SalePrice_columns]"
   ]
  },
  {
   "cell_type": "code",
   "execution_count": 10,
   "id": "a07e8916",
   "metadata": {},
   "outputs": [
    {
     "name": "stdout",
     "output_type": "stream",
     "text": [
      "<class 'pandas.core.frame.DataFrame'>\n",
      "RangeIndex: 1460 entries, 0 to 1459\n",
      "Data columns (total 10 columns):\n",
      " #   Column        Non-Null Count  Dtype\n",
      "---  ------        --------------  -----\n",
      " 0   OverallQual   1460 non-null   int64\n",
      " 1   YearBuilt     1460 non-null   int64\n",
      " 2   YearRemodAdd  1460 non-null   int64\n",
      " 3   TotalBsmtSF   1460 non-null   int64\n",
      " 4   1stFlrSF      1460 non-null   int64\n",
      " 5   GrLivArea     1460 non-null   int64\n",
      " 6   FullBath      1460 non-null   int64\n",
      " 7   TotRmsAbvGrd  1460 non-null   int64\n",
      " 8   GarageCars    1460 non-null   int64\n",
      " 9   GarageArea    1460 non-null   int64\n",
      "dtypes: int64(10)\n",
      "memory usage: 114.2 KB\n"
     ]
    }
   ],
   "source": [
    "df_train.info()"
   ]
  },
  {
   "cell_type": "code",
   "execution_count": 11,
   "id": "efac9a0c",
   "metadata": {},
   "outputs": [
    {
     "data": {
      "text/html": [
       "<div>\n",
       "<style scoped>\n",
       "    .dataframe tbody tr th:only-of-type {\n",
       "        vertical-align: middle;\n",
       "    }\n",
       "\n",
       "    .dataframe tbody tr th {\n",
       "        vertical-align: top;\n",
       "    }\n",
       "\n",
       "    .dataframe thead th {\n",
       "        text-align: right;\n",
       "    }\n",
       "</style>\n",
       "<table border=\"1\" class=\"dataframe\">\n",
       "  <thead>\n",
       "    <tr style=\"text-align: right;\">\n",
       "      <th></th>\n",
       "      <th>variable</th>\n",
       "      <th>count</th>\n",
       "    </tr>\n",
       "  </thead>\n",
       "  <tbody>\n",
       "    <tr>\n",
       "      <th>6</th>\n",
       "      <td>FullBath</td>\n",
       "      <td>4</td>\n",
       "    </tr>\n",
       "    <tr>\n",
       "      <th>8</th>\n",
       "      <td>GarageCars</td>\n",
       "      <td>5</td>\n",
       "    </tr>\n",
       "    <tr>\n",
       "      <th>0</th>\n",
       "      <td>OverallQual</td>\n",
       "      <td>10</td>\n",
       "    </tr>\n",
       "    <tr>\n",
       "      <th>7</th>\n",
       "      <td>TotRmsAbvGrd</td>\n",
       "      <td>12</td>\n",
       "    </tr>\n",
       "  </tbody>\n",
       "</table>\n",
       "</div>"
      ],
      "text/plain": [
       "       variable  count\n",
       "6      FullBath      4\n",
       "8    GarageCars      5\n",
       "0   OverallQual     10\n",
       "7  TotRmsAbvGrd     12"
      ]
     },
     "execution_count": 11,
     "metadata": {},
     "output_type": "execute_result"
    }
   ],
   "source": [
    "dic_c_unique_len = {}\n",
    "for c in df_train.columns:\n",
    "    dic_c_unique_len[c] = len(df_train[c].unique())\n",
    "    #print(c, len(df_num[c].unique()))\n",
    " \n",
    "\n",
    "df_c_unique_len = pd.DataFrame.from_dict(dic_c_unique_len, orient=\"index\").reset_index()\n",
    "df_c_unique_len.columns=['variable', 'count']\n",
    "df_c_unique_len[df_c_unique_len['count'] < 20].sort_values('count')"
   ]
  },
  {
   "cell_type": "markdown",
   "id": "32afe7a5",
   "metadata": {},
   "source": [
    "### YearBuilt"
   ]
  },
  {
   "cell_type": "code",
   "execution_count": 12,
   "id": "0ff8def6",
   "metadata": {},
   "outputs": [
    {
     "data": {
      "text/plain": [
       "<AxesSubplot:ylabel='Frequency'>"
      ]
     },
     "execution_count": 12,
     "metadata": {},
     "output_type": "execute_result"
    },
    {
     "data": {
      "image/png": "[encoded data removed]",
      "text/plain": [
       "<Figure size 432x288 with 1 Axes>"
      ]
     },
     "metadata": {
      "needs_background": "light"
     },
     "output_type": "display_data"
    }
   ],
   "source": [
    "df_train['YearBuilt'].plot(kind='hist', edgecolor='black') "
   ]
  },
  {
   "cell_type": "markdown",
   "id": "788c299a",
   "metadata": {},
   "source": [
    "##### Discretiser"
   ]
  },
  {
   "cell_type": "code",
   "execution_count": 13,
   "id": "abc71a2c",
   "metadata": {},
   "outputs": [],
   "source": [
    "\n",
    "df_train['YearBuilt'] = pd.cut(x=df_train['YearBuilt'], bins=[1700, 1915, 1950, 1990, 2023],\n",
    "                    labels=['old++', 'old+', 'old', 'recent'])"
   ]
  },
  {
   "cell_type": "code",
   "execution_count": 14,
   "id": "becb2769",
   "metadata": {},
   "outputs": [
    {
     "data": {
      "image/png": "[encoded data removed]",
      "text/plain": [
       "<Figure size 432x288 with 1 Axes>"
      ]
     },
     "metadata": {
      "needs_background": "light"
     },
     "output_type": "display_data"
    }
   ],
   "source": [
    "df_train['YearBuilt'].value_counts().plot(kind='bar');"
   ]
  },
  {
   "cell_type": "markdown",
   "id": "d9b20a0c",
   "metadata": {},
   "source": [
    "### YearRemodAdd"
   ]
  },
  {
   "cell_type": "code",
   "execution_count": 15,
   "id": "2ba82d68",
   "metadata": {},
   "outputs": [
    {
     "data": {
      "text/plain": [
       "<AxesSubplot:ylabel='Frequency'>"
      ]
     },
     "execution_count": 15,
     "metadata": {},
     "output_type": "execute_result"
    },
    {
     "data": {
      "image/png": "[encoded data removed]",
      "text/plain": [
       "<Figure size 432x288 with 1 Axes>"
      ]
     },
     "metadata": {
      "needs_background": "light"
     },
     "output_type": "display_data"
    }
   ],
   "source": [
    "df_train['YearRemodAdd'].plot(kind='hist', edgecolor='black') "
   ]
  },
  {
   "cell_type": "code",
   "execution_count": 16,
   "id": "ca95489f",
   "metadata": {},
   "outputs": [],
   "source": [
    "df_train['YearRemodAdd'] = pd.cut(x=df_train['YearRemodAdd'], bins=[1700, 1955, 1995, 2023],\n",
    "                    labels=['old+', 'old', 'recent'])"
   ]
  },
  {
   "cell_type": "code",
   "execution_count": 17,
   "id": "c10f5bf1",
   "metadata": {},
   "outputs": [
    {
     "data": {
      "image/png": "[encoded data removed]",
      "text/plain": [
       "<Figure size 432x288 with 1 Axes>"
      ]
     },
     "metadata": {
      "needs_background": "light"
     },
     "output_type": "display_data"
    }
   ],
   "source": [
    "df_train['YearRemodAdd'].value_counts().plot(kind='bar');"
   ]
  },
  {
   "cell_type": "markdown",
   "id": "506e048a",
   "metadata": {},
   "source": [
    "### FullBath"
   ]
  },
  {
   "cell_type": "code",
   "execution_count": 18,
   "id": "6012b499",
   "metadata": {},
   "outputs": [
    {
     "data": {
      "image/png": "[encoded data removed]",
      "text/plain": [
       "<Figure size 432x288 with 1 Axes>"
      ]
     },
     "metadata": {
      "needs_background": "light"
     },
     "output_type": "display_data"
    }
   ],
   "source": [
    "df_train['FullBath'].plot(kind='hist', edgecolor='black') ;"
   ]
  },
  {
   "cell_type": "markdown",
   "id": "1e599660",
   "metadata": {},
   "source": [
    "### GarageCars"
   ]
  },
  {
   "cell_type": "code",
   "execution_count": 19,
   "id": "545763b1",
   "metadata": {},
   "outputs": [
    {
     "data": {
      "image/png": "[encoded data removed]",
      "text/plain": [
       "<Figure size 432x288 with 1 Axes>"
      ]
     },
     "metadata": {
      "needs_background": "light"
     },
     "output_type": "display_data"
    }
   ],
   "source": [
    "df_train['GarageCars'].plot(kind='hist', edgecolor='black') ;"
   ]
  },
  {
   "cell_type": "markdown",
   "id": "2658611a",
   "metadata": {},
   "source": [
    "### OverallQual"
   ]
  },
  {
   "cell_type": "code",
   "execution_count": 20,
   "id": "f084214c",
   "metadata": {},
   "outputs": [
    {
     "data": {
      "image/png": "[encoded data removed]",
      "text/plain": [
       "<Figure size 432x288 with 1 Axes>"
      ]
     },
     "metadata": {
      "needs_background": "light"
     },
     "output_type": "display_data"
    }
   ],
   "source": [
    "df_train['OverallQual'].plot(kind='hist', edgecolor='black') ;"
   ]
  },
  {
   "cell_type": "code",
   "execution_count": 21,
   "id": "1b8cbaff",
   "metadata": {},
   "outputs": [],
   "source": [
    "df_train['OverallQual'] = pd.cut(x=df_train['OverallQual'], bins=[0, 5, 8, 10],\n",
    "                    labels=['low', 'middle', 'high'])"
   ]
  },
  {
   "cell_type": "code",
   "execution_count": 22,
   "id": "97d1f5d6",
   "metadata": {},
   "outputs": [
    {
     "data": {
      "image/png": "[encoded data removed]",
      "text/plain": [
       "<Figure size 432x288 with 1 Axes>"
      ]
     },
     "metadata": {
      "needs_background": "light"
     },
     "output_type": "display_data"
    }
   ],
   "source": [
    "df_train['OverallQual'].value_counts().plot(kind='bar');"
   ]
  },
  {
   "cell_type": "markdown",
   "id": "d4e19b9a",
   "metadata": {},
   "source": [
    "### TotRmsAbvGrd"
   ]
  },
  {
   "cell_type": "code",
   "execution_count": 23,
   "id": "479042f4",
   "metadata": {},
   "outputs": [
    {
     "data": {
      "image/png": "[encoded data removed]",
      "text/plain": [
       "<Figure size 432x288 with 1 Axes>"
      ]
     },
     "metadata": {
      "needs_background": "light"
     },
     "output_type": "display_data"
    }
   ],
   "source": [
    "df_train['TotRmsAbvGrd'].plot(kind='hist', edgecolor='black') ;"
   ]
  },
  {
   "cell_type": "code",
   "execution_count": 24,
   "id": "2efed71b",
   "metadata": {},
   "outputs": [],
   "source": [
    "df_train['TotRmsAbvGrd'] = pd.cut(x=df_train['TotRmsAbvGrd'], bins=[0, 5, 9, 20],\n",
    "                    labels=['low', 'middle', 'high'])"
   ]
  },
  {
   "cell_type": "code",
   "execution_count": 25,
   "id": "86cd85a6",
   "metadata": {},
   "outputs": [
    {
     "data": {
      "image/png": "[encoded data removed]",
      "text/plain": [
       "<Figure size 432x288 with 1 Axes>"
      ]
     },
     "metadata": {
      "needs_background": "light"
     },
     "output_type": "display_data"
    }
   ],
   "source": [
    "df_train['TotRmsAbvGrd'].value_counts().plot(kind='bar');"
   ]
  },
  {
   "cell_type": "markdown",
   "id": "1708e558",
   "metadata": {},
   "source": [
    "### Dichotomisation"
   ]
  },
  {
   "cell_type": "markdown",
   "id": "533c1eb4",
   "metadata": {},
   "source": [
    "YearBuilt YearRemodAdd OverallQual TotRmsAbvGrd GarageCars FullBath"
   ]
  },
  {
   "cell_type": "code",
   "execution_count": 26,
   "id": "38277ff7",
   "metadata": {},
   "outputs": [],
   "source": [
    "df_YearBuilt_dummies = pd.get_dummies(df_train['YearBuilt'], prefix='YearBuilt')"
   ]
  },
  {
   "cell_type": "code",
   "execution_count": 27,
   "id": "805d4b13",
   "metadata": {},
   "outputs": [],
   "source": [
    "df_YearRemodAdd_dummies = pd.get_dummies(df_train['YearRemodAdd'], prefix='YearRemodAdd')"
   ]
  },
  {
   "cell_type": "code",
   "execution_count": 28,
   "id": "b8cc50ea",
   "metadata": {},
   "outputs": [],
   "source": [
    "df_OverallQual_dummies = pd.get_dummies(df_train['OverallQual'], prefix='OverallQual')"
   ]
  },
  {
   "cell_type": "code",
   "execution_count": 29,
   "id": "4f5c891a",
   "metadata": {},
   "outputs": [],
   "source": [
    "df_TotRmsAbvGrd_dummies = pd.get_dummies(df_train['TotRmsAbvGrd'], prefix='TotRmsAbvGrd')"
   ]
  },
  {
   "cell_type": "code",
   "execution_count": 30,
   "id": "01f0a1a8",
   "metadata": {},
   "outputs": [],
   "source": [
    "df_FullBath_dummies = pd.get_dummies(df_train['FullBath'], prefix='FullBath')"
   ]
  },
  {
   "cell_type": "code",
   "execution_count": 31,
   "id": "cf3a7f63",
   "metadata": {},
   "outputs": [],
   "source": [
    "df_GarageCars_dummies = pd.get_dummies(df_train['GarageCars'], prefix='GarageCars')"
   ]
  },
  {
   "cell_type": "code",
   "execution_count": 32,
   "id": "7a299f6b",
   "metadata": {},
   "outputs": [],
   "source": [
    "df_dummies = df_YearBuilt_dummies.join(df_YearRemodAdd_dummies).join(df_OverallQual_dummies).join(df_TotRmsAbvGrd_dummies).join(df_FullBath_dummies).join(df_GarageCars_dummies)"
   ]
  },
  {
   "cell_type": "code",
   "execution_count": 33,
   "id": "c1680bff",
   "metadata": {},
   "outputs": [],
   "source": [
    "df_train_scaled = df_train[['1stFlrSF','GrLivArea','GarageArea','TotalBsmtSF']]"
   ]
  },
  {
   "cell_type": "code",
   "execution_count": 34,
   "id": "11ae27be",
   "metadata": {},
   "outputs": [
    {
     "name": "stderr",
     "output_type": "stream",
     "text": [
      "C:\\ProgramData\\Anaconda3\\lib\\site-packages\\pandas\\core\\frame.py:3191: SettingWithCopyWarning: \n",
      "A value is trying to be set on a copy of a slice from a DataFrame.\n",
      "Try using .loc[row_indexer,col_indexer] = value instead\n",
      "\n",
      "See the caveats in the documentation: https://pandas.pydata.org/pandas-docs/stable/user_guide/indexing.html#returning-a-view-versus-a-copy\n",
      "  self[k1] = value[k2]\n"
     ]
    }
   ],
   "source": [
    "scaler = preprocessing.StandardScaler().fit(df_train_scaled)\n",
    "df_train_scaled[df_train_scaled.columns] = pd.DataFrame(scaler.transform(df_train_scaled), index=df_train_scaled.index)"
   ]
  },
  {
   "cell_type": "code",
   "execution_count": 35,
   "id": "b83a8bd9",
   "metadata": {},
   "outputs": [
    {
     "data": {
      "text/plain": [
       "(1460, 26)"
      ]
     },
     "execution_count": 35,
     "metadata": {},
     "output_type": "execute_result"
    }
   ],
   "source": [
    "df_train = df_dummies.join(df_train_scaled)\n",
    "df_train.shape"
   ]
  },
  {
   "cell_type": "code",
   "execution_count": 36,
   "id": "d68efdb1",
   "metadata": {},
   "outputs": [
    {
     "data": {
      "text/html": [
       "<div>\n",
       "<style scoped>\n",
       "    .dataframe tbody tr th:only-of-type {\n",
       "        vertical-align: middle;\n",
       "    }\n",
       "\n",
       "    .dataframe tbody tr th {\n",
       "        vertical-align: top;\n",
       "    }\n",
       "\n",
       "    .dataframe thead th {\n",
       "        text-align: right;\n",
       "    }\n",
       "</style>\n",
       "<table border=\"1\" class=\"dataframe\">\n",
       "  <thead>\n",
       "    <tr style=\"text-align: right;\">\n",
       "      <th></th>\n",
       "      <th>YearBuilt_old++</th>\n",
       "      <th>YearBuilt_old+</th>\n",
       "      <th>YearBuilt_old</th>\n",
       "      <th>YearBuilt_recent</th>\n",
       "      <th>YearRemodAdd_old+</th>\n",
       "      <th>YearRemodAdd_old</th>\n",
       "      <th>YearRemodAdd_recent</th>\n",
       "      <th>OverallQual_low</th>\n",
       "      <th>OverallQual_middle</th>\n",
       "      <th>OverallQual_high</th>\n",
       "      <th>...</th>\n",
       "      <th>FullBath_3</th>\n",
       "      <th>GarageCars_0</th>\n",
       "      <th>GarageCars_1</th>\n",
       "      <th>GarageCars_2</th>\n",
       "      <th>GarageCars_3</th>\n",
       "      <th>GarageCars_4</th>\n",
       "      <th>1stFlrSF</th>\n",
       "      <th>GrLivArea</th>\n",
       "      <th>GarageArea</th>\n",
       "      <th>TotalBsmtSF</th>\n",
       "    </tr>\n",
       "  </thead>\n",
       "  <tbody>\n",
       "    <tr>\n",
       "      <th>0</th>\n",
       "      <td>0</td>\n",
       "      <td>0</td>\n",
       "      <td>0</td>\n",
       "      <td>1</td>\n",
       "      <td>0</td>\n",
       "      <td>0</td>\n",
       "      <td>1</td>\n",
       "      <td>0</td>\n",
       "      <td>1</td>\n",
       "      <td>0</td>\n",
       "      <td>...</td>\n",
       "      <td>0</td>\n",
       "      <td>0</td>\n",
       "      <td>0</td>\n",
       "      <td>1</td>\n",
       "      <td>0</td>\n",
       "      <td>0</td>\n",
       "      <td>-0.793434</td>\n",
       "      <td>0.370333</td>\n",
       "      <td>0.351000</td>\n",
       "      <td>-0.459303</td>\n",
       "    </tr>\n",
       "    <tr>\n",
       "      <th>1</th>\n",
       "      <td>0</td>\n",
       "      <td>0</td>\n",
       "      <td>1</td>\n",
       "      <td>0</td>\n",
       "      <td>0</td>\n",
       "      <td>1</td>\n",
       "      <td>0</td>\n",
       "      <td>0</td>\n",
       "      <td>1</td>\n",
       "      <td>0</td>\n",
       "      <td>...</td>\n",
       "      <td>0</td>\n",
       "      <td>0</td>\n",
       "      <td>0</td>\n",
       "      <td>1</td>\n",
       "      <td>0</td>\n",
       "      <td>0</td>\n",
       "      <td>0.257140</td>\n",
       "      <td>-0.482512</td>\n",
       "      <td>-0.060731</td>\n",
       "      <td>0.466465</td>\n",
       "    </tr>\n",
       "    <tr>\n",
       "      <th>2</th>\n",
       "      <td>0</td>\n",
       "      <td>0</td>\n",
       "      <td>0</td>\n",
       "      <td>1</td>\n",
       "      <td>0</td>\n",
       "      <td>0</td>\n",
       "      <td>1</td>\n",
       "      <td>0</td>\n",
       "      <td>1</td>\n",
       "      <td>0</td>\n",
       "      <td>...</td>\n",
       "      <td>0</td>\n",
       "      <td>0</td>\n",
       "      <td>0</td>\n",
       "      <td>1</td>\n",
       "      <td>0</td>\n",
       "      <td>0</td>\n",
       "      <td>-0.627826</td>\n",
       "      <td>0.515013</td>\n",
       "      <td>0.631726</td>\n",
       "      <td>-0.313369</td>\n",
       "    </tr>\n",
       "    <tr>\n",
       "      <th>3</th>\n",
       "      <td>1</td>\n",
       "      <td>0</td>\n",
       "      <td>0</td>\n",
       "      <td>0</td>\n",
       "      <td>0</td>\n",
       "      <td>1</td>\n",
       "      <td>0</td>\n",
       "      <td>0</td>\n",
       "      <td>1</td>\n",
       "      <td>0</td>\n",
       "      <td>...</td>\n",
       "      <td>0</td>\n",
       "      <td>0</td>\n",
       "      <td>0</td>\n",
       "      <td>0</td>\n",
       "      <td>1</td>\n",
       "      <td>0</td>\n",
       "      <td>-0.521734</td>\n",
       "      <td>0.383659</td>\n",
       "      <td>0.790804</td>\n",
       "      <td>-0.687324</td>\n",
       "    </tr>\n",
       "    <tr>\n",
       "      <th>4</th>\n",
       "      <td>0</td>\n",
       "      <td>0</td>\n",
       "      <td>0</td>\n",
       "      <td>1</td>\n",
       "      <td>0</td>\n",
       "      <td>0</td>\n",
       "      <td>1</td>\n",
       "      <td>0</td>\n",
       "      <td>1</td>\n",
       "      <td>0</td>\n",
       "      <td>...</td>\n",
       "      <td>0</td>\n",
       "      <td>0</td>\n",
       "      <td>0</td>\n",
       "      <td>0</td>\n",
       "      <td>1</td>\n",
       "      <td>0</td>\n",
       "      <td>-0.045611</td>\n",
       "      <td>1.299326</td>\n",
       "      <td>1.698485</td>\n",
       "      <td>0.199680</td>\n",
       "    </tr>\n",
       "  </tbody>\n",
       "</table>\n",
       "<p>5 rows × 26 columns</p>\n",
       "</div>"
      ],
      "text/plain": [
       "   YearBuilt_old++  YearBuilt_old+  YearBuilt_old  YearBuilt_recent  \\\n",
       "0                0               0              0                 1   \n",
       "1                0               0              1                 0   \n",
       "2                0               0              0                 1   \n",
       "3                1               0              0                 0   \n",
       "4                0               0              0                 1   \n",
       "\n",
       "   YearRemodAdd_old+  YearRemodAdd_old  YearRemodAdd_recent  OverallQual_low  \\\n",
       "0                  0                 0                    1                0   \n",
       "1                  0                 1                    0                0   \n",
       "2                  0                 0                    1                0   \n",
       "3                  0                 1                    0                0   \n",
       "4                  0                 0                    1                0   \n",
       "\n",
       "   OverallQual_middle  OverallQual_high  ...  FullBath_3  GarageCars_0  \\\n",
       "0                   1                 0  ...           0             0   \n",
       "1                   1                 0  ...           0             0   \n",
       "2                   1                 0  ...           0             0   \n",
       "3                   1                 0  ...           0             0   \n",
       "4                   1                 0  ...           0             0   \n",
       "\n",
       "   GarageCars_1  GarageCars_2  GarageCars_3  GarageCars_4  1stFlrSF  \\\n",
       "0             0             1             0             0 -0.793434   \n",
       "1             0             1             0             0  0.257140   \n",
       "2             0             1             0             0 -0.627826   \n",
       "3             0             0             1             0 -0.521734   \n",
       "4             0             0             1             0 -0.045611   \n",
       "\n",
       "   GrLivArea  GarageArea  TotalBsmtSF  \n",
       "0   0.370333    0.351000    -0.459303  \n",
       "1  -0.482512   -0.060731     0.466465  \n",
       "2   0.515013    0.631726    -0.313369  \n",
       "3   0.383659    0.790804    -0.687324  \n",
       "4   1.299326    1.698485     0.199680  \n",
       "\n",
       "[5 rows x 26 columns]"
      ]
     },
     "execution_count": 36,
     "metadata": {},
     "output_type": "execute_result"
    }
   ],
   "source": [
    "df_train.head()"
   ]
  },
  {
   "cell_type": "code",
   "execution_count": null,
   "id": "cd84b75c",
   "metadata": {},
   "outputs": [],
   "source": []
  },
  {
   "cell_type": "code",
   "execution_count": 37,
   "id": "bd0e217b",
   "metadata": {},
   "outputs": [
    {
     "data": {
      "text/plain": [
       "array([ 2,  5,  6,  8, 14, 15, 19, 22, 23, 24, 25], dtype=int64)"
      ]
     },
     "execution_count": 37,
     "metadata": {},
     "output_type": "execute_result"
    }
   ],
   "source": [
    "selector = VarianceThreshold(0.235)\n",
    "\n",
    "selector.fit(df_train)\n",
    "features = selector.get_support(indices = True) #returns an array of integers corresponding to nonremoved features\n",
    "features"
   ]
  },
  {
   "cell_type": "code",
   "execution_count": 38,
   "id": "d5aec302",
   "metadata": {},
   "outputs": [
    {
     "data": {
      "text/plain": [
       "['YearBuilt_old',\n",
       " 'YearRemodAdd_old',\n",
       " 'YearRemodAdd_recent',\n",
       " 'OverallQual_middle',\n",
       " 'FullBath_1',\n",
       " 'FullBath_2',\n",
       " 'GarageCars_2',\n",
       " '1stFlrSF',\n",
       " 'GrLivArea',\n",
       " 'GarageArea',\n",
       " 'TotalBsmtSF']"
      ]
     },
     "execution_count": 38,
     "metadata": {},
     "output_type": "execute_result"
    }
   ],
   "source": [
    "features = [column for column in df_train.columns[features]] #Array of all nonremoved features' names\n",
    "features"
   ]
  },
  {
   "cell_type": "code",
   "execution_count": 39,
   "id": "9b08f3bc",
   "metadata": {},
   "outputs": [],
   "source": [
    "#Format and Return\n",
    "df_train = pd.DataFrame(selector.transform(df_train))\n",
    "df_train.columns = features"
   ]
  },
  {
   "cell_type": "code",
   "execution_count": 40,
   "id": "b8d795d9",
   "metadata": {},
   "outputs": [
    {
     "data": {
      "text/plain": [
       "(1460, 11)"
      ]
     },
     "execution_count": 40,
     "metadata": {},
     "output_type": "execute_result"
    }
   ],
   "source": [
    "df_train.shape"
   ]
  },
  {
   "cell_type": "code",
   "execution_count": null,
   "id": "1eb34ec0",
   "metadata": {},
   "outputs": [],
   "source": []
  },
  {
   "cell_type": "code",
   "execution_count": null,
   "id": "a1301ce4",
   "metadata": {},
   "outputs": [],
   "source": []
  }
 ],
 "metadata": {
  "kernelspec": {
   "display_name": "Python 3",
   "language": "python",
   "name": "python3"
  },
  "language_info": {
   "codemirror_mode": {
    "name": "ipython",
    "version": 3
   },
   "file_extension": ".py",
   "mimetype": "text/x-python",
   "name": "python",
   "nbconvert_exporter": "python",
   "pygments_lexer": "ipython3",
   "version": "3.8.8"
  }
 },
 "nbformat": 4,
 "nbformat_minor": 5
}
