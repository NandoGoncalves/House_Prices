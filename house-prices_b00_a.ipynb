{
 "cells": [
  {
   "cell_type": "code",
   "execution_count": 1,
   "id": "28328b1a",
   "metadata": {},
   "outputs": [],
   "source": [
    "%matplotlib inline\n",
    "\n",
    "import numpy as np\n",
    "import pandas as pd"
   ]
  },
  {
   "cell_type": "code",
   "execution_count": 2,
   "id": "dd587be9",
   "metadata": {},
   "outputs": [
    {
     "data": {
      "text/plain": [
       "(1460, 82)"
      ]
     },
     "execution_count": 2,
     "metadata": {},
     "output_type": "execute_result"
    }
   ],
   "source": [
    "df = pd.read_csv(\"./dataset/train_label.csv\")\n",
    "df.shape"
   ]
  },
  {
   "cell_type": "code",
   "execution_count": 3,
   "id": "c4dc37f9",
   "metadata": {},
   "outputs": [
    {
     "data": {
      "text/plain": [
       "<AxesSubplot:ylabel='Frequency'>"
      ]
     },
     "execution_count": 3,
     "metadata": {},
     "output_type": "execute_result"
    },
    {
     "data": {
      "image/png": "[encoded data removed]",
      "text/plain": [
       "<Figure size 432x288 with 1 Axes>"
      ]
     },
     "metadata": {
      "needs_background": "light"
     },
     "output_type": "display_data"
    }
   ],
   "source": [
    "df['SalePrice_label'].plot(kind='hist', edgecolor='black')"
   ]
  },
  {
   "cell_type": "code",
   "execution_count": 4,
   "id": "9a9efb7e",
   "metadata": {},
   "outputs": [],
   "source": [
    "nb_classes = 11\n",
    "items_per_class = 300"
   ]
  },
  {
   "cell_type": "code",
   "execution_count": 5,
   "id": "d1980683",
   "metadata": {},
   "outputs": [],
   "source": [
    "df_labels = []\n",
    "i = 0\n",
    "for i in range(1,nb_classes+1):\n",
    "    df_labels.append(df.loc[df['SalePrice_label'] == i])\n",
    "\n",
    "\n",
    "#df_1 = df.loc[df['SalePrice_label'] == 1]\n",
    "#df_2 = df.loc[df['SalePrice_label'] == 2]\n",
    "#df_3 = df.loc[df['SalePrice_label'] == 3]\n",
    "#df_4 = df.loc[df['SalePrice_label'] == 4]\n",
    "#df_5 = df.loc[df['SalePrice_label'] == 5]\n",
    "#df_6 = df.loc[df['SalePrice_label'] == 6]\n",
    "#df_7 = df.loc[df['SalePrice_label'] == 7]\n",
    "#df_8 = df.loc[df['SalePrice_label'] == 8]\n",
    "\n",
    "#df_labels = [df_1, df_2, df_3, df_4, df_5, df_6, df_7, df_8]"
   ]
  },
  {
   "cell_type": "code",
   "execution_count": 6,
   "id": "c64a72be",
   "metadata": {},
   "outputs": [
    {
     "name": "stdout",
     "output_type": "stream",
     "text": [
      "(24, 82)\n",
      "(591, 82)\n",
      "(526, 82)\n",
      "(204, 82)\n",
      "(71, 82)\n",
      "(30, 82)\n",
      "(6, 82)\n",
      "(4, 82)\n",
      "(2, 82)\n",
      "(1, 82)\n",
      "(1, 82)\n"
     ]
    }
   ],
   "source": [
    "#print(1, df_1.shape[0],'*', 2, df_2.shape[0],'*', 3, df_3.shape[0],'*', 4, df_4.shape[0],'*', \n",
    "#      5, df_5.shape[0],'*', 6, df_6.shape[0],'*', 7, df_7.shape[0],'*', 8, df_8.shape[0])\n",
    "\n",
    "i = 0\n",
    "for i in range(0,nb_classes):\n",
    "    print(df_labels[i].shape)"
   ]
  },
  {
   "cell_type": "code",
   "execution_count": 7,
   "id": "8a7b33af",
   "metadata": {},
   "outputs": [
    {
     "name": "stdout",
     "output_type": "stream",
     "text": [
      "(24, 82)\n",
      "(338, 82)\n",
      "(591, 82)\n",
      "(591, 82)\n",
      "(526, 82)\n",
      "(526, 82)\n",
      "(204, 82)\n",
      "(350, 82)\n",
      "(71, 82)\n",
      "(430, 82)\n",
      "(30, 82)\n",
      "(386, 82)\n",
      "(6, 82)\n",
      "(338, 82)\n",
      "(4, 82)\n",
      "(402, 82)\n",
      "(2, 82)\n",
      "(402, 82)\n",
      "(1, 82)\n",
      "(402, 82)\n",
      "(1, 82)\n",
      "(402, 82)\n"
     ]
    }
   ],
   "source": [
    "i = 0\n",
    "for i in range(0,nb_classes):\n",
    "    print(df_labels[i].shape)\n",
    "    while True:\n",
    "        if df_labels[i].shape[0] > items_per_class or df_labels[i].shape[0] == 0:\n",
    "            break\n",
    "        if(i%2 == 0):\n",
    "            df_labels[i] = df_labels[i].append(df_labels[i].head(round(len(df)/10)), ignore_index=True)\n",
    "        else:\n",
    "            df_labels[i] = df_labels[i].append(df_labels[i].tail(round(len(df)/10)), ignore_index=True)\n",
    "    print(df_labels[i].shape)"
   ]
  },
  {
   "cell_type": "code",
   "execution_count": 8,
   "id": "e31e37da",
   "metadata": {},
   "outputs": [],
   "source": [
    "i = 0\n",
    "for i in range(0, nb_classes):\n",
    "    df_labels[i] = df_labels[i].head(items_per_class)"
   ]
  },
  {
   "cell_type": "code",
   "execution_count": 9,
   "id": "4cddbdb5",
   "metadata": {},
   "outputs": [
    {
     "name": "stdout",
     "output_type": "stream",
     "text": [
      "(300, 82)\n",
      "(300, 82)\n",
      "(300, 82)\n",
      "(300, 82)\n",
      "(300, 82)\n",
      "(300, 82)\n",
      "(300, 82)\n",
      "(300, 82)\n",
      "(300, 82)\n",
      "(300, 82)\n",
      "(300, 82)\n"
     ]
    }
   ],
   "source": [
    "i = 0\n",
    "for i in range(0, nb_classes):\n",
    "    print(df_labels[i].shape)"
   ]
  },
  {
   "cell_type": "code",
   "execution_count": 10,
   "id": "80f13a0c",
   "metadata": {},
   "outputs": [
    {
     "data": {
      "text/plain": [
       "(3300, 82)"
      ]
     },
     "execution_count": 10,
     "metadata": {},
     "output_type": "execute_result"
    }
   ],
   "source": [
    "\"\"\"\n",
    "df_balanced = df_labels[0].append(\n",
    "    df_labels[1], ignore_index=True).append(\n",
    "    df_labels[2], ignore_index=True).append(\n",
    "    df_labels[3], ignore_index=True).append(\n",
    "    df_labels[4], ignore_index=True).append(\n",
    "    df_labels[5], ignore_index=True).append(\n",
    "    df_labels[6], ignore_index=True).append(\n",
    "    df_labels[7], ignore_index=True)\n",
    "\"\"\"\n",
    "\n",
    "df_balanced = df_labels[0]\n",
    "\n",
    "for i in range(1, nb_classes):\n",
    "    df_balanced = df_balanced.append(df_labels[i], ignore_index=True)\n",
    "\n",
    "df_balanced.shape"
   ]
  },
  {
   "cell_type": "code",
   "execution_count": 11,
   "id": "737fa869",
   "metadata": {},
   "outputs": [
    {
     "data": {
      "text/plain": [
       "<AxesSubplot:ylabel='Frequency'>"
      ]
     },
     "execution_count": 11,
     "metadata": {},
     "output_type": "execute_result"
    },
    {
     "data": {
      "image/png": "[encoded data removed]",
      "text/plain": [
       "<Figure size 432x288 with 1 Axes>"
      ]
     },
     "metadata": {
      "needs_background": "light"
     },
     "output_type": "display_data"
    }
   ],
   "source": [
    "df_balanced['SalePrice_label'].plot(kind='hist', edgecolor='black')"
   ]
  },
  {
   "cell_type": "code",
   "execution_count": 12,
   "id": "38be2e14",
   "metadata": {},
   "outputs": [],
   "source": [
    "df_balanced.to_csv('./dataset/train_label_balanced.csv', index=False)"
   ]
  }
 ],
 "metadata": {
  "kernelspec": {
   "display_name": "Python 3",
   "language": "python",
   "name": "python3"
  },
  "language_info": {
   "codemirror_mode": {
    "name": "ipython",
    "version": 3
   },
   "file_extension": ".py",
   "mimetype": "text/x-python",
   "name": "python",
   "nbconvert_exporter": "python",
   "pygments_lexer": "ipython3",
   "version": "3.8.8"
  }
 },
 "nbformat": 4,
 "nbformat_minor": 5
}
